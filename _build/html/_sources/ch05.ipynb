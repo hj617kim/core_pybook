{
 "cells": [
  {
   "cell_type": "markdown",
   "id": "bfb3264b-74fa-4562-b2d9-1054583a251d",
   "metadata": {},
   "source": [
    "# 기초 III(제어문, 함수, 이터러블과 이터레이터, 예외처리)"
   ]
  },
  {
   "cell_type": "markdown",
   "id": "1d6da695-5d8a-4fe8-aad6-0f0813f309f2",
   "metadata": {},
   "source": [
    "## 제어문"
   ]
  },
  {
   "cell_type": "markdown",
   "id": "0ba2d359-67b0-4a0c-9ee3-56e7ab4d3bc7",
   "metadata": {},
   "source": [
    "프로그램 실행의 흐름을 제어하는 명령문을 살펴보자. \n",
    "\n",
    "* `if` 조건문\n",
    "* `for` 반복문\n",
    "* `while` 반복문"
   ]
  },
  {
   "cell_type": "markdown",
   "id": "17e32835-fff6-48a8-9f77-c44f76dfeda2",
   "metadata": {},
   "source": [
    "### `if` 조건문"
   ]
  },
  {
   "cell_type": "markdown",
   "id": "0711589f-2617-4a96-b5b1-96ce9088d121",
   "metadata": {},
   "source": [
    "`if` 조건문을 사용하면, 특정 조건 하에서만 어떤 코드가 실행되게 할 수 있다. 예를 들어, \"이런저런 경우(조건)에만 무엇무엇을 해라\"는 `if`문으로 나타낼 수 있으며, 아래의 형식을 따른다.  \n",
    "\n",
    "```\n",
    "if 이런저런 :\n",
    "    무엇무엇\n",
    "```"
   ]
  },
  {
   "cell_type": "markdown",
   "id": "f30eb3d4-7f11-4bbe-ba6a-270deb90a321",
   "metadata": {},
   "source": [
    ":::{admonition} 주의    \n",
    ":class: caution   \n",
    "`if` 조건문 뒤에 반드시 콜론(`:`)을 사용해야 하며, `무엇무엇`은 반드시 들여쓰기<font size = \"2\">indentation</font> 해야 한다. 들여쓰기를 하지 않으면 오류가 발생한다.     \n",
    ":::"
   ]
  },
  {
   "cell_type": "markdown",
   "id": "a2f24f21-3c88-42dc-ba0c-74b0624eb1c2",
   "metadata": {},
   "source": [
    ":::{admonition} 블록<font size = \"2\">block</font>  \n",
    ":class: info  \n",
    "프로그래밍에서 블록은 특정한 일을 수행하는 한 단위의 코드 묶음을 말한다. 보통 중괄호(`{}`)로 묶여 있는 경우가 많으나 파이썬에서는 들여쓰기<font size = \"2\">indent</font>로 블록을 지정한다. 이때 들여쓰기는 공백<font size = \"2\">space</font> 4칸을 권장한다.     \n",
    ":::"
   ]
  },
  {
   "cell_type": "markdown",
   "id": "945b3071-fdad-4456-b4ff-5af3a3beb98e",
   "metadata": {},
   "source": [
    "예를 들어, x가 0보다 작을 때만, `x is negative`를 출력하는 코드를 작성해보자.  "
   ]
  },
  {
   "cell_type": "code",
   "execution_count": 5,
   "id": "83bc1641-393a-4cc4-a019-8b39fd50c610",
   "metadata": {},
   "outputs": [
    {
     "name": "stdout",
     "output_type": "stream",
     "text": [
      "x is negative\n",
      "Here!\n"
     ]
    }
   ],
   "source": [
    "x = -10\n",
    "\n",
    "if x < 0 :\n",
    "    print('x is negative')\n",
    "    \n",
    "print('Here!')"
   ]
  },
  {
   "cell_type": "markdown",
   "id": "9a7de594-0d45-4a38-b024-eceb81c22916",
   "metadata": {},
   "source": [
    "`if` 다음에 위치한 조건이 참이면 해당 블록의 코드를 실행하고, 거짓이면 해당 본문 블록을 건너뛴다.   "
   ]
  },
  {
   "cell_type": "code",
   "execution_count": 6,
   "id": "814e5f6a-8083-42f9-b621-55566c5033db",
   "metadata": {},
   "outputs": [
    {
     "name": "stdout",
     "output_type": "stream",
     "text": [
      "Here!\n"
     ]
    }
   ],
   "source": [
    "x = 10\n",
    "\n",
    "if x < 0 :\n",
    "    print('x is negative')\n",
    "    \n",
    "print('Here!')"
   ]
  },
  {
   "cell_type": "markdown",
   "id": "708aba87-2005-4de9-a6f5-4fa2ab9e7538",
   "metadata": {},
   "source": [
    ":::{admonition} `pass` 명령문   \n",
    ":class: info  \n",
    "`pass` 명령문은 아무 것도 하지 않고 다음으로 넘어 가도록 하는 명령문이다.   \n",
    "  \n",
    "`if` 조건문이 참일 때 실행할 코드를 작성하지 않으면 오류가 발생한다. \n",
    "\n",
    "```python\n",
    ">>> if x < 0 :\n",
    "  File \"/tmp/ipykernel_981/2079685468.py\", line 3\n",
    "    if x < 0 :\n",
    "              ^\n",
    "SyntaxError: unexpected EOF while parsing\n",
    "```\n",
    "\n",
    "x가 0보다 작을 때 할 일을 다음에 지정하고자 할 때는 `pass` 명령문을 사용할 수 있다. \n",
    "```python\n",
    ">>> if x < 0 :\n",
    "        pass\n",
    "```\n",
    ":::\n"
   ]
  },
  {
   "cell_type": "markdown",
   "id": "734e83b5-489d-459b-aa64-8bdbca4de0d6",
   "metadata": {},
   "source": [
    "조건문이 참(`True`)이면 `무엇무엇1`과 `무엇무엇2`를 실행하고, 조건문이 거짓(`False`)이면 `무엇무엇3`과 `무엇무엇4`를 실행하라고 할 때는 `if-else`문을 사용할 수 있다. `if-else`문은 아래의 형식을 따른다.  \n",
    "\n",
    "```\n",
    "if 조건문 : \n",
    "    무엇무엇1\n",
    "    무엇무엇2\n",
    "else :\n",
    "    무엇무엇3\n",
    "    무엇무엇4\n",
    "```"
   ]
  },
  {
   "cell_type": "markdown",
   "id": "23997195-8c4b-45bb-842b-e1a3abe536e3",
   "metadata": {},
   "source": [
    ":::{admonition} 들여쓰기 깊이  \n",
    ":class: caution  \n",
    "파이썬은 들여쓰기에 민감한 언어이다. 위의 `if-else`문의 경우, `if`와 `else`의 들여쓰기 깊이가 같아야 하고, `if`와 `else` 아래 실행할 코드들(`무엇무엇2`, `무엇무엇1`, `무엇무엇3`, `무엇무엇4`)도 들여쓰기 깊이가 같아야 한다. \n",
    ":::\n",
    "\n"
   ]
  },
  {
   "cell_type": "markdown",
   "id": "d0001ce7-5166-46b1-bf8c-601838c31ac3",
   "metadata": {},
   "source": [
    "예를 들어, x가 0보다 작으면 `x is negative`를 출력하고, 아니면 `x is non-negative`를 출력하는 코드를 작성해보자. "
   ]
  },
  {
   "cell_type": "code",
   "execution_count": 9,
   "id": "0075474b-d387-4a81-891a-5f2a967dbb43",
   "metadata": {},
   "outputs": [
    {
     "name": "stdout",
     "output_type": "stream",
     "text": [
      "x is non-negative\n"
     ]
    }
   ],
   "source": [
    "x = 10\n",
    "\n",
    "if x < 0 :\n",
    "    print('x is negative')\n",
    "else :\n",
    "    print('x is non-negative')"
   ]
  },
  {
   "cell_type": "markdown",
   "id": "7f7e8c16-d7a3-402a-8023-0ba643c0e89f",
   "metadata": {},
   "source": [
    ":::{admonition} 조건부 표현식<font size=\"2\">conditional expression</font>  \n",
    ":class: info  \n",
    "조건부 표현식은 `if-else` 조건문 형식을 빌려 조건에 따라 다른 값을 나타내는 표현식으로, 형식은 다음과 같다.  \n",
    "\n",
    "```\n",
    "'x is negative' if x < 0 else 'x is non-negative'\n",
    "```  \n",
    ":::\n"
   ]
  },
  {
   "cell_type": "markdown",
   "id": "f47081de-9f7b-4720-bf59-babeb091fd81",
   "metadata": {},
   "source": [
    "여러 조건을 사용해야 하는 경우에는 `if-else`문을 중첩해서 사용하거나 `if-elif-else`처럼 다중 조건문을 사용할 수 있다.  \n",
    "예를 들어, x가 0보다 작으면 `x is negative`를, x가 0보다 크면 `x is positive`를, 둘 다 아니면 `x is zero`를 출력하는 코드를 작성해보자.  "
   ]
  },
  {
   "cell_type": "code",
   "execution_count": 10,
   "id": "9d46765b-5d11-4441-951a-dfd29a4caf21",
   "metadata": {},
   "outputs": [
    {
     "name": "stdout",
     "output_type": "stream",
     "text": [
      "x is positive\n"
     ]
    }
   ],
   "source": [
    "x = 10\n",
    "\n",
    "if x < 0 :\n",
    "    print('x is negative')\n",
    "elif x > 0 :\n",
    "    print('x is positive')\n",
    "else :\n",
    "    print('x is zero')"
   ]
  },
  {
   "cell_type": "markdown",
   "id": "d3e5aa6e-368f-4573-8efd-61ae80316f19",
   "metadata": {},
   "source": [
    "위에 위치한 조건문의 참거짓 여부부터 조사하며, 한 곳에서 만족되면 나머지 부분은 무시된다. `elif`문은 원하는 만큼 사용할 수 있고, `else`문은 마지막에 한 번 사용하거나 생략할 수 있다.  "
   ]
  },
  {
   "cell_type": "markdown",
   "id": "defc94bf-6512-48a6-b47f-bb71801d3927",
   "metadata": {},
   "source": [
    "### `for` 반복문"
   ]
  },
  {
   "cell_type": "markdown",
   "id": "9ba589cd-5b0b-4397-af34-0d1e9b1a24f6",
   "metadata": {},
   "source": [
    "반복문(루프)는 동일한 코드를 반복해서 실행시킬 때 사용한다. 반복문을 만들기 위해 `for`문과 `while`문을 사용할 수 있다. 여기서는 `for` 반복문을 먼저 살펴보고, 이후에 `while` 반복문을 살펴본다. "
   ]
  },
  {
   "cell_type": "markdown",
   "id": "dfcb4355-64e0-4120-9841-153e205256cf",
   "metadata": {},
   "source": [
    "`for`반복문은 리스트, 튜플, 문자열과 같은 이터러블 자료형의 값에 포함된 항목을 순회하는 데 사용할 수 있으며, 아래의 형식을 따른다.  \n",
    "\n",
    "```\n",
    "for 항목변수 in 리스트(또는 튜플, 문자열 등) :\n",
    "    코드1\n",
    "    코드2\n",
    "```"
   ]
  },
  {
   "cell_type": "markdown",
   "id": "0637d64a-442b-43c8-bad3-12d38d33dfc4",
   "metadata": {},
   "source": [
    "예를 들어, 리스트`[1, 3, 5]`에 포함된 항목들의 제곱을 출력하는 코드를 작성해보자. "
   ]
  },
  {
   "cell_type": "code",
   "execution_count": 17,
   "id": "55a42a87-b08e-438e-85a4-22f61bb4c56b",
   "metadata": {},
   "outputs": [
    {
     "name": "stdout",
     "output_type": "stream",
     "text": [
      "1 의 제곱은 1 이다.\n",
      "3 의 제곱은 9 이다.\n",
      "5 의 제곱은 25 이다.\n"
     ]
    }
   ],
   "source": [
    "for i in [1, 3, 5] :\n",
    "    print(i, '의 제곱은', i**2, '이다.')"
   ]
  },
  {
   "cell_type": "markdown",
   "id": "7b8085e0-893d-4107-be49-c646abf9d231",
   "metadata": {},
   "source": [
    ":::{admonition} 참고  \n",
    ":class: info  \n",
    "\n",
    "항목변수는 임의로 만들어 사용할 수 있다. 단, `for` 반복문을 사용한 다음, 항목변수`item`의 값을 확인하면 `5`가 출력된다.   \n",
    "```python\n",
    ">>> for item in [1, 3, 5] :\n",
    "        print(item, '의 제곱은', item**2, '이다.')\n",
    "1 의 제곱은 1 이다.\n",
    "3 의 제곱은 9 이다.\n",
    "5 의 제곱은 25 이다.\n",
    "\n",
    ">>> print(item)\n",
    "5\n",
    "```\n",
    "\n",
    "반복을 위해 사용하는 변수의 값을 무시하고 싶다면 밑줄기호(`_`)를 사용할 수 있다. \n",
    "```python\n",
    ">>> for _ in [1, 3, 5] :\n",
    "        print(_, '의 제곱은', _**2, '이다.')\n",
    "1 의 제곱은 1 이다.\n",
    "3 의 제곱은 9 이다.\n",
    "5 의 제곱은 25 이다.\n",
    "```\n",
    ":::\n"
   ]
  },
  {
   "cell_type": "markdown",
   "id": "1c0a2c89-ce63-422e-99d8-069c84eec1ae",
   "metadata": {},
   "source": [
    "`for`문을 튜플, `range`, 문자열과 함께 사용해보자. "
   ]
  },
  {
   "cell_type": "code",
   "execution_count": 16,
   "id": "1acaf0f8-9ef0-4a80-a404-d2a1cb4dbe8e",
   "metadata": {},
   "outputs": [
    {
     "name": "stdout",
     "output_type": "stream",
     "text": [
      "1\n",
      "3\n",
      "5\n",
      "7\n"
     ]
    }
   ],
   "source": [
    "for tup in (1, 3, 5, 7) :\n",
    "    print(tup)"
   ]
  },
  {
   "cell_type": "code",
   "execution_count": 18,
   "id": "3b647fe3-b454-4fb9-9e1d-e04b7c23bb0a",
   "metadata": {},
   "outputs": [
    {
     "name": "stdout",
     "output_type": "stream",
     "text": [
      "0\n",
      "1\n",
      "2\n",
      "3\n",
      "4\n"
     ]
    }
   ],
   "source": [
    "for i in range(5) :\n",
    "    print(i)"
   ]
  },
  {
   "cell_type": "markdown",
   "id": "5a15dc23-a615-4b20-ba38-e0ff1adda201",
   "metadata": {},
   "source": [
    "아래 코드는 문자열에 포함된 문자 각각을 출력한다. "
   ]
  },
  {
   "cell_type": "code",
   "execution_count": 15,
   "id": "6e583d5a-5289-459f-b56d-48983c1d17b6",
   "metadata": {},
   "outputs": [
    {
     "name": "stdout",
     "output_type": "stream",
     "text": [
      "H\n",
      "e\n",
      "l\n",
      "l\n",
      "o\n"
     ]
    }
   ],
   "source": [
    "for s in 'Hello' :\n",
    "    print(s)"
   ]
  },
  {
   "cell_type": "code",
   "execution_count": 27,
   "id": "d3827bde-02e6-4494-9b9a-bbbe0063260b",
   "metadata": {},
   "outputs": [
    {
     "name": "stdout",
     "output_type": "stream",
     "text": [
      "H\n",
      "e\n",
      "l\n",
      "l\n",
      "o\n"
     ]
    }
   ],
   "source": [
    "a_word = 'Hello'\n",
    "for i in range(len(a_word)) :\n",
    "    print(a_word[i])"
   ]
  },
  {
   "cell_type": "markdown",
   "id": "1465430f-9f77-4c40-a9fe-e51abc72efd3",
   "metadata": {},
   "source": [
    ":::{admonition} `continue` 명령문   \n",
    ":class: info  \n",
    "\n",
    "반복문이 실행되는 도중에 `continue` 명령문을 만나면, 순간 실행되는 코드의 실행을 멈추고 다음 순번 항목을 대상으로 반복문을 이어간다. 예를 들어, `range(5)`에 포함된 항목 중에서 `3`을 제외한 값들을 출력하고 싶다면 아래와 같이 코드를 작성할 수 있다. \n",
    "\n",
    "```python\n",
    ">>> for i in range(5) :\n",
    "        if i == 3 :\n",
    "            continue\n",
    "        print(i)\n",
    "0\n",
    "1\n",
    "2\n",
    "4\n",
    "```\n",
    ":::\n"
   ]
  },
  {
   "cell_type": "markdown",
   "id": "23c641dc-2742-4f6f-b71b-0950661c7270",
   "metadata": {},
   "source": [
    ":::{admonition} `break` 명령문   \n",
    ":class: info  \n",
    "반복문이 실행되는 도중에 `break` 명령문을 만나면, 순간 실행되는 반복문 자체의 실행을 멈추고, 가장 가까이서 둘러싸는 하나의 루프(`for` 반복문 또는 `while` 반복문)로부터 빠져나간다. 예를 들어, `range(5)`에 포함된 항목 중에서 `3`을 만나는 순간 출력을 멈추게 하려면 다음과 같이 코드를 작성할 수 있다.  \n",
    "\n",
    "```python\n",
    ">>> for i in range(5) :\n",
    "        if i == 3 :\n",
    "            break\n",
    "        print(i)\n",
    "0\n",
    "1\n",
    "2\n",
    "```\n",
    "\n",
    "`break` 명령문은 가장 가까이 있는 루프를 빠져나가며, 또 다른 반복문에 의해 감싸져 있다면 해당 반복문을 이어서 실행한다. \n",
    "```python\n",
    ">>> for i in range(4) :\n",
    "        for j in range(4) :\n",
    "            if j == 2 :\n",
    "                break\n",
    "            print(i, j)\n",
    "        print('='*5)\n",
    "0 0\n",
    "0 1\n",
    "=====\n",
    "1 0\n",
    "1 1\n",
    "=====\n",
    "2 0\n",
    "2 1\n",
    "=====\n",
    "3 0\n",
    "3 1\n",
    "=====\n",
    "```\n",
    ":::"
   ]
  },
  {
   "cell_type": "markdown",
   "id": "7734b778-6e26-4e5c-acc0-fefbe00b4be2",
   "metadata": {},
   "source": [
    "### `while` 반복문"
   ]
  },
  {
   "cell_type": "markdown",
   "id": "af8270c3-6530-4e9d-a1c6-2e4bbdb56fdb",
   "metadata": {},
   "source": [
    "`while`반복문은 주어진 조건이 참(`True`)이 만족되는 동안이나 `break` 명령문을 만날 때까지 동일한 코드를 반복시킬 때 사용할 수 있으며, 아래의 형식을 따른다.   \n",
    "\n",
    "```\n",
    "while 조건 : \n",
    "    코드1\n",
    "    코드2\n",
    "```"
   ]
  },
  {
   "cell_type": "markdown",
   "id": "db4bdbbd-5557-410d-b5da-ba03abd0bba9",
   "metadata": {},
   "source": [
    "예를 들어, `안녕하세요`를 5번 출력하는 코드를 작성해보자. "
   ]
  },
  {
   "cell_type": "code",
   "execution_count": 1,
   "id": "e701a309-3dee-4df4-bc5a-e5aed8034e4a",
   "metadata": {},
   "outputs": [
    {
     "name": "stdout",
     "output_type": "stream",
     "text": [
      "안녕하세요.\n",
      "안녕하세요.\n",
      "안녕하세요.\n",
      "안녕하세요.\n",
      "안녕하세요.\n"
     ]
    }
   ],
   "source": [
    "n = 0\n",
    "while n < 5 :\n",
    "    print('안녕하세요.')\n",
    "    n += 1"
   ]
  },
  {
   "cell_type": "markdown",
   "id": "f6c89f15-6460-435f-bb81-1a6483b2ed94",
   "metadata": {},
   "source": [
    "````{prf:example}\n",
    ":label: loop-example1\n",
    "\n",
    "1에서 7까지의 정수를 출력하는데, 3의 배수는 정수 대신 `짝`을 출력하는 코드를 작성하여라. \n",
    "````"
   ]
  },
  {
   "cell_type": "code",
   "execution_count": 4,
   "id": "e93be1ae-bf9e-491c-b885-04097cf77c3a",
   "metadata": {},
   "outputs": [
    {
     "name": "stdout",
     "output_type": "stream",
     "text": [
      "1\n",
      "2\n",
      "짝\n",
      "4\n",
      "5\n",
      "짝\n",
      "7\n"
     ]
    }
   ],
   "source": [
    "n = 0\n",
    "while n < 7 :\n",
    "    n += 1\n",
    "    if n % 3 == 0 :\n",
    "        print('짝')\n",
    "        continue\n",
    "    print(n)"
   ]
  },
  {
   "cell_type": "markdown",
   "id": "cd4638c8-0b23-4362-83d0-d6ee3edef72f",
   "metadata": {},
   "source": [
    ":::{admonition} 주의  \n",
    ":class: caution  \n",
    "`while`반복문을 사용할 때는 조건문이 언젠가는 만족되지 않아서 더 이상 루프가 돌지 않도록 코드를 작성하는 것이 중요하다. 예를 들어, 아래의 코드는 종료 조건을 만족할 수 없어 무한으로 코드를 반복하는 무한 루프<font size = \"2\">infinite loop</font>가 발생한다. n이 3이되면 `continue` 명령문을 만나고, 그 다음 반복을 실행하지만 여전히 n에는 3이 있기 때문이다.  \n",
    "\n",
    "```python\n",
    ">>> n = 1\n",
    ">>> while n < 8 :\n",
    "        if n % 3 == 0 :\n",
    "            continue\n",
    "        print(n)\n",
    "        n += 1\n",
    "KeyboardInterrupt                         Traceback (most recent call last)\n",
    "/tmp/ipykernel_1504/1015293582.py in <module>\n",
    "      1 n = 1\n",
    "----> 2 while n < 8 :\n",
    "      3     if n % 3 == 0 :\n",
    "      4         continue\n",
    "      5     print(n)\n",
    "\n",
    "KeyboardInterrupt: \n",
    "```\n",
    ":::\n"
   ]
  },
  {
   "cell_type": "markdown",
   "id": "0c90596c-ede5-414a-a392-ac9aaa244940",
   "metadata": {},
   "source": [
    "위의 코드는 아래와 같이 `for`문을 사용하여 작성할 수도 있다. "
   ]
  },
  {
   "cell_type": "code",
   "execution_count": 5,
   "id": "94c0311d-953a-475f-9abb-5c5551b9bc75",
   "metadata": {},
   "outputs": [
    {
     "name": "stdout",
     "output_type": "stream",
     "text": [
      "1\n",
      "2\n",
      "짝\n",
      "4\n",
      "5\n",
      "짝\n",
      "7\n"
     ]
    }
   ],
   "source": [
    "for n in range(1, 8) :\n",
    "    if n % 3 == 0 :\n",
    "        print('짝')\n",
    "        continue\n",
    "    print(n)"
   ]
  },
  {
   "cell_type": "markdown",
   "id": "28e0cecd-0e16-4068-b3ca-24b0c8664d48",
   "metadata": {},
   "source": [
    "````{prf:example}\n",
    ":label: loop-example2\n",
    "\n",
    "리스트 `[1, 5, 10, 2, 4, 6, 3, 6, 9]`에 포함된 항목들의 합을 계산하는 과정 중에 3을 만나면 계산을 멈추고, 그때까지의 합을 출력하는 코드를 작성하여라. \n",
    "````"
   ]
  },
  {
   "cell_type": "code",
   "execution_count": 2,
   "id": "046ddb89-4852-49e9-9e65-6c19ad12553f",
   "metadata": {},
   "outputs": [
    {
     "name": "stdout",
     "output_type": "stream",
     "text": [
      "28\n"
     ]
    }
   ],
   "source": [
    "sequence = [1, 5, 10, 2, 4, 6, 3, 6, 9]\n",
    "total_until_3 = 0\n",
    "\n",
    "for item in sequence :\n",
    "    if item == 3 :\n",
    "        break\n",
    "    total_until_3 += item\n",
    "    \n",
    "print(total_until_3)"
   ]
  },
  {
   "cell_type": "code",
   "execution_count": 1,
   "id": "c5114e05-5449-433a-a6d0-6f0792fd8037",
   "metadata": {},
   "outputs": [
    {
     "name": "stdout",
     "output_type": "stream",
     "text": [
      "28\n"
     ]
    }
   ],
   "source": [
    "sequence = [1, 5, 10, 2, 4, 6, 3, 6, 9]\n",
    "total_until_3 = 0\n",
    "\n",
    "n = 0\n",
    "while n < len(sequence) :\n",
    "    if sequence[n] == 3 :\n",
    "        break\n",
    "    total_until_3 += sequence[n]\n",
    "    n += 1\n",
    "\n",
    "print(total_until_3)"
   ]
  },
  {
   "cell_type": "markdown",
   "id": "63842e0a-884a-4c7f-9a04-8aca67dfcfda",
   "metadata": {},
   "source": [
    "## 함수"
   ]
  },
  {
   "cell_type": "markdown",
   "id": "e0f3b353-3c40-41c3-839a-a6244d7d512b",
   "metadata": {},
   "source": [
    "### 함수 정의하기 \n",
    "\n",
    "그 동안 파이썬에서 이미 누군가에 의해 정의된 함수들(`type()`, `int()`, `float()`, `print()` 등등)을 살펴봤다. 이러한 함수들을 파이썬 **내장함수**라고 부른다. 한편, 사용자가 필요에 따라 함수를 임의로 정의할 수도 있다. 파이썬에서는 함수를 정의하기 위해 `def`라는 키워드를 사용하며, 아래의 형식을 따른다.  \n",
    "\n",
    "```\n",
    "def 함수이름(매개변수1, 매개변수2, ..., 매개변수n) :\n",
    "    함수본문\n",
    "    return 리턴값\n",
    "```\n",
    "\n",
    "**매개변수**는 함수에 입력으로 전달되는 값을 받는 변수이다.\n",
    "함수본문에서 **`return`** 이라는 키워드에 도달하면 함수의 실행은 그 지점에서 중단되고, 리턴<font size = \"2\">return</font>값이 있는 경우에는 함수를 실행한 곳에 그 값을 반환한다. 이때, 리턴값은 `return` 바로 뒤에 오는 값이며, 함수가 특정 인자와 함께 실행되면 함수본문의 코드에 맞게 값을 조작한 후 최종적으로 돌려주는 값을 가리킨다."
   ]
  },
  {
   "cell_type": "markdown",
   "id": "5869322c-c8ae-45f2-a0cb-ce3f100aeecc",
   "metadata": {},
   "source": [
    ":::{admonition} 주의  \n",
    ":class: caution  \n",
    "함수를 정의할 때, 괄호(`()`) 뒤에 콜론(`:`)을 반드시 사용해야 하며, 함수본문은 들여쓰기를 해야 한다. 들여쓰기는 선택이 아닌 의무사항이다.  \n",
    ":::\n"
   ]
  },
  {
   "cell_type": "markdown",
   "id": "c5de31b8-e847-45f6-ac23-817eaf978d41",
   "metadata": {},
   "source": [
    "예를 들어, 인자 두 개를 입력받아 그 합을 리턴하는 함수인 `my_sum()` 함수는 다음과 같이 정의한다. 함수의 이름은 임의로 정할 수 있지만 함수의 기능에 맞게 정하는 것이 좋다. "
   ]
  },
  {
   "cell_type": "code",
   "execution_count": 2,
   "id": "8f880dbf-6a67-4970-99c4-fbe4da3a777c",
   "metadata": {},
   "outputs": [],
   "source": [
    "def my_sum(a, b) :\n",
    "    return a + b"
   ]
  },
  {
   "cell_type": "markdown",
   "id": "af5958c7-bf46-4f5a-9723-0776ffd3b042",
   "metadata": {},
   "source": [
    "리턴값이 명시되지 않은 함수를 정의할 수 있으며, 그때 함수의 리턴값은 항상 `None`이다. 그리고 입력값이 없다면 아래와 같이 함수 이름 뒤의 괄호를 비워두면 된다. \n",
    "\n",
    "```\n",
    "def 함수이름() :\n",
    "    함수본문\n",
    "```"
   ]
  },
  {
   "cell_type": "markdown",
   "id": "0300b7fc-85f5-4acf-9bda-8306c94ba9d9",
   "metadata": {},
   "source": [
    "예를 들어, 입력값도 리턴값도 명시되지 않는 `say()` 함수를 아래와 같이 정의할 수도 있다. "
   ]
  },
  {
   "cell_type": "code",
   "execution_count": 19,
   "id": "574280b0-7000-4654-ba8e-10f0b7b2beea",
   "metadata": {},
   "outputs": [],
   "source": [
    "def say() :\n",
    "    print('Hello python!')"
   ]
  },
  {
   "cell_type": "markdown",
   "id": "1184c4c2-c887-4841-a83e-4ef0dc9a5e56",
   "metadata": {},
   "source": [
    "함수에는 다음과 같은 방식으로 타입 힌트를 추가한다. \n",
    "\n",
    "* 각각의 매개변수 옆에 콜론(`:`)을 적고 타입 힌트를 추가한다.  \n",
    "* 함수의 리턴값 타입은 함수명 괄호 뒤에 화살표 기호(`->`)를 적고 타입 힌트를 추가한다.   \n",
    "\n",
    "예를 들어, `my_sum()` 함수의 매개 변수는 모두 `float`이고, 리턴값도 `float`라면 다음과 같이 타입 힌트를 추가할 수 있다. "
   ]
  },
  {
   "cell_type": "code",
   "execution_count": 17,
   "id": "2c727bff-873b-491e-9515-8890bc7e810a",
   "metadata": {},
   "outputs": [],
   "source": [
    "def my_sum(a : float, b : float) -> float :\n",
    "    return a + b"
   ]
  },
  {
   "cell_type": "markdown",
   "id": "6ed739bf-58e1-4c52-bd01-3bdfe3618e2b",
   "metadata": {},
   "source": [
    "### 함수 호출하기 "
   ]
  },
  {
   "cell_type": "markdown",
   "id": "153fe9d1-53b0-4a06-b403-8a49b7d454aa",
   "metadata": {},
   "source": [
    "함수를 정의한 후에 사용하려면 **함수를 호출**해야 한다. **함수를 호출한다**는 말은 필요한 만큼의 값을 인자로 사용하여 함수를 실행한다는 의미이다. 즉, 함수 호출은 아래 모양의 코드를 실행하는 것이다.  \n",
    "\n",
    "함수를 호출할 때 전달하는 입력값들은 **인자**라고 부른다.  \n",
    "```\n",
    "함수이름(인자1, 인자2,..., 인자n)\n",
    "```"
   ]
  },
  {
   "cell_type": "markdown",
   "id": "d0880094-caee-4c02-9730-8d40e75e5b6f",
   "metadata": {},
   "source": [
    "예를 들어, 2와 3을 더한 값을 출력하려면 `my_sum()`함수를 아래와 같은 방식으로 호출하면 된다."
   ]
  },
  {
   "cell_type": "code",
   "execution_count": 9,
   "id": "8034e957-90c8-4635-adea-28d466673853",
   "metadata": {},
   "outputs": [
    {
     "name": "stdout",
     "output_type": "stream",
     "text": [
      "5\n"
     ]
    }
   ],
   "source": [
    "print(my_sum(2, 3))"
   ]
  },
  {
   "cell_type": "markdown",
   "id": "5189c64c-e630-4503-af0c-4659036ca706",
   "metadata": {},
   "source": [
    "변수를 인자로 사용할 수도 있으며, 리턴값을 다른 변수에 저장할 수도 있다."
   ]
  },
  {
   "cell_type": "code",
   "execution_count": 20,
   "id": "f051c6b8-ae5b-4932-890e-0a7bd8bb97de",
   "metadata": {},
   "outputs": [
    {
     "name": "stdout",
     "output_type": "stream",
     "text": [
      "5\n"
     ]
    }
   ],
   "source": [
    "x = 2\n",
    "y = 3\n",
    "z = my_sum(2, 3)\n",
    "print(z)"
   ]
  },
  {
   "cell_type": "markdown",
   "id": "6566bbc5-d255-4ed0-a5a7-7d2588d08360",
   "metadata": {},
   "source": [
    ":::{admonition} 주의  \n",
    ":class: caution  \n",
    "매개변수의 개수와 인자의 개수가 맞지 않으면 오류가 발생한다.  \n",
    "```python\n",
    ">>> print(my_sum(3))\n",
    "TypeError                                 Traceback (most recent call last)\n",
    "/tmp/ipykernel_1887/3553718912.py in <module>\n",
    "----> 1 print(my_sum(3))\n",
    "\n",
    "TypeError: my_sum() missing 1 required positional argument: 'b'\n",
    "```\n",
    "```python\n",
    ">>> print(my_sum(1, 2, 3))\n",
    "TypeError                                 Traceback (most recent call last)\n",
    "/tmp/ipykernel_1887/828772552.py in <module>\n",
    "----> 1 print(my_sum(1, 2, 3))\n",
    "\n",
    "TypeError: my_sum() takes 2 positional arguments but 3 were given\n",
    "```\n",
    ":::\n"
   ]
  },
  {
   "cell_type": "markdown",
   "id": "68744675-8301-47ce-ae75-64eb379b569e",
   "metadata": {},
   "source": [
    "## 이터러블과 이터레이터"
   ]
  },
  {
   "cell_type": "markdown",
   "id": "a5629633-7931-403a-a8ca-ba59ccce3141",
   "metadata": {},
   "source": [
    "### 이터러블"
   ]
  },
  {
   "cell_type": "markdown",
   "id": "16711f31-cc6f-4826-8e92-23d2aa98fee1",
   "metadata": {},
   "source": [
    "이터러블<font size = \"2\">iterable</font> 또는 이터러블 객체는 값을 한 번에 하나씩 돌려줄 수 있는 반복 가능한 객체로, `for` 반복문과 함께 사용될 수 있다.   \n",
    "예를 들어, 모든 시퀀스 자료형(예, 리스트, 튜플, 문자열 등)은 이터러블하고, 시퀀스 자료형은 아니지만 사전 자료형도 이터러블하다.  "
   ]
  },
  {
   "cell_type": "code",
   "execution_count": 8,
   "id": "b4cdcf16-5caa-428d-b32d-8f5035e90d94",
   "metadata": {},
   "outputs": [
    {
     "name": "stdout",
     "output_type": "stream",
     "text": [
      "1\n",
      "2\n",
      "3\n"
     ]
    }
   ],
   "source": [
    "for i in [1, 2, 3] :\n",
    "    print(i)"
   ]
  },
  {
   "cell_type": "code",
   "execution_count": 9,
   "id": "afa9712d-14be-473f-8979-8c4823785ca7",
   "metadata": {},
   "outputs": [
    {
     "name": "stdout",
     "output_type": "stream",
     "text": [
      "a\n",
      "b\n"
     ]
    }
   ],
   "source": [
    "for k in {'a' : '에이', 'b' : '비'} :\n",
    "    print(k)"
   ]
  },
  {
   "cell_type": "markdown",
   "id": "23e130ba-99dd-4edf-9cb7-c3942c5c5bd2",
   "metadata": {},
   "source": [
    "이터러블 객체는 `__iter__()` 메서드를 가지고 있다."
   ]
  },
  {
   "cell_type": "code",
   "execution_count": 3,
   "id": "f2e9aafe-cf15-477b-b942-65d750229653",
   "metadata": {},
   "outputs": [
    {
     "name": "stdout",
     "output_type": "stream",
     "text": [
      "['__add__', '__class__', '__contains__', '__delattr__', '__delitem__', '__dir__', '__doc__', '__eq__', '__format__', '__ge__', '__getattribute__', '__getitem__', '__gt__', '__hash__', '__iadd__', '__imul__', '__init__', '__init_subclass__', '__iter__', '__le__', '__len__', '__lt__', '__mul__', '__ne__', '__new__', '__reduce__', '__reduce_ex__', '__repr__', '__reversed__', '__rmul__', '__setattr__', '__setitem__', '__sizeof__', '__str__', '__subclasshook__', 'append', 'clear', 'copy', 'count', 'extend', 'index', 'insert', 'pop', 'remove', 'reverse', 'sort']\n"
     ]
    }
   ],
   "source": [
    "a_list = [1, 2, 3]\n",
    "print(dir(a_list)) #dir() 함수를 사용하여 a_list가 어떤 메서드를 가지고 있는지 확인할 수 있다. "
   ]
  },
  {
   "cell_type": "markdown",
   "id": "3d8f08ab-c051-4e38-af0d-83d7942ba9c6",
   "metadata": {},
   "source": [
    "### 이터레이터"
   ]
  },
  {
   "cell_type": "markdown",
   "id": "a59d4983-4aa4-44e4-a195-e0e66f76c0f1",
   "metadata": {},
   "source": [
    "이터레이터<font size = \"2\">iterator</font>는 값을 하나씩 꺼낼 수 있는 객체로, 이터러블의 `__iter__()` 메서드나 내장함수 `iter()`를 사용하여 이터레이터를 만들 수 있다. "
   ]
  },
  {
   "cell_type": "code",
   "execution_count": 23,
   "id": "0387e3dd-7c13-4a77-a36f-3b60122ec6be",
   "metadata": {},
   "outputs": [
    {
     "data": {
      "text/plain": [
       "list_iterator"
      ]
     },
     "execution_count": 23,
     "metadata": {},
     "output_type": "execute_result"
    }
   ],
   "source": [
    "a_list = [1, 2, 3]\n",
    "a_iter = iter(a_list)\n",
    "type(a_iter)"
   ]
  },
  {
   "cell_type": "markdown",
   "id": "6b982be1-b116-45f2-95d4-1d869ae2b1da",
   "metadata": {},
   "source": [
    "이터레이터의 `__next__()` 메서드나 내장함수 `next()`를 반복적으로 호출하면 값을 차례대로 돌려준다.    "
   ]
  },
  {
   "cell_type": "code",
   "execution_count": 24,
   "id": "18bdc429-71ab-4164-ab62-1229fab5d06d",
   "metadata": {},
   "outputs": [
    {
     "data": {
      "text/plain": [
       "1"
      ]
     },
     "execution_count": 24,
     "metadata": {},
     "output_type": "execute_result"
    }
   ],
   "source": [
    "a_iter.__next__() "
   ]
  },
  {
   "cell_type": "code",
   "execution_count": 25,
   "id": "b6c8d708-42dc-43e5-8334-05c57a49abb8",
   "metadata": {},
   "outputs": [
    {
     "data": {
      "text/plain": [
       "2"
      ]
     },
     "execution_count": 25,
     "metadata": {},
     "output_type": "execute_result"
    }
   ],
   "source": [
    "a_iter.__next__()"
   ]
  },
  {
   "cell_type": "code",
   "execution_count": 26,
   "id": "aceac27b-cdf0-4a66-b245-d1d9558dbc22",
   "metadata": {},
   "outputs": [
    {
     "data": {
      "text/plain": [
       "3"
      ]
     },
     "execution_count": 26,
     "metadata": {},
     "output_type": "execute_result"
    }
   ],
   "source": [
    "a_iter.__next__()"
   ]
  },
  {
   "cell_type": "markdown",
   "id": "bef46844-433b-4876-9b5b-236fbc8dbfa8",
   "metadata": {},
   "source": [
    ":::{admonition} 주의  \n",
    ":class: caution  \n",
    "차례대로 이터레이터의 항목을 모두 꺼낸 다음에 `__next__()` 메서드를 실행하면 `StopIteration` 오류가 발생한다. \n",
    "\n",
    "```python\n",
    ">>> a_iter.__next__()\n",
    "StopIteration                             Traceback (most recent call last)\n",
    "/tmp/ipykernel_79/31460938.py in <module>\n",
    "----> 1 a_iter.__next__()\n",
    "\n",
    "StopIteration: \n",
    "```\n",
    ":::\n"
   ]
  },
  {
   "cell_type": "markdown",
   "id": "31843c5f-bfc6-41c5-9a98-d4ef056e2125",
   "metadata": {},
   "source": [
    "이터레이터는 값을 바로 보여주지 않는다. 이터레이터의 항목은 리스트로 형변환하면 쉽게 확인할 수 있다. "
   ]
  },
  {
   "cell_type": "code",
   "execution_count": 28,
   "id": "928761b5-ac38-4ec5-b95e-6a24c9292387",
   "metadata": {},
   "outputs": [
    {
     "name": "stdout",
     "output_type": "stream",
     "text": [
      "<list_iterator object at 0x7fbc20026f40>\n",
      "[1, 2, 3]\n"
     ]
    }
   ],
   "source": [
    "a_list = [1, 2, 3]\n",
    "a_iter = iter(a_list)\n",
    "print(a_iter)\n",
    "print(list(a_iter))"
   ]
  },
  {
   "cell_type": "markdown",
   "id": "b8a4911b-709a-4101-a933-31d9608a11e5",
   "metadata": {},
   "source": [
    ":::{admonition} 참고  \n",
    ":class: info  \n",
    "`for`반복문을 사용할때마다 이터러블의 `__iter__()`메서드는 새로운 이터레이터 객체를 자동으로 만들어주기 때문에 사용자가 직접 이터레이터를 만들 필요는 없다.  \n",
    "예를 들어, 아래와 같이 리스트를 이용하여 `for` 반복문을 실행하면 리스트의 `__iter__()` 메서드가 호출된다. \n",
    "```python\n",
    ">>> a_list = [1, 2, 3]\n",
    ">>> for item in a_list :\n",
    "        print(item)\n",
    "1\n",
    "2\n",
    "3\n",
    "```\n",
    ":::\n"
   ]
  },
  {
   "cell_type": "markdown",
   "id": "f4875373-3f9a-4ec4-984d-a3c30fd2a3f5",
   "metadata": {},
   "source": [
    "### 제너레이터 "
   ]
  },
  {
   "cell_type": "markdown",
   "id": "7d73dbc5-485d-4024-9a04-e3970ff97acf",
   "metadata": {},
   "source": [
    "제너레이터<font size = \"2\">generator</font>는 특별한 이터레이터로, `__iter__()`와 `__next__()` 메서드를 구체적으로 구현할 필요없이 간단하게 이터레이터를 정의할 수 있다. 제너레이터는 함수와 비슷한 방식으로 정의하지만 함수 안에 `return`키워드 대신 `yield` 키워드를 사용하여 생성해야 하는 값들을 지정한다는 점이 다르다.     "
   ]
  },
  {
   "cell_type": "markdown",
   "id": "1343ff6b-8f8c-4b88-9c69-5a69b173e5ea",
   "metadata": {},
   "source": [
    "예를 들어, 1부터 n의 제곱을 생성하는 제너레이터는 아래와 같이 정의한다. "
   ]
  },
  {
   "cell_type": "code",
   "execution_count": 3,
   "id": "5896ed85-fec0-4371-80a7-97afb1bae551",
   "metadata": {},
   "outputs": [],
   "source": [
    "def squares(n) :\n",
    "    for i in range(1, n + 1) :\n",
    "        yield i ** 2"
   ]
  },
  {
   "cell_type": "code",
   "execution_count": 4,
   "id": "549430ef-ae3e-41cd-b787-21b6c847b296",
   "metadata": {},
   "outputs": [
    {
     "data": {
      "text/plain": [
       "generator"
      ]
     },
     "execution_count": 4,
     "metadata": {},
     "output_type": "execute_result"
    }
   ],
   "source": [
    "gen = squares(5)\n",
    "type(gen)"
   ]
  },
  {
   "cell_type": "markdown",
   "id": "e89ec08e-faa3-4871-9b65-8fcd43f3fd39",
   "metadata": {},
   "source": [
    "제너레이터는 지정된 값들을 바로 생성하지 않으며, 생성할 준비만 해두고 필요할 때 값을 생성하여 메모리를 보다 효율적으로 사용할 수 있다.   \n",
    "`__next__()` 메서드나 `next()` 함수를 사용하여 항목을 차례대로 가져올 수 있다.  "
   ]
  },
  {
   "cell_type": "code",
   "execution_count": 5,
   "id": "0db8d46b-64ba-447a-9026-91ef0bc31a8b",
   "metadata": {},
   "outputs": [
    {
     "data": {
      "text/plain": [
       "1"
      ]
     },
     "execution_count": 5,
     "metadata": {},
     "output_type": "execute_result"
    }
   ],
   "source": [
    "gen.__next__()"
   ]
  },
  {
   "cell_type": "code",
   "execution_count": 6,
   "id": "c24790e6-f345-41e9-a447-4f9d7fe5f623",
   "metadata": {},
   "outputs": [
    {
     "data": {
      "text/plain": [
       "4"
      ]
     },
     "execution_count": 6,
     "metadata": {},
     "output_type": "execute_result"
    }
   ],
   "source": [
    "gen.__next__()"
   ]
  },
  {
   "cell_type": "code",
   "execution_count": 7,
   "id": "4caa83d7-ef94-484f-8a12-cb9a4b64ccba",
   "metadata": {},
   "outputs": [
    {
     "data": {
      "text/plain": [
       "9"
      ]
     },
     "execution_count": 7,
     "metadata": {},
     "output_type": "execute_result"
    }
   ],
   "source": [
    "next(gen)"
   ]
  },
  {
   "cell_type": "markdown",
   "id": "93f0416d-f1c8-48ed-bf5b-fab402a9d091",
   "metadata": {},
   "source": [
    "`for` 반복문에 사용하면 그때 필요한 항목을 하나씩 생성한다.  \n",
    "앞에서 `1, 4, 9` 항목을 가져왔기 때문에 `16`과 `25`만 출력된 것을 볼 수 있다. "
   ]
  },
  {
   "cell_type": "code",
   "execution_count": 8,
   "id": "d7026397-6dfb-4c94-9f35-5563722f7ace",
   "metadata": {},
   "outputs": [
    {
     "name": "stdout",
     "output_type": "stream",
     "text": [
      "16 25 "
     ]
    }
   ],
   "source": [
    "for x in gen :\n",
    "    print(x, end = ' ')"
   ]
  },
  {
   "cell_type": "markdown",
   "id": "257d2f1c-fcab-49e1-8c7e-531966c8004a",
   "metadata": {},
   "source": [
    ":::{admonition} 주의   \n",
    ":class: caution  \n",
    "제너레이터도 `__next__()` 메서드가 모든 항목을 순회하면 더 이상 가리키는 값이 없다. 따라서 한 번 더 `for` 반복문을 사용했을 때, 아무 것도 출력하지 않는다. \n",
    "\n",
    "```python\n",
    ">>> for x in gen :\n",
    "        print(x, end = ' ')\n",
    "```\n",
    "\n",
    "동일한 제너레이터를 다시 사용하려면 제너레이터를 다시 생성해야 한다. \n",
    "```python\n",
    ">>> gen = squares(5)\n",
    ">>> for x in gen :\n",
    "        print(x, end = ' ')\n",
    "1 4 9 16 25 \n",
    "```\n",
    ":::\n"
   ]
  },
  {
   "cell_type": "markdown",
   "id": "831d8c36-2d44-4e2d-861f-ec1b0f11b75e",
   "metadata": {},
   "source": [
    "**제너레이터 표현식**  \n",
    "제너레이터는 제너레이터 표현식을 사용하여 만들 수도 있다. 조건제시법과 유사하지만 소괄호(`( )`)로 감싸서 만든다. "
   ]
  },
  {
   "cell_type": "code",
   "execution_count": 48,
   "id": "83874c44-7e42-44df-ad20-137939a6a091",
   "metadata": {},
   "outputs": [
    {
     "data": {
      "text/plain": [
       "generator"
      ]
     },
     "execution_count": 48,
     "metadata": {},
     "output_type": "execute_result"
    }
   ],
   "source": [
    "squares = (i ** 2 for i in range(1, 6))\n",
    "type(squares)"
   ]
  },
  {
   "cell_type": "markdown",
   "id": "6ddbbbc0-62a0-49f6-8f92-8b5a3146c938",
   "metadata": {},
   "source": [
    ":::{admonition} 주의  \n",
    ":class: caution  \n",
    "소괄호로 감싸서 만들지만 튜플 자료형이 아니라 제너레이터이다. \n",
    ":::\n"
   ]
  },
  {
   "cell_type": "code",
   "execution_count": 49,
   "id": "1a502768-5b67-4182-a0ae-4262e48fb047",
   "metadata": {},
   "outputs": [
    {
     "name": "stdout",
     "output_type": "stream",
     "text": [
      "1\n",
      "4\n",
      "9\n",
      "16\n",
      "25\n"
     ]
    }
   ],
   "source": [
    "print(next(squares))\n",
    "print(next(squares))\n",
    "print(next(squares))\n",
    "print(next(squares))\n",
    "print(next(squares))"
   ]
  },
  {
   "cell_type": "markdown",
   "id": "1fcb88c0-6f18-4e24-847c-c764fd14501f",
   "metadata": {},
   "source": [
    "### 이터러블에 유용한 내장함수"
   ]
  },
  {
   "cell_type": "markdown",
   "id": "0fbc1efe-a85c-41aa-a103-4583c2bc6329",
   "metadata": {},
   "source": [
    "#### `enumerate()` 함수  \n",
    "`enumerate(iterable, start = 0)` : 카운트와 `iterable`의 항목을 튜플로 묶은 형태로 이터레이터를 만들어 반환한다. 카운트는 기본적으로 0부터 시작하고 다른 값부터 시작하고 싶다면 `start` 값을 변경해주면 된다. "
   ]
  },
  {
   "cell_type": "code",
   "execution_count": 88,
   "id": "b50cf3e5-e330-440e-bb07-4032761c7a93",
   "metadata": {},
   "outputs": [
    {
     "name": "stdout",
     "output_type": "stream",
     "text": [
      "[(0, '봄'), (1, '여름'), (2, '가을'), (3, '겨울')]\n",
      "[(10, '봄'), (11, '여름'), (12, '가을'), (13, '겨울')]\n"
     ]
    }
   ],
   "source": [
    "seasons = ['봄', '여름', '가을', '겨울']\n",
    "print(list(enumerate(seasons)))\n",
    "print(list(enumerate(seasons, start = 10)))"
   ]
  },
  {
   "cell_type": "code",
   "execution_count": 87,
   "id": "945b9efc-5e58-4a03-9039-7f06e7bfb644",
   "metadata": {},
   "outputs": [
    {
     "name": "stdout",
     "output_type": "stream",
     "text": [
      "1번 학생은 강현입니다.\n",
      "2번 학생은 나현입니다.\n",
      "3번 학생은 다현입니다.\n"
     ]
    }
   ],
   "source": [
    "class_name = ['강현', '나현', '다현']\n",
    "class_name_enum = enumerate(class_name, 1)\n",
    "\n",
    "for num, name in class_name_enum :\n",
    "    print(f'{num}번 학생은 {name}입니다.')"
   ]
  },
  {
   "cell_type": "markdown",
   "id": "cfb8c45e-5f0d-4136-ad26-be1ffccd162e",
   "metadata": {},
   "source": [
    "#### `zip()` 함수"
   ]
  },
  {
   "cell_type": "markdown",
   "id": "75e01b8d-cc5b-4ce5-9710-51869716b39b",
   "metadata": {},
   "source": [
    "여러 개의 이터러블을 인자로 받아 각 항목을 튜플로 묶은 형태로 이터레이터를 만들어 반환한다. "
   ]
  },
  {
   "cell_type": "code",
   "execution_count": 91,
   "id": "17d0ab6d-70e7-4eed-8f1c-50976c46607b",
   "metadata": {},
   "outputs": [
    {
     "name": "stdout",
     "output_type": "stream",
     "text": [
      "강현은 3월달에 태어났다.\n",
      "나현은 2월달에 태어났다.\n",
      "다현은 9월달에 태어났다.\n"
     ]
    }
   ],
   "source": [
    "data_zip = zip(['3월', '2월', '9월'], ['강현', '나현', '다현'])\n",
    "\n",
    "for month, name in data_zip :\n",
    "    print(f'{name}은 {month}달에 태어났다.')"
   ]
  },
  {
   "cell_type": "markdown",
   "id": "d29e7a14-e469-4a9e-ab5e-4007d9d56cf5",
   "metadata": {},
   "source": [
    "#### `all()` 함수    \n",
    "\n",
    "이터러블의 모든 항목이 참이거나 비어있으면 `True`, 아니면 `False`를 반환한다. "
   ]
  },
  {
   "cell_type": "code",
   "execution_count": 1,
   "id": "2fbed1c2-022b-4182-a8ce-6d6682519945",
   "metadata": {},
   "outputs": [
    {
     "name": "stdout",
     "output_type": "stream",
     "text": [
      "False\n",
      "True\n"
     ]
    }
   ],
   "source": [
    "print(all([1, 3, 0, 2, 15])) # 0 == False를 실행하면 True다. 0이 아닌 수는 True이다. \n",
    "print(all([1, 3, 2, 15]))"
   ]
  },
  {
   "cell_type": "markdown",
   "id": "61c8850a-5e66-4176-8ed6-89d65c290793",
   "metadata": {},
   "source": [
    "#### `any()` 함수  \n",
    "\n",
    "이터러블의 항목 중 어느 하나라도 참이면 `True`, 아니면 `False`를 반환한다. "
   ]
  },
  {
   "cell_type": "code",
   "execution_count": 63,
   "id": "a2920c38-56bb-4f21-9fcc-556f974ea7ac",
   "metadata": {
    "tags": []
   },
   "outputs": [
    {
     "name": "stdout",
     "output_type": "stream",
     "text": [
      "True\n",
      "False\n"
     ]
    }
   ],
   "source": [
    "print(any((False, 1, False, False)))\n",
    "print(any((False, 1 == 3, False, False)))"
   ]
  },
  {
   "cell_type": "markdown",
   "id": "a8a0feae-0ddb-4836-b0ad-d7cd29338f0a",
   "metadata": {
    "tags": []
   },
   "source": [
    "#### `filter()` 함수  \n",
    "`filter(function, iterable)`은 `function`이 참을 반환하는 `iterable`의 요소들로 이터레이터를 만들어 반환한다.   "
   ]
  },
  {
   "cell_type": "code",
   "execution_count": 68,
   "id": "739d2fef-f9b3-470d-b0f4-1ecdd73243e2",
   "metadata": {},
   "outputs": [
    {
     "name": "stdout",
     "output_type": "stream",
     "text": [
      "False\n",
      "True\n"
     ]
    }
   ],
   "source": [
    "def is_even(n) :\n",
    "    if not n % 2 :\n",
    "        return True\n",
    "    else :\n",
    "        return False\n",
    "\n",
    "print(is_even(5))\n",
    "print(is_even(10))"
   ]
  },
  {
   "cell_type": "code",
   "execution_count": 76,
   "id": "26171b5f-0b7b-44c0-a7ae-048e1b95928a",
   "metadata": {},
   "outputs": [],
   "source": [
    "num = [2, 8, 9, 3, 10, 12]\n",
    "num_iter = filter(is_even, num)"
   ]
  },
  {
   "cell_type": "code",
   "execution_count": 77,
   "id": "7b12c936-43f7-4984-bc77-d14cd3a223f1",
   "metadata": {},
   "outputs": [
    {
     "name": "stdout",
     "output_type": "stream",
     "text": [
      "2 8 10 12 "
     ]
    }
   ],
   "source": [
    "for item in num_iter :\n",
    "    print(item, end = ' ')"
   ]
  },
  {
   "cell_type": "code",
   "execution_count": 78,
   "id": "24846fa1-8818-42e6-933a-62eb944ca11a",
   "metadata": {},
   "outputs": [
    {
     "data": {
      "text/plain": [
       "[2, 8, 10, 12]"
      ]
     },
     "execution_count": 78,
     "metadata": {},
     "output_type": "execute_result"
    }
   ],
   "source": [
    "num_iter = filter(is_even, num)\n",
    "list(num_iter)"
   ]
  },
  {
   "cell_type": "markdown",
   "id": "8dc153be-a204-4b0e-a752-20b6b96345cd",
   "metadata": {},
   "source": [
    "#### `map()` 함수  \n",
    "`map(function, iterable)` : `iterable`의 모든 항목에 `function`을 적용한 후 그 결과를 돌려주는 이터레이터를 반환한다.  "
   ]
  },
  {
   "cell_type": "code",
   "execution_count": 81,
   "id": "03ca0661-31db-4a46-accf-aeaf4176da8e",
   "metadata": {},
   "outputs": [],
   "source": [
    "def is_even(n) :\n",
    "    if not n % 2 :\n",
    "        return True\n",
    "    else :\n",
    "        return False"
   ]
  },
  {
   "cell_type": "code",
   "execution_count": 82,
   "id": "90c40574-9716-4551-a644-6d49f983aee2",
   "metadata": {},
   "outputs": [],
   "source": [
    "num = [2, 8, 9, 3, 10, 12]\n",
    "num_map = map(is_even, num)"
   ]
  },
  {
   "cell_type": "code",
   "execution_count": 83,
   "id": "903b07b2-0ce3-43c7-9f35-21e3b81580dd",
   "metadata": {},
   "outputs": [
    {
     "name": "stdout",
     "output_type": "stream",
     "text": [
      "True True False False True True "
     ]
    }
   ],
   "source": [
    "for item in num_map :\n",
    "    print(item, end = ' ')"
   ]
  },
  {
   "cell_type": "markdown",
   "id": "4d70b37e-8d95-4cc2-a303-fc41b664d7f2",
   "metadata": {},
   "source": [
    "## 예외처리"
   ]
  },
  {
   "cell_type": "markdown",
   "id": "fe3b78ff-9fa1-4bdf-af4d-04fca0cedc58",
   "metadata": {},
   "source": [
    "프로그램을 만들다보면 여러 오류가 발생할 수 있다. 파이썬은 오류가 발생하면 오류 메시지를 보여주며 프로그램을 중단한다. 하지만 때로는 오류를 다른 방식으로 처리하고 싶을 때도 있다. 여기서 그에 대한 해결책을 다루고자 한다.  "
   ]
  },
  {
   "cell_type": "markdown",
   "id": "1b1678d4-1801-48e6-b69a-eb9ca3c86c77",
   "metadata": {},
   "source": [
    "### 오류  \n",
    "오류를 처리하는 방법을 살펴보기 전에, 프로그램을 만들 때 발생할 수 있는 오류 몇 가지를 살펴보자. 오류의 종류를 파악하면 어디서 왜 오류가 발생하였는지를 보다 쉽게 파악하여 코드를 수정할 수 있게 된다. 다음의 코드들은 모두 오류를 발생시킨다. 오류 메시지는 오류의 종류를 명시하고 있으며, 문제가 되는 줄을 다시 보여주고 문제가 되는 부분을 화살표로 가리키고 있다. \n"
   ]
  },
  {
   "cell_type": "markdown",
   "id": "b1a31e1e-d292-4f68-91ad-ea0b3c0844ff",
   "metadata": {},
   "source": [
    ":::{admonition} 문법 오류<font size=\"2\">SyntaxError</font>  \n",
    ":class: caution  \n",
    "아래의 코드에서 문자열 양 끝의 큰 따옴표(또는 작은 따옴표)는 짝이 맞아야 한다.  \n",
    "```python  \n",
    ">>> print('Hello, world)\n",
    "  File \"/tmp/ipykernel_739/1244210618.py\", line 1\n",
    "    print('Hello, world)\n",
    "                        ^\n",
    "SyntaxError: EOL while scanning string literal\n",
    "```  \n",
    "아래의 코드에서 괄호는 짝이 맞게 작성해야 한다. 오류 메시지에서는 line2 시작 부분에서 오류가 발생했다고 나왔지만, 실제로는 line1 마지막에 괄호(`)`)가 없어서 발생한 오류이다.   \n",
    "```python\n",
    ">>> print(type('3')\n",
    ">>> print('Hello, python')\n",
    "  File \"/tmp/ipykernel_739/2346138518.py\", line 2\n",
    "    print('Hello, python')\n",
    "    ^\n",
    "SyntaxError: invalid syntax\n",
    "```\n",
    ":::  \n"
   ]
  },
  {
   "cell_type": "markdown",
   "id": "3bb165d3-05bf-4764-900b-a1f6ebc717c1",
   "metadata": {},
   "source": [
    ":::{admonition} 0 나누기 오류<font size=\"2\">ZeroDivisionError</font>    \n",
    ":class: caution   \n",
    "어떤 값을 0으로 나누려고 하면, 아래와 같이 오류가 발생한다.   \n",
    "```python\n",
    ">>> print(3/0)\n",
    "ZeroDivisionError                         Traceback (most recent call last)\n",
    "/tmp/ipykernel_739/3450647263.py in <module>\n",
    "----> 1 print(3/0)\n",
    "\n",
    "ZeroDivisionError: division by zero\n",
    "```\n",
    ":::\n"
   ]
  },
  {
   "cell_type": "markdown",
   "id": "3f28528b-cef9-4180-a751-0bd56ba499fe",
   "metadata": {},
   "source": [
    ":::{admonition} 들여쓰기 오류<font size=\"2\">IndentationError</font>   \n",
    ":class: caution  \n",
    "\n",
    "2번 줄과 3번 줄의 들여쓰기 정도가 동일해야 한다. \n",
    "```python\n",
    ">>> for i in range(5) :\n",
    "      i -= 2\n",
    "        print(i)\n",
    "  File \"/tmp/ipykernel_739/1686879996.py\", line 3\n",
    "    print(i)\n",
    "    ^\n",
    "IndentationError: unexpected indent\n",
    "```\n",
    ":::\n"
   ]
  },
  {
   "cell_type": "markdown",
   "id": "3a8ddade-a8f4-4f27-a886-45abb7650e4f",
   "metadata": {},
   "source": [
    ":::{admonition} 자료형 오류<font size=\"2\">TypeError</font>   \n",
    ":class: caution  \n",
    "\n",
    "정수와 문자열은 `+` 연산을 할 수 없다. \n",
    "```python\n",
    ">>> 3 + 'abc' \n",
    "TypeError                                 Traceback (most recent call last)\n",
    "/tmp/ipykernel_739/2042041464.py in <module>\n",
    "----> 1 3 + 'abc'\n",
    "\n",
    "TypeError: unsupported operand type(s) for +: 'int' and 'str'\n",
    "```\n",
    ":::\n"
   ]
  },
  {
   "cell_type": "markdown",
   "id": "1edf0aba-2565-4d0e-a453-d70fccc814a8",
   "metadata": {},
   "source": [
    ":::{admonition} 인덱스 오류<font size=\"2\">IndexError</font>   \n",
    ":class: caution  \n",
    "\n",
    "인덱스는 문자열의 길이보다 작거나 같은 수만 사용할 수 있다. \n",
    "```python\n",
    ">>> a_word = 'Hello'\n",
    ">>> print(a_word[15])\n",
    "IndexError                                Traceback (most recent call last)\n",
    "/tmp/ipykernel_739/570418593.py in <module>\n",
    "      1 a_word = 'Hello'\n",
    "----> 2 print(a_word[15])\n",
    "\n",
    "IndexError: string index out of range\n",
    "```\n",
    ":::"
   ]
  },
  {
   "cell_type": "markdown",
   "id": "753eb2b6-044a-4215-bfe0-a628d5f235ad",
   "metadata": {},
   "source": [
    ":::{admonition} 값 오류<font size=\"2\">ValueError</font>  \n",
    ":class: caution  \n",
    "\n",
    "`int()`함수의 인자로 문자열을 사용할 때는 문자열의 모양이 정수 모양이어야 한다.   \n",
    "```python\n",
    ">>> int('3.4')  \n",
    "ValueError                                Traceback (most recent call last)\n",
    "/tmp/ipykernel_739/1056813288.py in <module>\n",
    "----> 1 int('3.4')\n",
    "\n",
    "ValueError: invalid literal for int() with base 10: '3.4'\n",
    "```\n",
    ":::\n"
   ]
  },
  {
   "cell_type": "markdown",
   "id": "886c6834-5e98-4051-bcb9-cac3966a93ff",
   "metadata": {},
   "source": [
    ":::{admonition} 속성 오류<font size=\"2\">AttributeError</font>     \n",
    ":class: caution  \n",
    "\n",
    "문자열(`str`)에 `split()`메서드를 사용하면, 리스트(`list`)가 된다. `strip()`은 문자열 메서드로 리스트 자료형에 사용할 수 없다.    \n",
    "```python\n",
    ">>> 'Hello, python'.split().strip()\n",
    "AttributeError                            Traceback (most recent call last)\n",
    "/tmp/ipykernel_739/2431863669.py in <module>\n",
    "----> 1 'Hello, python'.split().strip()\n",
    "\n",
    "AttributeError: 'list' object has no attribute 'strip'\n",
    "```\n",
    ":::"
   ]
  },
  {
   "cell_type": "markdown",
   "id": "190c6ad1-c2e8-4323-93f8-338c3920efdb",
   "metadata": {},
   "source": [
    "지금 살펴본 오류 외에도 다양한 오류가 발생할 수 있다. 그때마다 스스로 오류의 내용과 원인을 확인해 나가는 과정이 필요하다.  "
   ]
  },
  {
   "cell_type": "markdown",
   "id": "828e8a3d-3774-41aa-a0a0-ff4a5850903f",
   "metadata": {},
   "source": [
    "### 예외처리"
   ]
  },
  {
   "cell_type": "markdown",
   "id": "e7677836-44c9-4a54-8083-609fa9a41996",
   "metadata": {},
   "source": [
    "프로그램 중간에 오류가 발생할 수 있는 경우를 미리 생각하여 대비하는 과정을 **예외처리<font size=\"2\">exception handling</font>** 라고 부른다. 예를 들어, 오류가 발생하더라도 오류발생 이전까지 생성된 정보들을 저장하거나, 오류 발생 이유를 조금 더 자세히 다루거나, 아니면 오류발생에 대한 보다 자세한 정보를 사용자에게 알려주기 위해 예외처리를 사용한다. 여기서는 `try-except`문을 사용하여 예외처리하는 방법을 살펴보자. 아래의 형식을 따른다.   \n",
    "\n",
    "```\n",
    "try : \n",
    "    코드1\n",
    "except :\n",
    "    코드2\n",
    "```\n",
    "\n",
    "* `try`문을 만나면, 먼저 `코드1`(`try`와 `except` 사이의 코드들)부분을 실행한다.   \n",
    "* `코드1` 부분이 실행되면서 오류가 발생하지 않으면 `코드2`부분은 무시하고 다음으로 넘어간다. \n",
    "* `코드1` 부분이 실행되면서 오류가 발생하면 더이상 진행하지 않고 바로 `코드2` 부분을 실행한다.   \n",
    "\n",
    "예제와 함께 살펴보자. 아래의 코드는 문법적 오류는 없지만, 정수가 아닌 값을 입력하면 값 오류<font size=\"2\">ValueError</font>가 발생한다.  \n",
    "\n",
    "```python\n",
    ">>> int_num = int(input('정수를 입력하세요 : '))\n",
    "정수를 입력하세요 :  3\n",
    "```\n",
    "```python\n",
    ">>> int_num = int(input('정수를 입력하세요 : '))\n",
    "정수를 입력하세요 :  3.5\n",
    "ValueError                                Traceback (most recent call last)\n",
    "/tmp/ipykernel_739/4187675782.py in <module>\n",
    "----> 1 int_num = int(input('정수를 입력하세요 : '))\n",
    "\n",
    "ValueError: invalid literal for int() with base 10: '3.5'\n",
    "``` \n",
    "\n",
    "정수가 아닌 값을 입력하면, `'정수를 입력해야 합니다.'`라는 문구를 출력하고 싶다면 `try-except`문을 이용하여 예외처리할 수 있다.  \n",
    "```python\n",
    ">>> num = input(\"정수를 입력하세요: \")\n",
    ">>> try :\n",
    "        int_num = int(num)\n",
    "        print(\"입력한 정수\", int_num, \"의 제곱은\", int_num**2, \"입니다.\")\n",
    "    except :\n",
    "        print(\"정수를 입력해야 합니다.\")\n",
    "정수를 입력하세요:  3\n",
    "입력한 정수 3 의 제곱은 9 입니다.\n",
    "```\n",
    "```python\n",
    ">>> num = input(\"정수를 입력하세요: \")\n",
    ">>> try :\n",
    "        int_num = int(num)\n",
    "        print(\"입력한 정수\", int_num, \"의 제곱은\", int_num**2, \"입니다.\")\n",
    "    except :\n",
    "        print(\"정수를 입력해야 합니다.\")\n",
    "정수를 입력하세요:  3.5\n",
    "정수를 입력해야 합니다.\n",
    "```\n",
    "\n",
    "위의 코드에서 정수 3을 입력하면 입력한 정수의 제곱을 출력하고, 부동소수점 3.5를 입력하면 정수를 입력해야 한다는 메시지를 보여준다.   \n",
    "\n",
    "`while`문을 사용하여 정수를 입력할 때까지 계속 입력을 요구할 수도 있다.   \n",
    "```python\n",
    ">>> while True :\n",
    "        try :\n",
    "            int_num = int(input(\"정수를 입력하세요: \"))\n",
    "            print(\"입력한 정수\", int_num, \"의 제곱은\", int_num**2, \"입니다.\")\n",
    "            break\n",
    "        except :\n",
    "            print(\"정수를 입력해야 합니다.\")\n",
    "정수를 입력하세요:  3.5\n",
    "정수를 입력해야 합니다.\n",
    "정수를 입력하세요:  1.5\n",
    "정수를 입력해야 합니다.\n",
    "정수를 입력하세요:  5\n",
    "입력한 정수 5 의 제곱은 25 입니다.\n",
    "```"
   ]
  },
  {
   "cell_type": "markdown",
   "id": "1feb097f-4c5a-4c8a-855f-1de6e2b28320",
   "metadata": {},
   "source": [
    "오류 종류에 맞추어 다양한 대처를 하기 위해서는 오류의 종류를 명시하여 예외처리를 하면된다. 형식은 아래와 같다. \n",
    "```\n",
    "try : \n",
    "    코드1\n",
    "except 오류종류1:\n",
    "    코드2\n",
    "except 오류종류2:\n",
    "    코드3\n",
    "```\n",
    "* `try`문을 만나면, 먼저 `코드1`(`try`와 `except` 사이의 코드들)부분을 실행한다.   \n",
    "* `코드1` 부분이 실행되면서 오류가 발생하지 않으면 `코드2`, `코드3` 부분은 무시하고 다음으로 넘어간다. \n",
    "* `코드1` 부분이 실행되면서 `오류종류1`의 오류가 발생하면 더이상 진행하지 않고 바로 `코드2` 부분을 실행한다.   \n",
    "* `코드1` 부분이 실행되면서 `오류종류2`의 오류가 발생하면 더이상 진행하지 않고 바로 `코드3` 부분을 실행한다.   \n",
    "\n",
    "\n",
    "예제와 함께 살펴보자. 0이 아닌 정수를 입력받은 다음, 10을 입력받은 수로 나눈 값을 출력하는 코드를 작성하려고 한다. 입력 값이 따라 값 오류`VauleError`와 0 나누기 오류`ZeroDivisionError`가 발생할 수 있다. 각각에 상응하는 방식으로 아래와 같이 예외처리를 해보자. `try`문 아래 코드에서 오류가 발생했을 때 `except`문이 여러 개 있다면, 가장 위에 있는 `except`문부터 오류의 종류가 일치하는지를 확인한다. \n",
    "\n",
    "```python\n",
    ">>> num = input('0이 아닌 정수를 입력하세요 : ')\n",
    ">>> try :\n",
    "        int_num = int(num)\n",
    "        ans = 10 / int_num\n",
    "        print('결과는', ans, '입니다.')\n",
    "    except ValueError :\n",
    "        print('정수를 입력하세요.')\n",
    "    except ZeroDivisionError :\n",
    "        print('0은 입력할 수 없습니다.')\n",
    "0이 아닌 정수를 입력하세요 :  3.5\n",
    "정수를 입력하세요.   \n",
    "```\n",
    "```python\n",
    ">>> num = input('0이 아닌 정수를 입력하세요 : ')\n",
    ">>> try :\n",
    "        int_num = int(num)\n",
    "        ans = 10 / int_num\n",
    "        print('결과는', ans, '입니다.')\n",
    "    except ValueError :\n",
    "        print('정수를 입력하세요.')\n",
    "    except ZeroDivisionError :\n",
    "        print('0은 입력할 수 없습니다.')\n",
    "0이 아닌 정수를 입력하세요 :  0\n",
    "0은 입력할 수 없습니다. \n",
    "```\n",
    "\n",
    "오류 메시지의 내용까지 알고 싶다면, 오류 종류 옆에 `as 오류메시지변수`를 적어주면 된다. 예를 들어, 아래와 같이 오류 종류 옆에 `as e`라고 적고, 아래에서 오류 메시지를 출력할 수 있다. \n",
    "```python\n",
    ">>> num = input('0이 아닌 정수를 입력하세요 : ')\n",
    ">>> try :\n",
    "        int_num = int(num)\n",
    "        ans = 10 / int_num\n",
    "        print('결과는', ans, '입니다.')\n",
    "    except ValueError as e :\n",
    "        print(e)\n",
    "        print('정수를 입력하세요.')\n",
    "    except ZeroDivisionError as e :\n",
    "        print(e)\n",
    "        print('0은 입력할 수 없습니다.')\n",
    "0이 아닌 정수를 입력하세요 :  3.5\n",
    "invalid literal for int() with base 10: '3.5'\n",
    "정수를 입력하세요.   \n",
    "```\n",
    "```python\n",
    ">>> num = input('0이 아닌 정수를 입력하세요 : ')\n",
    ">>> try :\n",
    "        int_num = int(num)\n",
    "        ans = 10 / int_num\n",
    "        print('결과는', ans, '입니다.')\n",
    "    except ValueError as e :\n",
    "        print(e)\n",
    "        print('정수를 입력하세요.')\n",
    "    except ZeroDivisionError as e :\n",
    "        print(e)\n",
    "        print('0은 입력할 수 없습니다.')\n",
    "0이 아닌 정수를 입력하세요 :  0\n",
    "division by zero\n",
    "0은 입력할 수 없습니다. \n",
    "```"
   ]
  },
  {
   "cell_type": "markdown",
   "id": "5d49037c-ce3c-4493-92e6-d4263a2a512d",
   "metadata": {},
   "source": [
    ":::{admonition} 주의  \n",
    ":class: caution  \n",
    "오류 종류를 잘못 명시하면 예외처리가 제대로 동작하지 않는다.  \n",
    "\n",
    "```python\n",
    ">>> try :\n",
    "        a = 3 / 0\n",
    "    except ValueError :\n",
    "        print('This program stops here.')\n",
    "ZeroDivisionError                         Traceback (most recent call last)\n",
    "/tmp/ipykernel_739/1260866280.py in <module>\n",
    "      1 try :\n",
    "----> 2     a = 3 / 0\n",
    "      3 except ValueError :\n",
    "      4     print('This program stops here.')\n",
    "\n",
    "ZeroDivisionError: division by zero\n",
    "```\n",
    "실제로 발생 가능한 오류를 일으킨 다음, 오류 종류를 명시하는 것도 좋다. \n",
    "\n",
    "```python\n",
    ">>> try :\n",
    "        a = 3 / 0\n",
    "    except ZeroDivisionError :\n",
    "        print('This program stops here.')\n",
    "This program stops here.\n",
    "```\n",
    ":::"
   ]
  },
  {
   "cell_type": "markdown",
   "id": "8668cd3f-4a0c-4504-8649-b275ebce7c6c",
   "metadata": {},
   "source": [
    ":::{admonition} 참고  \n",
    ":class: info  \n",
    "상황에 따라 `try`문은 `else` 또는 `finally`와 함께 사용할 수 있다. `else`는 `try`문 아래에서 오류가 발생하지 않았을 때 실행되고, `finally`은 `try`문 아래에서 오류가 발생했는가와 관계없이 실행된다.   \n",
    "\n",
    "아래와 같은 코드를 살펴보자. `try`문 아래 코드를 실행할 때 어떠한 오류도 발생하지 않는다. 그러면, `except` 아래 코드는 무시하고, `else`와 `finally` 아래 코드가 실행된다. 그리고 `try`문 밖에 있는 `print('E')`가 실행된다.  \n",
    "```python\n",
    ">>> try :\n",
    "        print('A1')\n",
    "        print('A2')\n",
    "    except :\n",
    "        print('B')\n",
    "    else :\n",
    "        print('C1')\n",
    "        print('C2')\n",
    "    finally :\n",
    "        print('D')\n",
    "    print('E')\n",
    "A1\n",
    "A2\n",
    "C1\n",
    "C2\n",
    "D\n",
    "E\n",
    "```\n",
    "\n",
    "`try`문 아래 코드를 실행할 때 오류가 발생하면, 더이상 진행하지 않고 `except`아래 코드를 실행한다. 이후 `else` 아래 코드는 무시하고, `finally`아래 코드와 `print('E')`가 실행된다.\n",
    "```python\n",
    ">>> try :\n",
    "        print('A1')\n",
    "        print(3 / 0)\n",
    "        print('A2')\n",
    "    except :\n",
    "        print('B')\n",
    "    else :\n",
    "        print('C1')\n",
    "        print('C2')\n",
    "    finally :\n",
    "        print('D')\n",
    "    print('E')\n",
    "A1\n",
    "B\n",
    "D\n",
    "E\n",
    "```\n",
    "\n",
    "다음와 같이 `else` 아래 있는 코드에서도 오류가 발생할 수 있다. 그런 경우에는 `finally` 아래 코드가 실행된 다음에 오류가 발생한다. 이후 `print('E')`가 실행되지 않는다. \n",
    "```python\n",
    ">>> try :\n",
    "        print('A1')\n",
    "        print('A2')\n",
    "    except :\n",
    "        print('B')\n",
    "    else :\n",
    "        print('C1')\n",
    "        print(3 / 0)\n",
    "        print('C2')\n",
    "    finally :\n",
    "        print('D')\n",
    "    print('E')\n",
    "A1\n",
    "A2\n",
    "C1\n",
    "D\n",
    "ZeroDivisionError                         Traceback (most recent call last)\n",
    "/tmp/ipykernel_739/1541466067.py in <module>\n",
    "      6 else :\n",
    "      7     print('C1')\n",
    "----> 8     print(3 / 0)\n",
    "      9     print('C2')\n",
    "     10 finally :\n",
    "\n",
    "ZeroDivisionError: division by zero\n",
    "```\n",
    ":::\n"
   ]
  },
  {
   "cell_type": "markdown",
   "id": "10c414ca-5300-49ea-919b-143bf6b019e1",
   "metadata": {},
   "source": [
    ":::{admonition} 주의  \n",
    ":class: caution  \n",
    "`try` 아래 있는 코드에서 `break`, `continue`, `return` 문을 만나도, `finally` 아래 있는 코드를 먼저 실행한 다음 실행한다. 예를 들어, `try`문 아래에서 `break`를 만나 `while`문을 바로 벗어나는 것이 아니라 `finally` 아래 있는 코드를 실행한 다음 `break`문을 실행한다. \n",
    "\n",
    "```python\n",
    ">>> while True :\n",
    "        try :\n",
    "            break\n",
    "        finally :\n",
    "            print('A')\n",
    "A\n",
    "```\n",
    "\n",
    "`finally` 아래 `return`문이 있다면, 리턴값은 `try` 문 아래 리턴값이 아니라 `finally` 아래 리턴값이 된다. \n",
    "```python\n",
    ">>> def bool_return() :\n",
    "        try :\n",
    "            return True\n",
    "        finally :\n",
    "            return False\n",
    ">>> bool_return()\n",
    "False\n",
    "```\n",
    ":::"
   ]
  },
  {
   "cell_type": "markdown",
   "id": "16e82532-2e8f-4e26-a9d9-603155dfedfa",
   "metadata": {},
   "source": [
    "### 예외 일으키기  \n",
    "강제로 오류를 발생시키고 싶다면, `raise` 명령어를 사용하면 된다.   \n",
    "\n",
    "```python\n",
    ">>> raise\n",
    "RuntimeError                              Traceback (most recent call last)\n",
    "/tmp/ipykernel_739/2235509928.py in <module>\n",
    "----> 1 raise\n",
    "\n",
    "RuntimeError: No active exception to reraise\n",
    "```\n",
    "\n",
    "오류 종류와 어떤 일이 있어났는지도 알려줄 수 있다. 예를 들어, 아래와 같이 `NameError`를 발생시킬 수 있다. \n",
    "```python\n",
    ">>> raise NameError\n",
    "NameError                                 Traceback (most recent call last)\n",
    "/tmp/ipykernel_739/1567631431.py in <module>\n",
    "----> 1 raise NameError\n",
    "\n",
    "NameError: \n",
    "```\n",
    "그리고 오류 종류 옆에 괄호를 하고 문자열을 넣으면, 오류가 발생했을 때 그 문자열을 보여준다. \n",
    "```python\n",
    ">>> raise NameError('name error 발생')\n",
    "NameError                                 Traceback (most recent call last)\n",
    "/tmp/ipykernel_739/3044916970.py in <module>\n",
    "----> 1 raise NameError('name error 발생')\n",
    "\n",
    "NameError: name error 발생\n",
    "```\n"
   ]
  },
  {
   "cell_type": "markdown",
   "id": "43b05552-ae47-4eba-8570-afda6f0777be",
   "metadata": {},
   "source": [
    ":::{admonition} 코드의 안정성 문제    \n",
    ":class: caution  \n",
    "문법 오류 또는 실행 중 오류가 발생하지 않더라도 코드의 안전성이 보장되지는 않는다. 즉, 오류가 발생하지 않더라도 코드를 실행했을 때 기대하는 결과가 나오지 않을 수도 있으니 주의해야 한다. 예를 들어, 아래의 코드는 입력받은 정수의 제곱을 출력해주는 코드를 제대로 구현하지 못하고 있다. \n",
    "\n",
    "```python\n",
    ">>> int_num = int(input(\"정수를 입력하세요 : \"))\n",
    "정수를 입력하세요 : 3\n",
    ">>> print(\"입력한 정수\", int_num, \"의 제곱은\", int_num, \"입니다.\")\n",
    "입력한 정수 3 의 제곱은 3 입니다.\n",
    "```\n",
    ":::\n"
   ]
  },
  {
   "cell_type": "markdown",
   "id": "50b43c50-9604-4929-b012-d498759a66cc",
   "metadata": {},
   "source": [
    "## 연습문제"
   ]
  },
  {
   "cell_type": "markdown",
   "id": "c60610f5-750d-45a4-8f5e-5e744981ff7c",
   "metadata": {},
   "source": [
    "### 문제 \n",
    "'racecar', '토마토', 'stats'와 같이 앞뒤를 뒤집어도 똑같은 문자열을 회문<font size = \"2\">palindrome</font>이라고 한다. 문자열이 주어질 때, 그 문자열이 회문이면 `Success`를, 아니면 `Fail`를 출력하는 코드를 작성하여라.  \n",
    "  \n",
    "Input : `racecar`  \n",
    "Output : `Success`  \n",
    "  \n",
    "Input : `tomato`  \n",
    "Output : `Fail` "
   ]
  },
  {
   "cell_type": "markdown",
   "id": "19af60be-0f95-498e-bfa4-8bd795162648",
   "metadata": {},
   "source": [
    "### 문제  \n",
    "거꾸로 노래 부르기 좋아하는 청개구리는 아래와 같이 노래를 부른다.  \n",
    "\n",
    "`끼토산 야끼토 로디어 냐느가 총깡총깡 서면뛰 를디어 냐느가`  \n",
    "\n",
    "문자열이 주어졌을 때, 공백을 단위로 각 단어를 거꾸로 출력하는 코드를 작성하여라.  \n",
    "단, 특정 노래의 가사는 줄바꿈 없이 주어진다.  \n",
    "\n",
    "Input : `lyrics = '산토끼 토끼야 어디로 가느냐 깡총깡총 뛰면서 어디를 가느냐'`  \n",
    "Output : `끼토산 야끼토 로디어 냐느가 총깡총깡 서면뛰 를디어 냐느가`  "
   ]
  },
  {
   "cell_type": "markdown",
   "id": "3d9cc42c-783e-43e3-881f-2ec1b58f0145",
   "metadata": {},
   "source": [
    "### 문제  \n",
    "카멜<font size = \"2\">camel</font> 표기법으로 작성된 문자열을 팟홀<font size=\"2\">pothole</font> 표기법(또는 스네이크<font size=\"2\">snake</font> 표기법)으로 변경하는 코드를 작성해보자.    \n",
    "\n",
    "* 카멜 표기법 : 소문자로 시작하고, 이어지는 단어의 시작은 대문자로 작성하는 표기법. 예를 들어, `userName`, `printMessage`, `countA` 등. \n",
    "\n",
    "* 팟홀 표기법 또는 스네이크 표기법 : 모두 소문자를 사용하고, 단어 사이에 밑줄기호(`_`)를 사용하는 표기법. 예를 들어, `user_name`, `print_message`, `count_a` 등.   \n",
    "  \n",
    "참고) `str.isupper()`메서드는 문자열이 대문자인지를 확인해준다.  \n",
    "```python\n",
    ">>> 'A'.isupper()\n",
    "True\n",
    ">>> 'a'.isupper()\n",
    "False\n",
    ">>> 'Abc'.isupper()\n",
    "False\n",
    "```\n",
    "\n",
    "Input : `userName`  \n",
    "Output : `user_name`  \n",
    "  \n",
    "Input : `printMessage`   \n",
    "Output : `print_message`    "
   ]
  },
  {
   "cell_type": "markdown",
   "id": "2b93673c-4412-42ff-9c62-226608e6f502",
   "metadata": {},
   "source": [
    "### 문제  \n",
    "$n!$<font size=\"2\">팩토리얼factorial</font>은 $1\\times2\\times3\\times ... \\times n$ 을 의미한다. 자연수 `n`이 주어졌을 때, `n!`의 끝에 있는 0 <font size=\"2\">terminal zeros</font>의 개수를 출력하는 코드를 작성하여라. `n`은 1보다 크고 100000보다 작은 자연수라고 가정하자.  \n",
    "\n",
    "Input : `n = 5`     \n",
    "Output : `1`   \n",
    "\n",
    "Input : `n = 10`    \n",
    "Output : `2`  \n",
    "\n",
    "참고) $5! = 120$, $10! = 3,628,800$   "
   ]
  },
  {
   "cell_type": "markdown",
   "id": "a146ad6d-21fb-41c0-8699-538b369486eb",
   "metadata": {},
   "source": [
    "### 문제   \n",
    "A대학의 일반차량에 대한 주차요금은 아래와 같다.   \n",
    "\n",
    "* 2,000원/최초 30분, 초과 10분마다 500원, 1일(24시간) 최대 요금은 40,000원   \n",
    "\n",
    "일반차량에 대한 입출차 기록이 리스트로 주어졌을 때, 차량별로 주차시간과 주차요금이 정리된 코드를 작성하여라.   \n",
    "\n",
    "* 차량번호는 차량 뒷번호 4자리를 기록하고, 동일한 차량번호는 없다고 가정한다.  \n",
    "* 시간은 24시간제를 아래와 같이 사용하고, 모든 차량은 00:00부터 23:59분 사이에 한 번씩만 입출차(`IN`/`OUT`) 한다고 가정한다.  \n",
    "* 잘못된 입력은 없다고 가정하고, 아직 출차하지 않은 차량에 대해서는 주차시간과 주차요금을 정리할 수 없다.  \n",
    "\n",
    "Input : `['07:30 1234 IN', '07:35 2580 IN','08:15 0328 IN', '08:45 2580 OUT', '08:55 9876 IN', '09:20 9876 OUT','11:00 1597 IN', '15:15 1234 OUT', '21:30 0328 OUT']`   \n",
    "Output : `{'1234': {'IN': '07:30', 'OUT': '15:15', 'parking_duration': 465, 'parking_fee': 24000}, '2580': {'IN': '07:35', 'OUT': '08:45', 'parking_duration': 70, 'parking_fee': 4000}, '0328': {'IN': '08:15', 'OUT': '21:30', 'parking_duration': 795, 'parking_fee': 40000}, '9876': {'IN': '08:55', 'OUT': '09:20', 'parking_duration': 25, 'parking_fee': 2000}, '1597': {'IN': '11:00'}}`\n",
    "\n",
    "참고) \n",
    "\n",
    "|차량번호|입차시간|출차시간|주차시간(분)|주차요금(원)|\n",
    "|:------:|:------:|:------:|:----------:|:---------:|\n",
    "|1234|07:30|15:15|465|24000|\n",
    "|2580|07:35|08:45|70|4000|\n",
    "|0328|08:15|21:30|795|40000|\n",
    "|9876|08:55|09:20|25|2000|\n",
    "|1597|11:00|-|-|-|"
   ]
  },
  {
   "cell_type": "markdown",
   "id": "2100da1d-7cbc-4194-b4a1-e3287c2dbd04",
   "metadata": {},
   "source": [
    "### 문제   \n",
    "어느 강좌의 수강생과 시험 점수가 주어졌을 때, 학점을 매기는 프로그램을 만들어보자.    \n",
    "* 수강생의 30% 이하가 A학점을 받을 수 있다.  \n",
    "* 수강생의 60% 이하가 A학점 또는 B학점을 받을 수 있다.  \n",
    "* A학점과 B학점이 아닌 나머지는 C학점이다. \n",
    "* 최대한 좋은 성적을 부여한다. 예를 들어, 10명 중 3등을 했다면, B, C등의 학점도 가능하지만 A학점을 받는다고 가정한다.  \n",
    "\n",
    "입력으로 학생들의 이름과 점수가 두 줄로 들어오는 데, 각 줄의 항목은 공백으로 구분된다. \n",
    "\n",
    "Input :    \n",
    "```  \n",
    "강현 나현 다현 라현 미현 백현 서현 아현 지현 차현 태현 호현   \n",
    "90 62 82 55 75 74 71 68 88 78 85 90  \n",
    "```   \n",
    "\n",
    "A, B, C 학점인 학생들의 리스트를 아래와 같은 형식으로 출력하는 데, 이때 각 리스트 항목의 순서는 중요하지 않다.   \n",
    "Output :  \n",
    "```  \n",
    "A학점 :  ['강현', '지현', '호현']  \n",
    "B학점 :  ['다현', '미현', '차현', '태현']  \n",
    "C학점 :  ['나현', '라현', '백현', '서현', '아현']  \n",
    "```  "
   ]
  },
  {
   "cell_type": "markdown",
   "id": "edb430e5-51a9-4913-99e6-af13c338ac0d",
   "metadata": {},
   "source": [
    "### 문제   \n",
    "독일 수학자인 콜라츠<font size=\"2\">Collatz, L.</font>는 1937년에 아래 알고리즘을 얼마나 많이 반복하면 최종적으로 숫자 1에 다다를 것인가를 질문했다.   \n",
    "* 주어진 숫자가 짝수라면 2로 나눈다.   \n",
    "* 주어진 숫자가 홀수라면 3을 곱한 다음 1을 더한다.   \n",
    "\n",
    "실제로 숫자 7부터 시작해서 위 과정을 16번 반복하면 1에 다다른다.   \n",
    "7, 22, 11, 34, 17, 52, 26, 13, 40, 20, 10, 5, 16, 8, 4, 2, 1   \n",
    " \n",
    "반면에 숫자 128부터 시작하면 7번만 반복하면 된다.  \n",
    "128, 64, 32, 16, 8, 4, 2, 1   \n",
    "\n",
    "콜라츠는 어떤 자연수로 시작하든지 반복작업이 언젠가는 끝난다고 추측했는데, 아직 언제 끝나는가는 수학적으로 알아내지 못했다. 이를 콜라츠 추측이라고 부른다.   \n",
    "\n",
    "자연수 n을 입력받아 위의 알고리즘을 몇 번 반복하면 1에 다다르는지를 아래와 같은 형식으로 반환하는 `collatz()` 함수를 정의하여라. 단, 100번이상 반복하는 경우 -1를 반환한다.   \n",
    "In : `collatz(128)`     \n",
    "Out : `(7)128->64->32->16->8->4->2->1`   \n",
    "\n",
    "In : `collatz(171)`  \n",
    "Out : `(-1)`   "
   ]
  },
  {
   "cell_type": "markdown",
   "id": "1a762954-11cf-4ebd-82c2-deaf0c6b2261",
   "metadata": {},
   "source": [
    "### 문제  \n",
    "소수<font size=\"2\">prime number</font>는 1보다 큰 자연수 중 1과 자기자신만을 약수로 가지는 수를 말한다. 예를 들어, 2, 3, 5, 7, 11, 13, 17, 19 등은 소수이다. 자연수 100보다 작은 소수를 생성하는 이터레이터를 만들어라.      "
   ]
  },
  {
   "cell_type": "markdown",
   "id": "a3e2651d-84fc-4cea-8306-586f194bc9be",
   "metadata": {},
   "source": [
    "### 문제   \n",
    "A는 정수를 입력하는 일을 하고 있다. 이때 연속으로 같은 숫자를 입력하면 안되는데, 입력장치의 오류로 연속적으로 같은 숫자가 입력된 것을 발견하였다. A가 입력한 숫자 리스트를 인자로 받아 연속적으로 같은 숫자가 있다면 그 숫자는 하나만 남기고 나머지는 제거한 리스트를 반환하는 함수`disconti_num()`를 만들어라. 단, 입력의 순서는 유지되야 하고, 같은 숫자가 불연속적으로 여러 번 등장할 수 있다.     \n",
    "\n",
    "Input : `disconti_num([2, 3, 3, 3, 1, 2, 5])`  \n",
    "Output : `[2, 3, 1, 2, 5]`   "
   ]
  },
  {
   "cell_type": "markdown",
   "id": "7a21f546-04aa-4db4-8797-dafec26bd59b",
   "metadata": {},
   "source": [
    "### 문제  \n",
    "여러 개의 다항식을 곱하는 프로그램을 만들어보자. 다항식은 각 항의 계수로 나타낼 수 있다. 예를 들어, `2`는 $2$를, `1 3 4`는 $1 + 3x + 4x^2$를, `0 4 0 1`은 $4x + x^3$을 의미한다.  \n",
    "\n",
    "입력의 첫 줄에는 다항식의 개수 N(0<N<5)이 주어진다. 그 다음에 들어오는 N개의 줄에는 각 줄마다 다항식의 계수가 공백으로 분리되어 주어진다. 단, 입력으로 주어지는 각 다항식의 계수는 모두 정수이며, 최고차항의 계수는 0이 아니다.   \n",
    "\n",
    "예를 들어, Input이 아래와 같다면, $(1 + 3x)(2 + 4x)3$을 의미하고, 전개하면 $6 + 30x + 36x^2$이므로 `6 30 36`을 출력하면 된다. 다항식의 개수로 0이하, 5이상을 입력하거나 각 다항식의 계수로 정수가 아닌 값을 입력하면, 올바른 값을 입력할 때까지 계속 입력을 받는다.        \n",
    "Input :  \n",
    "```\n",
    "3  \n",
    "1 3  \n",
    "2 4  \n",
    "3  \n",
    "```\n",
    "Output : `6 30 36`  "
   ]
  },
  {
   "cell_type": "markdown",
   "id": "0a0c2d80-ec2c-466b-b81c-49cbe1c19b4b",
   "metadata": {},
   "source": [
    "### 문제   \n",
    "주어진 빙고판에서 빙고의 총 개수를 세는 프로그램을 만들어보자. 빙고판의 행의 개수와 열의 개수는 모두 2이상이고, 행의 개수와 열의 개수는 같다. 빙고판은 `o`와 `x`로만 이루어져 있으며, 빙고 여부는 `o` 기준으로 생각한다. 입력의 첫 줄에는 빙고판 크기 N이 주어진다. 그 다음에 들어오는 N개의 줄에는 `o`와 `x`가 공백으로 분리되어 입력되는데, 각각 N개 넘게 입력하면 N개를 입력할 때까지 계속 입력을 받는다.   \n",
    "\n",
    "Input :  \n",
    "```\n",
    "5\n",
    "o o o o o \n",
    "o o o o o \n",
    "o o o o o \n",
    "o o o o o \n",
    "o o o o o\n",
    "```\n",
    "Output : `Total number of bingo is 12`  "
   ]
  },
  {
   "cell_type": "markdown",
   "id": "1e2e1a9c-ee13-4d9f-8d67-5f07abf3fa12",
   "metadata": {},
   "source": [
    "### 문제  \n",
    "주어진 빙고판에서 왼쪽 상단에서 오른쪽 하단을 연결한 대각선(`\\`) 빙고의 총 개수를 세는 프로그램을 만들어보자. 빙고판의 행의 개수와 열의 개수는 모두 2이상이고, 행의 개수와 열의 개수는 같지 않을 수도 있다. 빙고 여부는 `'o'`기준으로 생각하며 빙고를 만족하기 위해 나란히 있어야 하는 `'o'`의 개수는 min(행의 개수, 열의 개수)이다.   \n",
    "* 행의 개수와 열의 개수가 같은 경우. 아래 예제에서는 (0, 0), (1, 1), (2, 2) 위치의 값만 확인하면 됨. 1빙고.     \n",
    "\n",
    "```\n",
    ">>> bingo_board  = [['o', 'x', 'o'],\n",
    "                    ['x', 'o', 'x'],\n",
    "                    ['o', 'o', 'o']]\n",
    "```"
   ]
  },
  {
   "cell_type": "markdown",
   "id": "a5a24224-f3e6-40de-816a-9d556c61ebf0",
   "metadata": {},
   "source": [
    "* 행의 개수가 열의 개수보다 큰 경우. 아래 예제에서는 (0, 0), (1, 1), (2, 2)와 (1, 0), (2, 1), (3, 2) 그리고 (2, 0), (3, 1), (4, 2) 위치의 값만 확인하면 됨. 2빙고\n",
    "\n",
    "```\n",
    ">>> bingo_board  = [['o', 'o', 'o'],\n",
    "                    ['x', 'o', 'x'],\n",
    "                    ['o', 'x', 'o'],\n",
    "                    ['x', 'o', 'o'],\n",
    "                    ['o', 'x', 'o'],]\n",
    "```"
   ]
  },
  {
   "cell_type": "markdown",
   "id": "1b637622-804c-4342-8721-5bdc2b1d5826",
   "metadata": {},
   "source": [
    "[참고] 파이썬 내장함수 `abs()`는 인자로 들어온 숫자의 절대값을 반환한다.  \n",
    "\n",
    "```\n",
    ">>> print(abs(-6))\n",
    "6\n",
    "```"
   ]
  },
  {
   "cell_type": "markdown",
   "id": "9921eec9-ae20-4e79-8913-bd3b2c6e8b1e",
   "metadata": {
    "jp-MarkdownHeadingCollapsed": true,
    "tags": []
   },
   "source": [
    "### 문제 \n",
    "\n",
    "n × n 마방진이란, 1부터 n × n까지의 자연수를 중복 없이 모두 사용하면서 가로, 세로, 대각선에 있는 수들의 합이 모두 같도록 n × n 모양으로 배열한 것을 말한다. n이 홀수일 때는 다음과 같은 방법을 사용한다.  \n",
    "\n",
    "* 첫 번째 행 가운데 칸에 `1`을 둔다.\n",
    "* 그 다음 자연수를 대각선 방향으로 오른쪽 위 칸에 넣는 것을 모든 칸이 채워질 때까지 반복한다.   \n",
    "    * 이때 해당하는 칸이 마방진의 위쪽으로 벗어난 경우에는 그 열의 가장 아래쪽의 칸으로 이동하여 수를 넣는다.   \n",
    "    * 이때 해당하는 칸이 마방진의 오른쪽으로 벗어나는 경우에는 그 행의 가장 왼쪽의 칸으로 이동하여 수를 넣는다.\n",
    "* 이때 해당하는 칸에 이미 숫자가 있다면, 현재 위치 바로 아래 칸에 수를 넣는다.  \n",
    "\n",
    "<div align=\"center\">\n",
    "    <img src=\"https://raw.githubusercontent.com/hj617kim/core_pybook/master/images/ch05/magic_square3.png\" style=\"width:500px;\">\n",
    "</div>\n",
    "\n",
    "홀수 n을 인자로 받아 n × n 마방진을 반환하는 `magic_square()` 함수를 정의하여라. \n",
    "\n",
    "\n",
    "```python\n",
    ">>> print(magic_square(3))\n",
    "[[8, 1, 6],\n",
    " [3, 5, 7],\n",
    " [4, 9, 2]]\n",
    "```\n",
    "```python\n",
    ">>> print(magic_square(5))\n",
    "[[17, 24,  1,  8, 15],\n",
    " [23,  5,  7, 14, 16],\n",
    " [ 4,  6, 13, 20, 22],\n",
    " [10, 12, 19, 21,  3],\n",
    " [11, 18, 25,  2,  9]]\n",
    "```"
   ]
  },
  {
   "cell_type": "markdown",
   "id": "a62b5866-79e7-4e6f-a7d8-92fdf9d264d9",
   "metadata": {},
   "source": [
    "### 문제  \n",
    "소수<font size=\"2\">prime number</font>는 1보다 큰 자연수 중 1과 자기자신만을 약수로 가지는 수를 말한다. 예를 들어, 2, 3, 5, 7, 11, 13, 17, 19 등은 소수이다. 소수를 생성하는 이터레이터를 만들어라.    "
   ]
  },
  {
   "cell_type": "markdown",
   "id": "5a08cd6a-1b4d-48a3-9145-7fb8cf64f04c",
   "metadata": {},
   "source": [
    "### 문제\n",
    "\n",
    "자기자신의 각 자리 정수의 합으로 나누어지는 양의 정수를 하샤드 수(Harshad number)라 한다. 예를 들어, 12의 각 자리 정수의 합은 3(= 1 + 2)이고, 12는 3의 배수이므로 12는 하샤드 수이다. 또, 1729의 각 자리 정수의 합은 19(= 1 + 7 + 2 + 9)이고, 1729는 19의 배수이므로 1729는 하샤드 수이다.   \n",
    "양의 정수를 인자로 받아 하샤드 수이면 `True` 아니면 `False`를 반환하는 함수 `is_harshad()`를 정의하라."
   ]
  },
  {
   "cell_type": "markdown",
   "id": "77627ece-598a-4b81-b9e8-9d98d7347b37",
   "metadata": {},
   "source": [
    "```\n",
    ">>> print(is_harshad(12))\n",
    "True\n",
    ">>> print(is_harshad(1729))\n",
    "True\n",
    "```"
   ]
  },
  {
   "cell_type": "markdown",
   "id": "3a1ea426-bdd2-41af-8e67-c5ccc4b18bb9",
   "metadata": {},
   "source": [
    "### 문제\n",
    "읽고 말하기 수열은 이전 항을 읽어 다음 항을 만드는 수열를 말한다. 1로 시작하며, 이전 항을 연속된 같은 수\n",
    "의 개수로 묶어서 읽는 방식으로 다음 항을 만든다.  \n",
    "예를 들어, 읽고 말하기 수열은 다음과 같다.  \n",
    "1, 11, 21, 1211, 111221, 312211, 13112221, ...  \n",
    "첫째 항은 1이다.  \n",
    "1은 1개의 1이므로 둘째 항은 11이다.  \n",
    "11은 2개의 1이므로 셋째 항은 21이다.  \n",
    "21은 1개의 2와 1개의 1이므로 넷째 항은 1211이다.  \n",
    "1211은 1개의 1과 1개의 2, 2개의 1이므로 다섯째 항은 111221이다.  \n",
    "읽고 말하기 수열의 항목을 생성하는 제너레이터 `look_and_say()`를 정의하고, 처음 10개의 항목을 출력하라."
   ]
  },
  {
   "cell_type": "markdown",
   "id": "83c45777-6bf9-410f-b5a5-985f0992a197",
   "metadata": {},
   "source": []
  }
 ],
 "metadata": {
  "kernelspec": {
   "display_name": "Python 3 (ipykernel)",
   "language": "python",
   "name": "python3"
  },
  "language_info": {
   "codemirror_mode": {
    "name": "ipython",
    "version": 3
   },
   "file_extension": ".py",
   "mimetype": "text/x-python",
   "name": "python",
   "nbconvert_exporter": "python",
   "pygments_lexer": "ipython3",
   "version": "3.8.10"
  },
  "toc-autonumbering": true
 },
 "nbformat": 4,
 "nbformat_minor": 5
}
