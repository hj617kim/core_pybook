{
 "cells": [
  {
   "cell_type": "markdown",
   "id": "b601dfd7-cb35-42c6-8e0a-880d6a94ba0c",
   "metadata": {},
   "source": [
    "# 최단경로 문제"
   ]
  },
  {
   "cell_type": "markdown",
   "id": "b2a4df94-5584-4ca0-afeb-58e4a09fb3b9",
   "metadata": {},
   "source": [
    "집에서 학교로 가는 최단경로<font size=\"2\">shortest path</font>의 길이를 구하여라. \n",
    "\n",
    "<div align=\"center\"><img src=\"https://raw.githubusercontent.com/hj617kim/core_pybook/master/images/ch14/sp_01.png\" style=\"width:500px;\"></div>\n"
   ]
  },
  {
   "cell_type": "markdown",
   "id": "e08350d1-066c-4624-b86c-3c4a8d6217e2",
   "metadata": {},
   "source": [
    "## 그래프"
   ]
  },
  {
   "cell_type": "markdown",
   "id": "16238ae3-3fda-40b5-8f19-263fb89fd051",
   "metadata": {},
   "source": [
    "그래프<font size=\"2\">graph</font>는 정점<font size=\"2\">vertex 또는 마디node</font>과 이음선<font size=\"2\">edge</font>으로 구성된 것을 말한다. 그래프 관련 용어는 아래와 같다.  \n",
    "\n",
    "* 정점<font size=\"2\">vertex 또는 마디node</font> \n",
    "* 이음선<font size=\"2\">edge</font>\n",
    "* 방향 그래프<font size=\"2\">directed graph</font> : 이음선에 방향이 있는 그래프\n",
    "* 가중치<font size=\"2\">weight</font>\n",
    "* 가중치 포함 그래프<font size=\"2\">weighted graph</font>\n",
    "* 경로<font size=\"2\">path</font> : 이음선으로 연결된 마디들의 나열. 즉, 하나의 마디에서 다른 마디로 가는 이음선의 연결.\n",
    "* 단순경로<font size=\"2\">simple path</font> : 같은 마디를 두 번 지나지 않는 경로 \n",
    "* 경로의 길이<font size=\"2\">length</font> :  \n",
    "   * 가중치  포함 그래프의 경우 : 경로 상에 있는 가중치의 합\n",
    "   * 가중치 미포함 그래프의 경우 : 경로 상에 있는 이음선의 수   \n",
    "   \n",
    "아래는 방향 그래프와 가중치 포함 그래프이다. \n",
    "<div align=\"center\">\n",
    "    <img src=\"https://raw.githubusercontent.com/hj617kim/core_pybook/master/images/ch14/sp_02.png\" style=\"width:350px;\">\n",
    "    <img src=\"https://raw.githubusercontent.com/hj617kim/core_pybook/master/images/ch14/sp_03.png\" style=\"width:300px;\">\n",
    "</div>\n"
   ]
  },
  {
   "cell_type": "markdown",
   "id": "ae0741b8-a8f9-474b-afa7-2dfaf3c166d3",
   "metadata": {},
   "source": [
    ":::{admonition} 쾨니히스베르크의 다리 문제  \n",
    ":class: info    \n",
    "쾨니히스베르크에는 프레겔 강이 흐르고, 두 개의 큰 섬이 있다. 그리고 아래와 같이 두 섬과 나머지를 연결하는 7개의 다리가 있다.  \n",
    "<div align=\"center\"><img src=\"https://upload.wikimedia.org/wikipedia/commons/5/5d/Konigsberg_bridges.png\" style=\"width:300px;\"></div>\n",
    "\n",
    "쾨니히스베르크의 다리 문제는 위의 7개의 다리들을 한 번씩만 건너서 처음의 위치로 돌아올 수 있는가이다. 수학자 오일러는 이 문제를 해결하기 위하여 그래프를 도입하였고, 이것이 불가능하다는 것을 증명하였다.  \n",
    ":::\n"
   ]
  },
  {
   "cell_type": "markdown",
   "id": "f3ec1500-c265-4093-947d-fc23bcae12b7",
   "metadata": {},
   "source": [
    "## 최단경로 문제  \n",
    "\n",
    "위의 문제는 하나의 점<font size=\"2\">마디node</font>에서 다른 점<font size=\"2\">마디node</font>로 가는 최단경로를 구하는 문제이다. 이때 이음선의 가중치와 방향을 함께 고려해야 한다. 이때의 최단경로는 단순경로로 찾으면 된다.   \n",
    "\n",
    "**응용 사례**  \n",
    "* 도시 간의 최단경로 \n",
    "* 다구간 비행기표 여정 \n",
    "* 지도앱에서 경유 추가  "
   ]
  },
  {
   "cell_type": "markdown",
   "id": "8bea93c3-6b09-47a8-bda7-faf308ba191c",
   "metadata": {},
   "source": [
    "위의 가중치 포함 방향 그래프에서 v1에서 v3로 가는 단순경로와 길이는 다음 여섯 종류이다.   \n",
    "\n",
    "* v1 → v2 → v3            : 경로 길이는 1 + 4 = 5 \n",
    "* v1 → v2 → v4 → v3       : 경로 길이는 1 + 1 + 2 = 4\n",
    "* v1 → v2 → v5 → v4 → v3  : 경로 길이는 1 + 2 + 7 + 2 = 12\n",
    "* v1 → v5 → v2 → v3       : 경로 길이는 3 + 9 + 4 = 16\n",
    "* v1 → v5 → v2 → v4 → v3  : 경로 길이는 3 + 9 + 1 + 2 = 15\n",
    "* v1 → v5 → v4 → v3       : 경로 길이는 3 + 7 + 2 = 12  \n",
    "\n",
    "이 중에서 v1 → v2 → v4 → v3 가 v1에서 v3로 가는 최단경로이다. "
   ]
  },
  {
   "cell_type": "markdown",
   "id": "377db747-719b-4bc1-8063-b483b09eac22",
   "metadata": {},
   "source": [
    "## 다익스트라 알고리즘"
   ]
  },
  {
   "cell_type": "markdown",
   "id": "65ad87e2-3fff-4d7c-b37f-92dd8afcf3ae",
   "metadata": {},
   "source": [
    "다익스트라<font size=\"2\">또는 데이크스트라 Dijkstra</font> 알고리즘은 하나의 노드에서 다른 노드로 가는 가장 짧은 경로를 찾는 알고리즘으로, Dijkstra가 고안했다.  \n",
    "\n",
    "다익스트라 알고리즘은 초깃값을 부여하고, 단계를 거듭하며 값을 개선시키는 방법이다. 아래 문제와 함께 다익스트라 알고리즘을 살펴보자. 시작 노드는 1이다.   \n",
    "<div align=\"center\">\n",
    "    <img src=\"https://raw.githubusercontent.com/hj617kim/core_pybook/master/images/ch14/sp_03.png\" style=\"width:350px;\">\n",
    "</div>\n",
    "\n",
    "1. 시작 노드의 경로 길이는 0으로, 다른 노드는 무한대로 초기화한다.  \n",
    "\n",
    "|노드|v1|v2|v3|v4|v5|\n",
    "|:---:|:---:|:---:|:---:|:---:|:---:|\n",
    "|경로의 길이|0|inf|inf|inf|inf|\n",
    "\n",
    "방문하지 않은 노드 중에서 경로의 길이가 가장 짧은 노드를 선택한다. 여기서는 v1이다.  \n",
    "\n",
    "2. v1를 거쳐 다른 노드로 가는 경로를 계산하여, 현재 값보다 작으면 값을 변경한다. 여기서는 v2와 v5가 v1과 연결되어 있다.   \n",
    "\n",
    "|노드|v1|v2|v3|v4|v5|\n",
    "|:---:|:---:|:---:|:---:|:---:|:---:|\n",
    "|경로의 길이|0|1|inf|inf|3|\n",
    "\n",
    "방문하지 않은 노드 중에서 경로의 길이가 가장 짧은 노드를 선택한다. 여기서는 v2이다.  \n",
    "  \n",
    "3. v2를 거쳐 다른 노드로 가는 경로를 계산하여, 현재 값보다 작으면 값을 변경한다. 여기서는 v2와 연결된 v3, v4, v5를 살펴보면 된다. v1은 방문한 노드이다. \n",
    "\n",
    "* v1 → v2 → v3 하면 1 + 4이고, 이는 inf 보다 작다.  \n",
    "* v1 → v2 → v4 하면 1 + 1이고, 이는 inf 보다 작다. \n",
    "* v1 → v2 → v5 하면 1 + 2이고, 이는 3보다 작지 않다. \n",
    "\n",
    "|노드|v1|v2|v3|v4|v5|\n",
    "|:---:|:---:|:---:|:---:|:---:|:---:|\n",
    "|경로의 길이|0|1|5|2|3|\n",
    "\n",
    "방문하지 않은 노드 중에서 경로의 길이가 가장 짧은 노드를 선택한다. 여기서는 v4이다. 참고로, v1과 v2는 이미 방문한 노드이다.  \n",
    "\n",
    "4. v4를 거쳐 다른 노드로 가는 경로를 계산하여, 현재 값보다 작으면 값을 변경한다. 여기서는 v4와 연결된 v3를 살펴보면 된다. v2는 방문한 노드다. \n",
    "* v1 → v2 → v4 → v3 하면 1 + 1 + 2이고, 이는 5보다 작다. \n",
    "\n",
    "|노드|v1|v2|v3|v4|v5|\n",
    "|:---:|:---:|:---:|:---:|:---:|:---:|\n",
    "|경로의 길이|0|1|4|2|3|\n",
    "\n",
    "방문하지 않은 노드 중에서 경로의 길이가 가장 짧은 노드를 선택한다. 여기서는 v5이다. 참고로, v1과 v2, v4는 이미 방문한 노드이다.   \n",
    "\n",
    "5. v5를 거쳐 다른 노드로 가는 경로를 계산하여, 현재 값보다 작으면 값을 변경한다. v5와 연결된 노드는 모두 방문한 노드다.   \n",
    "\n",
    "6. 마지막으로 남은 노드는 v3이다. 따라서, v1에서 v3로 가는 최단경로의 길이는 4이다.   \n",
    "  \n",
    "  \n",
    "다익스트라 알고리즘을 정리하면 다음과 같다.  \n",
    "\n",
    "* 시작 노드의 경로 길이는 0으로, 다른 노드는 무한대로 초기화한다.  \n",
    "* 방문하지 않은 노드 중에서 경로의 길이가 가장 짧은 노드를 선택한다. \n",
    "* 위에서 선택한 노드를 거쳐 다른 노드로 가는 비용을 계산한 다음, 현재 값과 비교하여 작은 값을 경로의 길이로 둔다. \n",
    "* 방문하지 않은 노드 중에서 경로의 길이가 가장 짧은 노드를 선택할 때, 그것이 도착 노드가 될 때까지 위의 두 과정을 반복한다.   "
   ]
  },
  {
   "cell_type": "markdown",
   "id": "84ee43ee-739a-4cb3-bb49-4fc83ece965a",
   "metadata": {},
   "source": [
    "이제 그래프와 노드의 개수, 시작 노드, 도착 노드를 인자로 받아 최단경로의 길이를 반환하는 `Dijkstra()` 함수를 정의하여라. 이때, 그래프는 아래와 같이 중첩된 리스트로 표현한다. 예를 들어, graph 리스트의 1번 인덱스 값 `[[2, 1], [5, 3]]`은 노드1에서 노드2로 가는 길이(또는 가중치)가 1이고, 노드1에서 노드5로 가는 길이가 3라는 의미다.   \n",
    "\n",
    "```python\n",
    ">>> graph = [[],[[2, 1], [5, 3]], [[1, 3], [3, 4], [4, 1], [5, 2]], [[4, 4]], [[2, 2], [3, 2]], [[2, 9], [4, 7]]]\n",
    ">>> print(Dijkstra(graph, 5, 1, 3))\n",
    "4\n",
    "```"
   ]
  },
  {
   "cell_type": "code",
   "execution_count": 38,
   "id": "e0d6f0e0-09fc-4e64-90d2-34e58d4e3426",
   "metadata": {},
   "outputs": [],
   "source": [
    "from math import inf\n",
    "\n",
    "def Dijkstra(graph, n_nodes, start, target) :\n",
    "    #노드의 방문 정보를 담은 리스트 \n",
    "    nodes = [False] * (n_nodes + 1)\n",
    "    \n",
    "    #경로 길이를 담은 리스트\n",
    "    dst = [inf] * (n_nodes + 1)\n",
    "\n",
    "    \n",
    "    #방문하지 않은 노드 중에서 경로의 길이가 가장 짧은 노드를 반환하는 함수-순차탐색\n",
    "    def get_smallest_node():\n",
    "        min_value = inf\n",
    "        for i in range(1, n_nodes + 1) :\n",
    "            if not nodes[i] and dst[i] < min_value :\n",
    "                min_value = dst[i]\n",
    "                idx = i\n",
    "        return idx\n",
    "    \n",
    "    #시작 노드 경로 길이 0, 방문 정보 True\n",
    "    dst[start] = 0\n",
    "    nodes[start] = True\n",
    "    \n",
    "    \n",
    "    #시작 노드를 거쳐 경우, 경로의 길이 갱신\n",
    "    for e in graph[start] :\n",
    "        dst[e[0]] = e[1]\n",
    "    \n",
    "    # 방문하지 않은 노드 중에서 경로의 길이가 가장 짧은 노드를 찾아 위의 과정 반복\n",
    "    for i in range(n_nodes - 1) :\n",
    "        sm_node = get_smallest_node()\n",
    "        nodes[sm_node] = True\n",
    "        \n",
    "        # 찾은 노드가 targe이면, 더 이상 반복하지 않아도 됨\n",
    "        if sm_node == target :\n",
    "            return dst[target]\n",
    "        \n",
    "        for e in graph[sm_node] :\n",
    "            if dst[sm_node] + e[1] < dst[e[0]] :\n",
    "                dst[e[0]] = dst[sm_node] + e[1]\n",
    "                \n",
    "    return dst[target]"
   ]
  },
  {
   "cell_type": "code",
   "execution_count": 39,
   "id": "b1fd79c6-94e6-4225-85c4-698122864f41",
   "metadata": {},
   "outputs": [
    {
     "name": "stdout",
     "output_type": "stream",
     "text": [
      "4\n"
     ]
    }
   ],
   "source": [
    "graph = [[],[[2, 1], [5, 3]], [[1, 3], [3, 4], [4, 1], [5, 2]], [[4, 4]], [[2, 2], [3, 2]], [[2, 9], [4, 7]]]\n",
    "print(Dijkstra(graph, 5, 1, 3)) "
   ]
  },
  {
   "cell_type": "markdown",
   "id": "93aa501a-3300-4a36-a840-6505df7a5723",
   "metadata": {},
   "source": [
    ":::{admonition} 주의  \n",
    ":class: caution  \n",
    "다익스트라 알고리즘은 가중치가 음수가 아닐 때 사용한다. \n",
    ":::\n"
   ]
  },
  {
   "cell_type": "markdown",
   "id": "524f08a0-4015-4735-bede-8470114e132d",
   "metadata": {},
   "source": [
    "## 우선순위 큐"
   ]
  },
  {
   "cell_type": "markdown",
   "id": "7f3c1907-8913-4d09-89a7-a2d2ea90a25c",
   "metadata": {},
   "source": [
    "우선순위 큐<font size=\"2\">Priority Queue</font>는 우선순위가 높은 항목을 먼저 꺼내는 자료형이다. 파이썬에서는 `queue` 모듈의 `PriorityQueue`클래스를 이용하여 우선순위 큐를 사용할 수 있고, 가장 낮은 항목을 먼저 꺼낸다.  "
   ]
  },
  {
   "cell_type": "markdown",
   "id": "13ed1af5-86d7-483b-a266-15af25098c0e",
   "metadata": {},
   "source": [
    ":::{admonition} 참고  \n",
    ":class: info  \n",
    "스택 : 선입후출<font size=\"2\">Last In First Out, LIFO</font>  \n",
    "큐 : 선입선출<font size=\"2\">First In First Out, FIFO</font>  \n",
    ":::\n"
   ]
  },
  {
   "cell_type": "markdown",
   "id": "50c542fe-02b9-4a9f-86db-b09c6b883fd3",
   "metadata": {},
   "source": [
    "우선순위 큐에 항목을 추가할 때는 `put()` 메서드를 이용하며, 항목을 꺼낼 때는 `get()` 메서드를 이용한다. "
   ]
  },
  {
   "cell_type": "code",
   "execution_count": 52,
   "id": "d3f776a3-1d08-414a-ae85-9480fd192665",
   "metadata": {},
   "outputs": [
    {
     "name": "stdout",
     "output_type": "stream",
     "text": [
      "1\n",
      "3\n",
      "4\n",
      "5\n"
     ]
    }
   ],
   "source": [
    "from queue import PriorityQueue\n",
    "\n",
    "pque1 = PriorityQueue()\n",
    "pque1.put(3)\n",
    "pque1.put(5)\n",
    "pque1.put(1)\n",
    "pque1.put(4)\n",
    "\n",
    "print(pque1.get())\n",
    "print(pque1.get())\n",
    "print(pque1.get())\n",
    "print(pque1.get())"
   ]
  },
  {
   "cell_type": "markdown",
   "id": "2dc908ea-f6b6-4fab-b6df-bc66db675ef9",
   "metadata": {},
   "source": [
    "항목이 추가된 순서와 상관없이 우선순위가 높은 항목, 여기서는 값이 작은 항목부터 반환되는 것을 볼 수 있다.   \n",
    "  \n",
    "우선순위 큐에 항목을 추가할 때, 우선순위와 항목을 함께 지정할 수도 있다. 형식은 `(우선순위, 항목)`이다.  "
   ]
  },
  {
   "cell_type": "code",
   "execution_count": 53,
   "id": "e6820ac7-a533-4306-891d-a9cb8704f087",
   "metadata": {},
   "outputs": [
    {
     "name": "stdout",
     "output_type": "stream",
     "text": [
      "(0, 3)\n",
      "(1, 1)\n",
      "(2, 5)\n",
      "(7, 2)\n"
     ]
    }
   ],
   "source": [
    "pque2 = PriorityQueue()\n",
    "pque2.put((0, 3))\n",
    "pque2.put((7, 2))\n",
    "pque2.put((2, 5))\n",
    "pque2.put((1, 1))\n",
    "\n",
    "print(pque2.get())\n",
    "print(pque2.get())\n",
    "print(pque2.get())\n",
    "print(pque2.get())"
   ]
  },
  {
   "cell_type": "markdown",
   "id": "2d1f9a8b-ef7b-489e-ae80-f61cba608e4b",
   "metadata": {},
   "source": [
    "그러면, 첫 번째 항목의 값이 작은(또는 우선순위가 높은) 항목부터 반환되는 것을 볼 수 있다. "
   ]
  },
  {
   "cell_type": "markdown",
   "id": "dbe6894b-5acb-433e-883c-71febcae3b52",
   "metadata": {},
   "source": [
    "위의 다익스트라 `Dijkstra()`함수 정의에서 방문하지 않은 노드 중에서 경로의 길이가 가장 짧은 노드를 찾을 때, 순차탐색을 사용하였다. 순차탐색은 원하는 항목을 찾을 수 있다는 장점이 있지만 느리다. 우리는 순차탐색 대신 우선순위 큐를 사용할 수 있다. "
   ]
  },
  {
   "cell_type": "code",
   "execution_count": 1,
   "id": "aa294265-35e5-4ca1-b7a9-c90235b008aa",
   "metadata": {},
   "outputs": [],
   "source": [
    "from math import inf\n",
    "from queue import PriorityQueue\n",
    "\n",
    "def Dijkstra1(graph, n_nodes, start, target) :\n",
    "\n",
    "    #경로 길이를 담은 리스트\n",
    "    dst = [inf] * (n_nodes + 1)\n",
    "\n",
    "    pque = PriorityQueue()\n",
    "    pque.put((0, start))\n",
    "    dst[start] = 0\n",
    "    \n",
    "    while not pque.empty() :\n",
    "        d, sm_node = pque.get()\n",
    "        if dst[sm_node] < d :\n",
    "            continue\n",
    "        for e in graph[sm_node] :\n",
    "            if dst[sm_node] + e[1] < dst[e[0]] :\n",
    "                dst[e[0]] = dst[sm_node] + e[1]\n",
    "                pque.put((dst[e[0]], e[0]))\n",
    "                \n",
    "    return dst[target]"
   ]
  },
  {
   "cell_type": "code",
   "execution_count": 2,
   "id": "a742bf0b-7ee0-4b25-bc4a-90ad5a4de621",
   "metadata": {},
   "outputs": [
    {
     "name": "stdout",
     "output_type": "stream",
     "text": [
      "4\n"
     ]
    }
   ],
   "source": [
    "graph = [[],[[2, 1], [5, 3]], [[1, 3], [3, 4], [4, 1], [5, 2]], [[4, 4]], [[2, 2], [3, 2]], [[2, 9], [4, 7]]]\n",
    "print(Dijkstra1(graph, 5, 1, 3)) "
   ]
  },
  {
   "cell_type": "markdown",
   "id": "249b875b-55d4-43f4-b795-f4904984784e",
   "metadata": {},
   "source": [
    "## 연습 문제"
   ]
  },
  {
   "cell_type": "code",
   "execution_count": null,
   "id": "b06176ab-b026-469d-8987-300f3f9ade41",
   "metadata": {},
   "outputs": [],
   "source": []
  }
 ],
 "metadata": {
  "kernelspec": {
   "display_name": "Python 3 (ipykernel)",
   "language": "python",
   "name": "python3"
  },
  "language_info": {
   "codemirror_mode": {
    "name": "ipython",
    "version": 3
   },
   "file_extension": ".py",
   "mimetype": "text/x-python",
   "name": "python",
   "nbconvert_exporter": "python",
   "pygments_lexer": "ipython3",
   "version": "3.8.10"
  },
  "toc-autonumbering": true
 },
 "nbformat": 4,
 "nbformat_minor": 5
}
