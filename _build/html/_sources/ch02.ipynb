{
 "cells": [
  {
   "cell_type": "markdown",
   "id": "38364219-d365-4c59-98db-dc2a90ab5f5f",
   "metadata": {},
   "source": [
    "# 파이썬 프로그래밍 개발 환경"
   ]
  },
  {
   "cell_type": "markdown",
   "id": "15146a53-1bc4-41d2-8203-734d1521c854",
   "metadata": {},
   "source": [
    "파이썬 프로그래밍을 하려면 개발환경을 준비해야 한다. 파이썬을 아직 설치하지 않았다면, 데이터 분석에 필요한 라이브러리가 포함되어 있는 아나콘다<font size = \"2\">Anaconda</font>를 설치하는 것도 좋다. 다음 중 하나의 방법을 선택하여 개발 환경을 구축하자.  \n",
    "\n",
    "* 아나콘다 설치 → 스파이더 사용\n",
    "* 아나콘다 설치 → 주피터 노트북 사용\n",
    "* 아나콘다 & vs code 설치 → vs code 사용\n",
    "\n",
    "별도의 프로그램 설치 없이 파이썬을 사용하는 방법도 있다. \n",
    "\n",
    "* Repl.it 사용\n",
    "* 구글 코랩 사용"
   ]
  },
  {
   "cell_type": "markdown",
   "id": "e252c0ca-2983-4bd3-b8af-2a2dc8b21d1a",
   "metadata": {},
   "source": [
    "::::{admonition} 참고  \n",
    ":class: info\n",
    "\n",
    "**통합 개발 환경**<font size = \"2\">Integrated Development Environment, IDE</font>  \n",
    "통합 개발 환경은 코딩, 디버그, 컴파일 등 프로그램 개발과 관련된 작업을 하나의 프로그램으로 처리하는 소프트웨어이다. \n",
    "::::"
   ]
  },
  {
   "cell_type": "markdown",
   "id": "197067dd-aa83-409f-99da-5741ecaa75ab",
   "metadata": {},
   "source": [
    "## 아나콘다 <font size = \"2\">Anaconda</font> 설치"
   ]
  },
  {
   "cell_type": "markdown",
   "id": "9f1b4e10-c00e-4a75-b18c-9d56216d8371",
   "metadata": {},
   "source": [
    "아나콘다를 설치하려면 먼저 설치 프로그램을 다운로드해야 한다. "
   ]
  },
  {
   "cell_type": "markdown",
   "id": "9513e009-ca5f-4359-9c34-dc028e02d122",
   "metadata": {},
   "source": [
    "* 아나콘다 사이트 <font size = \"2\">https://www.anaconda.com/products/individual</font> 에 접속한다.  \n",
    "그리고 화면 오른쪽에 있는 Download 버튼을 눌러 아나콘다 설치 프로그램을 다운로드한다. "
   ]
  },
  {
   "cell_type": "markdown",
   "id": "7099548a-98f1-4081-9bfc-af945fbe2d3a",
   "metadata": {},
   "source": [
    "<div align=\"center\">\n",
    "    <img src=\"https://raw.githubusercontent.com/hj617kim/pybook/master/images/ch02/anaconda01.png\" style=\"width:800px;\">\n",
    "</div>"
   ]
  },
  {
   "cell_type": "markdown",
   "id": "c7bf59f9-41c6-460e-a108-5107866a62f4",
   "metadata": {},
   "source": [
    "::::{admonition} 참고  \n",
    ":class: info\n",
    "\n",
    "아나콘다 사이트에 접속하면, 접속자의 운영체제를 확인하여 설치 가능한 파이썬 최신 버전을 보여준다. 이 글을 작성하는 시점에는 파이썬 3.9가 최신 버전이다. \n",
    "::::"
   ]
  },
  {
   "cell_type": "markdown",
   "id": "4c7ba76a-f91b-4715-b1ce-64b421faab29",
   "metadata": {},
   "source": [
    "* 다운로드한 Anaconda3-Window_64.exe 실행파일을 더블 클릭하여 설치를 시작한다. 설치화면이 아래와 같이 나오면 Next 버튼을 눌러서 다음 화면으로 넘어간다."
   ]
  },
  {
   "cell_type": "markdown",
   "id": "5bd92bdb-5ea7-46f6-94f4-6fc9b327c70b",
   "metadata": {},
   "source": [
    "<div align=\"center\">\n",
    "    <img src=\"https://raw.githubusercontent.com/hj617kim/pybook/master/images/ch02/anaconda02.png\" style=\"width:400px;\">\n",
    "</div>"
   ]
  },
  {
   "cell_type": "markdown",
   "id": "bac84c02-0428-4ea5-b1d8-ca0c63347a14",
   "metadata": {},
   "source": [
    "* 약관이 나타나면, 동의하는 I Agree 버튼을 눌러 다음 화면으로 넘어간다. "
   ]
  },
  {
   "cell_type": "markdown",
   "id": "dde4ba9f-84de-43b2-b77e-83fea0891268",
   "metadata": {},
   "source": [
    "<div align=\"center\">\n",
    "    <img src=\"https://raw.githubusercontent.com/hj617kim/pybook/master/images/ch02/anaconda03.png\" style=\"width:400px;\">\n",
    "</div>"
   ]
  },
  {
   "cell_type": "markdown",
   "id": "3a88fded-d709-4e15-8cb2-91ad4c41814c",
   "metadata": {},
   "source": [
    "* 사용자 환경에 따라 권한을 설정한 다음, Next 버튼을 눌러 다음 화면으로 넘어간다."
   ]
  },
  {
   "cell_type": "markdown",
   "id": "38e0da39-89f3-41a2-9c7d-a7a3276ca134",
   "metadata": {},
   "source": [
    "<div align=\"center\">\n",
    "    <img src=\"https://raw.githubusercontent.com/hj617kim/pybook/master/images/ch02/anaconda04.png\" style=\"width:400px;\">\n",
    "</div>"
   ]
  },
  {
   "cell_type": "markdown",
   "id": "56edfe8a-fdfb-4b87-a165-1db0002a4d50",
   "metadata": {},
   "source": [
    "* 설치 경로를 지정한 다음, Next 버튼을 눌러 다음 화면으로 넘어간다. "
   ]
  },
  {
   "cell_type": "markdown",
   "id": "24410c31-60b7-4d6c-b3aa-5bd77ab31c72",
   "metadata": {},
   "source": [
    "<div align=\"center\">\n",
    "    <img src=\"https://raw.githubusercontent.com/hj617kim/pybook/master/images/ch02/anaconda05.png\" style=\"width:400px;\">\n",
    "</div>"
   ]
  },
  {
   "cell_type": "markdown",
   "id": "15d6fb0b-515c-472c-9f5f-8c73a496cb2b",
   "metadata": {},
   "source": [
    "::::{admonition} 참고  \n",
    ":class: info\n",
    "\n",
    "특별한 경우가 아니라면, 기본 경로를 그대로 두고 다음으로 넘어가면 된다. \n",
    "::::"
   ]
  },
  {
   "cell_type": "markdown",
   "id": "f13f56d3-f989-458d-b501-3fb2a0a59508",
   "metadata": {},
   "source": [
    "* 아나콘다를 기본 파이썬으로 설정하고, Install 버튼을 눌러 설치를 진행한다. "
   ]
  },
  {
   "cell_type": "markdown",
   "id": "08d1071c-a8bc-457e-a71f-3838ff7bd92c",
   "metadata": {},
   "source": [
    "<div align=\"center\">\n",
    "    <img src=\"https://raw.githubusercontent.com/hj617kim/pybook/master/images/ch02/anaconda06.png\" style=\"width:400px;\">\n",
    "</div>"
   ]
  },
  {
   "cell_type": "markdown",
   "id": "ce36c507-4086-4b45-9036-e7d898638773",
   "metadata": {},
   "source": [
    "* 설치 시간은 보통 1~3분 정도 걸리며, 컴퓨터 환경에 따라 5분이상 소요되기도 한다. 설치 완료가 되면, Next를 눌러 다음 화면으로 넘어간다. "
   ]
  },
  {
   "cell_type": "markdown",
   "id": "9c69b00a-8d9d-4322-b5ae-5a126d075b13",
   "metadata": {},
   "source": [
    "<div align=\"center\">\n",
    "    <img src=\"https://raw.githubusercontent.com/hj617kim/pybook/master/images/ch02/anaconda08.png\" style=\"width:400px;\">\n",
    "</div>"
   ]
  },
  {
   "cell_type": "markdown",
   "id": "57addb70-acdc-4b15-86bd-d9a9b55d6c15",
   "metadata": {},
   "source": [
    "그 다음 화면도 Next 버튼을 누르면 된다. "
   ]
  },
  {
   "cell_type": "markdown",
   "id": "e63826d5-3017-45fc-b324-81bf08c41b69",
   "metadata": {},
   "source": [
    "<div align=\"center\">\n",
    "    <img src=\"https://raw.githubusercontent.com/hj617kim/pybook/master/images/ch02/anaconda09.png\" style=\"width:400px;\">\n",
    "</div>"
   ]
  },
  {
   "cell_type": "markdown",
   "id": "a3988588-9e8a-45da-be4d-142428336ea7",
   "metadata": {},
   "source": [
    "* Finish 버튼을 눌러 설치를 완료한다. "
   ]
  },
  {
   "cell_type": "markdown",
   "id": "1529df2b-d40a-4136-8b5e-a829d1c0bcca",
   "metadata": {},
   "source": [
    "<div align=\"center\">\n",
    "    <img src=\"https://raw.githubusercontent.com/hj617kim/pybook/master/images/ch02/anaconda10.png\" style=\"width:400px;\">\n",
    "</div>"
   ]
  },
  {
   "cell_type": "markdown",
   "id": "a944fb1e-92a8-4ead-a1f3-67e285aa7d04",
   "metadata": {},
   "source": [
    "### 스파이더 <font size = \"2\"> Spyder </font>"
   ]
  },
  {
   "cell_type": "markdown",
   "id": "da34c825-2628-4bdf-8784-25e37a6de561",
   "metadata": {},
   "source": [
    "스파이더는 과학프로그래밍을 위한 IDE로, 아나콘다를 설치하면 스파이더를 사용할 수 있다."
   ]
  },
  {
   "cell_type": "markdown",
   "id": "84a61b3c-b4c1-450c-9cd7-923a1a39bad8",
   "metadata": {},
   "source": [
    "* 윈도우키를 누른 후 스파이더를 선택한다. 시작까지 오랜 시간이 걸릴 수도 있다. "
   ]
  },
  {
   "cell_type": "markdown",
   "id": "41602592-99aa-4af9-93a5-562c3c474f41",
   "metadata": {},
   "source": [
    "<div align=\"center\">\n",
    "    <img src=\"https://raw.githubusercontent.com/hj617kim/pybook/master/images/ch02/spyder01.png\" style=\"width:400px;\">\n",
    "</div>"
   ]
  },
  {
   "cell_type": "markdown",
   "id": "9fb7533a-ea30-4434-b3a7-dc6cc8d10818",
   "metadata": {},
   "source": [
    "* 스파이더는 편집기 기능과 터미널 기능을 동시에 제공한다. 아래 화면에서 왼쪽이 편집기 부분(빨간색)이고, 오른쪽 아래가 터미널 부분(녹색)이다. 편집기 부분은 긴 코드를 작성할 때 사용하고, 터미널 부분은 짧은 코드를 테스트할 때 사용한다. "
   ]
  },
  {
   "cell_type": "markdown",
   "id": "9e4c9ebc-d57a-44b7-a49b-7d7846474b59",
   "metadata": {},
   "source": [
    "<div align=\"center\">\n",
    "    <img src=\"https://raw.githubusercontent.com/hj617kim/pybook/master/images/ch02/spyder05.png\" style=\"width:800px;\">\n",
    "</div>"
   ]
  },
  {
   "cell_type": "markdown",
   "id": "22911e03-3121-46f6-bb00-7a05108156da",
   "metadata": {},
   "source": [
    "편집기에 `print('Hello, world')`라고 코드를 작성한 다음 실행 버튼(노란색)<font size = \"2\">또는 F5</font>을 눌러보자. \n",
    "실행 버튼을 처음 누르면 아래와 같이 파이썬 인터프리터와 관련된 설정창이 뜬다. 설정 변경 없이 Run 버튼을 누르면 된다. 그러면 터미널에 `Hello, world`가 출력되는 것을 볼 수 있다."
   ]
  },
  {
   "cell_type": "markdown",
   "id": "ca93d339-b440-417d-a88f-cd19b05536d3",
   "metadata": {},
   "source": [
    "<div align=\"center\">\n",
    "    <img src=\"https://raw.githubusercontent.com/hj617kim/pybook/master/images/ch02/spyder03.png\" style=\"width:400px;\">\n",
    "</div>"
   ]
  },
  {
   "cell_type": "markdown",
   "id": "c83d6e14-cf7c-4774-beef-4f528e9720ba",
   "metadata": {},
   "source": [
    " 편집기 부분과 터미널 부분은 파이썬 인터프리터를 공유한다. 그래서 편집기 부분에 코드를 입력 후 실행하면, 터미널 부분에서도 편집기 부분에서 정의된 변수나 함수 등을 사용할 수 있다. "
   ]
  },
  {
   "cell_type": "markdown",
   "id": "76e6ad38-f6c5-4cc0-bf6d-a251d8f0b020",
   "metadata": {},
   "source": [
    ":::{admonition} 주의   \n",
    ":class: caution  \n",
    "터미널 부분에서 정의된 변수나 함수 등도 편집기에서 사용할 수 있다. 하지만 편집기 부분을 저장할 때 터미널 부분에 정의된 코드는 저장되지 않는다. \n",
    "\n",
    ":::"
   ]
  },
  {
   "cell_type": "markdown",
   "id": "192b9457-ece5-44fa-b16a-607b4f245717",
   "metadata": {},
   "source": [
    "### 주피터 노트북 <font size = \"2\">Jupyter Notebook</font>"
   ]
  },
  {
   "cell_type": "markdown",
   "id": "30f28225-9a63-4ea7-bca8-7896c73a6f7b",
   "metadata": {},
   "source": [
    "주피터 노트북은 대화형 파이썬 인터프리터로, 웹브라우저에서 파이썬 코드를 작성하고 실행 결과를 바로 확인할 수 있다. 아나콘다를 설치하면 주피터 노트북을 사용할 수 있다. "
   ]
  },
  {
   "cell_type": "markdown",
   "id": "cfe26c04-288e-456b-b1b4-f787c93287e3",
   "metadata": {},
   "source": [
    "* 윈도우 키를 누른 후 주피터 노트북을 선택한다.  "
   ]
  },
  {
   "cell_type": "markdown",
   "id": "b75b79d9-37ac-40dd-ba2e-b56b0c754231",
   "metadata": {},
   "source": [
    "<div align=\"center\">\n",
    "    <img src=\"https://raw.githubusercontent.com/hj617kim/pybook/master/images/ch02/jupyter01.png\" style=\"width:400px;\">\n",
    "</div>"
   ]
  },
  {
   "cell_type": "markdown",
   "id": "bfa7bcca-d2d3-4b76-a62a-f0241a0add85",
   "metadata": {},
   "source": [
    "'이 파일을 열 때 사용할 앱을 선택하세요.'라는 문구가 나온다면 사용하는 브라우저(예, Google Chrome 또는 Microsoft Edge 등)를 선택하면 된다. 그러면 주피터 노트북이 실행된다. "
   ]
  },
  {
   "cell_type": "markdown",
   "id": "078c3c47-a3fe-486f-bda5-65a275436ae0",
   "metadata": {},
   "source": [
    "* 아래 화면에서 오른쪽 위에 있는 New를 선택한 다음 Python 3를 선택하여 새로운 파이썬 파일을 만들자."
   ]
  },
  {
   "cell_type": "markdown",
   "id": "f085d8b1-94e5-4f72-8874-1a5ab3405bbf",
   "metadata": {},
   "source": [
    "<div align=\"center\">\n",
    "    <img src=\"https://raw.githubusercontent.com/hj617kim/pybook/master/images/ch02/jupyter04.png\" style=\"width:800px;\">\n",
    "</div>"
   ]
  },
  {
   "cell_type": "markdown",
   "id": "95a08f95-4a4e-41d1-a348-7d6fe659ac80",
   "metadata": {},
   "source": [
    "* 새로운 파이썬 파일은 아래 화면과 같다. 코드셀(빨간색)에 `print('Hello, world')`라고 코드를 작성한 다음 실행버튼(노란색)<font size = \"2\">또는 shift+enter나 ctrl+enter</font>를 누르면, 코드셀 바로 아래(녹색) `Hello, world`가 출력되는 것을 볼 수 있다. "
   ]
  },
  {
   "cell_type": "markdown",
   "id": "c246727d-b49b-4484-b2cc-4af161177386",
   "metadata": {},
   "source": [
    "<div align=\"center\">\n",
    "    <img src=\"https://raw.githubusercontent.com/hj617kim/pybook/master/images/ch02/jupyter06.png\" style=\"width:800px;\">\n",
    "</div>"
   ]
  },
  {
   "cell_type": "markdown",
   "id": "9ecfc1fb-d484-4808-b767-a08b4bc00e3c",
   "metadata": {},
   "source": [
    "### 비주얼 스튜디오 코드 <font size = \"2\">Visual Studio Code, vs code</font>"
   ]
  },
  {
   "cell_type": "markdown",
   "id": "34eebd9e-f710-438c-a871-405cd094e581",
   "metadata": {},
   "source": [
    "vs code는 마이크로소프트에서 만든 소스 코드 에디터<font size = \"2\">Editor</font>로 다양한 프로그래밍 언어를 지원하며 대부분의 OS에서 실행된다. 에디터는 들여쓰기나 코드 자동 완성, 문법 오류 감지 등 개발할 때 편리한 기능을 제공하기 때문에 개발 속도를 높이는 데 도움을 줄 수 있다.  "
   ]
  },
  {
   "cell_type": "markdown",
   "id": "f0e0a24c-c7bc-4bb6-af76-063fd0fc16a6",
   "metadata": {},
   "source": [
    "vs code를 설치하려면 먼저 설치 프로그램을 다운로드해야 한다.  \n",
    "* 비주얼 스튜디오 코드 https://code.visualstudio.com/ 에 접속한다. 그리고 화면 왼쪽에 있는 Download 버튼을 눌러 비주얼 스튜디오 코드 설치 프로그램을 다운로드한다. "
   ]
  },
  {
   "cell_type": "markdown",
   "id": "9b136314-65a2-4b8a-bfff-44cf8bd62268",
   "metadata": {},
   "source": [
    "<div align=\"center\">\n",
    "    <img src=\"https://raw.githubusercontent.com/hj617kim/pybook/master/images/ch02/vscode01.png\" style=\"width:800px;\">\n",
    "</div>"
   ]
  },
  {
   "cell_type": "markdown",
   "id": "afde0849-ef91-43eb-b806-c3dfe44c04f8",
   "metadata": {},
   "source": [
    ":::{admonition} 참고   \n",
    ":class: info  \n",
    "비주얼 스튜디오 코드 사이트에 접속하면, 접속자의 운영체제를 확인하여 설치 가능한 버전을 보여준다. \n",
    ":::"
   ]
  },
  {
   "cell_type": "markdown",
   "id": "a6c2d663-97a1-4e71-829b-71c3fdb37220",
   "metadata": {},
   "source": [
    "* 다운로드한 VSCodeUserSetup.exe 실행파일을 더블 클릭하여 설치를 시작한다. 약관이 나타나면, 동의합니다를 선택하고, 다음을 눌러서 다음 화면으로 넘어간다.  \n",
    "\n",
    "* 설치 경로를 지정한 다음, 다음 버튼을 눌러 다음 화면으로 넘어간다.  "
   ]
  },
  {
   "cell_type": "markdown",
   "id": "7e9cd264-727b-4d1a-924b-8df687cce382",
   "metadata": {},
   "source": [
    "<div align=\"center\">\n",
    "    <img src=\"https://raw.githubusercontent.com/hj617kim/pybook/master/images/ch02/vscode02.png\" style=\"width:400px;\">\n",
    "    <img src=\"https://raw.githubusercontent.com/hj617kim/pybook/master/images/ch02/vscode03.png\" style=\"width:400px;\">\n",
    "</div>"
   ]
  },
  {
   "cell_type": "markdown",
   "id": "a70cd5ae-f52c-4cab-a001-e47e096e54e7",
   "metadata": {},
   "source": [
    ":::{admonition} 참고  \n",
    ":class: info  \n",
    "특별한 경우가 아니면, 기본 경로를 그대로 두고 다음으로 넘어가면 된다.  \n",
    ":::"
   ]
  },
  {
   "cell_type": "markdown",
   "id": "a647e232-53a7-4a67-8822-9a8348e1ea90",
   "metadata": {},
   "source": [
    "* 시작 메뉴에 비주얼 스튜디오 코드가 보이도록 하고 싶다면 다음을 누르고, 아니라면 시작 메뉴 폴더를 만들지 않음을 선택하고 다음을 눌러 다음으로 넘어가면 된다. \n",
    "\n",
    "* 추가로 필요한 작업이 있다면, 선택하고 다음을 눌러 다음 화면으로 넘어가면 된다. "
   ]
  },
  {
   "cell_type": "markdown",
   "id": "d20b41fd-ed17-41b6-b534-ebc1783099dd",
   "metadata": {},
   "source": [
    "<div align=\"center\">\n",
    "    <img src=\"https://raw.githubusercontent.com/hj617kim/pybook/master/images/ch02/vscode04.png\" style=\"width:400px;\">\n",
    "    <img src=\"https://raw.githubusercontent.com/hj617kim/pybook/master/images/ch02/vscode05.png\" style=\"width:400px;\">\n",
    "</div>"
   ]
  },
  {
   "cell_type": "markdown",
   "id": "225e9834-03ab-4843-b3d2-a9ae4d54ab66",
   "metadata": {},
   "source": [
    "* 아래 왼쪽 화면은 앞에서 선택한 항목들을 보여준다. 확인 후 설치를 눌러 설치를 진행한다.  \n",
    "\n",
    "* 설치 시간은 보통 1~3분 정도 걸리며, 컴퓨터 환경에 따라 5분이상 소요되기도 한다."
   ]
  },
  {
   "cell_type": "markdown",
   "id": "0e7ecf45-d173-4847-a663-9969dc66f846",
   "metadata": {},
   "source": [
    "<div align=\"center\">\n",
    "    <img src=\"https://raw.githubusercontent.com/hj617kim/pybook/master/images/ch02/vscode06.png\" style=\"width:400px;\">\n",
    "    <img src=\"https://raw.githubusercontent.com/hj617kim/pybook/master/images/ch02/vscode07.png\" style=\"width:400px;\">\n",
    "</div>"
   ]
  },
  {
   "cell_type": "markdown",
   "id": "6da5cb6d-3f75-4fc1-b2c8-fa71d0ec9625",
   "metadata": {},
   "source": [
    "* 종료 버튼을 눌러 설치를 완료한다. "
   ]
  },
  {
   "cell_type": "markdown",
   "id": "785c9839-9670-4752-ac45-1259ebf44dbc",
   "metadata": {},
   "source": [
    "<div align=\"center\">\n",
    "    <img src=\"https://raw.githubusercontent.com/hj617kim/pybook/master/images/ch02/vscode08.png\" style=\"width:400px;\">\n",
    "</div>"
   ]
  },
  {
   "cell_type": "markdown",
   "id": "887ac779-1a7a-4ef0-a857-b2c3a82ed2fa",
   "metadata": {},
   "source": [
    "* 이제 vs code를 실행해보자. 윈도우 키를 누른 후 visual studio code를 선택하면 된다.  \n",
    "\n",
    "* vs code에서 파이썬을 사용하기 위하여 확장<font size=\"2\">Extensions</font>을 설치해야 한다. 아래 화면 왼쪽 아래에 있는 확장 아이콘(빨간색)<font size = \"2\">또는 ctrl + shift + x </font>을 클릭한 다음, python을 검색(노란색)한다. 그리고 아래(녹색) python과 python for vs code를 install를 클릭하여 설치한다. "
   ]
  },
  {
   "cell_type": "markdown",
   "id": "b234f1a9-0e66-4840-bcf2-1155d5f4b8ff",
   "metadata": {},
   "source": [
    "<div align=\"center\">\n",
    "    <img src=\"https://raw.githubusercontent.com/hj617kim/pybook/master/images/ch02/vscode11.png\" style=\"width:800px;\">\n",
    "</div>"
   ]
  },
  {
   "cell_type": "markdown",
   "id": "583586dd-d3a3-4959-bff5-2b59b8afef81",
   "metadata": {},
   "source": [
    "* 그 다음 작업영역에 폴더를 추가해야 한다. 우선 원하는 위치에 폴더를 하나 만든다(예, 바탕화면에 python이라는 이름의 폴더 생성). 그 다음 vs code 메뉴 중 File 아래 Open Folder를 클릭한 다음, 생성한 폴더를 선택하여 연다.   "
   ]
  },
  {
   "cell_type": "markdown",
   "id": "e094331f-0b22-422e-8e52-815567fdc8db",
   "metadata": {},
   "source": [
    "<div align=\"center\">\n",
    "    <img src=\"https://raw.githubusercontent.com/hj617kim/pybook/master/images/ch02/vscode12.png\" style=\"width:800px;\">\n",
    "</div>"
   ]
  },
  {
   "cell_type": "markdown",
   "id": "4cde096b-656a-437c-8f17-9c896061972f",
   "metadata": {},
   "source": [
    "* 폴더명 옆에 마우스를 가져가면 파일을 추가할 수 있는 아이콘(빨간색)이 생긴다. 이 아이콘을 누른 다음, 아래 만들어지는 영역(노란색)에 파이썬 파일명과 확장자(.py)를 입력한다. 아래 화면에서는 1.py 파일을 만들었다.   "
   ]
  },
  {
   "cell_type": "markdown",
   "id": "6f0f837e-0ef4-4b3c-971a-825d115f383c",
   "metadata": {},
   "source": [
    "<div align=\"center\">\n",
    "    <img src=\"https://raw.githubusercontent.com/hj617kim/pybook/master/images/ch02/vscode13.png\" style=\"width:500px;\">\n",
    "</div>"
   ]
  },
  {
   "cell_type": "markdown",
   "id": "4d61783f-b8ec-4bd1-882a-01921d9a5e01",
   "metadata": {},
   "source": [
    "* 만든 파이썬 파일(1.py)은 아래 화면과 같다. 편집기(빨간색)에 `print('Hello, world')`라고 코드를 작성한 다음 ctrl + F5를 누르면, 아래 터미널에 `Hello, world`가 출력되는 것(노란색)을 볼 수 있다. "
   ]
  },
  {
   "cell_type": "markdown",
   "id": "446ce114-1f59-498a-aeaa-e1bf307cb451",
   "metadata": {},
   "source": [
    "<div align=\"center\">\n",
    "    <img src=\"https://raw.githubusercontent.com/hj617kim/pybook/master/images/ch02/vscode14.png\" style=\"width:800px;\">\n",
    "</div>"
   ]
  },
  {
   "cell_type": "markdown",
   "id": "f06c9426-a1a7-40cc-876e-b7003aea9c04",
   "metadata": {},
   "source": [
    ":::{admonition} 참고   \n",
    ":class: info   \n",
    "터미널에 `Hello, world`가 출력되지 않는다면, 파이썬 설치 경로가 제대로 입력되었는지 확인하자. vs code에서 ctrl + shift + p를 누르면 뜨는 창에 Python: Select Interpreter를 선택한다. 그 다음 열리는 창에 python이 설치된 경로를 적어준다. 보통은 설치 경로를 입력하는 창 아래에 파이썬 설치 경로를 보여준다.    \n",
    ":::"
   ]
  },
  {
   "cell_type": "markdown",
   "id": "629368a9-7f27-48fb-9215-37910fbe4592",
   "metadata": {},
   "source": [
    "## 레플릿 <font size = \"2\"> Repl.it </font>"
   ]
  },
  {
   "cell_type": "markdown",
   "id": "0a410d35-51d5-4368-ae68-ae436d4dbd4b",
   "metadata": {},
   "source": [
    "레플릿은 온라인 IDE로 별도의 프로그램 설치 없이 파이썬을 사용할 수 있다. 사용 방법은 간단하다. "
   ]
  },
  {
   "cell_type": "markdown",
   "id": "21cd6a99-03ad-469e-a7a5-e446bfb88c2c",
   "metadata": {},
   "source": [
    "* 레플릿 사이트(https://replit.com/)에 접속한다. 그리고 오른쪽 위의 Sign up을 눌러 회원가입을 하고, 로그인을 한다. "
   ]
  },
  {
   "cell_type": "markdown",
   "id": "0f3903bd-1001-48a6-bc3e-b40b1e8d8fb1",
   "metadata": {},
   "source": [
    "<div align=\"center\">\n",
    "    <img src=\"https://raw.githubusercontent.com/hj617kim/pybook/master/images/ch02/replit01.png\" style=\"width:800px;\">\n",
    "</div>"
   ]
  },
  {
   "cell_type": "markdown",
   "id": "64bc9ef7-a291-4e6f-b18f-aa687f57ad9b",
   "metadata": {},
   "source": [
    "* 로그인하면 아래와 같은 화면이 나온다. 오른쪽 위의 + 버튼(빨간색)을 누르면, Create a repl 창이 나온다. 물론, 왼쪽 위의 햄버거 버튼(녹색)를 누른 다음 +Create 버튼을 눌러도 되고, 화면 아래에 있는 + Python(노란색)를 눌러도 된다."
   ]
  },
  {
   "cell_type": "markdown",
   "id": "e7d293e3-09e5-4f43-aa67-ceb6788355e2",
   "metadata": {},
   "source": [
    "<div align=\"center\">\n",
    "    <img src=\"https://raw.githubusercontent.com/hj617kim/pybook/master/images/ch02/replit02.png\" style=\"width:800px;\">\n",
    "</div>"
   ]
  },
  {
   "cell_type": "markdown",
   "id": "a8d16af0-647c-48b6-88cb-00fdf00abff2",
   "metadata": {},
   "source": [
    "* Create a repl 창이 나오면, Template은 Python을 선택하고, 제목Title은 적당한 것으로 변경(예, 1)한 다음 오른쪽 아래에 보이는 +Create Repl 버튼을 누르면 된다.  "
   ]
  },
  {
   "cell_type": "markdown",
   "id": "d40edda6-af31-4e9c-b5c9-070d335f223f",
   "metadata": {},
   "source": [
    "<div align=\"center\">\n",
    "    <img src=\"https://raw.githubusercontent.com/hj617kim/pybook/master/images/ch02/replit03.png\" style=\"width:400px;\">\n",
    "    <img src=\"https://raw.githubusercontent.com/hj617kim/pybook/master/images/ch02/replit04.png\" style=\"width:465px;\">\n",
    "</div>"
   ]
  },
  {
   "cell_type": "markdown",
   "id": "624d457f-0425-4b3b-8eba-c57a2bb06494",
   "metadata": {},
   "source": [
    "* 그러면 아래와 같이 파이썬 파일이 만들어진다. 왼쪽 편집기(빨간색)에 `print('Hello, world')`라고 코드를 작성한 다음 실행버튼(노란색)<font size = \"2\"> 또는 ctrl + enter</font>를 누르면, 오른쪽 터미널에 `Hello, world`가 출력되는 것(녹색)을 볼 수 있다. "
   ]
  },
  {
   "cell_type": "markdown",
   "id": "7cb37597-b4eb-4a5a-bb70-0ccb56a91cda",
   "metadata": {},
   "source": [
    "<div align=\"center\"><img src=\"https://raw.githubusercontent.com/hj617kim/pybook/master/images/ch02/replit05_r.png\" style=\"width:800px;\"></div>"
   ]
  },
  {
   "cell_type": "markdown",
   "id": "80cb826a-4c2f-4a39-9777-da4dbd87a319",
   "metadata": {},
   "source": [
    ":::{admonition} 참고     \n",
    ":class: info  \n",
    "replit에서 실행버튼이나 ctrl + enter를 누르면 main.py 파일이 실행된다. 다른 이름의 파일을 실행하고 싶다면 오른쪽 Shell에 `python 파일명.py`라고 코드를 작성하고 enter를 누르면 된다. 예를 들어, w1.py 파일을 실행하고 싶다면, Shell에 다음과 같이 `python w1.py` 코드를 작성하고 enter를 누르면 된다. 참고로, `python` 다음에는 공백<font size = \"2\">space</font>이 있고, 그 뒤에 파일명을 적으면 된다.   \n",
    "\n",
    "<div align=\"center\"><img src=\"./images/ch02/replit06.png\" style=\"width:800px;\"></div>\n",
    "\n",
    ":::"
   ]
  },
  {
   "cell_type": "markdown",
   "id": "ba46544d-9610-4f63-b93e-586623464de9",
   "metadata": {},
   "source": [
    "## 구글 코랩 <font size = \"2\">Google Colab</font>"
   ]
  },
  {
   "cell_type": "markdown",
   "id": "df7040ca-fb4a-416b-8f4c-61ba73b79c20",
   "metadata": {},
   "source": [
    "구글 코랩은 구글에서 제공하는 주피터 노트북이다. 레플릿과 마찬가지로 사용 방법은 간단하다."
   ]
  },
  {
   "cell_type": "markdown",
   "id": "8f5a29be-d7dc-4ccc-b7c9-c65b99769d23",
   "metadata": {},
   "source": [
    "* 구글 https://www.google.com/ 에 접속한다. 그리고 구글 계정으로 로그인을 한다. 이때, 사용할 웹 브라우저는 크롬을 추천한다. "
   ]
  },
  {
   "cell_type": "markdown",
   "id": "c928b6f0-1ec2-4fd4-9844-0bb3e11cfbef",
   "metadata": {},
   "source": [
    "<div align=\"center\">\n",
    "    <img src=\"https://raw.githubusercontent.com/hj617kim/pybook/master/images/ch02/colab01.png\" style=\"width:800px;\">\n",
    "</div>"
   ]
  },
  {
   "cell_type": "markdown",
   "id": "4ce6c29a-afa7-4486-9a3c-77206258f85c",
   "metadata": {},
   "source": [
    "* 웹 브라우저에서 오른쪽 위를 보면 여러 개의 아이콘이 보인다. 그 중 세 번째에 있는 Google 앱 아이콘을 누른 다음 구글 드라이브에 접속한다.  \n",
    "\n",
    "* 구글 드라이브 화면에서 왼쪽 위를 보면 새로 만들기 버튼(빨간색)이 있다. "
   ]
  },
  {
   "cell_type": "markdown",
   "id": "5bcc221e-9707-4b7c-a232-bf3cdb95f5db",
   "metadata": {},
   "source": [
    "<div align=\"center\">\n",
    "    <img src=\"https://raw.githubusercontent.com/hj617kim/pybook/master/images/ch02/colab02.png\" style=\"width:300px; padding-right:20px\">\n",
    "    <img src=\"https://raw.githubusercontent.com/hj617kim/pybook/master/images/ch02/colab03.png\" style=\"width:400px;\">\n",
    "</div>"
   ]
  },
  {
   "cell_type": "markdown",
   "id": "36596b94-299b-4326-9bb4-f7e9daf874b7",
   "metadata": {},
   "source": [
    "* 새로 만들기 버튼을 누르면 아래와 같은 창이 뜬다. 이 창에서 연결할 앱 더보기를 선택한다."
   ]
  },
  {
   "cell_type": "markdown",
   "id": "ee7b50aa-074a-4112-8535-04c5d8944ccd",
   "metadata": {},
   "source": [
    "<div align=\"center\">\n",
    "    <img src=\"https://raw.githubusercontent.com/hj617kim/pybook/master/images/ch02/colab04.png\" style=\"width:500px;\">\n",
    "</div>"
   ]
  },
  {
   "cell_type": "markdown",
   "id": "1bdb959c-68fa-4f53-b596-c7d51c460938",
   "metadata": {},
   "source": [
    "* 그러면 아래와 같은 창이 뜬다. 설치 가능한 앱 중 Colaboratory(빨간색)를 찾은 다음 클릭한다. 코랩을 검색(노란색)하여 찾는 것도 가능하다."
   ]
  },
  {
   "cell_type": "markdown",
   "id": "5a0ca352-a9ac-4342-ad40-2c1b124dc819",
   "metadata": {},
   "source": [
    "<div align=\"center\">\n",
    "    <img src=\"https://raw.githubusercontent.com/hj617kim/pybook/master/images/ch02/colab05.png\" style=\"width:600px;\">\n",
    "</div>"
   ]
  },
  {
   "cell_type": "markdown",
   "id": "e851fef7-b3c8-4477-ab39-22e67076ef08",
   "metadata": {},
   "source": [
    "* Colaboratory 창에서 설치 버튼을 눌러 설치를 시작한다."
   ]
  },
  {
   "cell_type": "markdown",
   "id": "6dd41f68-3c47-468f-8a53-a86fbbf619ff",
   "metadata": {},
   "source": [
    "<div align=\"center\">\n",
    "    <img src=\"https://raw.githubusercontent.com/hj617kim/pybook/master/images/ch02/colab06.png\" style=\"width:600px;\">\n",
    "</div>"
   ]
  },
  {
   "cell_type": "markdown",
   "id": "4dd25a10-0484-4612-8259-938c9d0b6976",
   "metadata": {},
   "source": [
    "* 아래 왼쪽 화면처럼 권한을 요구할 수도 있다. 그러면 계속 버튼을 클릭한다.\n",
    "\n",
    "* 다음으로 계정 선택 창이 나온다면, 사용할 구글 계정을 선택하면 된다."
   ]
  },
  {
   "cell_type": "markdown",
   "id": "8132cabf-4069-4618-9ab6-90bd672c22b6",
   "metadata": {},
   "source": [
    "<div align=\"center\">\n",
    "    <img src=\"https://raw.githubusercontent.com/hj617kim/pybook/master/images/ch02/colab07.png\" style=\"width:400px;\">\n",
    "    <img src=\"https://raw.githubusercontent.com/hj617kim/pybook/master/images/ch02/colab08.png\" style=\"width:300px;\">\n",
    "</div>"
   ]
  },
  {
   "cell_type": "markdown",
   "id": "030156b6-a2c8-4cfc-8ab8-fcabf8768f76",
   "metadata": {},
   "source": [
    "* 그러면 코랩 설치가 완료된다. 확인, 완료 등의 버튼을 눌러 모든 창을 닫아준다. "
   ]
  },
  {
   "cell_type": "markdown",
   "id": "ef5d2ccf-6941-402b-8188-685a97f495c5",
   "metadata": {},
   "source": [
    "<div align=\"center\">\n",
    "    <img src=\"https://raw.githubusercontent.com/hj617kim/pybook/master/images/ch02/colab09.png\" style=\"width:400px;\">\n",
    "</div>"
   ]
  },
  {
   "cell_type": "markdown",
   "id": "24fce456-cd41-4fce-9210-e3fd7dd1d67a",
   "metadata": {},
   "source": [
    "* 다시 구글 드라이브로 와서 새로 만들기 버튼을 누른 다음, 목록에서 Google Colaboratory를 선택한다."
   ]
  },
  {
   "cell_type": "markdown",
   "id": "3cb2106f-9a24-441a-993b-8be15cd621d7",
   "metadata": {},
   "source": [
    "<div align=\"center\">\n",
    "    <img src=\"https://raw.githubusercontent.com/hj617kim/pybook/master/images/ch02/colab10.png\" style=\"width:500px;\">\n",
    "</div>"
   ]
  },
  {
   "cell_type": "markdown",
   "id": "2300c58b-e713-457a-8a00-93e928c02f12",
   "metadata": {},
   "source": [
    "* 그러면 아래와 같은 주피터 노트북이 만들어진다. 코드셀(빨간색)에 `print('Hello, world')`라고 코드를 작성한 다음 실행버튼(실행하고자 하는 코드셀 앞에 있는 동그라미 안의 삼각형)<font size = \"2\">또는 shift+enter나 ctrl+enter</font>를 누르면, 코드셀 바로 아래(노란색) `Hello, world`가 출력되는 것을 볼 수 있다. "
   ]
  },
  {
   "cell_type": "markdown",
   "id": "7b54b5a8-be2d-4d3c-a54a-9135eabd4740",
   "metadata": {},
   "source": [
    "<div align=\"center\">\n",
    "    <img src=\"https://raw.githubusercontent.com/hj617kim/pybook/master/images/ch02/colab11.png\" style=\"width:800px;\">\n",
    "</div>"
   ]
  }
 ],
 "metadata": {
  "kernelspec": {
   "display_name": "Python 3 (ipykernel)",
   "language": "python",
   "name": "python3"
  },
  "language_info": {
   "codemirror_mode": {
    "name": "ipython",
    "version": 3
   },
   "file_extension": ".py",
   "mimetype": "text/x-python",
   "name": "python",
   "nbconvert_exporter": "python",
   "pygments_lexer": "ipython3",
   "version": "3.8.10"
  }
 },
 "nbformat": 4,
 "nbformat_minor": 5
}
