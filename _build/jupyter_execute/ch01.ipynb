{
 "cells": [
  {
   "cell_type": "markdown",
   "id": "2d31f83d-c062-4b7e-a20e-653ca33d9e3e",
   "metadata": {
    "id": "0676b693-737d-41ce-b2fb-723f5244ebbf"
   },
   "source": [
    "# 프로그래밍이란?"
   ]
  },
  {
   "cell_type": "markdown",
   "id": "0b713774-a365-4451-b114-3c4eca8bbd35",
   "metadata": {
    "id": "2ee93412-69aa-46b6-af45-7bc1d7187819"
   },
   "source": [
    "## 하드웨어와 소프트웨어"
   ]
  },
  {
   "cell_type": "markdown",
   "id": "401d2c3b-244b-4e19-9f11-6e791b4accf8",
   "metadata": {
    "id": "c1bd0da7-e465-447a-a7d2-78d43c24f1ad"
   },
   "source": [
    "컴퓨터는 데이터를 입력받아 처리하고 그 결과를 저장하거나 출력하는 기기로, \n",
    "**하드웨어**<font size=\"2\">Hardware</font>와 **소프트웨어**<font size=\"2\">Software</font>로 구성된다. "
   ]
  },
  {
   "cell_type": "markdown",
   "id": "75d4a20d-3bae-4bc8-b3f5-1c433d496a9b",
   "metadata": {
    "id": "71202ec5-0e91-48c7-902b-084efd7a49b6"
   },
   "source": [
    "<div align=\"center\"><img src=\"https://raw.githubusercontent.com/hj617kim/pybook/master/images/ch01/hardware_software.png\" style=\"width:700px;\"></div>"
   ]
  },
  {
   "cell_type": "markdown",
   "id": "4a76abb3-67f4-4bb6-a308-3ef1ee528664",
   "metadata": {
    "id": "468695a3-5094-4074-834f-62cb6684b95d"
   },
   "source": [
    "하드웨어는 컴퓨터의 물리적 부품을 일컫는 말로, 크게\n",
    "보통 CPU라 불리는 중앙처리장치<font size=\"2\">Central Processing Unit</font>,\n",
    "기억장치, 입출력장치로 구성된다. \n",
    "\n",
    "- **CPU**: 컴퓨터에서 가장 핵심적인 부분으로,\n",
    "    주기억장치에 저장된 명령들을 읽고 해석하고, \n",
    "    해석된 명령에 따라 각 장치에 조작을 지시하는 제어 장치<font size=\"2\">Control Unit</font>와 \n",
    "    산술 연산이나 논리 연산 등을 담당하는 연산장치<font size=\"2\">Arithmetic & Logic Unit</font>, \n",
    "    그리고 CPU에서 사용하는 데이터를 빠르게 일시적으로 저장하는 \n",
    "    레지스터<font size=\"2\">Register</font>로 구성된다. 일반적으로 레지스터의 용량은 작아 \n",
    "    큰 용량의 기억장치가 필요하다. \n",
    "\n",
    "- **기억장치**: 데이터나 프로그램을 저장하는 장치로, \n",
    "    주로 주기억장치<font size=\"2\">Main Memory 또는 메모리</font>와 \n",
    "    보조기억장치<font size=\"2\">Auxiliary Memory</font>로 나눈다. \n",
    "    입력 장치로부터 들어온 데이터는 주기억장치에 저장되며, \n",
    "    주기억장치에 저장되어 있어야 CPU에서 처리될 수 있다. \n",
    "    보조기억장치는 그 이름처럼 주기억장치를 보조해주는 장치로, \n",
    "    예를 들어 USB, SSD 등이 있다. \n",
    "\n",
    "- **입출력장치**: 데이터를 컴퓨터가 이해할 수 있는 형태로 변환하여 \n",
    "    전달하는 장치로 예를 들어, 키보드, 마우스, 마이크, 센서, \n",
    "    터치 스크린 등이 있다. \n",
    "    출력장치는 CPU가 처리한 결과를 출력하는 장치로, \n",
    "    예를 들어, 모니터, 스피커, 프린터 등이 있다. "
   ]
  },
  {
   "cell_type": "markdown",
   "id": "64e47a3f-c5da-4fbb-9107-d3874af907ef",
   "metadata": {
    "id": "2019cbef-4f0f-4fbb-9f7c-543f50e0e99a"
   },
   "source": [
    "::::{admonition} 참고  \n",
    ":class: info\n",
    "\n",
    "마이크로프로세서<font size=\"2\">Microprocessor</font> : CPU를 하나의 칩으로 만든 것을 말한다. 컴퓨터에도 마이크로프로세서가 사용된다. \n",
    "::::"
   ]
  },
  {
   "cell_type": "markdown",
   "id": "901f7871-a7ee-484c-8777-138e59dff1f7",
   "metadata": {
    "id": "d6b4c649-cb4e-4008-bcdd-62f0545895fb"
   },
   "source": [
    "반면 소프트웨어는 하드웨어를 사용하여 특정 기능을 수행하도록 하는 명령문의 모음으로, 크게 응용 소프트웨어<font size=\"2\">Application Software 또는 어플, 앱</font>과 시스템 소프트웨어<font size=\"2\">System Software</font>로 구분된다. \n",
    "\n",
    "- **시스템 소프트웨어**: 하드웨어와 응용소프트웨어를 효율적으로 \n",
    "    운영, 관리하기 위해 만들어진 소프트웨어로, \n",
    "    대표적인 시스템 소프트웨어로는 윈도우<font size=\"2\">Window</font>, 우분투<font size=\"2\">Ubuntu</font> 등과 \n",
    "    같은 운영 체제<font size=\"2\">Operating System, OS</font>가 있다.\n",
    "\n",
    "- **응용 소프트웨어**: 운영 체제 위에서 특정한 일을 처리하기 위해 \n",
    "    실행되는 소프트웨어로, 예를 들어 웹브라우저, 워드프로세서, 엑셀 등이 있다. "
   ]
  },
  {
   "cell_type": "markdown",
   "id": "1901dd87-0490-4268-8268-115f51e9bfcb",
   "metadata": {
    "id": "8cdf7b39-89c2-4bc3-9192-0f36d0fc3b3b"
   },
   "source": [
    "## 컴퓨터 프로그램, 프로그래밍, 프로그래밍 언어 "
   ]
  },
  {
   "cell_type": "markdown",
   "id": "f0611049-4c99-4e47-b22e-a90c9c4e5cbe",
   "metadata": {},
   "source": [
    "**컴퓨터 프로그램**<font size=\"2\">computer program</font>이란, 어떤 주어진 문제를 해결하기 위해서 특정 프로그래밍 언어를 이용하여 컴퓨터가 수행해야 할 작업들을 모아 놓은 명령문의 모음이라고 볼 수 있다. \n",
    "\n",
    "프로그램의 핵심은 문제해결을 위한 특정 알고리즘이며, 동일한 알고리즘을 이용하더라도 서로 다르게 보이는 프로그램을 구현할 수 있고, 사용하는 프로그래밍 언어와 작성자에 따라 여러 종류의 프로그램이 존재한다. "
   ]
  },
  {
   "cell_type": "markdown",
   "id": "b78503d1-4139-46e5-b597-e18a9edd54dc",
   "metadata": {},
   "source": [
    "::::{admonition} **소프트웨어, 프로그램, 소스 코드, 코드, 명령문**  \n",
    ":class: info\n",
    "\n",
    "소프트웨어, 프로그램, 소스 코드(원시 코드), 코드, 명령문 등은 특별한 구분 없이 사용되곤 한다. 네 개념을 엄밀히 구분하는 기준은 없다. 하지만 일반적인 용도를 살펴보았을 때 다음과 같이 구분할 수 있다. \n",
    "\n",
    "- 소프트웨어<font size=\"2\">software</font>: 하트웨어를 이용하여 특정 기능을 수행하도록 하는 컴퓨터 프로그램 일반을 가리킴.  \n",
    "- 프로그램<font size=\"2\">program</font>: 컴퓨터에서 실행할 수 있는 하나의 소프트웨어 제품.  \n",
    "- 소스 코드<font size=\"2\">source Code</font>: 프로그램 구현에 사용된 명령문 모음집. 원시 코드라고도 불림.  \n",
    "- 코드<font size=\"2\">code</font>: 소스 코드의 일부분 또는 전체.\n",
    "- 명령문<font size=\"2\">statement 또는 commands</font>: 소스 코드의 구성요소.\n",
    "::::"
   ]
  },
  {
   "cell_type": "markdown",
   "id": "c0738f14-9ef4-4784-9e07-605cefe4c970",
   "metadata": {},
   "source": [
    "**프로그래밍**<font size=\"2\">Programming</font>은 특정 목적을 달성하기 위해 컴퓨터가 실행할 수 있는 컴퓨터 프로그램을 디자인하는 과정을 말한다. "
   ]
  },
  {
   "cell_type": "markdown",
   "id": "309ad0a5-1363-4985-876f-77a095243a5c",
   "metadata": {
    "id": "5624e864-4230-467c-a05e-741e28c84bcb"
   },
   "source": [
    "::::{admonition} **프로그래밍과 코딩**  \n",
    ":class: info\n",
    "\n",
    "일상적으로 프로그래밍<font size=\"2\">programming</font>과 코딩<font size=\"2\">coding</font>은 동의어로 사용된다. 다만 프로그래밍은 프로그래머<font size=\"2\">programmer</font>의 직업과 관련된 개념으로, 코딩은 \"코드를 작성한다\"의 의미로 보다 많이 사용된다."
   ]
  },
  {
   "cell_type": "markdown",
   "id": "1a9b754a-8c6a-4691-a833-6e9dfe32d9dd",
   "metadata": {
    "id": "04191a57-f950-4b26-927d-1f8103df89b8"
   },
   "source": [
    "**프로그래밍 언어**<font size=\"2\">Programming Language</font>는 컴퓨터 프로그램을 만들 때 사용하는 언어를 말한다. 자연어와 마찬가지로 다양한 프로그래밍 언어가 있으며, 보통 저수준 언어<font size=\"2\">low-level language</font>와 고수준 언어<font size=\"2\">high-level language</font>로 나눈다.\n",
    "\n",
    "- 저수준 언어는 컴퓨터가 이해하기 쉽게 작성된 프로그래밍 언어로, 일반적으로 기계어<font size=\"2\">machine language</font>와 어셈블리어<font size=\"2\">assembly language</font>를 말한다. 이때 기계어는 CPU가 직접 해석하고 실행할 수 있는 숫자로만 구성된 언어를 말하는데, 이를 보고 사람이 이해하기는 어렵다. 어셈블리어는 기계어를 사람이 이해할 수 있는 문자 형태로 변경한 것을 말하는데, 숫자를 문자로 바꾸기 만한 것이라 여전히 사람이 이해하기는 어렵다. 어셈블리어를 기계어로 변경해주는 프로그램을 어셈블러<font size=\"2\">assembler</font>라고 말한다.  \n",
    "\n",
    "- 고수준 언어는 사람이 이해하기 쉽게 작성된 프로그래밍 언어로, 파이썬, C언어, 자바 등 대부분의 프로그래밍 언어들이 고수준 언어다. 고수준 언어는 저수준 언어보다 가독성이 높고 사용이 편리하여 프로그래머들은 주로 고수준 언어를 사용한다. 반면, 컴퓨터는 기계어만 이해할 수 있기 때문에, 고수준 언어로 만들어진 프로그램은 기계어로 변경해야만 컴퓨터에서 실행할 수 있다. 이때 컴파일러<font size=\"2\">compiler</font> 또는 인터프리터<font size=\"2\">interpreter</font>를 사용한다. "
   ]
  },
  {
   "cell_type": "markdown",
   "id": "acd93abf-2c07-4722-bf41-dd115bb79958",
   "metadata": {
    "id": "73bbed06-512c-486a-8435-0145788496d7"
   },
   "source": [
    "## 컴파일러와 인터프리터"
   ]
  },
  {
   "cell_type": "markdown",
   "id": "42aee265-57d1-4c48-a8a5-307a745c0401",
   "metadata": {
    "id": "15475ffe-3cbf-427a-a605-fdf9094609c3"
   },
   "source": [
    "컴퓨터는 기계어만 인식하기 때문에 고수준 언어를 사용하여 만든 코드는 컴퓨터가 이해할 수 있도록 변경하는 작업이 필요하다. 이를 위해 컴파일러<font size=\"2\">compiler</font> 또는 인터프리터<font size=\"2\">interpreter 또는 해석기</font>를 이용한다. \n",
    "\n",
    "**컴파일러**<font size=\"2\">compiler</font>는 특정 프로그래밍 언어를 다른 프로그래밍 언어로 변환하는 언어 번역 프로그램을 말하며, 변환하는 과정을 **컴파일**<font size=\"2\">compile</font>이라 부른다. 주로 고수준 언어를 컴퓨터가 이해할 수 있는 기계어로 변경하는 데 사용된다. 컴파일과정은 아래 그림과 같다. \n",
    " "
   ]
  },
  {
   "cell_type": "markdown",
   "id": "ef9897d3-3cd2-4726-b9b8-43ff8fbc722e",
   "metadata": {
    "id": "46c63b21-aafc-4199-9a6c-9e8d5b7378ef"
   },
   "source": [
    "<div align=\"center\"><img src=\"https://greenteapress.com/thinkpython/html/thinkpython002.png\" style=\"width:450px;\"></div>"
   ]
  },
  {
   "cell_type": "markdown",
   "id": "e54c26f7-ec5c-49e7-aa80-6b90b81d7b84",
   "metadata": {
    "id": "0edc5709-8743-4c41-ae23-daf62f66478e"
   },
   "source": [
    "그림과 같이 컴파일러 방식에서는 컴파일러로 \n",
    "전체를 훑은 다음, 한꺼번에 오브젝트코드로 변환하고 이를 일괄 실행한다.  C언어나 자바 등과 같은 대부분의 고수준 언어가 컴파일러 방식을 사용하고 있다. \n",
    "\n",
    "컴파일러와 달리 **인터프리터**<font size=\"2\">interpreter</font>는 소스 코드를 한 줄씩 해석하여 바로 실행되게 하는 프로그램을 말한다. 인터프리터 작동 방식은 아래 그림과 같다. "
   ]
  },
  {
   "cell_type": "markdown",
   "id": "713d67f8-acfb-4b70-ad9f-eaaaf3b45aa6",
   "metadata": {
    "id": "138eb917-5360-4b37-b0cf-a69a47bfa5ad"
   },
   "source": [
    "<div align=\"center\"><img src=\"https://greenteapress.com/thinkpython/html/thinkpython001.png\" style=\"width:300px;\"></div>"
   ]
  },
  {
   "cell_type": "markdown",
   "id": "f3456acf-3274-4b49-8c18-4abc784a70be",
   "metadata": {
    "id": "36d82731-74c0-4cb6-b2b0-a3b00ec52fc1"
   },
   "source": [
    "그림과 같이 인터프리터 방식에서는 명령어를 만날 때마다 즉시 인터프리터로 번역하여 실행하기 때문에 대화형 프로그래밍<font size=\"2\">Interactive programming</font>도 가능하다.  파이썬, 루비, 자바스크립트, R 등과 같은 고수준 언어가 인터프리터 방식을 사용하고 있다.  "
   ]
  },
  {
   "cell_type": "markdown",
   "id": "8427c3f1-c519-4ff9-92e8-34e2812cb2d5",
   "metadata": {
    "id": "c4eb6857-88db-4340-ac81-18639daf7d6a"
   },
   "source": [
    "인터프리터 방식은 코드의 실행 결과를 바로 확인해 볼 수 있기 때문에 프로그램 테스트나 교육용으로도 많이 사용되고 있다. \n",
    "\n",
    "반면 컴파일러 방식은 컴파일하는 과정에서 상당히 많은 시간이 필요할 수도 있지만 일단 컴파일되면 빠르게 실행하기 때문에 일반적으로 인터프리터 방식보다 빠르다. 또, 컴파일러 방식은 소스 코드 전체를 훑으며 불필요한 코드를 삭제하거나 코드의 중복을 방지할 수 있기 때문에 프로그래밍에서 많이 사용하고 있다. "
   ]
  },
  {
   "cell_type": "markdown",
   "id": "846cbf15-d2dd-4a84-8628-0d31ca172f2f",
   "metadata": {
    "id": "65ececd2-50ec-4146-b358-1f67ff2ebfdd"
   },
   "source": [
    "## 파이썬 프로그래밍 언어"
   ]
  },
  {
   "cell_type": "markdown",
   "id": "ad5de71e-c230-4ead-af55-76b2cbc57014",
   "metadata": {
    "id": "3586e4fc-b7f6-45c3-9db6-49e6b7b7822b"
   },
   "source": [
    "파이썬<font size=\"2\">Python</font> 은 1991년 귀도 반 로섬<font size=\"2\">Guido van Rossum</font>이 개발한 고수준 프로그래밍 언어로, 거의 모든 운영체제에서 동작하는 인터프리터 방식의 범용 프로그래밍 언어<font size=\"2\">general-purpose programming language</font>이다.\n",
    "\n",
    "기존 프로그래밍 언어들의 한계를 극복하고자 만들어진 파이썬은 자연어와 유사할 정도로 간결하고 쉬운 문법을 가지고 있다. \n",
    "예를 들어, 아래의 파이썬 코드는 `you`가 `members` 리스트에 없다면 \n",
    "회원가입을 하라는 문구를 출력하는 코드이다. "
   ]
  },
  {
   "cell_type": "code",
   "execution_count": 1,
   "id": "gStkn_OffN-c",
   "metadata": {
    "colab": {
     "base_uri": "https://localhost:8080/"
    },
    "id": "gStkn_OffN-c",
    "outputId": "eb3afb38-6819-4c11-cfc3-c69ec8aebfe5"
   },
   "outputs": [
    {
     "name": "stdout",
     "output_type": "stream",
     "text": [
      "회원가입을 하세요.\n"
     ]
    }
   ],
   "source": [
    "you = '강현'\n",
    "members = ['민경', '재석', '윤진', '태연']\n",
    "\n",
    "if you not in members :\n",
    "    print('회원가입을 하세요.')"
   ]
  },
  {
   "cell_type": "markdown",
   "id": "e8fe2631-0b48-4acb-b89f-1b4920081efc",
   "metadata": {
    "id": "e29c5690-4ca3-41b0-9638-5b9cf3140758"
   },
   "source": [
    "위 파이썬 코드는 프로그래밍에 대한 경험이 전혀 없는 사람도 대략적으로 의미를 유추하는 것이 가능할 정도로 자연어와 유사하다. 파이썬은 들여쓰기로 코드 블록을 구분하는 데, 이는 코드의 가독성을 높인다. 또, 파이썬의 간결하고 쉬운 문법은 오류가 발생할 가능성을 낮춰 프로그램 개발 속도와 생산성을 높일 수 있다.\n",
    "\n",
    "이에 구글<font size=\"2\">Google</font>, 드롭박스<font size=\"2\">Dropbox</font>, 인스타그램<font size=\"2\">Instagram</font> 등 많은 회사에서 소프트웨어 개발에 파이썬을 사용하고 있다. 반면, 실무에서 사용하는 프로그래밍 언어는 다루기 어려워서 보통 프로그래밍 입문자에게 추천하지 않는데, 파이썬은 상대적으로 배우기 쉬운 프로그래밍 언어라 실무에서뿐만 아니라 입문자 교육용으로도 많이 사용되고 있다. "
   ]
  },
  {
   "cell_type": "markdown",
   "id": "9f2e6273-8ad5-404c-bb74-fc69c5faacee",
   "metadata": {
    "id": "0b88f8f3-eb7d-42f6-92d4-d4a9f7e4d0c0"
   },
   "source": [
    "::::{admonition} 참고  \n",
    ":class: info\n",
    "\n",
    "귀도 반 로섬은 어느 인터뷰에서 당시 프로그램 개발에 사용했던 C언어의 생산성이 낮아 새로운 언어의 필요성을 느꼈다고 말하였다. \n",
    "::::"
   ]
  },
  {
   "cell_type": "markdown",
   "id": "ddbfe411-b04c-4d82-a6e8-686300b588cc",
   "metadata": {
    "id": "1efeb35d-2595-4894-a03b-e46d220dbfee"
   },
   "source": [
    "이러한 파이썬의 특징을 몇 가지 살펴보면, 다음과 같다.\n",
    " \n",
    "- 범용 프로그래밍 언어\n",
    "- 인터프리터 언어\n",
    "- 거의 모든 운영체제에서 동작\n",
    "- 객체 지향 언어\n",
    "- 동적 타이핑 지원\n",
    "- 수많은 표준 라이브러리 제공\n",
    "- C, C++와 연동 "
   ]
  },
  {
   "cell_type": "markdown",
   "id": "8bce4129-9583-4116-98fd-a7337f80f07b",
   "metadata": {
    "id": "5e70d41f-ad65-4897-9af8-dc95c9bc3c18"
   },
   "source": [
    "파이썬은 C언어나 자바 등과 같이 범용 프로그래밍 언어로, \n",
    "데이터 분석, 머신러닝, 데이터베이스 관리, 웹 개발, 웹 스크래핑, \n",
    "GUI 프로그래밍<font size=\"2\">Graphical User Interface programming</font> 등 \n",
    "다양한 용도로 사용할 수 있다. \n",
    "\n",
    "그리고 파이썬은 인터프리터 언어라서 코드를 작성한 후에 바로 실행시킬 수 있기 때문에 코드 수정이 간단하며 대화형 프로그래밍도 가능하다. 또, 운영체제별로 컴파일할 필요가 없기 때문에 윈도우, 우분투, macOS 등 거의 모든 운영체제 위에서 작동한다. \n",
    "\n",
    "또한 파이썬은 C++이나 자바<font size=\"2\">Java</font> 등과 같은 OOP,  즉\n",
    "**객체 지향 언어**<font size=\"2\">Object-Oriented Programming</font>이다.\n",
    "파이썬은 모든 것이 객체로 잘 설계되어 있어서 매우 편리하고 강력한 기능을 제공한다. "
   ]
  },
  {
   "cell_type": "markdown",
   "id": "3bdad737-2139-4b52-81dc-76c9afa77f79",
   "metadata": {
    "id": "a6254b2e-b536-40dd-aa00-4834d82bd569"
   },
   "source": [
    ":::{admonition} 참고\n",
    ":class: info\n",
    "\n",
    "OOP는 구현해야 할 객체들을 선택하고, 객체들 사이의 유기적인 관계를 논리적으로 묘사하는 것을 중요하게 여기는 프로그래밍 기법으로, 프로그램 전체를 하나로 묶어서 구현하는 것이 아니라 프로그램을 구성하는 객체들을 중심으로 하여 구현해야 할 프로그램을 완성시키는 방식으로 프로그래밍을 진행하는 것을 말한다. OOP를 잘 활용하면 코드의 재사용성을 높이고, 유지보수하기 좋은 코드를 작성할 수 있다.\n",
    "\n",
    "보통 OOP와 대비하여 절차 지향 프로그래밍<font size=\"2\">Procedural Programming</font>을 언급한다. 절차 지향 프로그래밍에서는 수행해야 할 일을 순차적으로 처리하는 과정을 묘사하는 것을 중요하게 여기며, 프로그램 전체가 유기적으로 연결되도록 만드는 프로그래밍 기법이다. 대표적인 절차 지향 프로그래밍 언어로는 C와 HTML이 있다.\n",
    ":::"
   ]
  },
  {
   "cell_type": "markdown",
   "id": "3b4d3a21-0fce-4753-a12e-0bcc1a271a1d",
   "metadata": {
    "id": "48862db1-72a3-423d-995e-fba97dee774c"
   },
   "source": [
    "파이썬은 **동적 타이핑**<font size=\"2\">Dynamic typing</font>을 지원한다. \n",
    "동적 타이핑은 변수를 미리 선언하지 않고, 변수를 생성하고자 할 때 \n",
    "값을 초기화하여 사용하는 것을 말한다. \n",
    "변수의 자료형은 파이썬이 알아서 판단하기 때문에 \n",
    "동적 타이핑은 프로그래밍을 처음 접하는 사람들에게 편리하다. "
   ]
  },
  {
   "cell_type": "markdown",
   "id": "f55bb664-9646-4dca-9785-00915ca717e2",
   "metadata": {
    "id": "e95f25d0-10c5-41c3-b5c4-77bedfb9b0df"
   },
   "source": [
    ":::{admonition} 참고\n",
    ":class: info\n",
    "\n",
    "동적 타이핑과는 달리 변수를 사용하기 전 미리 선언해야 하는 \n",
    "**정적 타이핑**<font size=\"2\">Static Typing</font>도 있다. \n",
    "C나 자바처럼 주로 컴파일 방식의 언어가 정적 타이핑을 지원한다. \n",
    "이처럼 사용할 변수와 변수에 할당될 값의 자료형을 미리 선언하는 것은 \n",
    "불편해 보일 수도 있다. \n",
    "하지만 정적 타이핑은 컴파일하는 과정에서 선언한 자료형에 맞는 값을 할당하였는지, \n",
    "선언 후 사용하지 않는 변수가 있는지를 확인하여 버그 발생 확률을 \n",
    "낮출 수 있다는 장점이 있다. \n",
    "이에 동적 타이핑을 지원하는 파이썬에서도 타입 힌트를 명시하기도 한다. "
   ]
  },
  {
   "cell_type": "markdown",
   "id": "a368baf3-e0c4-4cdf-accf-debb8e82dc52",
   "metadata": {
    "id": "4cb752d8-f9d4-4ad8-ab5f-053c9526400e"
   },
   "source": [
    "이뿐만 아니라 파이썬은 다양한 분야에서 사용할 수 있는 수많은 라이브러리를 제공하고 있다. 예를 들어, 데이터 과학에서 유용한 파이썬 라이브러리로는 Numpy, Pandas, TensorFlow, Keras, Matplotlib등이 있고, 웹 프레임워크 라이브러리로는 Django, Flask 등이 있다. 라이브러리의 사용은 쉽게 다양한 기능을 사용할 수 있게 하고 더 적은 코드를 작성하여 더 많은 일을 할 수 있도록 한다. 즉, 적절히 라이브러리를 사용하면 빠른 개발 속도로 생산성을 높일 수 있다. \n",
    "\n",
    "이외에도 파이썬은 C나 C++와 연동가능하다. 즉, C나 C++로 만든 프로그램을 파이썬에서 사용할 수 있다. 파이썬은 다루기 쉬운 반면 컴파일러 방식의 언어에 비해 처리 속도가 느리다는 단점이 있는데 C나 C++과 연동함으로써 이러한 단점을 보완할 수 있다. 대표적인 예로는 넘파이(Numpy)가 있다. C언어로 만든 넘파이의 사용은 파이썬으로도 빠르고 효율적인 방법으로 데이터를 처리하고 저장할 수 있게 한다. "
   ]
  },
  {
   "cell_type": "markdown",
   "id": "1d289f10-92ca-47a7-8d16-62a99ac1436c",
   "metadata": {
    "id": "d13c943b-5bd0-43c5-ad57-087c130474a2"
   },
   "source": [
    "지금까지 살펴본 파이썬의 특징으로 인해  파이썬의 인기는 날이 갈수록 높아지고 있다. \n",
    "프로그래밍 언어들의 인기도를 측정하는 \n",
    "TIOBE 인덱스<font size=\"2\">https://www.tiobe.com/tiobe-index//</font>에 \n",
    "따르면, 2022년 1월 기준으로 파이썬은 가장 인기있는 프로그래밍 언어이다. \n",
    "이에 지금 당장 프로그래밍을 배우고자 한다면, 파이썬을 추천한다. "
   ]
  },
  {
   "cell_type": "markdown",
   "id": "083df068-9c37-4ac9-ba5a-e69325e2b436",
   "metadata": {
    "id": "8c0e846f-be54-4284-bc87-3499af2678ed"
   },
   "source": [
    "<div align=\"center\">\n",
    "    <img src=\"https://raw.githubusercontent.com/hj617kim/pybook/master/images/ch01/tiobe.png\" style=\"width:800px;\">\n",
    "</div>"
   ]
  }
 ],
 "metadata": {
  "kernelspec": {
   "display_name": "Python 3 (ipykernel)",
   "language": "python",
   "name": "python3"
  },
  "language_info": {
   "codemirror_mode": {
    "name": "ipython",
    "version": 3
   },
   "file_extension": ".py",
   "mimetype": "text/x-python",
   "name": "python",
   "nbconvert_exporter": "python",
   "pygments_lexer": "ipython3",
   "version": "3.8.10"
  }
 },
 "nbformat": 4,
 "nbformat_minor": 5
}