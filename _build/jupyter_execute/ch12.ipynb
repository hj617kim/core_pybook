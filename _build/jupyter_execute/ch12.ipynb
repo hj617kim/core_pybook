{
 "cells": [
  {
   "cell_type": "markdown",
   "id": "9ba26270-15bd-488d-b24b-3606b0d33d07",
   "metadata": {},
   "source": [
    "# 탐색"
   ]
  },
  {
   "cell_type": "markdown",
   "id": "345315f0-9b1d-483e-80f5-6ceaef185cf8",
   "metadata": {},
   "source": [
    "탐색<font size=\"2\">searching</font>이란 모음 객체에서 특정 값의 포함여부 및 위치를 확인하는 과정을 말한다. 파이썬 리스트의 경우 `in` 연산자가 항목의 포함 여부를 $O(n)$의 시간복잡도로 확인해준다. 여기서는 항목의 포함여부를 확인하는 탐색 알고리즘을 소개하고 각 알고리즘의 차이점을 살펴본다.  "
   ]
  },
  {
   "cell_type": "markdown",
   "id": "8c45d7ed-abf7-45bb-b38b-5143b4030780",
   "metadata": {},
   "source": [
    "## 순차탐색"
   ]
  },
  {
   "cell_type": "markdown",
   "id": "04b434cd-5f43-4fb1-82cc-25c219847854",
   "metadata": {},
   "source": [
    "순차탐색<font size=\"2\">sequential search</font>은 탐색 방법 중 가장 간단하고 자연스러운 방법으로, 순서를 따라 차례대로 특정 값인지를 확인하는 방법을 말한다. 파이썬의 리스트, 튜플 등은 위치에 따라 적절한 인덱스를 가지고 있어서 인덱스 순서대로 항목을 확인할 수 있다. 예를 들어, 다음은 순차탐색으로 `17`을 찾는 과정이다.     \n",
    "\n",
    "1. 첫 번째 항목을 확인한다. 첫 번째 항목은 `5`로 `17`이 아니다. 따라서 그 다음 항목을 확인한다.   \n",
    "\n",
    "<div align=\"center\"><img src=\"https://raw.githubusercontent.com/hj617kim/core_pybook/master/images/ch12/ss_01.png\" style=\"width:500px;\"></div>\n",
    "\n",
    "2. 두 번째 항목을 확인한다. 두 번째 항목은 `13`으로 `17`이 아니다. 따라서 그 다음 항목을 확인한다.  \n",
    "\n",
    "<div align=\"center\"><img src=\"https://raw.githubusercontent.com/hj617kim/core_pybook/master/images/ch12/ss_02.png\" style=\"width:500px;\"></div>\n",
    "\n",
    "3. 세 번째 항목을 확인한다. 세 번째 항목은 찾고자 하는 `17`이다. 따라서 탐색을 멈춘다.  \n",
    "\n",
    "<div align=\"center\"><img src=\"https://raw.githubusercontent.com/hj617kim/core_pybook/master/images/ch12/ss_03.png\" style=\"width:500px;\"></div>"
   ]
  },
  {
   "cell_type": "markdown",
   "id": "e447fb62-6d71-471f-a0bd-542683f9f6e7",
   "metadata": {},
   "source": [
    "하나의 리스트와 하나의 값을 입력 받아 순차탐색을 통해 주어진 값의 포함 여부를 판단하는 `sequential_search()` 함수를 정의해보자.   "
   ]
  },
  {
   "cell_type": "code",
   "execution_count": 1,
   "id": "526ec107-0339-414a-afe0-d0c7e57d7641",
   "metadata": {},
   "outputs": [],
   "source": [
    "def sequential_search(a_list, item) :\n",
    "    for i in a_list :\n",
    "        if i == item :\n",
    "            return True\n",
    "    return False"
   ]
  },
  {
   "cell_type": "code",
   "execution_count": 2,
   "id": "341fc50b-580c-43de-aab0-6a33242b77c7",
   "metadata": {},
   "outputs": [
    {
     "name": "stdout",
     "output_type": "stream",
     "text": [
      "True\n",
      "False\n"
     ]
    }
   ],
   "source": [
    "a_list = [5, 13, 17, 2, 48, 22]\n",
    "print(sequential_search(a_list, 17))\n",
    "print(sequential_search(a_list, 7))"
   ]
  },
  {
   "cell_type": "markdown",
   "id": "7a339856-cb9d-45ad-9255-47cc53af9d33",
   "metadata": {},
   "source": [
    "탐색 알고리즘의 시간복잡도 분석은 일반적으로 항목과 값의 비교를 기본 계산단위로 사용한다. 순차검색은 항상 원하는 항목을 찾을 수 있다는 장점이 있지만, 최악의 경우 모든 항목을 살펴봐야 하므로 시간복잡도는 $O(n)$이다. 예를 들어, 아래에는 `17`이 없어서, 처음부터 모든 항목을 살펴봐야 한다.     \n",
    "\n",
    "<div align=\"center\"><img src=\"https://raw.githubusercontent.com/hj617kim/core_pybook/master/images/ch12/ss_04.png\" style=\"width:500px;\"></div>"
   ]
  },
  {
   "cell_type": "markdown",
   "id": "8ff655de-1a9e-41d0-9e0b-462e7a98da71",
   "metadata": {},
   "source": [
    "**정렬된 리스트 순차탐색**  \n",
    "\n",
    "아래 그림의 리스트는 항목들이 오름차순으로 정렬되어 있다. 이런 경우에 순차탐색 알고리즘은 일반적인 경우와는 조금 다르게 작동시킬 수 있다. 예를 들어, 아래 정렬된 리스트에서 `17`을 찾을 때, 항목을 확인하다가 찾아야 하는 `17`보다 큰 값을 항목으로 만나면 더 이상 탐색을 진행하지 않도록 할 수 있다. \n",
    "\n",
    "<div align=\"center\"><img src=\"https://raw.githubusercontent.com/hj617kim/core_pybook/master/images/ch12/ss_05.png\" style=\"width:500px;\"></div>"
   ]
  },
  {
   "cell_type": "code",
   "execution_count": 3,
   "id": "1061a785-8600-43b3-805d-3fbe37f9c8a4",
   "metadata": {},
   "outputs": [],
   "source": [
    "def ordered_sequential_search(a_list, item) :\n",
    "    for i in a_list :\n",
    "        if i == item :\n",
    "            return True\n",
    "        elif i > item :\n",
    "            return False\n",
    "    return False"
   ]
  },
  {
   "cell_type": "code",
   "execution_count": 4,
   "id": "7f89ca61-5ace-4be1-9a40-98fefa201198",
   "metadata": {},
   "outputs": [
    {
     "name": "stdout",
     "output_type": "stream",
     "text": [
      "False\n",
      "True\n"
     ]
    }
   ],
   "source": [
    "ordered_list = [2, 5, 22, 27, 48, 50]\n",
    "print(ordered_sequential_search(ordered_list, 17))\n",
    "print(ordered_sequential_search(ordered_list, 5))"
   ]
  },
  {
   "cell_type": "markdown",
   "id": "1c525567-e808-49f7-a68c-6350e1603e4a",
   "metadata": {},
   "source": [
    "위 알고리즘은 찾고자 하는 항목이 리스트의 항목으로 포함되지 않은 경우에만 약간의 개선이 발생한다. "
   ]
  },
  {
   "cell_type": "markdown",
   "id": "de82d98d-a881-4560-be46-7d5c44362e82",
   "metadata": {},
   "source": [
    "## 이진탐색"
   ]
  },
  {
   "cell_type": "markdown",
   "id": "359514a4-d4e4-499e-b389-3c1be4e90705",
   "metadata": {},
   "source": [
    "이진탐색<font size=\"2\">binary search</font>은 정렬된 리스트를 탐색할 때 사용할 수 있는 알고리즘으로, 순차탐색보다 훨씬 빠르게 대상을 탐색할 수 있다. 이진 탐색은 리스트의 중앙에 위치한 항목부터 비교를 시작하여 참이면 탐색을 멈추고, 아니면 중앙 위치 왼편 또는 오른편 한 쪽에 대해서만 동일한 탐색 과정을 반복 실행한다. 예를 들어, 다음은 이진탐색으로 `51`을 찾는 과정이다.    \n",
    "\n",
    "1. 정렬된 항목들의 중앙 항목을 확인하여, 찾고자 하는 항목과 비교한다. 만약 항목의 개수가 짝수라면, 중앙에 있는 두 개의 항목 중 작은 쪽을 확인한다. 5번째 있는 항목의 값은 `27`로, 찾고자 하는 `51`보다 작다. 따라서 오른편에 대해서 동일한 탐색 과정을 반복한다.   \n",
    "<div align=\"center\"><img src=\"https://raw.githubusercontent.com/hj617kim/core_pybook/master/images/ch12/bs_01.png\" style=\"width:500px;\"></div>\n",
    "\n",
    "2. 오른편의 중앙에 있는 항목은 찾고자 하는 `51`이다. 따라서 탐색을 멈춘다. \n",
    "<div align=\"center\"><img src=\"https://raw.githubusercontent.com/hj617kim/core_pybook/master/images/ch12/bs_02.png\" style=\"width:500px;\"></div>"
   ]
  },
  {
   "cell_type": "markdown",
   "id": "64aa2d7e-26da-4f64-90c5-43288f241aa0",
   "metadata": {},
   "source": [
    "하나의 리스트와 하나의 값을 입력 받아 이진탐색을 통해 주어진 값의 포함 여부를 판단하는 `binary_search()` 함수를 정의해보자.   "
   ]
  },
  {
   "cell_type": "code",
   "execution_count": 5,
   "id": "08880f06-56ef-437c-9618-960ae0a2bd80",
   "metadata": {},
   "outputs": [],
   "source": [
    "def binary_search(a_list, item) :\n",
    "    first = 0\n",
    "    last = len(a_list) - 1\n",
    "    \n",
    "    while first <= last :\n",
    "        mid = (first + last) // 2\n",
    "        if a_list[mid] == item :\n",
    "            return True\n",
    "        elif item < a_list[mid] :\n",
    "            last = mid - 1\n",
    "        else :\n",
    "            first = mid + 1\n",
    "    return False"
   ]
  },
  {
   "cell_type": "code",
   "execution_count": 6,
   "id": "66aa2a8d-eb53-49a2-94bd-a01a34f3b47d",
   "metadata": {},
   "outputs": [
    {
     "name": "stdout",
     "output_type": "stream",
     "text": [
      "True\n",
      "True\n",
      "False\n"
     ]
    }
   ],
   "source": [
    "sorted_list_bs = [2, 5, 17, 22, 27, 35, 42, 51, 62, 70]\n",
    "print(binary_search(sorted_list_bs, 51))\n",
    "print(binary_search(sorted_list_bs, 17))\n",
    "print(binary_search(sorted_list_bs, 47))"
   ]
  },
  {
   "cell_type": "markdown",
   "id": "32637bdd-c282-472d-949f-fed4ee319e13",
   "metadata": {},
   "source": [
    "이진탐색 알고리즘에 사용된 반복문이 실행될 때마다 비교 횟수는 1이 늘고, 그 다음 탐색 구간의 크기는 절반으로 줄어든다. 따라서 최악의 경우, $\\frac{n}{2^k} = 1$을 만족할 때까지 반복문이 실행된다.    \n",
    "\n",
    "|비교 횟수 | 탐색구간 크기|\n",
    "|:-----:|:-----:|\n",
    "|1|$\\frac{n}{2}$|\n",
    "|2|$\\frac{n}{2^2}$|\n",
    "|3|$\\frac{n}{2^3}$|\n",
    "|$\\cdots$|$\\cdots$|\n",
    "|k|$\\frac{n}{2^k}$|\n",
    "\n",
    "즉, 최악의 경우 $k = \\log_2 n$번 항목과 값의 비교가 발생하며, 이진탐색 알고리즘의 시간복잡도는 $O(\\log n)$이 된다. "
   ]
  },
  {
   "cell_type": "markdown",
   "id": "d39ac247-411e-4af7-9e55-2a9f4243f745",
   "metadata": {},
   "source": [
    "순차탐색과는 달리 이진탐색은 모든 항목을 탐색하지 않는다. 이러한 이진탐색은 속도가 빠르다는 장점이 있지만, 정렬된 리스트에만 사용할 수 있다는 단점도 있다. 한 번 정렬해 둔 다음에 탐색을 많이 활용한다면 이진탐색이 속도가 빠르므로, 정렬 비용이 든다 하더라도 정렬을 할 가치가 있다. 하지만 리스트가 매우 긴 경우, 정렬 시간이 매우 오래 걸리기 때문에 그냥 순차탐색을 하는 것이 더 나을 수 있다.  "
   ]
  },
  {
   "cell_type": "markdown",
   "id": "e5e7369a-4072-44fc-9387-06f2ebbbff28",
   "metadata": {},
   "source": [
    "## 분할정복"
   ]
  },
  {
   "cell_type": "markdown",
   "id": "5974508f-2890-4dd8-b043-c546e7b6d656",
   "metadata": {},
   "source": [
    "분할정복<font size=\"2\">divide-and-conquer</font>은 직접 해결할 수 있을 정도로 단순해질 때까지 작은 문제로 분할하여 문제를 해결하는 방법을 말한다. 예를 들어, 이진탐색이 대표적인 분할정복 기법의 활용예제이다. 이진탐색의 경우 리스트를 절반으로 줄이는 과정을 반복하면서 항목의 포함여부를 판단하며, 작은 크기와 구간에 대한 포함여부가 판단되는 순간 그것을 원래 문제의 결론으로 사용하고 동시에 실행을 멈춘다.  \n",
    "\n",
    "분할정복 기법으로 해결되는 문제는 보통 재귀로 매우 효율적으로 해결된다. 이는 비록 재귀호출이 반복적으로 발생하기는 하지만 재귀호출 도중 결론이 나면 바로 실행이 완료되기 때문이다. 이러한 분할정복 기법은 다양한 알고리즘 문제 해결에 활용된다. 예를 들어, 다음 장에서 살펴볼 합병정렬과 퀵정렬도 분할정복 기법을 사용한다.   "
   ]
  },
  {
   "cell_type": "markdown",
   "id": "cdc4c55e-629e-42fb-b6c6-4323ab0e5249",
   "metadata": {},
   "source": [
    "하나의 리스트와 하나의 값을 입력 받아 이진탐색을 재귀함수로 구현하는 `binary_search_recursive()` 함수를 정의해보자.   "
   ]
  },
  {
   "cell_type": "code",
   "execution_count": 7,
   "id": "887c5809-bb93-4566-a687-079e67e3781b",
   "metadata": {},
   "outputs": [],
   "source": [
    "def binary_search_recursive(a_list, item) :\n",
    "    if len(a_list) == 0 :\n",
    "        return False\n",
    "    else :\n",
    "        mid = len(a_list) // 2\n",
    "        if a_list[mid] == item :\n",
    "            return True\n",
    "        elif item < a_list[mid] :\n",
    "            return binary_search_recursive(a_list[:mid], item)\n",
    "        else :\n",
    "            return binary_search_recursive(a_list[mid + 1 :], item) "
   ]
  },
  {
   "cell_type": "code",
   "execution_count": 8,
   "id": "7cfc33b3-17db-44dd-bc46-501f9ada2461",
   "metadata": {},
   "outputs": [
    {
     "name": "stdout",
     "output_type": "stream",
     "text": [
      "True\n",
      "True\n",
      "False\n"
     ]
    }
   ],
   "source": [
    "sorted_list_bs = [2, 5, 17, 22, 27, 35, 42, 51, 62, 70]\n",
    "print(binary_search_recursive(sorted_list_bs, 51))\n",
    "print(binary_search_recursive(sorted_list_bs, 17))\n",
    "print(binary_search_recursive(sorted_list_bs, 47))"
   ]
  },
  {
   "cell_type": "markdown",
   "id": "50818a11-ef8f-4525-bc7a-b5b1baa24421",
   "metadata": {},
   "source": [
    ":::{admonition} 디렉터리<font size=\"2\">directory, 폴더</font>와 파일<font size=\"2\">file</font> 다루기     \n",
    ":class: info  \n",
    "\n",
    "**`os` 모듈**  \n",
    "`os` 모듈은 운영체제에서 제공하는 여러 기능을 파이썬으로 조작 가능하게 한다. 여기서 `os`는 operating system<font size=\"2\">운영체제</font>의 약자이다.   \n",
    "\n",
    "* `os.getcwd()` : 현재 작업하고 있는 위치의 디렉터리<font size=\"2\">current working directory</font>를 문자열로 반환.  \n",
    "* `os.chdir(path)` : 작업 디렉터리를 변경.\n",
    "* `os.mkdir(path)` : `path`라는 디렉터리를 만든다. 디렉터리가 이미 존재하면, `FileExistsError`가 발생.  \n",
    "* `os.rmdir(path)` : 디렉터리 `path`를 삭제한다. 디렉터리가 존재하지 않으면 `FileNotFoundError`, 디렉터리가 비어있지 않으면 `OSError`가 발생.  \n",
    "* `os.unlink(path)` or `os.remove(path)`: 파일 `path`를 삭제한다. \n",
    "* `os.listdir(path)` : `path`에 의해 주어진 디렉터리에 있는 항목들의 이름을 담고 있는 리스트를 반환. \n",
    "\n",
    "\n",
    "**`zipfile` 모듈**   \n",
    "  \n",
    "`zipfile` 모듈은 zip 파일을 만들고, 읽고, 쓰고, 추가하는 일 등을 한다. 여기서는 파일을 압축하고, 해제하는 방법을 알아보자.  \n",
    "* `zipfile.ZipFile(path, mode = 'r')` : zip 파일을 읽고 쓰는 클래스.\n",
    "   * `mode = 'r'` : 읽기 모드\n",
    "   * `mode = 'w'` : 쓰기 모드 \n",
    "* `ZipFile.write(filename)` : 압축할 filename 지정  \n",
    "* `ZipFile.extractall()` : 모든 파일 압축 해제\n",
    "* `ZipFile.namelist()` : 압축 파일 내에 존재하는 파일명을 리스트로 반환.\n",
    "* `zipfile.close()` : zip 파일 닫기 \n",
    "\n",
    "예를 들어, 디렉터리 `my_dir`아래에 있는 `my_file01.txt`와 `my_file02.txt`를 압축하는 코드는 아래와 같다. \n",
    "```\n",
    "import zipfile\n",
    "\n",
    "my_zip = zipfile.ZipFile('./zipName.zip', 'w')\n",
    "my_zip.write('./my_dir/my_file01.txt')\n",
    "my_zip.write('./my_dir/my_file02.txt')\n",
    "my_zip.close()\n",
    "```\n",
    "\n",
    "그리고 `zipName.zip`을 해제하는 방법은 아래와 같다. \n",
    "```\n",
    "import zipfile \n",
    "\n",
    "my_zip = zipfile.ZipFile('./zipName.zip')\n",
    "my_zip.extractall() # 경로를 인자로 줄 수도 있음.\n",
    "\n",
    "```\n",
    "\n",
    "이제 파일에 저장된 데이터를 불러오거나 파일에 데이터를 저장하는 방법을 살펴보자. 이를 위해 파이썬 내장함수 `open(filename, mode='r')`을 사용한다. \n",
    "\n",
    "* `filename` : 파일 이름을 담은 문자열\n",
    "* `mode` : 파일이 사용될 방식\n",
    "  * `r` : 읽기 모드.\n",
    "  * `w` : 쓰기 모드. 같은 이름의 파일이 이미 존재하면, 그 파일의 내용은 모두 사라지고, 존재하지 않으면 새로운 파일이 생성됨.\n",
    "  * `a` : 추가 모드. 파일의 마지막에 새로운 내용을 추가시킬 때 사용. \n",
    "\n",
    "**새 파일에 쓰기**  \n",
    "* 새 파일을 생성한 후에 내용을 적어 넣으려면, `open()` 함수를 쓰기 모드(`w`-모드)를 이용하여, 아래 형식으로 호출. \n",
    "> `open('파일경로를 포함한 파일이름', 'w')`    \n",
    "* 생성된 파일에 내용을 추가하려면, `write()` 메서드를 활용한다.\n",
    "> `파일객체.write(추가내용)`  \n",
    "* 생성된 파일에 내용추가하기가 종료되었으면 해당 파일객체를 닫아야 함. 파일 객체를 닫는 것이 예상치 못한 오류를 방지.\n",
    "> `파일객체.close()`\n",
    "\n",
    "\n",
    "**파일 읽기**\n",
    "* 파일을 읽으려면, open 함수를 읽기 모드(r-모드)를 이용하여, 아래 형식으로 호출하면 된다.\n",
    "> `open('파일경로를 포함한 파일이름', 'r')`\n",
    "* `for ... in 파일객체` 형식으로 파일 내용 확인 가능. \n",
    "* `파일객체.readline()` 메서드 : 파일에 저장된 내용을 한 줄씩 읽어 들여 문자열로 반환. \n",
    "* `파일객체.readlines()` 메서드 : 파일에 저장된 내용의 각 줄을 항목으로 갖는 리스트 반환. \n",
    "* `파일객체.read()` 메서드 : 파일에 저장된 내용 전체를 하나의 문자열로 반환. \n",
    "\n",
    "**`with`문**  \n",
    "`with`문을 사용하면 `close()`를 사용하지 않아도 열린 파일을 자동으로 닫아 준다. 다음의 형식은 \n",
    "```\n",
    "with open('파일경로를 포함한 파일이름') as f :\n",
    "    코드\n",
    "```\n",
    "아래 코드에 대응한다. \n",
    "```\n",
    "f = open('파일경로를 포함한 파일이름')\n",
    "코드 \n",
    "f.close()\n",
    "```\n",
    ":::\n"
   ]
  },
  {
   "cell_type": "markdown",
   "id": "6405c289-ed4e-4c7d-b22e-55a112e4dcbc",
   "metadata": {},
   "source": [
    "## 연습 문제"
   ]
  },
  {
   "cell_type": "markdown",
   "id": "5e93101a-ba37-4984-a178-c8a47fba19bc",
   "metadata": {},
   "source": [
    "### 문제 "
   ]
  },
  {
   "cell_type": "markdown",
   "id": "3e23e4f9-808b-4fea-b210-5f88f98aa3c8",
   "metadata": {},
   "source": [
    "하나의 리스트와 타겟을 입력 받아 타겟의 인덱스를 반환하는 함수를 정의하여라.      \n",
    "\n",
    "(1) 순차탐색을 이용하는 함수 `sequential_search_index()`      \n",
    "(2) 이진탐색을 이용하는 함수 `binary_search_index()`   \n",
    "(3) 파이썬 리스트의 `index()` 메서드를 이용하는 함수 `list_index()`   "
   ]
  },
  {
   "cell_type": "markdown",
   "id": "24b1347d-9989-47e4-83cb-c53cca7d0fd6",
   "metadata": {},
   "source": [
    "크기가 10인 리스트와 100인 리스트를 임의로 만들어 위에서 만든 함수의 성능을 비교하여라.  \n",
    "\n",
    "임의의 리스트를 만들기 위해 `random` 모듈의 `sample()` 함수를 사용하자. `random.sample(population, k)`은 `population`에서 k개를 임의로 선택하여 리스트를 만든 다음 반환한다."
   ]
  },
  {
   "cell_type": "code",
   "execution_count": 9,
   "id": "cfba5329-072f-4015-b557-62ba21efa80a",
   "metadata": {},
   "outputs": [
    {
     "name": "stdout",
     "output_type": "stream",
     "text": [
      "[26, 38, 33, 96, 63, 72, 24, 12, 67, 8]\n"
     ]
    }
   ],
   "source": [
    "import random\n",
    "print(random.sample(range(100), 10))"
   ]
  },
  {
   "cell_type": "markdown",
   "id": "af826944-7c26-478e-8d8e-207134c3c788",
   "metadata": {},
   "source": [
    ":::{admonition} 주의    \n",
    ":class: caution  \n",
    "이진탐색은 정렬된 리스트를 탐색할 때 사용할 수 있는 알고리즘이다.  \n",
    ":::\n"
   ]
  },
  {
   "cell_type": "markdown",
   "id": "4ba7f03d-a896-453a-a0ee-5a9eb10d96a3",
   "metadata": {},
   "source": [
    "### 문제 "
   ]
  },
  {
   "cell_type": "markdown",
   "id": "c20311a1-586d-402d-8562-c4dad2feab41",
   "metadata": {},
   "source": [
    "ABC 제과는 새로 만든 과자를 출시할 예정이라 출시되는 과자의 맛을 맞추는 이벤트를 진행하고 있다. 이벤트 참여자들은 파일명(`이름.txt`)을 자신의 이름으로 하여, 텍스트 파일에 추측한 여러 개의 과자 맛을 공백으로 구분하여 작성하였고, 이를 압축(`cookie.zip`)하여 담당자에게 전달되었다.   \n",
    "\n",
    "(1) 어느 날 담당자는 이벤트 참여가 잘 되었는가를 묻는 이메일을 받았다. `cookie.zip`파일과 이름을 입력 받아, 그 이름이 파일명으로 있는지 여부를 확인해주는 `participant()`를 정의하여라. 이 함수는 이름이 파일명으로 있다면 `True`, 없다면 `False`를 반환하는 함수다. 동명이인은 없다고 가정한다. \n",
    "\n",
    "(2) 참여자들의 각 파일을 열어서 출시한 과자 맛이 있다면 `True`, 없다면 `False`로 정리하려고 한다. A 제과가 만든 과자의 맛은 `['초코', '딸기', '바나나', '옥수수', '감자']`이다. 예를 들어, A와 B가 다음과 같이 텍스트 파일을 제출하였다면, 아래와 같이 `result.txt`로 정리한다.   \n",
    "\n",
    "`A.txt` 파일에는 아래의 내용이 있다.  \n",
    "> `딸기 사과`  \n",
    "\n",
    "`B.txt` 파일에는 아래의 내용이 있다.  \n",
    "> `바나나 옥수수 초코`  \n",
    "\n",
    "`result.txt` 파일에는 다음과 같이 정리한다.  \n",
    "```\n",
    "A : True False\n",
    "B : True True True\n",
    "```\n",
    "\n",
    "정렬할 때는 `sorted()` 함수를 사용하면 된다. "
   ]
  },
  {
   "cell_type": "code",
   "execution_count": 10,
   "id": "7a1125a9-de01-4f84-92f6-59d0516e7704",
   "metadata": {},
   "outputs": [
    {
     "data": {
      "text/plain": [
       "['감자', '딸기', '바나나', '옥수수', '초코']"
      ]
     },
     "execution_count": 10,
     "metadata": {},
     "output_type": "execute_result"
    }
   ],
   "source": [
    "a_list = ['초코', '딸기', '바나나', '옥수수', '감자']\n",
    "sorted(a_list)"
   ]
  },
  {
   "cell_type": "markdown",
   "id": "f5081106-e5d1-45a8-a2f3-f1ed6b4355b5",
   "metadata": {},
   "source": [
    "### 문제"
   ]
  },
  {
   "cell_type": "markdown",
   "id": "6b50ab56-f1fc-49ea-94e6-f58983ba9abc",
   "metadata": {},
   "source": [
    "A는 가지고 있는 카드를 많이 내려놔야 이기는 게임을 하고 있다. 카드를 내려 놓기 위해서는 앞 사람이 낸 카드보다 더 큰 수여야 한다. 게임을 이기기 위해서는 가지고 있는 카드 중 가장 큰 숫자가 적힌 카드를 내려 놓기 보다는 앞 사람이 내려 놓은 카드보다 큰 숫자가 적힌 카드 중 가장 작은 숫자가 적힌 카드를 내려 놓는 것이 좋다. 가지고 있는 카드의 숫자가 담긴 리스트와 앞 사람이 낸 카드의 수를 입력받아 앞 사람이 낸 카드의 수보다 큰 수 중 가장 작은 수를 반환하는 `card_game()`함수를 정의하여라. 앞 사람이 낸 카드의 수보다 큰 수가 적힌 카드가 없다면, `False`를 반환한다. 이때, 숫자 리스트는 정렬되어 있다.   \n",
    "\n",
    "```python\n",
    ">>> print(card_game([1, 2, 3, 4, 8, 10, 12], 5))  \n",
    "8\n",
    "```\n",
    "\n",
    "```python\n",
    ">>> print(card_game([1, 2, 3, 4, 8, 10, 12], 14))  \n",
    "False\n",
    "```"
   ]
  },
  {
   "cell_type": "markdown",
   "id": "ebb84262-406f-4730-af6c-3fafccc74649",
   "metadata": {},
   "source": [
    "### 문제"
   ]
  },
  {
   "cell_type": "markdown",
   "id": "9cd6cd1a-85ad-48b3-bc09-d29f3c314aff",
   "metadata": {},
   "source": [
    "자동차 업계는 차량용 반도체 수급난으로 완성차 생산에 어려움을 겪고 있다. A 자동차 회사는 공장별로 필요한 반도체 수를 조사하고, 가지고 있는 재고 이하에서 가능한 최대로 각 공장에 반도체를 제공하려고 한다. 이때, 공장들이 제시한 반도체 개수들의 합이 A 회사의 재고보다 적으면 각 공장이 요청한만큼 반도체를 제공하고, 그렇지 않으면 상한을 정해 상한보다 적으면 그대로, 많으면 상한만큼의 반도체를 제공하려고 한다. 각 공장이 요청하는 반도체 개수를 담은 리스트와 재고량이 주어졌을 때, 제공된 반도체 중 최대의 개수를 반환하는 `semiconductor()`함수를 정의하여라.   \n",
    "\n",
    "* 공장이 요청하는 반도체 수는 40, 20, 50, 20이고, 재고는 200이므로 각 공장에 요청한 만큼의 반도체를 제공할 수 있다.  \n",
    "Input : `print(semiconductor([40, 20, 50, 20], 200))`  \n",
    "Output : `50`   \n",
    "\n",
    "* 공장이 요청하는 반도체 수는 40, 20, 50, 100이고, 재고는 200이므로, 각 공장이 요청한 만큼의 반도체를 제공할 수 없다. 상한가를 90으로 정하여, 90을 넘는 수를 요청한 공장에는 90만 제공한다. 그러면, 각 공장에는 40, 20, 50, 90의 반도체가 제공되고, 이 수는 재고량을 넘지 않는다.  \n",
    "Input : `print(semiconductor([40, 20, 50, 100], 200))`  \n",
    "Output : `90`  \n",
    "\n",
    "Input : `print(semiconductor([40, 20, 50, 30], 95))`  \n",
    "Output : `25`  \n",
    "\n",
    "Input : `print(semiconductor([40, 20, 50, 30], 96))`     \n",
    "Output : `25`  \n"
   ]
  }
 ],
 "metadata": {
  "kernelspec": {
   "display_name": "Python 3 (ipykernel)",
   "language": "python",
   "name": "python3"
  },
  "language_info": {
   "codemirror_mode": {
    "name": "ipython",
    "version": 3
   },
   "file_extension": ".py",
   "mimetype": "text/x-python",
   "name": "python",
   "nbconvert_exporter": "python",
   "pygments_lexer": "ipython3",
   "version": "3.8.10"
  },
  "toc-autonumbering": true
 },
 "nbformat": 4,
 "nbformat_minor": 5
}