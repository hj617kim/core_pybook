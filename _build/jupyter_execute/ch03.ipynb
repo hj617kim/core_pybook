{
 "cells": [
  {
   "cell_type": "markdown",
   "id": "e50243d6-283b-4947-b36a-f95a07a79493",
   "metadata": {},
   "source": [
    "# 기초 I(기본 자료형, 변수, 함수)"
   ]
  },
  {
   "cell_type": "markdown",
   "id": "3171e40b-1b25-4448-b3c3-9222f950f1d7",
   "metadata": {
    "tags": []
   },
   "source": [
    "## 기본 자료형"
   ]
  },
  {
   "cell_type": "markdown",
   "id": "25411447-1ee6-4cd0-91fe-8fbc487e7974",
   "metadata": {},
   "source": [
    "자료형<font size = \"2\">Data Type</font>은 컴파일러나 인터프리터에게 데이터를 어떻게 사용할 것인지 알려주는 데이터 속성 중 하나다.   \n",
    "파이썬에서 지원하는 몇 가지 주요 자료형을 간단히 살펴보자. "
   ]
  },
  {
   "cell_type": "markdown",
   "id": "6bf0f118-9cc6-46e6-9751-b677beb2b77e",
   "metadata": {},
   "source": [
    "* 숫자형 <font size = \"2\">Numeric Types</font>\n",
    "    * 정수형 <font size = \"2\">Integral</font>\n",
    "        * 정수 <font size = \"2\">`int`</font>\n",
    "        * 불리언 <font size = \"2\">`bool`</font>\n",
    "    * 부동소수점 <font size = \"2\">`float`</font>\n",
    "\n",
    "* 문자열 <font size = \"2\">`str`</font>\n",
    "* `None`"
   ]
  },
  {
   "cell_type": "markdown",
   "id": "b9c2430a-70e4-478b-a364-a5ace82d9187",
   "metadata": {
    "tags": []
   },
   "source": [
    "### 정수 "
   ]
  },
  {
   "cell_type": "markdown",
   "id": "9417a134-ffa0-4c44-a32d-5b224a0c2671",
   "metadata": {},
   "source": [
    "일반적으로 알고 있는 정수<font size = \"2\">int</font>(자연수, 0, 음의 정수)들의 자료형이다. 정수형으로 나타내면 덧셈, 뺄셈, 곱셈, 나눗셈 등의 기본 연산이 가능하다.  \n",
    "예를 들어, ..., -3, -2, -1, 0, 1, 2, 3, ...은 모두 정수형(`int`)이다.  "
   ]
  },
  {
   "cell_type": "code",
   "execution_count": 1,
   "id": "e3ba659d-26a5-4530-acfd-f16f5682e8ec",
   "metadata": {},
   "outputs": [
    {
     "data": {
      "text/plain": [
       "1"
      ]
     },
     "execution_count": 1,
     "metadata": {},
     "output_type": "execute_result"
    }
   ],
   "source": [
    "2 + 3 - 4"
   ]
  },
  {
   "cell_type": "code",
   "execution_count": 2,
   "id": "35c51c5d-0190-4339-80ec-b1042c29ff23",
   "metadata": {},
   "outputs": [
    {
     "data": {
      "text/plain": [
       "8"
      ]
     },
     "execution_count": 2,
     "metadata": {},
     "output_type": "execute_result"
    }
   ],
   "source": [
    "4 * 2"
   ]
  },
  {
   "cell_type": "markdown",
   "id": "a0740b75-4e2d-4794-a0e5-be86ebae8419",
   "metadata": {
    "tags": []
   },
   "source": [
    "### 부동소수점  "
   ]
  },
  {
   "cell_type": "markdown",
   "id": "0ab80bb1-dacd-4502-a9ea-cffa42758e3f",
   "metadata": {},
   "source": [
    "부동소수점<font size = \"2\">float</font>은 원래 실수를 컴퓨터에서 다루기 위해 개발되었으나 실제로는 유리수 일부만을 다룬다. 무리수인 원주율 $\\pi$의 경우에도 컴퓨터의 한계로 인해 소수점 이하 적당한 자리에서 끊어서 사용한다. 예를 들어, 1.2, 0.333, -1.2, -3.7680, 4.0, .7 등은 모두 부동소수점형(`float`)이다.  "
   ]
  },
  {
   "cell_type": "code",
   "execution_count": 3,
   "id": "dbabb252-7f78-4959-aa99-e761ab392d95",
   "metadata": {},
   "outputs": [
    {
     "data": {
      "text/plain": [
       "4.7"
      ]
     },
     "execution_count": 3,
     "metadata": {},
     "output_type": "execute_result"
    }
   ],
   "source": [
    "1.2 + 3.5"
   ]
  },
  {
   "cell_type": "markdown",
   "id": "aae575db-a12d-499b-9955-18c8e74b00bc",
   "metadata": {},
   "source": [
    ":::{admonition} 참고  \n",
    ":class: info  \n",
    "정수부나 소수부가 0이라면 생략하고 작성할 수 있다. 예를 들어, `0.7`은 `.7`로, `1.0`은 `1.`이라고 작성할 수 있다.  \n",
    "```python \n",
    ">>> 0.7 == .7\n",
    "True\n",
    ">>> 1.0 == 1.\n",
    "True\n",
    "```\n",
    ":::"
   ]
  },
  {
   "cell_type": "markdown",
   "id": "c91dc198-9f65-41ed-995e-2cf7c25bb53c",
   "metadata": {},
   "source": [
    ":::{admonition} 지수 표현 방식  \n",
    ":class: info  \n",
    "`e`나 `E` 다음에 오는 수는 10의 지수가 된다. 예를 들어, `30000.0`은 `3e4` 또는 `3E4`라고 작성할 수 있다.\n",
    "```python \n",
    ">>> 30000.0 == 3e4\n",
    "True\n",
    ">>> 30000.0 == 3E4\n",
    "True\n",
    "```\n",
    "이렇게 표현된 수는 부동소수점이다. \n",
    ":::"
   ]
  },
  {
   "cell_type": "markdown",
   "id": "17d7f027-047d-480e-9547-558113b8cbdc",
   "metadata": {},
   "source": [
    ":::{admonition} 부동소수점의 한계  \n",
    ":class: caution  \n",
    "부동소수점은 십진 소수를 정확하게 표현하지 못한다. 예를 들어, `0.1 + 0.1 + 0.1`을 계산하면 0.30000000000000004으로 `0.3`이 같은지를 확인하면 `False`가 나온다. \n",
    "\n",
    "```python\n",
    ">>> 0.1 + 0.1 + 0.1\n",
    "0.30000000000000004\n",
    ">>> 0.1 + 0.1 + 0.1 == 0.3\n",
    "False\n",
    "```\n",
    ":::"
   ]
  },
  {
   "cell_type": "markdown",
   "id": "dc43af82-24a8-4035-bf8b-3829373934e3",
   "metadata": {
    "tags": []
   },
   "source": [
    "#### 기본 연산"
   ]
  },
  {
   "cell_type": "markdown",
   "id": "359ffea3-2b37-479e-843a-9bf33c454c21",
   "metadata": {},
   "source": [
    "파이썬의 기본 연산을 표로 정리하면 아래와 같다. "
   ]
  },
  {
   "cell_type": "markdown",
   "id": "053240f5-57d4-40ad-86e1-fc73c902b21a",
   "metadata": {},
   "source": [
    "|연산 기호|의미|예시|실행 결과|\n",
    "|:----------:|:----------:|:----------:|:--------:|\n",
    "|`+`|덧셈| `3 + 4` |`7`|\n",
    "|`-`|뺄셈| `7 - 2` | `5`|\n",
    "|`*`|곱셈| `2 * 6` | `12`|\n",
    "|`/`|나눗셈|`14 / 4`|`3.5`|\n",
    "|`**`|지수|`2 ** 3`|`8`|\n",
    "|`//`|몫|`9 // 2`|`4`|\n",
    "|`%`|나머지|`3 % 2`|`1`|"
   ]
  },
  {
   "cell_type": "code",
   "execution_count": 4,
   "id": "b53168cc-4802-43d2-a9a5-378c19528559",
   "metadata": {},
   "outputs": [
    {
     "data": {
      "text/plain": [
       "343"
      ]
     },
     "execution_count": 4,
     "metadata": {},
     "output_type": "execute_result"
    }
   ],
   "source": [
    "7 ** 3"
   ]
  },
  {
   "cell_type": "code",
   "execution_count": 5,
   "id": "d3f7f75d-eab7-4284-a5f8-a943ec0efdf4",
   "metadata": {},
   "outputs": [
    {
     "data": {
      "text/plain": [
       "3.0"
      ]
     },
     "execution_count": 5,
     "metadata": {},
     "output_type": "execute_result"
    }
   ],
   "source": [
    "9 ** 0.5"
   ]
  },
  {
   "cell_type": "code",
   "execution_count": 6,
   "id": "d00f8ea5-bc6e-44d0-a265-11b1b546ba13",
   "metadata": {},
   "outputs": [
    {
     "data": {
      "text/plain": [
       "2.3333333333333335"
      ]
     },
     "execution_count": 6,
     "metadata": {},
     "output_type": "execute_result"
    }
   ],
   "source": [
    "7 / 3"
   ]
  },
  {
   "cell_type": "code",
   "execution_count": 7,
   "id": "3c66d523-8c9d-47ce-8811-bf64fb06b903",
   "metadata": {},
   "outputs": [
    {
     "data": {
      "text/plain": [
       "2"
      ]
     },
     "execution_count": 7,
     "metadata": {},
     "output_type": "execute_result"
    }
   ],
   "source": [
    "7 // 3 "
   ]
  },
  {
   "cell_type": "code",
   "execution_count": 8,
   "id": "b64907c4-83a1-4b50-a2c3-60f2600ed0b4",
   "metadata": {},
   "outputs": [
    {
     "data": {
      "text/plain": [
       "1"
      ]
     },
     "execution_count": 8,
     "metadata": {},
     "output_type": "execute_result"
    }
   ],
   "source": [
    "7 % 3"
   ]
  },
  {
   "cell_type": "markdown",
   "id": "31830710-6dfa-4929-853c-79041958addf",
   "metadata": {},
   "source": [
    ":::{admonition} 참고  \n",
    ":class: info\n",
    "\n",
    "(a // b) * b + a % b 를 구하면 a이다. \n",
    ":::"
   ]
  },
  {
   "cell_type": "code",
   "execution_count": 9,
   "id": "eb321889-1621-4a0d-885a-ae2fc36d922b",
   "metadata": {},
   "outputs": [
    {
     "data": {
      "text/plain": [
       "True"
      ]
     },
     "execution_count": 9,
     "metadata": {},
     "output_type": "execute_result"
    }
   ],
   "source": [
    "7 == (7 // 3) * 3 + 7 % 3"
   ]
  },
  {
   "cell_type": "code",
   "execution_count": 10,
   "id": "1d757f52-c0b8-47a1-8904-6d626a4d4741",
   "metadata": {},
   "outputs": [
    {
     "data": {
      "text/plain": [
       "True"
      ]
     },
     "execution_count": 10,
     "metadata": {},
     "output_type": "execute_result"
    }
   ],
   "source": [
    "-7 == (-7 // 3) * 3 + (-7 % 3)"
   ]
  },
  {
   "cell_type": "markdown",
   "id": "74be570e-bf83-4fdd-a88f-43aa9a63890b",
   "metadata": {
    "tags": []
   },
   "source": [
    "### 문자열 "
   ]
  },
  {
   "cell_type": "markdown",
   "id": "05d3ff52-7432-45b9-96e6-656a252bac10",
   "metadata": {},
   "source": [
    "문자열<font size = \"2\">str</font>은 문자들을 나열한 값들을 일컫는 자료형으로 작은 따옴표(`'`) 또는 큰 따옴표(`\"`)를 사용한다. "
   ]
  },
  {
   "cell_type": "code",
   "execution_count": 11,
   "id": "0788c462-df66-44e2-b014-c59ba62073d9",
   "metadata": {},
   "outputs": [
    {
     "data": {
      "text/plain": [
       "'Hello, World'"
      ]
     },
     "execution_count": 11,
     "metadata": {},
     "output_type": "execute_result"
    }
   ],
   "source": [
    "'Hello, World'"
   ]
  },
  {
   "cell_type": "code",
   "execution_count": 12,
   "id": "5eed8304-97f6-4026-8acd-1dfb7ddb76c0",
   "metadata": {},
   "outputs": [
    {
     "data": {
      "text/plain": [
       "'Hello, World'"
      ]
     },
     "execution_count": 12,
     "metadata": {},
     "output_type": "execute_result"
    }
   ],
   "source": [
    "\"Hello, World\""
   ]
  },
  {
   "cell_type": "markdown",
   "id": "8426d180-ca20-4ef3-958a-12c80bc0fd99",
   "metadata": {},
   "source": [
    "````{prf:example}\n",
    ":label: str-example\n",
    "\n",
    "`Hello, \"World\"`를 보이는 그대로 출력하는 코드를 작성하여라. \n",
    "````"
   ]
  },
  {
   "cell_type": "markdown",
   "id": "ffccc828-b424-4326-b65c-9d7bd284f821",
   "metadata": {},
   "source": [
    "문자열 내부에서 큰 따옴표를 사용하고 싶을 때는 작은 따옴표로 문자열을 감싸면 된다. "
   ]
  },
  {
   "cell_type": "code",
   "execution_count": 13,
   "id": "1770c9ee-2b54-4e2c-80f7-4268e88dab54",
   "metadata": {},
   "outputs": [
    {
     "name": "stdout",
     "output_type": "stream",
     "text": [
      "Hello, \"World\"\n"
     ]
    }
   ],
   "source": [
    "print('Hello, \"World\"')"
   ]
  },
  {
   "cell_type": "markdown",
   "id": "7636b7f3-3358-4915-a8cd-6fe7251c7279",
   "metadata": {},
   "source": [
    "반대로 문자열 내부에서 작은 따옴표를 사용하고 싶을 때는 큰 따옴표로 문자열을 감싸면 된다."
   ]
  },
  {
   "cell_type": "code",
   "execution_count": 14,
   "id": "074fca0a-3733-4fab-ad26-ad2b20eed56b",
   "metadata": {},
   "outputs": [
    {
     "name": "stdout",
     "output_type": "stream",
     "text": [
      "I'm a student\n"
     ]
    }
   ],
   "source": [
    "print(\"I'm a student\")"
   ]
  },
  {
   "cell_type": "markdown",
   "id": "357cb229-4c82-4b1e-9f09-d2f44c4c3adb",
   "metadata": {},
   "source": [
    "백슬래시(`\\`, 한글 키보드에서는 원화기호￦를 사용)를 사용하여 문자열 내부에서 사용되는 따옴표의 특수 역할을 해제<font size = \"2\">escape</font>할 수 있다. "
   ]
  },
  {
   "cell_type": "code",
   "execution_count": 15,
   "id": "9241997e-d8ab-4ff8-9816-21ac174b2f0f",
   "metadata": {},
   "outputs": [
    {
     "name": "stdout",
     "output_type": "stream",
     "text": [
      "Hello, \"World\"\n"
     ]
    }
   ],
   "source": [
    "print(\"Hello, \\\"World\\\"\")"
   ]
  },
  {
   "cell_type": "markdown",
   "id": "4431d010-8a58-4d3e-910b-010d5f67b579",
   "metadata": {},
   "source": [
    "여러 줄로 이루어진 문자열은 삼중 따옴표(`''' '''` 또는 `\"\"\" \"\"\"`)를 사용할 수 있다. "
   ]
  },
  {
   "cell_type": "code",
   "execution_count": 16,
   "id": "f9849726-201c-4582-9ad0-ebe7217a02f3",
   "metadata": {},
   "outputs": [
    {
     "name": "stdout",
     "output_type": "stream",
     "text": [
      "\n",
      "Hello,\n",
      " World\n",
      "\n"
     ]
    }
   ],
   "source": [
    "print('''\n",
    "Hello,\n",
    " World\n",
    "''')"
   ]
  },
  {
   "cell_type": "code",
   "execution_count": 17,
   "id": "0131a796-0c74-4803-9025-77c6b79b40a5",
   "metadata": {},
   "outputs": [
    {
     "name": "stdout",
     "output_type": "stream",
     "text": [
      "\n",
      "Hello,\n",
      " World\n",
      "\n"
     ]
    }
   ],
   "source": [
    "print(\"\"\"\n",
    "Hello,\n",
    " World\n",
    "\"\"\")"
   ]
  },
  {
   "cell_type": "markdown",
   "id": "ddf638e9-91f3-4cdc-9e81-d6e1a9eab13a",
   "metadata": {},
   "source": [
    "#### 문자열에 특수 문자 활용하기"
   ]
  },
  {
   "cell_type": "markdown",
   "id": "e4445fdf-9cb4-4a34-a65c-ecd3d103d75c",
   "metadata": {},
   "source": [
    "백슬래시(￦), 줄바꾸기(￦n), 탭(￦t) 등은 문자열에 사용될 경우 특수한 기능을 갖는다."
   ]
  },
  {
   "cell_type": "code",
   "execution_count": 18,
   "id": "a3cae51b-3db4-4994-aa9b-3ccf35a80e06",
   "metadata": {},
   "outputs": [
    {
     "name": "stdout",
     "output_type": "stream",
     "text": [
      "Hello\n",
      " World\n"
     ]
    }
   ],
   "source": [
    "print(\"Hello\\n World\")"
   ]
  },
  {
   "cell_type": "code",
   "execution_count": 19,
   "id": "6266f8b5-4dc2-4031-b3a7-1071b739d39d",
   "metadata": {},
   "outputs": [
    {
     "name": "stdout",
     "output_type": "stream",
     "text": [
      "Hello\t World\n"
     ]
    }
   ],
   "source": [
    "print(\"Hello\\t World\")"
   ]
  },
  {
   "cell_type": "markdown",
   "id": "95f05088-69b9-4712-9ccb-7ab0c080f837",
   "metadata": {},
   "source": [
    "백슬래시(`\\`)기호를 붙여서 특수 기능을 해제<font size= \"2\">escape</font>할 수 있다."
   ]
  },
  {
   "cell_type": "code",
   "execution_count": 20,
   "id": "9af78d59-e12b-4bcd-8bfc-f14a2d8fa5b5",
   "metadata": {},
   "outputs": [
    {
     "name": "stdout",
     "output_type": "stream",
     "text": [
      "Hello\\n World\n"
     ]
    }
   ],
   "source": [
    "print(\"Hello\\\\n World\")"
   ]
  },
  {
   "cell_type": "code",
   "execution_count": 21,
   "id": "178693f7-2a14-45b3-8fb4-db42c408f3c4",
   "metadata": {},
   "outputs": [
    {
     "name": "stdout",
     "output_type": "stream",
     "text": [
      "Hello\\t World\n"
     ]
    }
   ],
   "source": [
    "print(\"Hello\\\\t World\")"
   ]
  },
  {
   "cell_type": "code",
   "execution_count": 22,
   "id": "5eebdcac-4488-4591-8aba-549a265e9bd0",
   "metadata": {},
   "outputs": [
    {
     "name": "stdout",
     "output_type": "stream",
     "text": [
      "Good\\night\n"
     ]
    }
   ],
   "source": [
    "print(\"Good\\\\night\")"
   ]
  },
  {
   "cell_type": "markdown",
   "id": "7618332c-856b-4dd6-9e27-9a39d959105c",
   "metadata": {},
   "source": [
    "연속된 백슬래시 두 개를 출력하려면 아래와 같이 해야 한다."
   ]
  },
  {
   "cell_type": "code",
   "execution_count": 23,
   "id": "6c2f6951-a172-4be8-9a66-d7d9bb8ed67e",
   "metadata": {},
   "outputs": [
    {
     "name": "stdout",
     "output_type": "stream",
     "text": [
      "\\\\\n"
     ]
    }
   ],
   "source": [
    "print(\"\\\\\\\\\")"
   ]
  },
  {
   "cell_type": "markdown",
   "id": "61a6f912-e4cc-4675-8b1c-264d09157f54",
   "metadata": {},
   "source": [
    ":::{admonition} 주의  \n",
    ":class: caution  \n",
    "\n",
    "아래와 같이 코드를 작성하면 오류가 발생하므로 주의해야 한다.\n",
    "\n",
    "```python\n",
    ">>> print(\"\\\\\\\")\n",
    "  File \"/tmp/ipykernel_76/2337434698.py\", line 1\n",
    "    print(\"\\\\\\\")\n",
    "                ^\n",
    "SyntaxError: EOL while scanning string literal\n",
    "```\n",
    ":::"
   ]
  },
  {
   "cell_type": "markdown",
   "id": "77fdc8e5-7df7-4944-8007-214617177f8c",
   "metadata": {},
   "source": [
    ":::{admonition} 순수 문자열  \n",
    ":class: info  \n",
    "'가공되지 않은'의 의미를 갖는 'raw' 단어의 첫 글자인 'r'을 문자열 앞에 두면 특수 기능이 사라진다.\n",
    ":::"
   ]
  },
  {
   "cell_type": "code",
   "execution_count": 24,
   "id": "13ba7f5f-b5a9-40e5-abc1-7402d2e85ad5",
   "metadata": {},
   "outputs": [
    {
     "name": "stdout",
     "output_type": "stream",
     "text": [
      "Hello\\n World\n"
     ]
    }
   ],
   "source": [
    "print(r\"Hello\\n World\")"
   ]
  },
  {
   "cell_type": "code",
   "execution_count": 25,
   "id": "871bac3c-b3f3-4901-acfd-4101266d2090",
   "metadata": {},
   "outputs": [
    {
     "name": "stdout",
     "output_type": "stream",
     "text": [
      "Hello\\t World\n"
     ]
    }
   ],
   "source": [
    "print(r\"Hello\\t World\")"
   ]
  },
  {
   "cell_type": "code",
   "execution_count": 26,
   "id": "0e4a7293-5311-4060-bfa2-1a8bebeb1884",
   "metadata": {},
   "outputs": [
    {
     "name": "stdout",
     "output_type": "stream",
     "text": [
      "Hello\\ World\n"
     ]
    }
   ],
   "source": [
    "print(r\"Hello\\ World\")"
   ]
  },
  {
   "cell_type": "markdown",
   "id": "b7612652-4523-494d-8858-6fb60053e2eb",
   "metadata": {},
   "source": [
    "#### 기본 연산"
   ]
  },
  {
   "cell_type": "markdown",
   "id": "b239ceae-0f6c-4b1e-a154-7c5b75b38c58",
   "metadata": {},
   "source": [
    "|연산 기호|의미|예시|실행 결과|\n",
    "|:----------:|:----------:|:----------:|:--------:|\n",
    "|`+`|덧셈| `'Hello ' + 'python'` |`'Hello python'`|\n",
    "|`*`|곱셈| `3*'Hello '` | `Hello Hello Hello `|"
   ]
  },
  {
   "cell_type": "markdown",
   "id": "0e41898d-7e2e-48ca-b649-f78c09f22b00",
   "metadata": {},
   "source": [
    "#### f-string"
   ]
  },
  {
   "cell_type": "markdown",
   "id": "e139ee8a-1850-40fc-852d-f68c53b942b6",
   "metadata": {},
   "source": [
    "문자열 앞에 `f`를 붙이면, 문자열 포매팅 <font size = \"2\" >string formatting</font>을 사용할 수 있다. "
   ]
  },
  {
   "cell_type": "markdown",
   "id": "01871020-e1ee-4a8c-bd4b-2a8a9a46c42c",
   "metadata": {},
   "source": [
    ":::{admonition} 문자열 포매팅 <font size = \"2\" >string formatting</font>  \n",
    ":class: info  \n",
    "문자열 포매팅이란 문자열 안에 값을 삽입하는 방법이다. \n",
    ":::\n"
   ]
  },
  {
   "cell_type": "markdown",
   "id": "5a03d23b-717f-4955-ab5d-a8a3af62077c",
   "metadata": {},
   "source": [
    "예제와 함께 살펴보자. "
   ]
  },
  {
   "cell_type": "code",
   "execution_count": 27,
   "id": "5be51c08-59db-40ee-8a5f-a2eefb95a98a",
   "metadata": {},
   "outputs": [
    {
     "data": {
      "text/plain": [
       "'강현님, 안녕하세요.'"
      ]
     },
     "execution_count": 27,
     "metadata": {},
     "output_type": "execute_result"
    }
   ],
   "source": [
    "name = '강현'\n",
    "f'{name}님, 안녕하세요.'"
   ]
  },
  {
   "cell_type": "code",
   "execution_count": 28,
   "id": "b3638631-fd07-4361-abcb-1a6cc48b2e8a",
   "metadata": {},
   "outputs": [
    {
     "data": {
      "text/plain": [
       "'강현이는 3살이다.'"
      ]
     },
     "execution_count": 28,
     "metadata": {},
     "output_type": "execute_result"
    }
   ],
   "source": [
    "age = 3\n",
    "f'강현이는 {age}살이다.'"
   ]
  },
  {
   "cell_type": "code",
   "execution_count": 29,
   "id": "406d8b6c-8a1e-4ff2-8a58-08a33262b6fe",
   "metadata": {},
   "outputs": [
    {
     "data": {
      "text/plain": [
       "'강현이는 3살이다.'"
      ]
     },
     "execution_count": 29,
     "metadata": {},
     "output_type": "execute_result"
    }
   ],
   "source": [
    "name = '강현'\n",
    "age = 3\n",
    "f'{name}이는 {age}살이다.'"
   ]
  },
  {
   "cell_type": "markdown",
   "id": "7c2e8de9-bc3f-4e6e-ba7e-908130a48ed3",
   "metadata": {},
   "source": [
    "`{}`안에 변수와 수식(`+`, `-`, `*`, `/` 등)을 함께 사용하는 것도 가능하다. "
   ]
  },
  {
   "cell_type": "code",
   "execution_count": 30,
   "id": "d0be141c-ef89-489d-901d-17219a3fb913",
   "metadata": {},
   "outputs": [
    {
     "data": {
      "text/plain": [
       "'강현이의 동생은 1살이다'"
      ]
     },
     "execution_count": 30,
     "metadata": {},
     "output_type": "execute_result"
    }
   ],
   "source": [
    "name = '강현'\n",
    "age = 3\n",
    "f'{name}이의 동생은 {age - 2}살이다'"
   ]
  },
  {
   "cell_type": "markdown",
   "id": "c1225833-0893-44b4-b9d0-daec11d02231",
   "metadata": {},
   "source": [
    "**소수점 표현**  \n",
    "\n",
    "콜론(`:`) 뒤에 소수점아래 몇 번째 자리까지 출력할지를 적어주면, 그 만큼을 보여준다.  \n",
    "예제와 함께 살펴보자. \n",
    "* `.`은 소수점을 의미하고, 소수점 뒤의 숫자는 소수점 뒤에 나올 숫자의 개수다.  "
   ]
  },
  {
   "cell_type": "code",
   "execution_count": 31,
   "id": "ffdeb26a-9479-4ae7-88af-ca7bc5be113e",
   "metadata": {},
   "outputs": [
    {
     "name": "stdout",
     "output_type": "stream",
     "text": [
      "0.1\n",
      "0.12\n",
      "0.123\n",
      "0.12346\n"
     ]
    }
   ],
   "source": [
    "num = 0.123456789\n",
    "print(f'{num:.1f}')\n",
    "print(f'{num:.2f}')\n",
    "print(f'{num:.3f}')\n",
    "print(f'{num:.5f}')  # 소수점 아래 여섯 번째 자리에서 반올림"
   ]
  },
  {
   "cell_type": "markdown",
   "id": "cf47b18a-eac8-4281-82ef-f27ae2cf7ef0",
   "metadata": {},
   "source": [
    "**문자열 정렬**"
   ]
  },
  {
   "cell_type": "code",
   "execution_count": 32,
   "id": "4a7cffce-c263-4281-abee-4a446d97a97a",
   "metadata": {},
   "outputs": [],
   "source": [
    "num1 = 0.12\n",
    "num2 = 0.12345\n",
    "num3 = 0.12345678"
   ]
  },
  {
   "cell_type": "code",
   "execution_count": 33,
   "id": "c6d11154-21ef-464c-b02e-995abb67a416",
   "metadata": {},
   "outputs": [
    {
     "name": "stdout",
     "output_type": "stream",
     "text": [
      "He paid 0.12 dollars.\n",
      "He paid 0.12345 dollars.\n",
      "He paid 0.12345678 dollars.\n"
     ]
    }
   ],
   "source": [
    "print(f\"He paid {num1} dollars.\")\n",
    "print(f\"He paid {num2} dollars.\")\n",
    "print(f\"He paid {num3} dollars.\")"
   ]
  },
  {
   "cell_type": "markdown",
   "id": "68f7b678-2910-4fca-a945-b0f3a4366797",
   "metadata": {},
   "source": [
    "* 콜론`:` 뒤에 `<`은 왼쪽 정렬, `>`은 오른쪽 정렬, `^`은 가운데 정렬을 의미한다. \n",
    "* 정렬 문자(`<`, `>`, `^`) 뒤에 숫자만큼의 공간을 사용한다.\n",
    "* 정렬 문자(`<`, `>`, `^`) 앞에 문자를 적으면 그 문자로 공백을 채운다. "
   ]
  },
  {
   "cell_type": "code",
   "execution_count": 34,
   "id": "f7995bcb-0522-4e53-9a76-e36a97b8aba3",
   "metadata": {},
   "outputs": [
    {
     "name": "stdout",
     "output_type": "stream",
     "text": [
      "He paid       0.12 dollars.\n",
      "He paid    0.12345 dollars.\n",
      "He paid 0.12345678 dollars.\n"
     ]
    }
   ],
   "source": [
    "print(f\"He paid {num1:>10} dollars.\")\n",
    "print(f\"He paid {num2:>10} dollars.\")\n",
    "print(f\"He paid {num3:>10} dollars.\")"
   ]
  },
  {
   "cell_type": "code",
   "execution_count": 35,
   "id": "73b241e7-7142-48e7-85af-dcd39bf636bc",
   "metadata": {},
   "outputs": [
    {
     "name": "stdout",
     "output_type": "stream",
     "text": [
      "He paid 0.12       dollars.\n",
      "He paid 0.12345    dollars.\n",
      "He paid 0.12345678 dollars.\n"
     ]
    }
   ],
   "source": [
    "print(f\"He paid {num1:<10} dollars.\")\n",
    "print(f\"He paid {num2:<10} dollars.\")\n",
    "print(f\"He paid {num3:<10} dollars.\")"
   ]
  },
  {
   "cell_type": "code",
   "execution_count": 36,
   "id": "8862fc5f-13bb-4386-817b-ebd493c1992a",
   "metadata": {},
   "outputs": [
    {
     "name": "stdout",
     "output_type": "stream",
     "text": [
      "He paid    0.12    dollars.\n",
      "He paid  0.12345   dollars.\n",
      "He paid 0.12345678 dollars.\n"
     ]
    }
   ],
   "source": [
    "print(f\"He paid {num1:^10} dollars.\")\n",
    "print(f\"He paid {num2:^10} dollars.\")\n",
    "print(f\"He paid {num3:^10} dollars.\")"
   ]
  },
  {
   "cell_type": "code",
   "execution_count": 37,
   "id": "28e64dbd-a234-4e07-aacc-804a3290f7d5",
   "metadata": {},
   "outputs": [
    {
     "name": "stdout",
     "output_type": "stream",
     "text": [
      "He paid ........0.12........ dollars.\n",
      "He paid ......0.12345....... dollars.\n",
      "He paid .....0.12345678..... dollars.\n"
     ]
    }
   ],
   "source": [
    "print(f\"He paid {num1:.^20} dollars.\")\n",
    "print(f\"He paid {num2:.^20} dollars.\")\n",
    "print(f\"He paid {num3:.^20} dollars.\")"
   ]
  },
  {
   "cell_type": "markdown",
   "id": "12f6777f-d03b-44f3-9ec1-a71c338d0b04",
   "metadata": {},
   "source": [
    "소수점 표현과 정렬을 동시에 사용할 수도 있다."
   ]
  },
  {
   "cell_type": "code",
   "execution_count": 38,
   "id": "a0599ec1-3650-42fc-8682-4532e21f5672",
   "metadata": {},
   "outputs": [
    {
     "name": "stdout",
     "output_type": "stream",
     "text": [
      "He paid ******0.12 dollars.\n",
      "He paid *****0.123 dollars."
     ]
    },
    {
     "name": "stdout",
     "output_type": "stream",
     "text": [
      "\n",
      "He paid ****0.1235 dollars.\n"
     ]
    }
   ],
   "source": [
    "print(f\"He paid {num:*>10.2f} dollars.\")\n",
    "print(f\"He paid {num:*>10.3f} dollars.\")\n",
    "print(f\"He paid {num:*>10.4f} dollars.\")"
   ]
  },
  {
   "cell_type": "markdown",
   "id": "4c0fc6b5-9498-4046-ad9e-c0a1297e7685",
   "metadata": {
    "tags": []
   },
   "source": [
    "### 불리언 "
   ]
  },
  {
   "cell_type": "markdown",
   "id": "846a766c-9932-43c6-947b-234848467c25",
   "metadata": {},
   "source": [
    "불리언<font size = \"2\">bool</font>자료형은 참(`True`)과 거짓(`False`)를 나타내는 자료형이다. 파이썬에서 불리언 자료형은 `int` 형의 자식형<font size = \"2\"> subtype</font>이고, 대부분의 상황에서 `True`와 `False`는 각각 `1`과 `0`처럼 동작한다. "
   ]
  },
  {
   "cell_type": "markdown",
   "id": "d5a60ad2-f0e2-4452-a6aa-1801d24dcdd7",
   "metadata": {},
   "source": [
    "#### 논리 연산자"
   ]
  },
  {
   "cell_type": "markdown",
   "id": "5d0d9be6-2d41-49af-9f86-f8c3ec902208",
   "metadata": {},
   "source": [
    "|연산 기호|의미|예시|실행 결과|\n",
    "|:----------:|:----------:|:----------:|:--------:|\n",
    "|`and`|그리고|`True and False`|`False`|\n",
    "|`or`|또는|`True or False`|`True`|\n",
    "|`not`|부정|`not False`|`True`|"
   ]
  },
  {
   "cell_type": "markdown",
   "id": "01cdfe51-bef6-44e3-a887-8a0089291b8c",
   "metadata": {},
   "source": [
    ":::{admonition} 참고  \n",
    ":class: info\n",
    "\n",
    "`x and y`는 `x`가 참일 때만 `y`를 확인한다.  \n",
    "`x or y`는 `x`가 거짓일 때만 `y`를 확인한다.\n",
    "\n",
    "예를 들어, 아래와 같이  `False and 3/0`를 실행하면 `False`가 나온다. \n",
    "```python\n",
    ">>> False and 3/0\n",
    "```\n",
    "\n",
    "하지만 반대로 `3/0 and False`를 실행하면 오류가 발생한다. \n",
    "```python\n",
    ">>> False and 3/0\n",
    "ZeroDivisionError                         Traceback (most recent call last)\n",
    "/tmp/ipykernel_422/2156724109.py in <module>\n",
    "----> 1 True and 3/0\n",
    "\n",
    "ZeroDivisionError: division by zero\n",
    "```\n",
    ":::"
   ]
  },
  {
   "cell_type": "markdown",
   "id": "33f768b1-b295-4ebd-a248-e85c39ca51a0",
   "metadata": {},
   "source": [
    "#### 비교 연산자"
   ]
  },
  {
   "cell_type": "markdown",
   "id": "1ef50c09-c198-4856-b230-ac929909d3ce",
   "metadata": {},
   "source": [
    "|연산 기호|의미|예시|실행 결과|\n",
    "|:----------:|:----------:|:----------:|:--------:|\n",
    "|`<`|작다|`2 < 1`|`False`|\n",
    "|`<=`|작거나 같다|`1 <= 2`|`True`|\n",
    "|`>`|크다|`2 > 1`|`True`|\n",
    "|`>=`|크거나 같다|`1 >= 2`|`False`|\n",
    "|`==`|같다|`1 == '1'`|`False`|\n",
    "|`!=`|같지 않다|`1 != '1'`|`True`|\n",
    "|`is`|객체 아이덴티티|`1 is 1.0`|`False`|\n",
    "|`is not`|부정된 객체 아이덴티티|`3 is not 3`|`False`|"
   ]
  },
  {
   "cell_type": "markdown",
   "id": "e7bea091-2268-4a7e-8546-0ad164c00860",
   "metadata": {},
   "source": [
    "서로 다른 숫자형을 제외하고는 서로 다른 형은 같다고 비교되지 않는다. "
   ]
  },
  {
   "cell_type": "markdown",
   "id": "16fa5f4a-8c3b-4aa3-98a5-68feb1f9154a",
   "metadata": {},
   "source": [
    "예를 들어, 정수 `1`와 부동소수점 `1.0`이 같은지 여부를 확인해보자."
   ]
  },
  {
   "cell_type": "code",
   "execution_count": 39,
   "id": "bdc5362c-659a-4028-8b68-d313e1ea7fd0",
   "metadata": {},
   "outputs": [
    {
     "data": {
      "text/plain": [
       "True"
      ]
     },
     "execution_count": 39,
     "metadata": {},
     "output_type": "execute_result"
    }
   ],
   "source": [
    "1 == 1.0"
   ]
  },
  {
   "cell_type": "markdown",
   "id": "8e752dc9-4af5-41d2-9ff7-1aae993aaf5c",
   "metadata": {},
   "source": [
    "반면, 정수 `1`과 문자열 `'1'`은 형<font size = \"2\">type</font>이 달라서 같은지 여부를 확인해보면, `False`가 나온다."
   ]
  },
  {
   "cell_type": "code",
   "execution_count": 40,
   "id": "3d8ed408-086e-465c-92d7-65927594768b",
   "metadata": {},
   "outputs": [
    {
     "data": {
      "text/plain": [
       "False"
      ]
     },
     "execution_count": 40,
     "metadata": {},
     "output_type": "execute_result"
    }
   ],
   "source": [
    "1 == '1'"
   ]
  },
  {
   "cell_type": "markdown",
   "id": "5211f962-7c57-4cf6-8924-d3fe6a9107f2",
   "metadata": {},
   "source": [
    ":::{admonition} 참고   \n",
    ":class: info\n",
    "\n",
    "객체의 아이덴티티<font size=\"2\">identity</font>는 메모리상에서의 객체의 주소라 생각해도 된다.   \n",
    "`id()` 함수는 아이덴티티를 정수로 표현한 값을 돌려준다.\n",
    ":::"
   ]
  },
  {
   "cell_type": "code",
   "execution_count": 41,
   "id": "3edc7073-76b2-4de3-82c8-2b64eb47a5ea",
   "metadata": {},
   "outputs": [
    {
     "name": "stdout",
     "output_type": "stream",
     "text": [
      "9788992\n",
      "9789024\n"
     ]
    }
   ],
   "source": [
    "print(id(1))\n",
    "print(id(2))"
   ]
  },
  {
   "cell_type": "code",
   "execution_count": 42,
   "id": "a86c7b21-550c-41b4-83c1-31b017348e1f",
   "metadata": {},
   "outputs": [
    {
     "name": "stderr",
     "output_type": "stream",
     "text": [
      "<>:1: SyntaxWarning: \"is\" with a literal. Did you mean \"==\"?\n",
      "<>:1: SyntaxWarning: \"is\" with a literal. Did you mean \"==\"?\n",
      "/tmp/ipykernel_292/1180083856.py:1: SyntaxWarning: \"is\" with a literal. Did you mean \"==\"?\n",
      "  1 is 2\n"
     ]
    },
    {
     "data": {
      "text/plain": [
       "False"
      ]
     },
     "execution_count": 42,
     "metadata": {},
     "output_type": "execute_result"
    }
   ],
   "source": [
    "1 is 2"
   ]
  },
  {
   "cell_type": "code",
   "execution_count": 43,
   "id": "366baef1-9ee9-449b-9ed2-f30bcfa1a7e0",
   "metadata": {},
   "outputs": [
    {
     "data": {
      "text/plain": [
       "False"
      ]
     },
     "execution_count": 43,
     "metadata": {},
     "output_type": "execute_result"
    }
   ],
   "source": [
    "id(1) == id(2)"
   ]
  },
  {
   "cell_type": "markdown",
   "id": "5e78ed8b-b942-42f9-9a7e-240cd68e0f70",
   "metadata": {},
   "source": [
    ":::{admonition} 참고   \n",
    ":class: info\n",
    "\n",
    "`x is y`가 `True`면 `x == y`도 `True`다.  \n",
    "반면, `x == y`는 `True`이지만 `x is y`는 `False`일 수 있다.\n",
    ":::"
   ]
  },
  {
   "cell_type": "code",
   "execution_count": 44,
   "id": "32d22c8b-28cc-4b73-808d-339ec1161ef6",
   "metadata": {},
   "outputs": [
    {
     "data": {
      "text/plain": [
       "True"
      ]
     },
     "execution_count": 44,
     "metadata": {},
     "output_type": "execute_result"
    }
   ],
   "source": [
    "1 == 1.0"
   ]
  },
  {
   "cell_type": "code",
   "execution_count": 45,
   "id": "200eed48-a468-4edc-abe3-3eaa12b988d2",
   "metadata": {},
   "outputs": [
    {
     "name": "stderr",
     "output_type": "stream",
     "text": [
      "<>:1: SyntaxWarning: \"is\" with a literal. Did you mean \"==\"?\n",
      "<>:1: SyntaxWarning: \"is\" with a literal. Did you mean \"==\"?\n",
      "/tmp/ipykernel_292/3336455986.py:1: SyntaxWarning: \"is\" with a literal. Did you mean \"==\"?\n",
      "  1 is 1.0\n"
     ]
    },
    {
     "data": {
      "text/plain": [
       "False"
      ]
     },
     "execution_count": 45,
     "metadata": {},
     "output_type": "execute_result"
    }
   ],
   "source": [
    "1 is 1.0"
   ]
  },
  {
   "cell_type": "markdown",
   "id": "01807c91-b4e1-4b84-94d0-26bcf0215b94",
   "metadata": {},
   "source": [
    "문자열도 비교연산자를 사용할 수 있다.   \n",
    "크기 비교 연산자들은 영어 사전식의 알파벳 순서를 사용한다. "
   ]
  },
  {
   "cell_type": "code",
   "execution_count": 46,
   "id": "afdd42ee-5af0-4073-a406-73de039e3709",
   "metadata": {},
   "outputs": [
    {
     "data": {
      "text/plain": [
       "False"
      ]
     },
     "execution_count": 46,
     "metadata": {},
     "output_type": "execute_result"
    }
   ],
   "source": [
    "'apple' == 'pineapple'"
   ]
  },
  {
   "cell_type": "code",
   "execution_count": 47,
   "id": "3aa43694-2916-45c3-a54f-21cf8eaa10b8",
   "metadata": {},
   "outputs": [
    {
     "data": {
      "text/plain": [
       "True"
      ]
     },
     "execution_count": 47,
     "metadata": {},
     "output_type": "execute_result"
    }
   ],
   "source": [
    "'apple' < 'banana'"
   ]
  },
  {
   "cell_type": "markdown",
   "id": "4c5ba389-cb5f-4b42-a164-0995ac9eaffe",
   "metadata": {},
   "source": [
    ":::{admonition} 참고   \n",
    ":class: info\n",
    "영어 알파벳의 경우 대문자가 소문자보다 작다고 판단한다.\n",
    ":::"
   ]
  },
  {
   "cell_type": "markdown",
   "id": "15265e66-afd3-4512-9ddb-0ee2f2737b8a",
   "metadata": {},
   "source": [
    "### `None`"
   ]
  },
  {
   "cell_type": "markdown",
   "id": "01dc2c3a-ae83-41dc-8047-fbb43f17a4c6",
   "metadata": {},
   "source": [
    "`None`은 `NoneType` 자료형에 속하는 하나의 값으로 어떤 의미도 없는 값을 말한다."
   ]
  },
  {
   "cell_type": "markdown",
   "id": "788389e2-2e47-4476-82a3-1a9dd392399d",
   "metadata": {},
   "source": [
    ":::{admonition} 주의   \n",
    ":class: caution\n",
    "변수 할당에 사용되어 저장될 수 있지만 연산 등에 사용하면 오류가 발생한다.  \n",
    ":::"
   ]
  },
  {
   "cell_type": "markdown",
   "id": "84b54ade-7372-4329-9714-242b48a73988",
   "metadata": {},
   "source": [
    "## 변수"
   ]
  },
  {
   "cell_type": "markdown",
   "id": "dac7484b-6558-448c-afac-6029f82ab9f0",
   "metadata": {},
   "source": [
    "### 변수와 변수할당"
   ]
  },
  {
   "cell_type": "markdown",
   "id": "2c13e550-183e-495c-9942-2e1393109a02",
   "metadata": {},
   "source": [
    "**변수**<font size = \"2\">variable</font>는 (컴퓨터 메모리에) 저장된 하나의 값을 가리키는 이름을 말한다. "
   ]
  },
  {
   "cell_type": "markdown",
   "id": "f8bd7fb3-463c-4f4e-82a9-cb6f30446b43",
   "metadata": {},
   "source": [
    "#### 변수명"
   ]
  },
  {
   "cell_type": "markdown",
   "id": "9bce2992-7c33-4712-b228-104de261ea18",
   "metadata": {},
   "source": [
    "변수명은 임의로 정할 수 있지만 할당되는 값과 연관된 이름을 사용할 것을 권장한다.  \n",
    "또한 아래 제한 사항을 지켜야 한다.   \n",
    "\n",
    "* 반드시 영어 알파벳 문자(a-z, A-Z) 또는 밑줄기호(`_`)로 시작해야 하며, 이후에는 알파벳, 숫자(0-9), 밑줄기호가 임의로 사용될 수 있다.\n",
    "* 파이썬 키워드<font size = \"2\">keyword</font>를 변수 이름으로 사용하면 안된다.\n",
    "* 대소문자를 구분해야 한다: `YOU`, `you`, `You`, `yOu`는 모두 다른 이름으로 처리된다.\n",
    "* `-`, `+`, `*`, `/` 등의 연산자 기호는 이름에 사용할 수 없다.\n",
    "* `@`, `$`, `?` 등의 기호도 사용되지 않는다.\n",
    "* 변수명에 공백을 사용할 수 없다."
   ]
  },
  {
   "cell_type": "markdown",
   "id": "ff7f5d1a-ed0a-410a-9745-f414379669de",
   "metadata": {},
   "source": [
    "**파이썬 키워드**  \n",
    "파이썬 프로그래밍 언어의 키워드는 3.10버전 기준으로 총 35개이다. "
   ]
  },
  {
   "cell_type": "markdown",
   "id": "3ad2d694-d5c1-4ef9-9192-f20d183cbe47",
   "metadata": {},
   "source": [
    "```\n",
    "False      await      else       import     pass\n",
    "None       break      except     in         raise\n",
    "True       class      finally    is         return\n",
    "and        continue   for        lambda     try\n",
    "as         def        from       nonlocal   while\n",
    "assert     del        global     not        with\n",
    "async      elif       if         or         yield\n",
    "```"
   ]
  },
  {
   "cell_type": "markdown",
   "id": "9b4578e8-8988-49b0-a11b-3ccc9f31d5bf",
   "metadata": {},
   "source": [
    "````{prf:example}\n",
    ":label: var_name-example\n",
    "다음 중 변수명으로 사용 가능한 것은?\n",
    "\n",
    "* `123k`    \n",
    "* `a123!`   \n",
    "* `_K1212`  \n",
    "* `name`  \n",
    "  \n",
    "변수명은 알파벳 문자나 밑줄기호로 시작해야 하므로 `123k`는 변수명으로 사용할 수 없고, `!` 기호도 변수명에 사용될 수 없다. 위에서 가능한 변수명은 `_K1212`와 `name`이다.  \n",
    "\n",
    "````"
   ]
  },
  {
   "cell_type": "markdown",
   "id": "55a64372-5389-432b-bbbe-d1225441c18e",
   "metadata": {},
   "source": [
    "#### 변수 할당 <font size = \"2\">variable assignment </font>"
   ]
  },
  {
   "cell_type": "markdown",
   "id": "1fe23111-6e9f-4350-85aa-97266a93abe5",
   "metadata": {},
   "source": [
    "변수를 선언하려면 해당 변수가 하나의 값을 가리키도록 하는 **변수 할당**을 명령해야 한다.  "
   ]
  },
  {
   "cell_type": "markdown",
   "id": "e0718cd4-c4b3-4682-bcbd-ae645abde158",
   "metadata": {},
   "source": [
    ":::{admonition} 주의   \n",
    ":class: caution\n",
    "변수가 정의되지 않고(값을 할당하지 않고) 사용하려고 하면 오류가 발생한다.   \n",
    ":::"
   ]
  },
  {
   "cell_type": "markdown",
   "id": "967c122c-9d51-4c42-af55-050fdcc0b943",
   "metadata": {},
   "source": [
    "변수 선언과 할당은 동시에 이루어지며, 변수명이 등호기호(`=`) 왼편에, 변수와 연관된 값<font size = \"2\">value</font>을 표현하는 **표현식**<font size = \"2\">expression</font>은 등호 기호 오른편에 위치한다."
   ]
  },
  {
   "cell_type": "markdown",
   "id": "9ed08a3c-dee9-4591-82ee-242878bbec37",
   "metadata": {},
   "source": [
    "`변수 = 값`"
   ]
  },
  {
   "cell_type": "code",
   "execution_count": 48,
   "id": "726ffadd-e6e5-4c64-9301-319c9bf5e9aa",
   "metadata": {},
   "outputs": [],
   "source": [
    "num = 5\n",
    "pi = 3.1415926535897932\n",
    "name = '강현'"
   ]
  },
  {
   "cell_type": "markdown",
   "id": "9691a9af-84e7-4911-952f-96311a502457",
   "metadata": {},
   "source": [
    "* `num` 변수가 가리키는 값은 정수 `5`이다. \n",
    "* `pi` 변수가 가리키는 값은 부동소수점 `3.1415926535897932`이다.\n",
    "* `name` 변수가 가리키는 값은 문자열 `'강현'`이다."
   ]
  },
  {
   "cell_type": "markdown",
   "id": "ef8ae57f-4a23-411d-aae9-2267320ae306",
   "metadata": {},
   "source": [
    "선언된 변수는 할당된 값과 동일하게 취급된다. "
   ]
  },
  {
   "cell_type": "code",
   "execution_count": 49,
   "id": "8777cfbd-4275-4633-a990-32c3002ec42e",
   "metadata": {},
   "outputs": [
    {
     "data": {
      "text/plain": [
       "'안녕, 강현'"
      ]
     },
     "execution_count": 49,
     "metadata": {},
     "output_type": "execute_result"
    }
   ],
   "source": [
    "'안녕, ' + name"
   ]
  },
  {
   "cell_type": "code",
   "execution_count": 50,
   "id": "530206e0-847e-4776-98a2-a6e57a8dd025",
   "metadata": {},
   "outputs": [
    {
     "data": {
      "text/plain": [
       "10"
      ]
     },
     "execution_count": 50,
     "metadata": {},
     "output_type": "execute_result"
    }
   ],
   "source": [
    "2 * num"
   ]
  },
  {
   "cell_type": "markdown",
   "id": "6b7332ff-c9bd-4af0-aa70-e2725910688b",
   "metadata": {},
   "source": [
    "변수가 가리키는 값은 변경될 수 있다. 예를 들어, 변수 `num`에 `17`을 새롭게 할당하면, `num` 변수가 가리키는 값은 정수 `5`가 아니라 정수 `17`이다. "
   ]
  },
  {
   "cell_type": "code",
   "execution_count": 51,
   "id": "1a46ee06-a022-4f0c-9683-7d2fe12bfdaf",
   "metadata": {},
   "outputs": [
    {
     "name": "stdout",
     "output_type": "stream",
     "text": [
      "5\n",
      "17\n"
     ]
    }
   ],
   "source": [
    "print(num)\n",
    "num = 17\n",
    "print(num)"
   ]
  },
  {
   "cell_type": "markdown",
   "id": "8620878c-9370-4f63-9203-0be09b7588e6",
   "metadata": {},
   "source": [
    "**세미콜론**"
   ]
  },
  {
   "cell_type": "markdown",
   "id": "28fc5c84-a9ab-4d15-9189-7aba3b44ea75",
   "metadata": {},
   "source": [
    "모든 명령문은 한 줄에 완성하는 것이 기본이며, 연속된 명령문은 줄바꿈을 해서 작성한다. 하지만 매우 간단한 명령문은 한 줄에 연속으로 작성할 수 있는데, 이때 세미콜론(`;`)을 사용한다. "
   ]
  },
  {
   "cell_type": "code",
   "execution_count": 52,
   "id": "3efa04c5-8995-4a3b-a1fa-b6a50c80362e",
   "metadata": {},
   "outputs": [],
   "source": [
    "a = 1; b = 2; c = 3"
   ]
  },
  {
   "cell_type": "code",
   "execution_count": 53,
   "id": "a18d3002-d630-4e71-b712-fad919f8aa50",
   "metadata": {},
   "outputs": [
    {
     "name": "stdout",
     "output_type": "stream",
     "text": [
      "1\n",
      "2\n",
      "3\n"
     ]
    }
   ],
   "source": [
    "print(a)\n",
    "print(b)\n",
    "print(c)"
   ]
  },
  {
   "cell_type": "markdown",
   "id": "5f5f2200-f950-4670-b233-eb58d029ca8b",
   "metadata": {},
   "source": [
    "세미콜론을 사용하기보다는 각각의 명령문을 줄바꿈하여 명확하게 작성하는 것을 추천한다. "
   ]
  },
  {
   "cell_type": "markdown",
   "id": "ebd4522f-f8df-4d52-9a86-0abb4215150c",
   "metadata": {},
   "source": [
    "**다중 할당** <font size = \"2\">multiple assignment</font>"
   ]
  },
  {
   "cell_type": "markdown",
   "id": "24dfc1fb-35b0-4131-aae8-e58be4296349",
   "metadata": {},
   "source": [
    "**다중할당**은 동시에 2개 이상의 값을 2개 이상의 변수에 할당하는 것을 말한다. "
   ]
  },
  {
   "cell_type": "code",
   "execution_count": 54,
   "id": "38c5c1a4-e4eb-4884-87f6-6321c1f5197d",
   "metadata": {},
   "outputs": [],
   "source": [
    "a, b, c = 2, 4, 6"
   ]
  },
  {
   "cell_type": "code",
   "execution_count": 55,
   "id": "c62bc5ad-3df2-46ac-be13-8dbdfb7e4269",
   "metadata": {},
   "outputs": [
    {
     "name": "stdout",
     "output_type": "stream",
     "text": [
      "2\n",
      "4\n",
      "6\n"
     ]
    }
   ],
   "source": [
    "print(a)\n",
    "print(b)\n",
    "print(c)"
   ]
  },
  {
   "cell_type": "markdown",
   "id": "80fd3062-722a-453f-be61-8d58f71d0f2f",
   "metadata": {},
   "source": [
    "**변수 스왑** <font size= \"2\">variable swap</font>"
   ]
  },
  {
   "cell_type": "markdown",
   "id": "32f90768-0c6e-4a32-bcd4-ba3910ece66f",
   "metadata": {},
   "source": [
    "일반적으로 두 변수를 스왑할 때 임시변수 <font size = \"2\">temporarily variable</font>를 사용한다.  "
   ]
  },
  {
   "cell_type": "code",
   "execution_count": 56,
   "id": "3b668814-535c-41af-89f3-ec13764e3179",
   "metadata": {},
   "outputs": [
    {
     "name": "stdout",
     "output_type": "stream",
     "text": [
      "a : 1 , b : 2\n",
      "a : 2 , b : 1\n"
     ]
    }
   ],
   "source": [
    "a = 1\n",
    "b = 2\n",
    "print('a :', a, ', b :', b)\n",
    "\n",
    "temp = a\n",
    "a = b\n",
    "b = temp\n",
    "\n",
    "print('a :', a, ', b :', b)"
   ]
  },
  {
   "cell_type": "markdown",
   "id": "d79c8b04-8d8b-4bd5-be7a-335cd1dfe333",
   "metadata": {},
   "source": [
    "하지만 파이썬은 임시변수를 사용하지 않고 아래와 같이 스왑할 수 있다. "
   ]
  },
  {
   "cell_type": "code",
   "execution_count": 57,
   "id": "f011269d-68d2-420c-8d07-7d2652ab03c0",
   "metadata": {},
   "outputs": [
    {
     "name": "stdout",
     "output_type": "stream",
     "text": [
      "a : 1 , b : 2\n",
      "a : 2 , b : 1\n"
     ]
    }
   ],
   "source": [
    "a = 1\n",
    "b = 2\n",
    "print('a :', a, ', b :', b)\n",
    "\n",
    "a, b = b, a\n",
    "print('a :', a, ', b :', b)"
   ]
  },
  {
   "cell_type": "markdown",
   "id": "29d15d32-ba1c-474b-ae6a-fa8c946a04d9",
   "metadata": {
    "tags": []
   },
   "source": [
    "#### Augmented assignment statements"
   ]
  },
  {
   "cell_type": "markdown",
   "id": "c523fbc4-1610-4a74-b40d-7f9289208831",
   "metadata": {},
   "source": [
    "Augmented assignment statements은 이항 연산과 할당을 합한 것이다. "
   ]
  },
  {
   "cell_type": "markdown",
   "id": "c1a098aa-3a32-4376-bf76-45842569499c",
   "metadata": {},
   "source": [
    "|연산 기호|예시|의미|\n",
    "|:----------:|:----------:|:----------:|\n",
    "|`+=`|`x += 1` |`x = x + 1`|\n",
    "|`-=`| `x -= 1` | `x = x - 1`|\n",
    "|`*=`| `x *= 2` | `x = 2*x`|\n",
    "|`/=`|`x /= 2`|`x = x / 2`|\n",
    "|`**=`|`x **= 2`|`x = x**2`|\n",
    "|`//=`|`x //= 2`|`x = x //2`|\n",
    "|`%=`|`x %= 2`|`x = x % 2`|"
   ]
  },
  {
   "cell_type": "code",
   "execution_count": 58,
   "id": "d4db7833-5e49-477b-b469-091760cb7930",
   "metadata": {},
   "outputs": [
    {
     "name": "stdout",
     "output_type": "stream",
     "text": [
      "5\n",
      "2.5\n"
     ]
    }
   ],
   "source": [
    "x = 5\n",
    "print(x)\n",
    "x /= 2\n",
    "print(x)"
   ]
  },
  {
   "cell_type": "markdown",
   "id": "b6cf90bc-dc7d-45ea-9f54-26ed2acb7dc9",
   "metadata": {},
   "source": [
    "### 동적 타이핑과 정적 타이핑"
   ]
  },
  {
   "cell_type": "markdown",
   "id": "648aea5c-5b03-43c7-9340-7d6d5ab2335a",
   "metadata": {},
   "source": [
    "#### 동적 타이핑과 정적 타이핑"
   ]
  },
  {
   "cell_type": "markdown",
   "id": "d8f45c4a-4bab-4220-80ae-3c3521129f5e",
   "metadata": {},
   "source": [
    "파이썬은 **동적 타이핑** <font size = \"2\">Dynamic typing</font>을 지원한다. 동적 타이핑은 변수를 미리 선언하지 않고, 변수를 생성하고자 할 때 값을 초기화하여 사용하는 것을 말한다. 변수의 자료형은 파이썬이 알아서 판단하기 때문에 동적 타이핑은 프로그래밍을 처음 접하는 사람들에게 편리하다.   \n",
    "\n",
    "동적 타이핑과는 달리 변수를 사용하기 전 미리 선언해야 하는 **정적 타이핑** <font size = \"2\">Static Typing</font>도 있다. C나 자바처럼 주로 컴파일 방식의 언어가 정적 타이핑을 지원한다. 이처럼 사용할 변수와 변수에 할당될 값의 자료형을 미리 선언하는 것은 불편해 보일 수도 있다. 하지만 정적 타이핑은 컴파일하는 과정에서 선언한 자료형에 맞는 값을 할당하였는지, 선언 후 사용하지 않는 변수가 있는지를 확인하여 버그 발생 확률을 낮출 수 있다는 장점이 있다. 이에 동적 타이핑을 지원하는 파이썬에서도 타입 힌트 <font size = \"2\">Type Hints</font>를 명시하기도 한다."
   ]
  },
  {
   "cell_type": "markdown",
   "id": "9b7f5e97-74c4-48de-ad00-4b8ef5eda864",
   "metadata": {},
   "source": [
    "#### 타입 힌트"
   ]
  },
  {
   "cell_type": "markdown",
   "id": "cb562b86-36b5-4ded-8521-97fba01f25df",
   "metadata": {},
   "source": [
    "파이썬 3.5이후 버전에서는 타입 힌트 또는 타입 어노테이션 <font size = \"2\">Type Annotation</font>을 사용할 수 있다. "
   ]
  },
  {
   "cell_type": "markdown",
   "id": "09ccf2a5-9816-4b73-9b89-a59276d98d06",
   "metadata": {},
   "source": [
    "다음과 같이 변수명 뒤에 콜론(`:`)을 붙이고 타입을 적어주는 방식으로 타입 힌트를 추가한다.  \n",
    "예를 들어, `a : int`, `b : float`, `c : bool`, `s : str`등과 같이 사용한다."
   ]
  },
  {
   "cell_type": "code",
   "execution_count": 59,
   "id": "77b79584-1cf7-438f-8b03-748c7d5184d2",
   "metadata": {},
   "outputs": [],
   "source": [
    "num : int = 5\n",
    "pi : float = 3.1415926535897932\n",
    "name : str = '강현'"
   ]
  },
  {
   "cell_type": "code",
   "execution_count": 60,
   "id": "18d89369-2866-489f-b9fb-e7189bb8e0d8",
   "metadata": {},
   "outputs": [
    {
     "name": "stdout",
     "output_type": "stream",
     "text": [
      "5\n",
      "3.141592653589793\n",
      "강현\n"
     ]
    }
   ],
   "source": [
    "print(num)\n",
    "print(pi)\n",
    "print(name)"
   ]
  },
  {
   "cell_type": "markdown",
   "id": "1af99550-9437-4f84-a233-28b841f2425b",
   "metadata": {},
   "source": [
    ":::{admonition} 주의   \n",
    ":class: caution   \n",
    "타입 힌트의 사용은 실제 코드 실행에 아무런 영향을 미치지 않는다.  \n",
    ":::\n",
    "\n",
    "\n",
    "예를 들어, 변수 `a`에 타입 힌트와는 다른 형<font size= \"2\">type</font>의 값을 할당하여도 오류가 발생하지 않는다. "
   ]
  },
  {
   "cell_type": "code",
   "execution_count": 61,
   "id": "ab528466-89eb-438e-845d-596ae65a73c7",
   "metadata": {},
   "outputs": [
    {
     "name": "stdout",
     "output_type": "stream",
     "text": [
      "3.4\n",
      "<class 'float'>\n"
     ]
    }
   ],
   "source": [
    "a : int = 3.4\n",
    "print(a)\n",
    "print(type(a))"
   ]
  },
  {
   "cell_type": "markdown",
   "id": "38c99d72-217a-4fde-b889-f3d4bc3d0de1",
   "metadata": {},
   "source": [
    ":::{admonition} mypy  \n",
    ":class: info   \n",
    "타입 검사기를 사용하면 코드가 실행될 때 타입 힌트에 오류가 있는지를 확인할 수 있다. 현재 많이 사용되고 있는 파이썬 타입 검사기 중 하나는 mypy<font size= \"2\">마이파이</font>이다.   \n",
    "\n",
    "주피터 노트북 <font size = \"2\">jupyter notebook </font>에서는 아래의 코드를 사용하여 mypy를 설치하여 사용할 수 있다. \n",
    "```python\n",
    ">>> pip install mypy-ipython  \n",
    ">>> %load_ext mypy_ipython\n",
    "```\n",
    "\n",
    "그런 다음 아래와 코드를 작성하고 타입 검사기를 사용해보자. \n",
    "```python\n",
    ">>> a : int = 3.4\n",
    ">>> print(a)\n",
    "3.4\n",
    ">>> print(type(a))\n",
    "<class 'float'>\n",
    "```\n",
    "mypy를 사용하면 타입 힌트가 작성된 파이썬 파일의 코드 전체에 타입 힌트 오류가 있는지를 확인할 수 있다.  \n",
    "```python\n",
    ">>> %mypy\n",
    "    a : int = 3.4\n",
    "error: Incompatible types in assignment (expression has type \"float\", variable has type \"int\")\n",
    "Found 1 error in 1 file (checked 1 source file)\n",
    "Type checking failed\n",
    "```\n",
    "여기서는 타입 힌트와 일치하지 않는 값이 할당되었다는 메시지와 함께 오류가 발생하였다.\n",
    "\n",
    ":::"
   ]
  },
  {
   "cell_type": "markdown",
   "id": "c00cd893-81e2-4b4b-a206-a3ad546799e1",
   "metadata": {},
   "source": [
    "## 함수"
   ]
  },
  {
   "cell_type": "markdown",
   "id": "c8c673f8-21b9-4738-b2ee-ea089fa7bcf3",
   "metadata": {},
   "source": [
    "프로그램은 명령문의 합성으로 구현된다. 그런데 특정 기능을 수행하는 명령문의 일부가 너무 길거나, 반복적으로 사용되어 보다 편하게 사용하고 싶거나 프로그램을 보다 체계적으로 구현하도록 하고 싶을 때가 있다. 그럴 때는 특정 기능을 수행하는 명령문에 이름을 주고 필요에 따라 해당 이름을 대신 활용할 수 있다. \n",
    "\n",
    "함수는 함수의 이름에 가려진 명령문을 대행하며 해당 명령문을 실행하려면 지정된 함수를 **호출** <font size = \"2\">call </font> 하면 된다.\n",
    "**함수 호출** <font size = \"2\"> function call </font>은 함수 이름과 연관된 명령문을 실행하도록 하는 일종의 명령문이다. 함수 호출의 일반적인 형식은 다음과 같다. "
   ]
  },
  {
   "cell_type": "markdown",
   "id": "cd093b35-d8e4-4587-bc12-182e9c5e9dad",
   "metadata": {},
   "source": [
    "`함수이름(인자1, 인자2, ..., 인자n)`"
   ]
  },
  {
   "cell_type": "markdown",
   "id": "0a559dc8-a7ac-4297-b040-6f7491436811",
   "metadata": {
    "tags": []
   },
   "source": [
    "### `type()` 함수"
   ]
  },
  {
   "cell_type": "markdown",
   "id": "c5cf623c-b2f3-4da8-aa37-4fac35a1e38d",
   "metadata": {},
   "source": [
    "`type()` 함수는 인자의 자료형을 확인해준다."
   ]
  },
  {
   "cell_type": "code",
   "execution_count": 62,
   "id": "3614f125-eb6e-4673-84bb-c9e1251f4a97",
   "metadata": {},
   "outputs": [
    {
     "data": {
      "text/plain": [
       "int"
      ]
     },
     "execution_count": 62,
     "metadata": {},
     "output_type": "execute_result"
    }
   ],
   "source": [
    "type(-3)"
   ]
  },
  {
   "cell_type": "code",
   "execution_count": 63,
   "id": "7072ea18-4d90-4782-9a1b-8446f543da9e",
   "metadata": {},
   "outputs": [
    {
     "data": {
      "text/plain": [
       "float"
      ]
     },
     "execution_count": 63,
     "metadata": {},
     "output_type": "execute_result"
    }
   ],
   "source": [
    "type(3.141592)"
   ]
  },
  {
   "cell_type": "code",
   "execution_count": 64,
   "id": "1dd7e7c7-70de-4e18-a167-b5eea97cafe4",
   "metadata": {},
   "outputs": [
    {
     "data": {
      "text/plain": [
       "bool"
      ]
     },
     "execution_count": 64,
     "metadata": {},
     "output_type": "execute_result"
    }
   ],
   "source": [
    "type(True)"
   ]
  },
  {
   "cell_type": "code",
   "execution_count": 65,
   "id": "9ea5c8ce-5294-47e5-aa95-8c88428e7578",
   "metadata": {},
   "outputs": [
    {
     "data": {
      "text/plain": [
       "str"
      ]
     },
     "execution_count": 65,
     "metadata": {},
     "output_type": "execute_result"
    }
   ],
   "source": [
    "type('Hello, World!')"
   ]
  },
  {
   "cell_type": "code",
   "execution_count": 66,
   "id": "34dc271b-c685-4356-a0f0-be6c82c1e9b4",
   "metadata": {},
   "outputs": [
    {
     "data": {
      "text/plain": [
       "NoneType"
      ]
     },
     "execution_count": 66,
     "metadata": {},
     "output_type": "execute_result"
    }
   ],
   "source": [
    "type(None)"
   ]
  },
  {
   "cell_type": "markdown",
   "id": "d914e7dc-a6e2-432b-bbf3-549678dceba1",
   "metadata": {},
   "source": [
    "변수의 자료형은 변수가 현재 가리키는 값의 자료형으로 지정된다. 따라서 변수에 할당된 값의 자료형이 달라지면 변수의 자료형도 함께 달라진다. "
   ]
  },
  {
   "cell_type": "code",
   "execution_count": 67,
   "id": "03602d84-52ae-4ca9-a492-7aa8cca7dcf4",
   "metadata": {},
   "outputs": [
    {
     "data": {
      "text/plain": [
       "int"
      ]
     },
     "execution_count": 67,
     "metadata": {},
     "output_type": "execute_result"
    }
   ],
   "source": [
    "num = 3\n",
    "type(num)"
   ]
  },
  {
   "cell_type": "code",
   "execution_count": 68,
   "id": "d69aa2c8-b6bb-4a8d-8649-42a3c8452935",
   "metadata": {},
   "outputs": [
    {
     "data": {
      "text/plain": [
       "float"
      ]
     },
     "execution_count": 68,
     "metadata": {},
     "output_type": "execute_result"
    }
   ],
   "source": [
    "num = 3.14\n",
    "type(num)"
   ]
  },
  {
   "cell_type": "code",
   "execution_count": 69,
   "id": "403f5c3e-39e6-4f1f-8978-25b9a9284dc6",
   "metadata": {},
   "outputs": [
    {
     "data": {
      "text/plain": [
       "str"
      ]
     },
     "execution_count": 69,
     "metadata": {},
     "output_type": "execute_result"
    }
   ],
   "source": [
    "num = '3.14'\n",
    "type(num)"
   ]
  },
  {
   "cell_type": "markdown",
   "id": "50889d6a-9b8d-4663-9545-42a3ef553def",
   "metadata": {
    "tags": []
   },
   "source": [
    "### 형변환 함수"
   ]
  },
  {
   "cell_type": "markdown",
   "id": "ebf35879-722a-4624-8bda-a32a422b7c90",
   "metadata": {},
   "source": [
    "형변환<font size = \"2\">type casting</font>은 자료형을 변환하는 것으로, 파이썬은 다양한 형변환 함수를 제공한다. "
   ]
  },
  {
   "cell_type": "markdown",
   "id": "20426179-0c47-47e6-8c0e-5055f6f6b868",
   "metadata": {
    "tags": []
   },
   "source": [
    "#### `int()` 함수"
   ]
  },
  {
   "cell_type": "markdown",
   "id": "92fbf436-dd4f-4063-892a-7d3f0d9da397",
   "metadata": {},
   "source": [
    "`int()` : 정수형으로 변환. 부동소수점을 정수로 변환할 때, 소수점 이하는 버려진다."
   ]
  },
  {
   "cell_type": "code",
   "execution_count": 70,
   "id": "4786ecae-d577-499e-b138-1fd0f3bfe2bd",
   "metadata": {},
   "outputs": [
    {
     "data": {
      "text/plain": [
       "3"
      ]
     },
     "execution_count": 70,
     "metadata": {},
     "output_type": "execute_result"
    }
   ],
   "source": [
    "int(3.2)"
   ]
  },
  {
   "cell_type": "code",
   "execution_count": 71,
   "id": "3cd07a72-dadd-460e-84b9-705a4973de03",
   "metadata": {},
   "outputs": [
    {
     "data": {
      "text/plain": [
       "2"
      ]
     },
     "execution_count": 71,
     "metadata": {},
     "output_type": "execute_result"
    }
   ],
   "source": [
    "int(2.9)"
   ]
  },
  {
   "cell_type": "code",
   "execution_count": 72,
   "id": "6f7a129b-8894-4f6e-b168-3b840de55213",
   "metadata": {},
   "outputs": [
    {
     "data": {
      "text/plain": [
       "6"
      ]
     },
     "execution_count": 72,
     "metadata": {},
     "output_type": "execute_result"
    }
   ],
   "source": [
    "int('6')"
   ]
  },
  {
   "cell_type": "code",
   "execution_count": 73,
   "id": "f6dde57d-1960-46dd-8c20-a2f88ad12226",
   "metadata": {},
   "outputs": [
    {
     "data": {
      "text/plain": [
       "1"
      ]
     },
     "execution_count": 73,
     "metadata": {},
     "output_type": "execute_result"
    }
   ],
   "source": [
    "int(True)"
   ]
  },
  {
   "cell_type": "code",
   "execution_count": 74,
   "id": "f5449e45-c9aa-4973-9969-e8cd269c5220",
   "metadata": {},
   "outputs": [
    {
     "data": {
      "text/plain": [
       "0"
      ]
     },
     "execution_count": 74,
     "metadata": {},
     "output_type": "execute_result"
    }
   ],
   "source": [
    "int(False)"
   ]
  },
  {
   "cell_type": "markdown",
   "id": "9f03d19b-c033-4750-9cef-7d3b9957aeb9",
   "metadata": {},
   "source": [
    ":::{admonition} 주의   \n",
    ":class: caution  \n",
    "`int()` 함수의 인자로 문자열을 사용할 때는 그 모양이 정수모양이어야 한다. \n",
    "\n",
    "```python \n",
    ">>> int('9.2')\n",
    "ValueError                                Traceback (most recent call last)\n",
    "/tmp/ipykernel_422/3306962362.py in <module>\n",
    "----> 1 int('9.2')\n",
    "\n",
    "ValueError: invalid literal for int() with base 10: '9.2'\n",
    "```\n",
    ":::"
   ]
  },
  {
   "cell_type": "markdown",
   "id": "ef656c3e-7467-4e86-aa48-ecb724e85a01",
   "metadata": {},
   "source": [
    ":::{admonition} 주의  \n",
    ":class: caution\n",
    "변수를 형변환한다고 해서 변수에 할당된 값이 변하는 것은 아니다. 다만, 형변환한 값을 다른 변수에 저장해서 활용할 수는 있다. \n",
    ":::"
   ]
  },
  {
   "cell_type": "code",
   "execution_count": 75,
   "id": "adfacb97-3d01-463d-9f95-a4fa393462f4",
   "metadata": {},
   "outputs": [
    {
     "name": "stdout",
     "output_type": "stream",
     "text": [
      "2\n",
      "<class 'float'>\n"
     ]
    }
   ],
   "source": [
    "float_num = 2.3\n",
    "print(int(float_num))\n",
    "print(type(float_num))"
   ]
  },
  {
   "cell_type": "code",
   "execution_count": 76,
   "id": "6f6ecf0f-61e7-4fb6-92fa-b4562da8c43a",
   "metadata": {},
   "outputs": [
    {
     "name": "stdout",
     "output_type": "stream",
     "text": [
      "<class 'int'>\n"
     ]
    }
   ],
   "source": [
    "int_num = int(float_num)\n",
    "print(type(int_num))"
   ]
  },
  {
   "cell_type": "markdown",
   "id": "a895ca75-971d-4503-b5cb-40d3bd26d654",
   "metadata": {
    "tags": []
   },
   "source": [
    "#### `float()` 함수"
   ]
  },
  {
   "cell_type": "markdown",
   "id": "6787cb88-5c18-477c-b04e-4cf660977851",
   "metadata": {},
   "source": [
    "`float()` 부동소수점형으로 변환"
   ]
  },
  {
   "cell_type": "code",
   "execution_count": 77,
   "id": "8ff366ef-1c6d-411d-b47e-c43b59180c5d",
   "metadata": {},
   "outputs": [
    {
     "data": {
      "text/plain": [
       "2.0"
      ]
     },
     "execution_count": 77,
     "metadata": {},
     "output_type": "execute_result"
    }
   ],
   "source": [
    "float(2)"
   ]
  },
  {
   "cell_type": "code",
   "execution_count": 78,
   "id": "6c47323f-758d-4298-8c7a-5897fd5239a5",
   "metadata": {},
   "outputs": [
    {
     "data": {
      "text/plain": [
       "1.0"
      ]
     },
     "execution_count": 78,
     "metadata": {},
     "output_type": "execute_result"
    }
   ],
   "source": [
    "float(True)"
   ]
  },
  {
   "cell_type": "code",
   "execution_count": 79,
   "id": "1463ca3b-17af-4e85-8ba4-6ec35213b64f",
   "metadata": {},
   "outputs": [
    {
     "data": {
      "text/plain": [
       "0.0"
      ]
     },
     "execution_count": 79,
     "metadata": {},
     "output_type": "execute_result"
    }
   ],
   "source": [
    "float(False)"
   ]
  },
  {
   "cell_type": "code",
   "execution_count": 80,
   "id": "edb50409-142a-4f59-9c15-b759ede5148a",
   "metadata": {
    "tags": []
   },
   "outputs": [
    {
     "data": {
      "text/plain": [
       "7.0"
      ]
     },
     "execution_count": 80,
     "metadata": {},
     "output_type": "execute_result"
    }
   ],
   "source": [
    "float('7')"
   ]
  },
  {
   "cell_type": "markdown",
   "id": "0ea6444c-65a9-4738-b1ae-f8815df551dd",
   "metadata": {},
   "source": [
    ":::{admonition} 주의  \n",
    ":class: caution\n",
    "`float()` 함수의 인자로 문자열을 사용할 때는 그 모양이 정수 또는 부동소수점 모양이어야 한다.  \n",
    "\n",
    "```python\n",
    ">>> float('3GB')\n",
    "ValueError                                Traceback (most recent call last)\n",
    "/tmp/ipykernel_422/1346430820.py in <module>\n",
    "----> 1 float('3GB')\n",
    "\n",
    "ValueError: could not convert string to float: '3GB'\n",
    "```\n",
    ":::"
   ]
  },
  {
   "cell_type": "markdown",
   "id": "09f97c8a-4922-4824-9c51-e2c6929bfeb3",
   "metadata": {
    "tags": []
   },
   "source": [
    "#### `str()` 함수"
   ]
  },
  {
   "cell_type": "markdown",
   "id": "11836c7c-a585-4742-872a-3063e6b9691e",
   "metadata": {},
   "source": [
    "`str()` : 문자열형으로 변환"
   ]
  },
  {
   "cell_type": "code",
   "execution_count": 81,
   "id": "765472d6-0662-4c06-86b1-7d19a7dc3a15",
   "metadata": {},
   "outputs": [
    {
     "data": {
      "text/plain": [
       "'1'"
      ]
     },
     "execution_count": 81,
     "metadata": {},
     "output_type": "execute_result"
    }
   ],
   "source": [
    "str(1)"
   ]
  },
  {
   "cell_type": "code",
   "execution_count": 82,
   "id": "2ef100c8-f7d9-463a-9265-13c7cf7747d1",
   "metadata": {},
   "outputs": [
    {
     "data": {
      "text/plain": [
       "'3.4'"
      ]
     },
     "execution_count": 82,
     "metadata": {},
     "output_type": "execute_result"
    }
   ],
   "source": [
    "str(3.4)"
   ]
  },
  {
   "cell_type": "code",
   "execution_count": 83,
   "id": "b506d69f-1165-4892-825a-f891cbccf497",
   "metadata": {},
   "outputs": [
    {
     "data": {
      "text/plain": [
       "'True'"
      ]
     },
     "execution_count": 83,
     "metadata": {},
     "output_type": "execute_result"
    }
   ],
   "source": [
    "str(True)"
   ]
  },
  {
   "cell_type": "code",
   "execution_count": 84,
   "id": "94f3c722-d162-4502-9b2b-65c720e496d8",
   "metadata": {},
   "outputs": [
    {
     "data": {
      "text/plain": [
       "'None'"
      ]
     },
     "execution_count": 84,
     "metadata": {},
     "output_type": "execute_result"
    }
   ],
   "source": [
    "str(None)"
   ]
  },
  {
   "cell_type": "markdown",
   "id": "4391a32d-16d8-4a4c-baa6-21d983581970",
   "metadata": {
    "tags": []
   },
   "source": [
    "#### `bool()` 함수"
   ]
  },
  {
   "cell_type": "markdown",
   "id": "7ab11374-94f6-49bf-9f44-99bee7aa311d",
   "metadata": {},
   "source": [
    "`bool()` : 불리언형으로 변환  "
   ]
  },
  {
   "cell_type": "markdown",
   "id": "9b016c49-1f3b-4f1b-a52e-ce7e25a6c745",
   "metadata": {},
   "source": [
    ":::{admonition} 참고   \n",
    ":class: info\n",
    "`bool()` 함수는 `0`, `0.0`, `''`(빈 문자열)처럼 0이거나 비어 있는 값을 인자로 사용하면 `False`를 반환한다.  \n",
    ":::"
   ]
  },
  {
   "cell_type": "code",
   "execution_count": 85,
   "id": "f61513c8-24ee-48e7-bd31-c1a3302c6fe3",
   "metadata": {},
   "outputs": [
    {
     "data": {
      "text/plain": [
       "False"
      ]
     },
     "execution_count": 85,
     "metadata": {},
     "output_type": "execute_result"
    }
   ],
   "source": [
    "bool(None)"
   ]
  },
  {
   "cell_type": "code",
   "execution_count": 86,
   "id": "ef649069-3a9d-4ac6-8f26-1f41d423fa4b",
   "metadata": {},
   "outputs": [
    {
     "data": {
      "text/plain": [
       "False"
      ]
     },
     "execution_count": 86,
     "metadata": {},
     "output_type": "execute_result"
    }
   ],
   "source": [
    "bool(0)"
   ]
  },
  {
   "cell_type": "code",
   "execution_count": 87,
   "id": "31bfd3a9-3271-4734-bc1a-2ed83efc96e9",
   "metadata": {},
   "outputs": [
    {
     "data": {
      "text/plain": [
       "True"
      ]
     },
     "execution_count": 87,
     "metadata": {},
     "output_type": "execute_result"
    }
   ],
   "source": [
    "bool(1)"
   ]
  },
  {
   "cell_type": "code",
   "execution_count": 88,
   "id": "7efacd06-53ac-4288-a380-bec586621753",
   "metadata": {},
   "outputs": [
    {
     "data": {
      "text/plain": [
       "True"
      ]
     },
     "execution_count": 88,
     "metadata": {},
     "output_type": "execute_result"
    }
   ],
   "source": [
    "bool(3)"
   ]
  },
  {
   "cell_type": "code",
   "execution_count": 89,
   "id": "519b1917-997e-4466-9fd2-112c9f97c848",
   "metadata": {},
   "outputs": [
    {
     "data": {
      "text/plain": [
       "False"
      ]
     },
     "execution_count": 89,
     "metadata": {},
     "output_type": "execute_result"
    }
   ],
   "source": [
    "bool(0.0)"
   ]
  },
  {
   "cell_type": "code",
   "execution_count": 90,
   "id": "14804404-9294-483b-a51f-be975a59d050",
   "metadata": {},
   "outputs": [
    {
     "data": {
      "text/plain": [
       "True"
      ]
     },
     "execution_count": 90,
     "metadata": {},
     "output_type": "execute_result"
    }
   ],
   "source": [
    "bool(2.3)"
   ]
  },
  {
   "cell_type": "code",
   "execution_count": 91,
   "id": "5a7a093c-eff7-49cb-9dd0-8af670b25089",
   "metadata": {},
   "outputs": [
    {
     "data": {
      "text/plain": [
       "False"
      ]
     },
     "execution_count": 91,
     "metadata": {},
     "output_type": "execute_result"
    }
   ],
   "source": [
    "bool('')"
   ]
  },
  {
   "cell_type": "code",
   "execution_count": 92,
   "id": "7658e408-0fcc-47d0-87f2-bc08f7290ae4",
   "metadata": {},
   "outputs": [
    {
     "data": {
      "text/plain": [
       "True"
      ]
     },
     "execution_count": 92,
     "metadata": {},
     "output_type": "execute_result"
    }
   ],
   "source": [
    "bool('abc')"
   ]
  },
  {
   "cell_type": "markdown",
   "id": "114b7530-f6f4-4db0-adce-ee153372fa46",
   "metadata": {
    "tags": []
   },
   "source": [
    "### `input()` 함수"
   ]
  },
  {
   "cell_type": "markdown",
   "id": "a13a818a-f8d6-4019-9df8-d9ada58abe36",
   "metadata": {},
   "source": [
    "사용자의 입력은 `input()` 함수를 사용하여 받을 수 있다. 아래와 같이 `input()`을 입력하고 코드를 실행하면, 그 아래에 값을 입력하라는 창이 나온다. 그곳에 `Hello, python!`을 입력하고 엔터<font size =\"2\">enter</font>를 누르면 입력한 문자열이 그대로 출력된다.  \n",
    "```python\n",
    ">>> input()\n",
    "Hello, python!\n",
    "'Hello, python!'\n",
    "```"
   ]
  },
  {
   "cell_type": "markdown",
   "id": "b658b5ee-14f4-46f7-95db-456c5afe6f9f",
   "metadata": {},
   "source": [
    "`input()` 함수로 입력받은 값은 변수에 할당하여 사용할 수도 있다.  \n",
    "\n",
    "```python\n",
    ">>> name = input()\n",
    " python!\n",
    ">>> print(\"Hello, \" + name)\n",
    "Hello, python!\n",
    "```"
   ]
  },
  {
   "cell_type": "markdown",
   "id": "46cf12e0-782f-40fc-8190-b1c9bc64626a",
   "metadata": {},
   "source": [
    "이때 `input()` 함수로 입력받은 값은 문자열`str`이다.  \n",
    "\n",
    "```python\n",
    ">>> type(name)\n",
    "str\n",
    "```"
   ]
  },
  {
   "cell_type": "markdown",
   "id": "5056548c-2208-4056-af66-d0db0fd06a90",
   "metadata": {},
   "source": [
    "사용자가 숫자를 입력하더라도 입력받은 값은 문자열`str`이다.  \n",
    "\n",
    "```python\n",
    ">>> num = input()\n",
    " 123\n",
    ">>> type(num)\n",
    "str\n",
    "```"
   ]
  },
  {
   "cell_type": "markdown",
   "id": "8c8fba7b-2989-4905-91c9-e85f7ad86c6b",
   "metadata": {},
   "source": [
    "사용자에게 무엇을 입력할지 알려주고 싶다면, 그 내용의 문자열을 `input()`의 인자로 사용하면 된다.  \n",
    "\n",
    "```python\n",
    ">>> input_num = input(\"정수를 입력하세요 : \")\n",
    "정수를 입력하세요 :  135\n",
    ">>> print(\"입력하신 정수는 \" + input_num + \"입니다.\")\n",
    "입력하신 정수는 135입니다.\n",
    "```"
   ]
  },
  {
   "cell_type": "markdown",
   "id": "1b98fb2e-8ab3-4419-956d-33f47bd3d5d8",
   "metadata": {
    "tags": []
   },
   "source": [
    "### `print()` 함수"
   ]
  },
  {
   "cell_type": "markdown",
   "id": "e6f957cf-5c28-49df-ace4-9928052c52cb",
   "metadata": {},
   "source": [
    "그 동안 출력을 위해 `print()` 함수를 사용하였다. 예를 들어, `Hello, python`을 출력하고 싶다면, 아래와 같이 코드를 작성하면 된다. "
   ]
  },
  {
   "cell_type": "code",
   "execution_count": 93,
   "id": "7bc87a58-162f-4d32-9121-8bfaecb9bafd",
   "metadata": {},
   "outputs": [
    {
     "name": "stdout",
     "output_type": "stream",
     "text": [
      "Hello, python\n"
     ]
    }
   ],
   "source": [
    "print('Hello, python')"
   ]
  },
  {
   "cell_type": "markdown",
   "id": "5dc4982a-0250-4efa-b6ba-df88cf6b8e5e",
   "metadata": {},
   "source": [
    "이제 `print()` 함수에 대해서 조금 더 살펴보자. "
   ]
  },
  {
   "cell_type": "markdown",
   "id": "2b2bbc92-a2dc-4267-a0ed-2ffd6263db9a",
   "metadata": {},
   "source": [
    "* 큰 따옴표(또는 작은 따옴표)로 둘러싸인 문자열을 연속해서 사용하면 문자열에서 +연산을 한 것과 동일한 결과를 출력해준다."
   ]
  },
  {
   "cell_type": "code",
   "execution_count": 94,
   "id": "cc67348f-68a4-4747-bdc1-29bcfe65bec7",
   "metadata": {},
   "outputs": [
    {
     "name": "stdout",
     "output_type": "stream",
     "text": [
      "Hello World\n",
      "Hello World\n",
      "Hello World\n",
      "Hello World\n"
     ]
    }
   ],
   "source": [
    "print(\"Hello \"\"World\")\n",
    "print('Hello ''World')\n",
    "print('Hello '\"World\")\n",
    "print(\"Hello \" + \"World\")"
   ]
  },
  {
   "cell_type": "markdown",
   "id": "3f2cb763-72a7-4f3b-b201-5d442dbd29a3",
   "metadata": {},
   "source": [
    "* 콤마(`,`)로 구분하여 여러 개의 인자를 사용할 수 있다."
   ]
  },
  {
   "cell_type": "code",
   "execution_count": 95,
   "id": "3237ba5a-6c99-42e4-a9b7-20f5d6a84c52",
   "metadata": {},
   "outputs": [
    {
     "name": "stdout",
     "output_type": "stream",
     "text": [
      "Hello World\n"
     ]
    }
   ],
   "source": [
    "print(\"Hello\", \"World\")"
   ]
  },
  {
   "cell_type": "code",
   "execution_count": 96,
   "id": "386a4854-9d49-42dc-bce7-f3908867eb4a",
   "metadata": {},
   "outputs": [
    {
     "name": "stdout",
     "output_type": "stream",
     "text": [
      "강아지 3 마리\n"
     ]
    }
   ],
   "source": [
    "print(\"강아지\", 3, \"마리\")"
   ]
  },
  {
   "cell_type": "markdown",
   "id": "f585bcf1-c543-4038-9a4c-18f207527509",
   "metadata": {},
   "source": [
    "* 인자들 사이에 구분자를 넣고 싶다면, `sep`을 변경하면 된다. `sep`의 기본값은 공백이다."
   ]
  },
  {
   "cell_type": "code",
   "execution_count": 97,
   "id": "3a89b8b1-d02e-4407-a097-33a0f0fe32d3",
   "metadata": {},
   "outputs": [
    {
     "name": "stdout",
     "output_type": "stream",
     "text": [
      "010-1234-5678\n",
      "Hello, World\n"
     ]
    }
   ],
   "source": [
    "print(\"010\", \"1234\", \"5678\", sep = \"-\")\n",
    "print(\"Hello\", \"World\", sep = \", \")"
   ]
  },
  {
   "cell_type": "markdown",
   "id": "18b6a435-cb8d-40fa-9956-452cf8b5ffd5",
   "metadata": {},
   "source": [
    "* 마지막에 출력할 문자를 변경하고 싶다면, `end`를 변경하면 된다. `end`의 기본값은 줄변경(`\\n`)이다."
   ]
  },
  {
   "cell_type": "code",
   "execution_count": 98,
   "id": "7c4f4a68-1bdb-4f4f-b990-29c19d072ed4",
   "metadata": {},
   "outputs": [
    {
     "name": "stdout",
     "output_type": "stream",
     "text": [
      "a\n",
      "bc\td\n"
     ]
    }
   ],
   "source": [
    "print(\"a\")\n",
    "print(\"b\", end = \"\")\n",
    "print(\"c\", end = \"\\t\")\n",
    "print(\"d\")"
   ]
  },
  {
   "cell_type": "markdown",
   "id": "afbdc10a-fb29-492f-903f-7924d32f8027",
   "metadata": {},
   "source": [
    ":::{admonition} 참고  \n",
    ":class: info  \n",
    "`print()` 함수에 의해 화면에 출력되는 문자열은 반환값이 아니고 화면에 지정된 값을 출력하는 명령문의 실행 결과에 불과하다. 함수의 반환값은 변수에 할당해서 사용할 수 있지만 화면에 출력된 문자열은 그럴 수 없다는 데서 `print()` 함수는 특정한 반환값을 생성하지 않고, 대신에 `None`이 반환값으로 사용된다는 것을 확인할 수 있다. \n",
    ":::"
   ]
  },
  {
   "cell_type": "code",
   "execution_count": 99,
   "id": "a37ce83a-a81c-4b8e-9155-72744c7f9b79",
   "metadata": {},
   "outputs": [
    {
     "name": "stdout",
     "output_type": "stream",
     "text": [
      "123\n"
     ]
    }
   ],
   "source": [
    "x = print(123) # 아래 123은 변수 x가 가리키는 값이 아니다. "
   ]
  },
  {
   "cell_type": "code",
   "execution_count": 100,
   "id": "147e2a74-5892-4b34-abe2-f15a238b3ea9",
   "metadata": {},
   "outputs": [
    {
     "name": "stdout",
     "output_type": "stream",
     "text": [
      "None\n"
     ]
    }
   ],
   "source": [
    "print(x) #변수 x는 None을 가리킨다."
   ]
  },
  {
   "cell_type": "markdown",
   "id": "2d03d247-e2d3-4afe-ab5e-83dc989ed62d",
   "metadata": {},
   "source": [
    "## 연습문제"
   ]
  },
  {
   "cell_type": "markdown",
   "id": "2c18797c-96c8-49d9-bd25-1b9948eb9f71",
   "metadata": {},
   "source": [
    "### 문제\n",
    "다음을 연산기호를 이용하여 수식으로 표현하고, 그 결과를 확인하여라.    \n",
    "\n",
    "* 3 + 9 - 8  \n",
    "* (27 + 3) × 2 - 42 ÷ 3  \n",
    "* [{(9 ÷ 2) × 12} - 7] × 3 - 1"
   ]
  },
  {
   "cell_type": "markdown",
   "id": "acd5e069-1392-4d79-8186-f78af8f16cd6",
   "metadata": {},
   "source": [
    "### 문제  \n",
    "문자열 `Good morning!` 을 출력하는 코드를 작성하여라.  \n"
   ]
  },
  {
   "cell_type": "markdown",
   "id": "cf33d889-7b7d-4c58-804c-23514c373eb0",
   "metadata": {},
   "source": [
    "### 문제  \n",
    "`Hello!`를 3번 연속(`Hello!Hello!Hello!`)으로 출력하는 코드를 작성하여라. "
   ]
  },
  {
   "cell_type": "markdown",
   "id": "ad268247-95c9-449e-934d-d7d1aa7a5acc",
   "metadata": {},
   "source": [
    "### 문제  \n",
    "사용자에게 문자열을 입력받고, 그 문자열을 5번 연속으로 출력하는 코드를 작성하여라.   \n",
    "예를 들어, 사용자가 `Hello!`를 입력했다면, `Hello!Hello!Hello!Hello!Hello!`를 출력한다. "
   ]
  },
  {
   "cell_type": "markdown",
   "id": "2c4df322-9d2f-437f-81a3-305d660230b8",
   "metadata": {
    "jp-MarkdownHeadingCollapsed": true,
    "tags": []
   },
   "source": [
    "### 문제  \n",
    "두 정수 a와 b를 입력받아 `a + b`, `a - b`, `a * b`, `a / b`, `a // b`, `a % b`를 출력하는 코드를 작성하여라.   \n",
    "\n",
    "\n",
    "Input : a = 3, b = 2  \n",
    "Output : \n",
    "```\n",
    "3 + 2 = 5  \n",
    "3 - 2 = 1\n",
    "3 * 2 = 6 \n",
    "3 / 2 = 1.5\n",
    "3 // 2 = 1\n",
    "3 % 2 = 1\n",
    "```"
   ]
  },
  {
   "cell_type": "markdown",
   "id": "210fed2d-4e18-45ed-a55e-e65f5ec1d273",
   "metadata": {},
   "source": [
    "### 문제\n",
    "\n",
    "두 자연수 x와 y를 입력받아 두 수의 산술평균<font size = \"2\">arithmetic mean</font>, 기하평균<font size = \"2\">geometric mean</font>, 조화평균<font size = \"2\">harmonic mean</font>을 출력하는 코드를 작성하여라.   \n",
    "두 자연수 x와 y의 산술평균($M_a$), 기하평균($M_g$), 조화평균($M_h$)을 구하는 식은 아래와 같다.  \n",
    "* $M_a =$ <font size = \"4\">$\\frac{x + y}{2}$ </font>  \n",
    "\n",
    "* $M_g =\\sqrt{xy}$ \n",
    "\n",
    "* $M_h =$ <font size = \"4\">$\\frac{2}{\\frac{1}{x} + \\frac{1}{y}}$</font>  "
   ]
  },
  {
   "cell_type": "markdown",
   "id": "bb1029c6-a90c-4af8-a1ee-d40e33c77c9e",
   "metadata": {
    "jp-MarkdownHeadingCollapsed": true,
    "tags": []
   },
   "source": [
    "### 문제   \n",
    "오늘이 무슨 요일인지 주어질 때, 100일 후는 무슨 요일인지를 출력하는 코드를 작성하여라.  \n",
    "단, 1234560은 각각 월화수목금토일을 의미한다. 즉, 2는 화요일이다.   \n",
    "Input : 2   \n",
    "Output : 4   "
   ]
  },
  {
   "cell_type": "markdown",
   "id": "3983dda3-fd07-4771-8d40-95d533b68b7b",
   "metadata": {},
   "source": [
    "### 문제  \n",
    "다음은 BTS의 butter 가사 일부분이다. 아래와 같이 문자열을 출력하는 코드를 작성하여라(따옴표 포함).  \n",
    "```\n",
    "Smooth like \"butter\"\n",
    "Like a criminal undercover\n",
    "Gon' pop like trouble\n",
    "Breakin' into your heart like that\n",
    "```"
   ]
  },
  {
   "cell_type": "markdown",
   "id": "03965521-b3bb-4728-9761-f163f0db7ac3",
   "metadata": {
    "tags": []
   },
   "source": [
    "### 문제  \n",
    "`input()`로 정수를 입력받아, 아래의 형식으로 그 값을 출력하는 코드를 작성하여라.  \n",
    "단, 정수는 10000이하의 수를 입력한다고 가정한다. \n",
    "\n",
    "Input : 3  \n",
    "Output : `입력하신 숫자는 000003입니다.`  \n",
    "\n",
    "Input : 123  \n",
    "Output : `입력하신 숫자는 000123입니다.`"
   ]
  },
  {
   "cell_type": "markdown",
   "id": "faf8dcbb-d0a6-4dd6-b90a-0d5b0780f40d",
   "metadata": {},
   "source": [
    "### 문제  \n",
    "30cm × 30cm 크기의 타일이 있다. 타일은 온장을 그대로 사용할 수도 있고, 잘라서 일부분만 사용할 수도 있다. **단, 잘라서 사용한 타일의 나머지는 사용하지 않는다.** 주어진 크기의 바닥에 타일을 깔기 위해 사용되는 온장 타일과 잘라서 사용한 타일의 개수를 공백으로 구분하여 출력하는 코드를 작성하여라.  \n",
    "\n",
    "Input : width = 400, height = 300  (width와 height는 모두 정수)  \n",
    "Output : 130 10"
   ]
  },
  {
   "cell_type": "markdown",
   "id": "901f1c32-ad74-451f-b63b-6763cfa6b2b6",
   "metadata": {
    "tags": []
   },
   "source": [
    "### 문제  \n",
    "\n",
    "어느 대기실에는 N개의 의자가 일렬로 놓여 있다. 어느 두 사람도 이웃하여 앉지 않을 때, 앉을 수 있는 최대 인원수와 최소 인원수를 출력하는 코드를 작성하여라. 단, 대기실에는 충분히 많은 사람이 있고, 띄어 앉기가 가능하다면 모두 앉고 싶어한다. \n",
    "예를 들어, 5개의 의자가 일렬로 놓여 있을 때, 한 칸씩 띄어 앉으면(ex, ■□■□■) 3명이 앉을 수 있다. 반면, 누군가 두 번째(ex, □■□□□ )나 네 번째(ex, □□□■□) 의자에 앉으면, 띄어 앉기하여 5개의 의자에 2명이 앉을 수 있다(ex, □■□■□, □■□□■, ■□□■□, □■□■□). 따라서 5개의 의자가 일렬로 놓여 있을 때, 띄어 앉기를 하여 최대 3명, 최소 2명 앉을 수 있다.\n",
    "\n",
    "Input : N = 5  \n",
    "Output : 3 2"
   ]
  },
  {
   "cell_type": "markdown",
   "id": "ac25f466-d6a8-4f0b-82f3-4763701c1072",
   "metadata": {},
   "source": [
    "### 문제   \n",
    "d m 길이의 철로 양끝에 서로 마주보고 있는 두 대의 기차 A, B가 있고, 기차 A위에는 파리 한 마리가 있다. 두 기차 A와 B가 서로를 향해 달릴 때, 파리는 기차 A에서 기차 B까지 날아가다가 기차 B와 부딪히기 직전 방향을 바꿔 기차 A에게 날아가고 다시 기차 A와 부딪히기 직전 기차 B를 향해 날아가기를 반복한다. 그러다가 기차 A, B는 부딪힌다. 이때, 기차 A의 속력은 a m/s, 기차 B의 속력은 b m/s, 파리의 속력은 c m/s 이다. d, a, b, c가 주어졌을 때, 파리가 부딪히기 직전까지 날아다닌 거리(m)를 구하는 코드를 작성하여라. 단, d, a, b, c는 모두 10000이하의 자연수이고, a, b < c < d를 만족하도록 임의로 입력한다.  \n",
    "\n",
    "Input : d = 16, a = 3, b = 5, c = 8   \n",
    "Output : 16"
   ]
  },
  {
   "cell_type": "markdown",
   "id": "fc8d58ed-f29b-49c5-85d4-be7ec91981ad",
   "metadata": {
    "tags": []
   },
   "source": [
    "### 문제  \n",
    "\n",
    "다음과 같은 방법으로 (세 자리 수) × (세 자리 수) 를 계산할 수 있다.   \n",
    "\n",
    "<div align=\"left\">\n",
    "    <img src=\"https://raw.githubusercontent.com/hj617kim/core_pybook/master/images/ch04/pro01.png\" style=\"width:250px;\">\n",
    "</div>  \n",
    "\n",
    "두 세 자리 수가 주어질 때, ①, ②, ③, ④에 들어갈 값을 각각 줄변경하여 출력하는 구하는 코드를 작성하여라.  \n",
    "\n",
    "Input : a = 265, b = 112  \n",
    "Output :  \n",
    "```\n",
    "530   \n",
    "265  \n",
    "265 \n",
    "29680\n",
    "```"
   ]
  },
  {
   "cell_type": "markdown",
   "id": "00532f5c-80ea-437f-a606-64ec6dc5ef49",
   "metadata": {},
   "source": [
    "### 문제  \n",
    "A편의점은 500원, 100원, 50원, 10원을 보유하고 있고, 동전의 개수를 최소화하여 거스름 돈을 주려고 한다.  \n",
    "거슬러 줘야 하는 금액이 n원일 때, 최소 동전의 개수를 출력하는 코드를 작성하여라.     \n",
    "단, n은 10의 배수이며 5000보다 작은 정수고, 모든 화폐는 무한하게 있다고 가정한다. \n",
    "\n",
    "Input : n = 1730  \n",
    "Output : 8"
   ]
  }
 ],
 "metadata": {
  "kernelspec": {
   "display_name": "Python 3 (ipykernel)",
   "language": "python",
   "name": "python3"
  },
  "language_info": {
   "codemirror_mode": {
    "name": "ipython",
    "version": 3
   },
   "file_extension": ".py",
   "mimetype": "text/x-python",
   "name": "python",
   "nbconvert_exporter": "python",
   "pygments_lexer": "ipython3",
   "version": "3.8.10"
  },
  "toc-autonumbering": true,
  "toc-showcode": false,
  "toc-showmarkdowntxt": false
 },
 "nbformat": 4,
 "nbformat_minor": 5
}