{
 "cells": [
  {
   "cell_type": "markdown",
   "id": "116c4f5b-a814-4516-87ea-022ed99a86d4",
   "metadata": {},
   "source": [
    "# 기초 V(클래스)"
   ]
  },
  {
   "cell_type": "markdown",
   "id": "9a06cbe9-69ff-4cc8-b993-ff4acce1b7c5",
   "metadata": {},
   "source": [
    "## 클래스"
   ]
  },
  {
   "cell_type": "markdown",
   "id": "b35d5eb2-c24c-4358-b5a9-da1ed73c1c6e",
   "metadata": {
    "tags": []
   },
   "source": [
    "### 클래스와 인스턴스"
   ]
  },
  {
   "cell_type": "markdown",
   "id": "c13e8e73-5beb-4312-87a8-e45c93ca6334",
   "metadata": {},
   "source": [
    "**클래스**<font size = \"2\">class</font>는 서로 관련된 데이터와 해당 데이터를 다루는 함수들을 하나로 묶어 추상화하는 방법으로, 클래스를 이용하여 필요한 자료형<font size=\"2\">data type</font>을 직접 정의할 수 있다. 예를 들어, 지금까지 사용했던 정수, 문자열, 리스트와 같은 자료형들도 모두 `int`, `str`, `list` 클래스로 정의되어 있다. 한편, 우리가 `2`, `'Hello'`, `[1, 2, 3]`을 각각 정수, 문자열, 리스트 자료형의 값이라고 부르듯이 특정 클래스의 값에 해당하는 대상을 정의할 수 있는데, 이를 해당 클래스의 **인스턴스**<font size=\"2\">instance</font>라고 부른다. 그리고 특정 클래스의 인스턴스를 일반적으로 **객체**<font size=\"2\">object</font>라고 부른다. 예를 들어, `2`, `'Hello'`, `[1, 2, 3]`은 객체이며, 각각 `int`, `str`, `list` 클래스의 인스턴스이다.  "
   ]
  },
  {
   "cell_type": "markdown",
   "id": "901bb4cc-7df0-4103-b810-618950d0839b",
   "metadata": {},
   "source": [
    ":::{admonition} 객체와 인스턴스    \n",
    ":class: info    \n",
    "보통 대상에 집중할 때는 객체라는 표현을 사용하며, 특정 클래스와의 관계에 집중할 때는 인스턴스라는 표현을 주로 사용한다. 예를 들어, '`2`는 객체'이고, '`2`는 `int` 클래스의 인스턴스'라고 표현한다.   \n",
    ":::"
   ]
  },
  {
   "cell_type": "markdown",
   "id": "ac247682-cf8a-4849-a3f0-89d56b278deb",
   "metadata": {},
   "source": [
    ":::{admonition} 참고    \n",
    ":class: info    \n",
    "파이썬에서 사용되는 모든 대상은 특정 클래스의 인스턴스, 즉 객체이다. 파이썬의 자료형들은 모두 클래스로 정의되어 있으며, 심지어 이러한 클래스도 `type`이라는 클래스의 인스턴스이다. 특정 객체의 클래스, 즉 자료형을 확인하려면 `type()` 함수를 사용한다.   \n",
    "\n",
    "```python\n",
    ">>> print(type(int))\n",
    "<class 'type'>\n",
    "```\n",
    "\n",
    "```python\n",
    ">>> print(type(str))\n",
    "<class 'type'>\n",
    "```\n",
    "\n",
    "```python\n",
    ">>> print(type(list))\n",
    "<class 'type'>\n",
    "```\n",
    ":::\n"
   ]
  },
  {
   "cell_type": "markdown",
   "id": "f7c4a4f4-cfdb-46f6-8077-7cbcd5db3b28",
   "metadata": {},
   "source": [
    ":::{admonition} 객체지향프로그래밍<font size = \"2\">Object-Oriented Programming, OOP</font>  \n",
    ":class: info    \n",
    "OOP는 프로그래밍 기법 중 하나로, 프로그램을 구성하는 객체<font size=\"2\">object</font>들을 중심으로 구현해야 할 프로그램을 완성시키는 방식을 말한다.    \n",
    ":::\n"
   ]
  },
  {
   "cell_type": "markdown",
   "id": "e8f46764-f412-4987-90de-6c3479760785",
   "metadata": {},
   "source": [
    "### 속성과 메서드   \n",
    "클래스에는 변수와 함수들이 선언되어 있는데, 여기에 특별한 성질의 객체를 묘사하고 다루기 위해 필요한 속성과 도구를 저장한다. 보통 클래스에서 선언된 변수를 **속성 변수** 또는 **속성**<font size=\"2\">attribute</font>, 함수를 **메서드**<font size=\"2\">method</font>라고 부르고, 이는 해당 클래스를 통하여 또는 해당 클래스의 인스턴스를 통하여 호출될 수 있다.  \n",
    "\n",
    "* **속성**<font size=\"2\">attribute</font>\n",
    "    * 클래스에서 선언된 변수\n",
    "    * 생성되는 객체들이 사용하는 값 또는 특성값 저장\n",
    "* **메서드**<font size=\"2\">attribute</font>\n",
    "    * 클래스에서 선언된 함수\n",
    "    * 속성 정보를 이용하고 다룰 수 있는 도구\n",
    "\n",
    "예를 들어, 문자열 `'Hello'`은 어떤 형식으로든 Hello라는 단어를 속성으로 가지고 있어야 하며, `split`, `strip`, `find` 등의 문자열 메서드로 속성 정보를 이용할 수 있다. 또한, 리스트 `[1, 2, 3]`도 어떤 형식으로든 1, 2, 3을 속성으로 갖고 있어야 하며, `append`, `pop`, `sort` 등의 리스트 메서드로 속성 정보를 이용할 수 있다.   \n",
    "\n",
    "    "
   ]
  },
  {
   "cell_type": "markdown",
   "id": "d8daab2b-5253-468f-931c-43632314d7c2",
   "metadata": {},
   "source": [
    "## `Fraction` 클래스  \n",
    "분수들의 클래스인 `Fraction` 클래스를 정의하면서 클래스에 대해서 살펴보자.  "
   ]
  },
  {
   "cell_type": "markdown",
   "id": "0440113f-6644-4272-bef6-7c767b963d27",
   "metadata": {},
   "source": [
    "### 클래스 정의하기 "
   ]
  },
  {
   "cell_type": "markdown",
   "id": "574a5cbe-dcb0-43d6-b030-e00959d18928",
   "metadata": {},
   "source": [
    "파이썬에서는 클래스를 정의하기 위해 `class`라는 키워드를 사용하며, 아래의 형식을 따른다.  \n",
    "\n",
    "```\n",
    "class 클래스이름 :\n",
    "    # 속성 및 메서드 선언 \n",
    "```"
   ]
  },
  {
   "cell_type": "markdown",
   "id": "ff0069e5-5e0d-4ea8-be98-dc24611f5fb1",
   "metadata": {},
   "source": [
    "예를 들어, `Fraction` 클래스는 아래와 같이 정의할 수 있다.  "
   ]
  },
  {
   "cell_type": "code",
   "execution_count": 1,
   "id": "6532b16f-9729-4403-b2d4-f60852deb56d",
   "metadata": {},
   "outputs": [],
   "source": [
    "class Fraction :\n",
    "    pass"
   ]
  },
  {
   "cell_type": "markdown",
   "id": "b247f65c-73dd-4555-97d5-c5070dd33460",
   "metadata": {},
   "source": [
    "**문서화 문자열**<font size=\"2\">docstring</font>  \n",
    "큰 따옴표 세 개(`\"\"\"...\"\"\"`) 또는 작은 따옴표 세 개(`'''...'''`)를 사용하여 클래스에 주석을 추가할 수 있다. 예를 들어, `Fraction` 클래스에 `Fraction 클래스`라는 문서화 문자열을 추가해보자.  "
   ]
  },
  {
   "cell_type": "code",
   "execution_count": 2,
   "id": "7c4d074e-00bd-44a8-9623-928daf6c6e34",
   "metadata": {},
   "outputs": [],
   "source": [
    "class Fraction :\n",
    "    \"\"\"\n",
    "      Fraction 클래스\n",
    "    \"\"\"\n",
    "    pass"
   ]
  },
  {
   "cell_type": "markdown",
   "id": "ad02d3ea-df79-4ce4-bb8a-f130bb169647",
   "metadata": {},
   "source": [
    "클래스에 문서화 문자열을 추가하면, `help()` 함수를 사용하여 해당 클래스의 역할 및 사용법을 확인할 수 있다. "
   ]
  },
  {
   "cell_type": "code",
   "execution_count": 3,
   "id": "74de77e2-6a14-416c-95e3-846b154ce12d",
   "metadata": {},
   "outputs": [
    {
     "name": "stdout",
     "output_type": "stream",
     "text": [
      "Help on class Fraction in module __main__:\n",
      "\n",
      "class Fraction(builtins.object)\n",
      " |  Fraction 클래스\n",
      " |  \n",
      " |  Data descriptors defined here:\n",
      " |  \n",
      " |  __dict__\n",
      " |      dictionary for instance variables (if defined)\n",
      " |  \n",
      " |  __weakref__\n",
      " |      list of weak references to the object (if defined)\n",
      "\n"
     ]
    }
   ],
   "source": [
    "help(Fraction)"
   ]
  },
  {
   "cell_type": "markdown",
   "id": "28e66782-1008-4e4d-8a0b-c8abf9c6a51b",
   "metadata": {
    "tags": []
   },
   "source": [
    "### 특수 메서드"
   ]
  },
  {
   "cell_type": "markdown",
   "id": "69a52e4d-8ea2-4faf-b81c-ec43481555db",
   "metadata": {},
   "source": [
    "생성된 객체와 관련된 속성과 메서드를 확인하려면 `dir()`함수를 사용한다. 예를 들어, `Fraction`의 속성과 메서드를 확인해보자. "
   ]
  },
  {
   "cell_type": "code",
   "execution_count": 4,
   "id": "7de89d92-859f-4045-8a47-4dc9fe8b80ad",
   "metadata": {},
   "outputs": [
    {
     "name": "stdout",
     "output_type": "stream",
     "text": [
      "['__class__', '__delattr__', '__dict__', '__dir__', '__doc__', '__eq__', '__format__', '__ge__', '__getattribute__', '__gt__', '__hash__', '__init__', '__init_subclass__', '__le__', '__lt__', '__module__', '__ne__', '__new__', '__reduce__', '__reduce_ex__', '__repr__', '__setattr__', '__sizeof__', '__str__', '__subclasshook__', '__weakref__']\n"
     ]
    }
   ],
   "source": [
    "print(dir(Fraction))"
   ]
  },
  {
   "cell_type": "markdown",
   "id": "ed0c1d76-ca29-4000-abb9-ea01c7137422",
   "metadata": {},
   "source": [
    "그러면 `Fraction`의 속성과 메서드를 확인할 수 있다. 여기에는 `Fraction` 클래스를 선언할 때 명시하지 않았던 여러 속성과 메서드가 보이는데, 그 이유는 다음과 같다.  \n",
    "\n",
    "* 파이썬의 모든 클래스는 `object`라는 최상위 클래스를 상속받는다.  \n",
    "* 하나의 클래스를 상속받으면 상속하는 클래스의 속성과 메서드도 모두 함께 상속받는다.  \n",
    "* `object` 클래스에는 위에서 언급된, 이중 밑줄로 감싼 속성과 메서드가 선언되어 있다.   \n",
    "\n",
    "`object` 클래스에 포함된 속성과 메서드는 모두 양끝이 이중 밑줄로 감싸여 있는데, 양끝이 이중 밑줄로 감싸인 메서드를 특별히 **특수 메서드**<font size=\"2\">special method</font> 또는 **매직 메서드**<font size=\"2\">magic method</font>라고 부른다. 임의의 클래스는 `object` 클래스에서 선언된 특수 메서드와 속성을 모두 상속 받는다. 상속받은 속성과 메서드는 상속한 클래스에서 선언한 그대로 사용할 수 있다. 예를 들어, `__class__` 속성은 객체의 자료형 정보를 저장하고 있다. `Fraction`의 `__class__` 속성을 확인해보자. 속성 확인은 메서드를 호출하는 방식과 비슷하다.  "
   ]
  },
  {
   "cell_type": "code",
   "execution_count": 5,
   "id": "cdd0b604-76d7-4562-af5f-35a16bc22821",
   "metadata": {},
   "outputs": [
    {
     "data": {
      "text/plain": [
       "type"
      ]
     },
     "execution_count": 5,
     "metadata": {},
     "output_type": "execute_result"
    }
   ],
   "source": [
    "Fraction.__class__"
   ]
  },
  {
   "cell_type": "markdown",
   "id": "851af6b3-18ef-40d8-8645-17958db95f20",
   "metadata": {},
   "source": [
    "`type()` 함수는 해당 객체의 `__class__` 속성을 확인하여 전달하는 일을 한다. "
   ]
  },
  {
   "cell_type": "code",
   "execution_count": 6,
   "id": "84cdbcf7-88b1-4b9e-9e5a-1ddaafaeafba",
   "metadata": {},
   "outputs": [
    {
     "data": {
      "text/plain": [
       "type"
      ]
     },
     "execution_count": 6,
     "metadata": {},
     "output_type": "execute_result"
    }
   ],
   "source": [
    "type(Fraction)"
   ]
  },
  {
   "cell_type": "markdown",
   "id": "b001819a-e92f-444e-aeff-ee96ecb5f958",
   "metadata": {},
   "source": [
    "한편, 상속받은 메서드는 재정의하여 사용할 수도 있는데, 이를 **메서드 재정의** 또는 **메서드 오버라이딩**<font size=\"2\">method overriding</font>이라 부른다. 위의 매직 메서드는 고유의 역할을 수행하기 위해 준비되었지만, 대부분 제대로 정의되지 않은 채로 상속된다. 이제 메서드 재정의를 하면서 중요한 특수 메서드 몇 개를 살펴보자.    "
   ]
  },
  {
   "cell_type": "markdown",
   "id": "8af59447-7ad7-4500-8cb6-2b060c944d0c",
   "metadata": {},
   "source": [
    "### `__init__()` 메서드"
   ]
  },
  {
   "cell_type": "markdown",
   "id": "9b75f885-763c-4c14-9fd8-4c09f0ab95e5",
   "metadata": {},
   "source": [
    "`__init__()` 메서드는 클래스의 인스턴스의 속성 정보에 필요한 값들을 인자로 받는 함수로 활용된다. 예를 들어, `Fraction` 클래스의 경우, 분자와 분모에 해당하는 값을 받아 지정된 값으로 분수를 하나의 객체로 생성하는 데에 사용할 수 있다. 다음과 같이 `Fraction` 클래스를 선언할 때, `__init__()` 메서드를 재정의해보자.  "
   ]
  },
  {
   "cell_type": "code",
   "execution_count": 7,
   "id": "c4b6237e-744e-4c6f-a1fd-1325997efb6c",
   "metadata": {},
   "outputs": [],
   "source": [
    "class Fraction :\n",
    "    \"\"\"\n",
    "      Fraction 클래스\n",
    "    \"\"\"\n",
    "    def __init__(self, num, den) :\n",
    "        \"\"\"\n",
    "          num : 분자numerator\n",
    "          den : 분모denominator \n",
    "        \"\"\"\n",
    "        self.num = num\n",
    "        self.den = den"
   ]
  },
  {
   "cell_type": "markdown",
   "id": "aa6bc982-e23d-4795-b814-3c1ae6c40c8f",
   "metadata": {},
   "source": [
    "`Fraction` 클래스의 `__init__()` 메서드에 사용된 매개변수와 인스턴스 변수는 다음과 같다.  \n",
    "\n",
    "* `self` : 생성되는 인스턴스 자신을 가리킴. 파이썬에서 클래스의 모든 (인스턴스) 메서드의 첫째 인자로 사용됨. 메서드를 호출할 때 `self`에 대한 인자는 사용하지 않음. \n",
    "* `num` : 생성되는 분수의 분자로 사용될 값을 받는 매개변수.  \n",
    "* `den` : 생성되는 분수의 분모로 사용될 값을 받는 매개변수. \n",
    "* `self.num` : 생성되는 분수의 분자로 사용되는 값을 가리키는 인스턴스 변수(속성 변수)\n",
    "* `self.den` : 생성되는 분수의 분모로 사용되는 값을 가리키는 인스턴스 변수(속성 변수)   \n",
    "\n",
    "인스턴스 변수 `self.num`과 `self.den`은 생성되는 분수의 상태<font size=\"2\">state</font>를 저장하는 역할을 수행한다.  "
   ]
  },
  {
   "cell_type": "markdown",
   "id": "1ad84095-1cde-4cd4-8777-3e2dc7831c0c",
   "metadata": {},
   "source": [
    ":::{admonition} 참고    \n",
    ":class: info  \n",
    "매개변수의 이름을 `self`가 아닌 다른 변수를 사용해도 되지만, 관례적으로 `self`를 사용한다. \n",
    ":::\n"
   ]
  },
  {
   "cell_type": "markdown",
   "id": "53d4c368-b10b-4561-950e-0a2df79695bd",
   "metadata": {},
   "source": [
    "### 인스턴스 생성"
   ]
  },
  {
   "cell_type": "markdown",
   "id": "6e806327-16e8-42cf-b8c1-d7b956f904ed",
   "metadata": {},
   "source": [
    "`Fraction` 클래스의 인스턴스, 즉 하나의 분수에 해당하는 객체를 선언하려면 `__init__()`메서드를 분자, 분모에 해당하는 인자와 함께 호출해야 한다. `__init__()` 메서드의 호출은 다음과 같이 클래스 이름을 마치 함수처럼 활용하면 된다.  "
   ]
  },
  {
   "cell_type": "code",
   "execution_count": 8,
   "id": "a45b4ee1-49b6-4050-93ce-af1c7098c0ba",
   "metadata": {},
   "outputs": [],
   "source": [
    "a_fraction = Fraction(2, 7)"
   ]
  },
  {
   "cell_type": "markdown",
   "id": "6f662a1e-13a4-4470-93eb-3f9c67aba919",
   "metadata": {},
   "source": [
    "그러면 `a_fraction` 변수는 $\\frac{2}{7}$에 해당하는 객체를 가리킨다. "
   ]
  },
  {
   "cell_type": "markdown",
   "id": "1f4e0627-8583-4c55-87f1-12ef96aa27e6",
   "metadata": {},
   "source": [
    "<div align=\"center\"><img src=\"https://raw.githubusercontent.com/hj617kim/core_pybook/master/images/ch07/class01.png\" style=\"width:700px;\"></div>"
   ]
  },
  {
   "cell_type": "markdown",
   "id": "5dec9817-c38c-43dd-8ee7-bcb82fb450fe",
   "metadata": {},
   "source": [
    "이제 `print()`함수를 사용하여 `a_fraction`을 확인해보자. "
   ]
  },
  {
   "cell_type": "code",
   "execution_count": 9,
   "id": "540cfc58-b3d5-4503-8462-17fd974d0d30",
   "metadata": {},
   "outputs": [
    {
     "name": "stdout",
     "output_type": "stream",
     "text": [
      "<__main__.Fraction object at 0x7fc6fc13c4c0>\n"
     ]
    }
   ],
   "source": [
    "print(a_fraction)"
   ]
  },
  {
   "cell_type": "markdown",
   "id": "b641a6df-34db-4a09-babb-2dfbd7bfab38",
   "metadata": {},
   "source": [
    "그러면 `a_function`이 가리키는 값이 아닌 자신이 어떤 클래스의 인스턴스인지와 자신이 저장된 메모리 주소를 알려준다. 이는 `Fraction` 클래스가 자신의 인스턴스를 소개하는 기능을 제공하지 않았기 때문이다.  "
   ]
  },
  {
   "cell_type": "markdown",
   "id": "0e55ac85-49dd-4f73-8112-1d52687907af",
   "metadata": {},
   "source": [
    "### `__str__()` 메서드"
   ]
  },
  {
   "cell_type": "markdown",
   "id": "59b82546-c32c-4733-a638-70b1f8e99a62",
   "metadata": {},
   "source": [
    "`__str__()` 메서드는 해당 클래스의 인스턴스를 `print()`함수를 통해 어떻게 보여줄 것인가를 문자열로 지정하는 함수로 활용된다. `Fraction` 클래스의 `__str__()` 메서드를 재정의해보자. "
   ]
  },
  {
   "cell_type": "code",
   "execution_count": 10,
   "id": "dc20b1be-b477-403d-9004-dcdd67930e18",
   "metadata": {},
   "outputs": [],
   "source": [
    "class Fraction :\n",
    "    \"\"\"\n",
    "      Fraction 클래스\n",
    "    \"\"\"\n",
    "    def __init__(self, num, den) :\n",
    "        \"\"\"\n",
    "          num : 분자numerator\n",
    "          den : 분모denominator \n",
    "        \"\"\"\n",
    "        self.num = num\n",
    "        self.den = den\n",
    "        \n",
    "    def __str__(self) :\n",
    "        return f\"{self.num}/{self.den}\""
   ]
  },
  {
   "cell_type": "markdown",
   "id": "98b8a049-e897-40f7-8fb8-4b39c502b647",
   "metadata": {},
   "source": [
    "그러면 이제 `print()`함수를 사용하면 원하는 대로 작동한다. "
   ]
  },
  {
   "cell_type": "code",
   "execution_count": 11,
   "id": "5451e3a0-c6e7-416a-9201-beb04138f2bb",
   "metadata": {},
   "outputs": [
    {
     "name": "stdout",
     "output_type": "stream",
     "text": [
      "2/7\n"
     ]
    }
   ],
   "source": [
    "a_fraction = Fraction(2, 7)\n",
    "print(a_fraction)"
   ]
  },
  {
   "cell_type": "markdown",
   "id": "2c200558-c702-4343-a2f9-29bfd3856528",
   "metadata": {},
   "source": [
    "`__str__()` 메서드를 직접 호출해도 동일한 결과를 얻는다. "
   ]
  },
  {
   "cell_type": "code",
   "execution_count": 12,
   "id": "041d9c2b-e59f-4630-918a-6fab181f65da",
   "metadata": {},
   "outputs": [
    {
     "data": {
      "text/plain": [
       "'2/7'"
      ]
     },
     "execution_count": 12,
     "metadata": {},
     "output_type": "execute_result"
    }
   ],
   "source": [
    "a_fraction.__str__()"
   ]
  },
  {
   "cell_type": "markdown",
   "id": "ecb6b669-ab7a-43a6-9494-af513e41d4fc",
   "metadata": {},
   "source": [
    "`str()` 함수는 인자로 사용된 객체가 제공하는 `__str__()` 메서드를 내부에서 호출한다. "
   ]
  },
  {
   "cell_type": "code",
   "execution_count": 13,
   "id": "f1cdf215-a15d-4d45-848f-a15df2a52846",
   "metadata": {},
   "outputs": [
    {
     "data": {
      "text/plain": [
       "'2/7'"
      ]
     },
     "execution_count": 13,
     "metadata": {},
     "output_type": "execute_result"
    }
   ],
   "source": [
    "str(a_fraction)"
   ]
  },
  {
   "cell_type": "markdown",
   "id": "a0a1c988-a7cc-4f1d-896a-c1b938455360",
   "metadata": {},
   "source": [
    "### `__add__()` 메서드"
   ]
  },
  {
   "cell_type": "markdown",
   "id": "7b3dc511-cd99-4088-a04a-0f5298c56e8a",
   "metadata": {},
   "source": [
    "이제 분수의 기본 연산이 가능하도록 코드를 작성해보자. 지금은 분수의 덧셈을 시도하면 오류가 발생한다.  \n",
    "\n",
    "```python \n",
    ">>> f1 = Fraction(1, 4)\n",
    ">>> f2 = Fraction(1, 2)\n",
    ">>> f1 + f2 \n",
    "TypeError                                 Traceback (most recent call last)\n",
    "/tmp/ipykernel_82/2739786759.py in <module>\n",
    "----> 1 f1 + f2\n",
    "\n",
    "TypeError: unsupported operand type(s) for +: 'Fraction' and 'Fraction'\n",
    "```\n",
    "\n",
    "이는 덧셈 연산자 `+`가 `Fraction` 클래스의 인스턴스에 대해 지원되지 않기 때문이다. 분수의 덧셈을 위해 `+` 연산자를 사용하려면 `Fraction` 클래스에 `__add__()` 메서드가 적절하게 정의되어 있어야 한다. 아래 표현식은 `f1 + f2`에 해당하는 값을 가리키게 된다.  \n",
    "```\n",
    "f1.__add__(f2)\n",
    "```\n",
    "\n",
    "분수의 덧셈은 아래와 같이 정의된다. "
   ]
  },
  {
   "cell_type": "markdown",
   "id": "f6bec8a0-d9f2-4f2c-b1d6-7e12d75c3492",
   "metadata": {},
   "source": [
    "$$ \n",
    "\\frac{a}{b} + \\frac{c}{d} = \\frac{ad}{bd} + \\frac{bc}{bd} = \\frac{ad + bc}{bd} \n",
    "$$"
   ]
  },
  {
   "cell_type": "markdown",
   "id": "f48ccf99-217b-4aff-83fc-ecd75b149822",
   "metadata": {},
   "source": [
    "이를 구현하는 `__add__()` 메서드를 `Fraction` 클래스에 추가하자. "
   ]
  },
  {
   "cell_type": "code",
   "execution_count": 14,
   "id": "8e452d7a-dce1-43df-943d-d79aa63b0365",
   "metadata": {},
   "outputs": [],
   "source": [
    "class Fraction :\n",
    "    \"\"\"\n",
    "      Fraction 클래스\n",
    "    \"\"\"\n",
    "    def __init__(self, num, den) :\n",
    "        \"\"\"\n",
    "          num : 분자numerator\n",
    "          den : 분모denominator \n",
    "        \"\"\"\n",
    "        self.num = num\n",
    "        self.den = den\n",
    "        \n",
    "    def __str__(self) :\n",
    "        return f\"{self.num}/{self.den}\"\n",
    "    \n",
    "    def __add__(self, other_fraction) :\n",
    "        new_num = self.num * other_fraction.den + self.den * other_fraction.num\n",
    "        new_den = self.den * other_fraction.den\n",
    "        return Fraction(new_num, new_den)"
   ]
  },
  {
   "cell_type": "code",
   "execution_count": 15,
   "id": "6ab9abcd-0bab-41cc-bf1d-9aeb21d737cd",
   "metadata": {},
   "outputs": [],
   "source": [
    "f1 = Fraction(1, 4)\n",
    "f2 = Fraction(1, 2)"
   ]
  },
  {
   "cell_type": "markdown",
   "id": "8e20f456-cdee-459c-864f-71325fe2ca3b",
   "metadata": {},
   "source": [
    "그러면 이제 `Fraction`클래스의 인스턴스는 `__add__()` 메서드를 갖는다. \n",
    "<div align=\"center\"><img src=\"https://raw.githubusercontent.com/hj617kim/core_pybook/master/images/ch07/class02.png\" style=\"width:700px;\"></div>"
   ]
  },
  {
   "cell_type": "code",
   "execution_count": 16,
   "id": "4a839d72-9ec9-4383-a42c-b961d966ce81",
   "metadata": {},
   "outputs": [
    {
     "name": "stdout",
     "output_type": "stream",
     "text": [
      "6/8\n"
     ]
    }
   ],
   "source": [
    "f3 = f1.__add__(f2)\n",
    "print(f3)"
   ]
  },
  {
   "cell_type": "markdown",
   "id": "9b9db9d0-c643-49c7-8cc8-152cf6a85447",
   "metadata": {},
   "source": [
    "덧셈 연산자 `+`를 사용해도 잘 작동한다. "
   ]
  },
  {
   "cell_type": "code",
   "execution_count": 17,
   "id": "af7a58f0-4a97-4cef-b8b5-fa7820dbb52a",
   "metadata": {},
   "outputs": [
    {
     "name": "stdout",
     "output_type": "stream",
     "text": [
      "6/8\n"
     ]
    }
   ],
   "source": [
    "f3 = f1 + f2\n",
    "print(f3)"
   ]
  },
  {
   "cell_type": "markdown",
   "id": "38cd6ad0-b67f-4b60-9336-e47747f0323f",
   "metadata": {},
   "source": [
    "지금 덧셈은 잘 작동하지만 결과값이 기약분수의 형태가 아니다. 기약분수를 계산하려면 최대공약수를 계산하는 알고리즘이 필요하다.   \n",
    "\n",
    "**유클리드 호제법**<font size=\"2\">Euclidean-algorithm</font>  \n",
    "유클리드 호제법은 두 정수 m과 n의 최대공약수를 구하는 가장 빠르고 효과적인 기법이다.  \n",
    "* m을 n으로 나눌 수 있으면 n이 최대공약수이다. \n",
    "* 그렇지 않으면 n과 m % n의 최대공약수가 원하는 최대공약수이다.   \n",
    "  \n",
    "예를 들어, 20과 30을 생각해보자. \n",
    "* 20을 30으로 나눌 수 없다.  \n",
    "* 30과 20 % 30(= 20)의 최대공약수를 구한다. \n",
    "* 30을 20으로 나눌 수 없다. \n",
    "* 20과 30 % 20(= 10)의 최대공약수를 구한다. \n",
    "* 20을 10으로 나눌 수 있으므로, 10이 최대공약수이다.   "
   ]
  },
  {
   "cell_type": "markdown",
   "id": "67f7b397-37a0-47b4-83d9-3824aad71a0a",
   "metadata": {},
   "source": [
    ":::{admonition} 유클리드 호제법  \n",
    ":class: info  \n",
    "두 정수 $m$과 $n$의 최대공약수를 $gcd(m, n)$라고 하자. 그러면 정수 $m$, $n$, $q$, $r$($n != 0$, $0 \\leq  r < |n|$)에 대하여 $m = nq + r$ 이면 $gcd(m, n) = gcd(n, r)$이 성립한다.  \n",
    "\n",
    "[증명]  \n",
    "두 정수 $m$과 $n$의 최대공약수를 $gcd(m, n) = g$라고 하자.  \n",
    "최대공약수 성질에 의해, $m = m'g$, $n = n'g$, $gcd(m', n') = 1$($m'$과 $n'$은 서로소)이다.   \n",
    "그런데 $m = nq + r$ 이므로 $r = m - nq = g(m' - n'q)$이다. 즉, $r$은 $g$의 배수이다.  \n",
    "따라서 $n = n'g$, $r = g(m' - n'q)$이므로, $gcd(n, r) = g$ 을 보이기 위해서는 $gcd(n', m' - n'q) = 1$임을 보이면 된다.  \n",
    "\n",
    "귀류법을 사용해보자. $1$이 아닌 어떤 정수 $d$가 존재하여 $gcd(n', m' - n'q) = d$라고 하자.   \n",
    "그러면, 적당한 정수 $a$, $b$에 대하여 $n' = da$, $m' - n'q = db$가 된다.  \n",
    "정리하면, $m' = n'q + db = (da)q + db = d(aq + b)$가 되는데, 이는 $m'$과 $n'$이 서로소라는 가정에 모순이 된다.   \n",
    "따라서 $gcd(n', m' - n'q) = 1$이고, $gcd(m, n) = gcd(n, r)$이 성립한다.   \n",
    ":::\n"
   ]
  },
  {
   "cell_type": "markdown",
   "id": "ed6a61b1-1114-4680-ba42-9a31cdf5c3fa",
   "metadata": {},
   "source": [
    "유클리드 호제법을 구현하면 다음과 같다. "
   ]
  },
  {
   "cell_type": "code",
   "execution_count": 18,
   "id": "81d8c8fe-d3c5-4326-9b1e-4f4249e3a789",
   "metadata": {},
   "outputs": [],
   "source": [
    "def gcd(m, n):\n",
    "    while m % n != 0:\n",
    "        m, n = n, m % n\n",
    "    return n"
   ]
  },
  {
   "cell_type": "code",
   "execution_count": 19,
   "id": "dbe081c8-fb69-4434-8fb2-8612d2f8c0e9",
   "metadata": {},
   "outputs": [
    {
     "data": {
      "text/plain": [
       "10"
      ]
     },
     "execution_count": 19,
     "metadata": {},
     "output_type": "execute_result"
    }
   ],
   "source": [
    "gcd(20, 30)"
   ]
  },
  {
   "cell_type": "markdown",
   "id": "07ab681b-1dab-4da4-b264-1f0abcca0e25",
   "metadata": {},
   "source": [
    "이제 `gcd()` 함수를 `__add__()` 메서드 정의에 활용하자. "
   ]
  },
  {
   "cell_type": "code",
   "execution_count": 20,
   "id": "b007b7f3-fcc9-4929-89f6-5789de20d615",
   "metadata": {},
   "outputs": [],
   "source": [
    "class Fraction :\n",
    "    \"\"\"\n",
    "      Fraction 클래스\n",
    "    \"\"\"\n",
    "    def __init__(self, num, den) :\n",
    "        \"\"\"\n",
    "          num : 분자numerator\n",
    "          den : 분모denominator \n",
    "        \"\"\"\n",
    "        self.num = num\n",
    "        self.den = den\n",
    "        \n",
    "    def __str__(self) :\n",
    "        return f\"{self.num}/{self.den}\"\n",
    "    \n",
    "    def __add__(self, other_fraction) :\n",
    "        new_num = self.num * other_fraction.den + self.den * other_fraction.num\n",
    "        new_den = self.den * other_fraction.den\n",
    "        common = gcd(new_num, new_den)\n",
    "        return Fraction(new_num // common, new_den // common)"
   ]
  },
  {
   "cell_type": "markdown",
   "id": "7ddbe0b5-8631-473f-baa1-86529afea917",
   "metadata": {},
   "source": [
    "그러면 이제 `6/8`이 아니라 `3/4`를 반환한다. "
   ]
  },
  {
   "cell_type": "code",
   "execution_count": 21,
   "id": "ac90b0fb-2ff2-44d3-bf85-901b5895a2dc",
   "metadata": {},
   "outputs": [
    {
     "name": "stdout",
     "output_type": "stream",
     "text": [
      "3/4\n"
     ]
    }
   ],
   "source": [
    "f1 = Fraction(1, 4)\n",
    "f2 = Fraction(1, 2)\n",
    "f3 = f1 + f2\n",
    "print(f3)"
   ]
  },
  {
   "cell_type": "markdown",
   "id": "d6904fee-e8b0-4b52-bdf6-31d637a4a11c",
   "metadata": {},
   "source": [
    "### `__eq__()` 메서드"
   ]
  },
  {
   "cell_type": "markdown",
   "id": "abc77e8f-ee18-4562-9489-88bc1b4919a7",
   "metadata": {},
   "source": [
    "이제 두 분수가 동등한지 여부를 확인하는 코드를 작성해보자. 예를 들어, 아래 `x`와 `y`는 모두 분수 `1/2`를 가리킨다.  "
   ]
  },
  {
   "cell_type": "code",
   "execution_count": 22,
   "id": "4fa2cae3-2a3a-45be-a5d6-c4375a247752",
   "metadata": {},
   "outputs": [],
   "source": [
    "x = Fraction(1, 2)\n",
    "y = Fraction(1, 2)"
   ]
  },
  {
   "cell_type": "markdown",
   "id": "20e3c9b2-4a35-4fe1-aedd-14c511146e69",
   "metadata": {},
   "source": [
    "하지만 서로 독립적으로 생성되었기 때문에 서로 다른 객체를 가리키고 있다. \n",
    "<div align=\"center\"><img src=\"https://raw.githubusercontent.com/hj617kim/core_pybook/master/images/ch07/class03.png\" style=\"width:700px;\"></div>\n",
    "\n",
    "따라서 두 변수가 가리키는 값은 동등하지 않다고 판정된다. "
   ]
  },
  {
   "cell_type": "code",
   "execution_count": 23,
   "id": "bdb89934-9290-470d-9190-2998fb2bfe3a",
   "metadata": {},
   "outputs": [
    {
     "name": "stdout",
     "output_type": "stream",
     "text": [
      "False\n"
     ]
    }
   ],
   "source": [
    "print(x == y)"
   ]
  },
  {
   "cell_type": "markdown",
   "id": "262c308f-7d99-45e4-9e0d-629ae452aceb",
   "metadata": {},
   "source": [
    "이런 경우에 의도적으로 동등하다고 판정되게 하고 싶다면, `__eq__()` 메서드가 적절하게 정의되어 있어야 한다. 일반적으로 두 분수의 동등성은 아래와 같이 정의된다.  "
   ]
  },
  {
   "cell_type": "markdown",
   "id": "d79cdf2c-5b5a-40ee-8e03-947442898181",
   "metadata": {},
   "source": [
    "$$\n",
    "\\frac{a}{b}= \\frac{c}{d} \\Longleftrightarrow ad = bc\n",
    "$$"
   ]
  },
  {
   "cell_type": "markdown",
   "id": "2cc6d752-e29d-4770-8f91-3bc88b13fb4d",
   "metadata": {},
   "source": [
    "이를 구현하는 `__eq__()` 메서드를 `Fraction` 클래스에 추가하자. "
   ]
  },
  {
   "cell_type": "code",
   "execution_count": 24,
   "id": "78614657-becb-4d18-9d7d-d55db8de3351",
   "metadata": {},
   "outputs": [],
   "source": [
    "class Fraction :\n",
    "    \"\"\"\n",
    "      Fraction 클래스\n",
    "    \"\"\"\n",
    "    def __init__(self, num, den) :\n",
    "        \"\"\"\n",
    "          num : 분자numerator\n",
    "          den : 분모denominator \n",
    "        \"\"\"\n",
    "        self.num = num\n",
    "        self.den = den\n",
    "        \n",
    "    def __str__(self) :\n",
    "        return f\"{self.num}/{self.den}\"\n",
    "    \n",
    "    def __add__(self, other_fraction) :\n",
    "        new_num = self.num * other_fraction.den + self.den * other_fraction.num\n",
    "        new_den = self.den * other_fraction.den\n",
    "        common = gcd(new_num, new_den)\n",
    "        return Fraction(new_num // common, new_den // common)\n",
    "    \n",
    "    def __eq__(self, other_fraction) :\n",
    "        first_num = self.num * other_fraction.den\n",
    "        second_num = other_fraction.num * self.den\n",
    "        return first_num == second_num"
   ]
  },
  {
   "cell_type": "code",
   "execution_count": 25,
   "id": "53bfa9d1-9bb2-442a-bcbc-910c8c842df7",
   "metadata": {},
   "outputs": [
    {
     "name": "stdout",
     "output_type": "stream",
     "text": [
      "True\n"
     ]
    }
   ],
   "source": [
    "x = Fraction(1, 2)\n",
    "y = Fraction(1, 2)\n",
    "print(x == y)"
   ]
  },
  {
   "cell_type": "markdown",
   "id": "5ba590ca-7f90-43cc-b675-afcfc185ff8d",
   "metadata": {},
   "source": [
    "### 게터와 세터 메서드"
   ]
  },
  {
   "cell_type": "markdown",
   "id": "1b09404f-708c-46b4-b50e-3461621a4497",
   "metadata": {},
   "source": [
    "아래 `a_fraction`의 분자와 분모의 값을 알고 싶다면, 아래와 같이 `num`과 `den` 속성을 확인하면 된다. "
   ]
  },
  {
   "cell_type": "code",
   "execution_count": 26,
   "id": "13ceb3cd-7d85-418c-ba26-65b84664a6dd",
   "metadata": {},
   "outputs": [
    {
     "name": "stdout",
     "output_type": "stream",
     "text": [
      "1/2\n",
      "1\n",
      "2\n"
     ]
    }
   ],
   "source": [
    "a_fraction = Fraction(1, 2)\n",
    "print(a_fraction)\n",
    "print(a_fraction.num)\n",
    "print(a_fraction.den)"
   ]
  },
  {
   "cell_type": "markdown",
   "id": "0bbd26d2-0ee9-4a87-bbc0-c96101afebf6",
   "metadata": {},
   "source": [
    "그리고 `num` 속성에 접근하여 값을 임의로 변경할 수도 있다.   "
   ]
  },
  {
   "cell_type": "code",
   "execution_count": 27,
   "id": "3805c828-84ac-4248-84b4-33482b8053fe",
   "metadata": {},
   "outputs": [
    {
     "name": "stdout",
     "output_type": "stream",
     "text": [
      "3\n",
      "3/2\n"
     ]
    }
   ],
   "source": [
    "a_fraction.num = 3\n",
    "print(a_fraction.num)\n",
    "print(a_fraction)"
   ]
  },
  {
   "cell_type": "markdown",
   "id": "fd902597-3fc8-44f5-961a-1be14e9d474c",
   "metadata": {},
   "source": [
    ":::{admonition} 참고     \n",
    ":class: info    \n",
    "파이썬 클래스의 모든 것은 원칙적으로 공개<font size=\"2\">public</font>되며, 접근 및 수정될 수 있다. 외부 노출을 최대한 줄이고 싶다면, 특별한 방식으로 변수와 메서드의 이름을 지을 수 있다.  \n",
    "* 한 개의 밑줄(`_`)로 시작 : 굳이 사용자가 알 필요 없는 속성 변수와 메서드 이름.  \n",
    "* 두 개의 밑줄(`__`)로 시작 : 숨기고자 하는 속성 변수와 메서드 이름.   \n",
    "\n",
    "예제와 함께 살펴보자. \n",
    "```\n",
    "class Fraction :\n",
    "    \"\"\"\n",
    "      Fraction 클래스\n",
    "    \"\"\"\n",
    "    def __init__(self, num, den) :\n",
    "        \"\"\"\n",
    "          num : 분자numerator\n",
    "          den : 분모denominator \n",
    "        \"\"\"\n",
    "        self.num = num\n",
    "        self.den = den\n",
    "        self._hidden1 = 1\n",
    "        self.__hidden2 = -1\n",
    "```\n",
    "```python\n",
    ">>> a_fraction = Fraction(1, 2)\n",
    "```\n",
    "\n",
    "하나의 밑줄로 시작하면 외부에서 사용하지 말라는 권유이다. 실제로 하나의 밑줄로 시작하는 `_hidden1` 속성은 직접 접근하여 값을 확인할 수 있다. \n",
    "```python\n",
    ">>> print(a_fraction._hidden1)\n",
    "1\n",
    "```\n",
    "\n",
    "반면, 두 밑줄로 시작하는 `__hidden2` 속성은 직접 접근하여 값을 확인할 수 없다. \n",
    "```python\n",
    ">>> print(a_fraction.__hidden2)\n",
    "AttributeError                            Traceback (most recent call last)\n",
    "/tmp/ipykernel_82/2133196738.py in <module>\n",
    "----> 1 print(a_fraction.__hidden2)\n",
    "\n",
    "AttributeError: 'Fraction' object has no attribute '__hidden2'\n",
    "```\n",
    ":::"
   ]
  },
  {
   "cell_type": "markdown",
   "id": "4523ac64-807a-467d-bfc8-715f7eb4320a",
   "metadata": {},
   "source": [
    ":::{admonition} `__dict__` 속성    \n",
    ":class: info  \n",
    "`__dict__` 속성을 확인하면 객체의 속성 변수와 해당 속성 값으로 이루어진 사전을 얻는다. 그런데 `a_fraction`의 `__dict__`속성을 확인하면, `__hidden2` 대신에 `_Fraction__hidden2`가 있다. 이렇게 두 개의 밑줄로 시작하는 변수의 이름은 내부적으로 클래스 이름이 붙는 방식으로 변경된다. 이를 **네임 맹글링**<font size=\"2\">name mangling</font>이라 한다.  \n",
    "```python\n",
    ">>> a_fraction.__dict__\n",
    "{'num': 1, 'den': 2, '_hidden1': 1, '_Fraction__hidden2': -1}\n",
    "```\n",
    "\n",
    "변경된 이름을 이용하면 속성을 확인할 수 있다. \n",
    "```python\n",
    ">>> a_fraction._Fraction__hidden2\n",
    "-1\n",
    "```\n",
    ":::\n"
   ]
  },
  {
   "cell_type": "markdown",
   "id": "67aebca8-1644-4a4b-bf7f-83a7fc2c60b8",
   "metadata": {},
   "source": [
    "하지만 속성에 직접 접근하여 값을 변경하면서 데이터가 부적절한 값으로 변경될 가능성이 있어 사용자가 객체 외부에서 데이터에 직접 접근하는 것을 막는 것이 좋다. 보통 메서드를 만들어 객체의 속성값을 확인하거나 지정하는데, 이를 각각 **게터<font>getter</font>** 메서드와 **세터<font size=\"2\">setter</font>** 메서드라 부르고, 관용적으로 게터 메서드 이름은 `get`으로, 세터 메서드의 이름은 `set`으로 시작한다.   \n",
    "\n",
    "`a_fraction`의 분자와 분모의 값을 확인하는 `get_num()`와 `get_den()` 메서드를 `Fraction` 클래스에 추가하자. "
   ]
  },
  {
   "cell_type": "code",
   "execution_count": 28,
   "id": "4b2ffdd3-3f65-4187-a1c5-8b3965b4c62a",
   "metadata": {},
   "outputs": [],
   "source": [
    "class Fraction :\n",
    "    \"\"\"\n",
    "      Fraction 클래스\n",
    "    \"\"\"\n",
    "    def __init__(self, num, den) :\n",
    "        \"\"\"\n",
    "          num : 분자numerator\n",
    "          den : 분모denominator \n",
    "        \"\"\"\n",
    "        self.num = num\n",
    "        self.den = den\n",
    "        \n",
    "    def __str__(self) :\n",
    "        return f\"{self.num}/{self.den}\"\n",
    "    \n",
    "    def __add__(self, other_fraction) :\n",
    "        new_num = self.num * other_fraction.den + self.den * other_fraction.num\n",
    "        new_den = self.den * other_fraction.den\n",
    "        common = gcd(new_num, new_den)\n",
    "        return Fraction(new_num // common, new_den // common)\n",
    "    \n",
    "    def __eq__(self, other_fraction) :\n",
    "        first_num = self.num * other_fraction.den\n",
    "        second_num = other_fraction.num * self.den\n",
    "        return first_num == second_num\n",
    "    \n",
    "    def get_num(self) :\n",
    "        return f\"{self.num}\"\n",
    "    \n",
    "    def get_den(self) :\n",
    "        return f\"{self.den}\""
   ]
  },
  {
   "cell_type": "code",
   "execution_count": 29,
   "id": "c2fb0d96-17c9-4389-9e36-bef792caa208",
   "metadata": {},
   "outputs": [
    {
     "name": "stdout",
     "output_type": "stream",
     "text": [
      "1/2\n",
      "1\n",
      "2\n"
     ]
    }
   ],
   "source": [
    "a_fraction = Fraction(1, 2)\n",
    "print(a_fraction)\n",
    "print(a_fraction.get_num())\n",
    "print(a_fraction.get_den())"
   ]
  },
  {
   "cell_type": "markdown",
   "id": "61fe4a1a-9591-4849-af5a-bf209a52c560",
   "metadata": {},
   "source": [
    "## 연습 문제"
   ]
  },
  {
   "cell_type": "markdown",
   "id": "ec702679-d897-4d21-8694-f8e1de0a2531",
   "metadata": {},
   "source": [
    "### 문제  \n",
    "`Fraction` 클래스의 인스턴스가 사칙연산을 모두 지원하도록 아래 메서드를 구현하여라. 그러면 `-`, `*`, `/` 연산 기호를 사용할 수 있다.   \n",
    "\n",
    "* `__sub__()` : 뺄셈(`-`)\n",
    "* `__mul__()` : 곱셈(`*`)\n",
    "* `__truediv__()` : 나눗셈(`/`) "
   ]
  },
  {
   "cell_type": "markdown",
   "id": "ce30121c-6358-4f70-89cf-adad5e1352ce",
   "metadata": {},
   "source": [
    "### 문제  \n",
    "`Fraction` 클래스의 인스턴스가 정수와의 사칙연산도 가능하도록 아래 메서드를 수정하여라.  \n",
    "\n",
    "* `__add__()` : 덧셈(`+`)\n",
    "* `__sub__()` : 뺄셈(`-`)\n",
    "* `__mul__()` : 곱셈(`*`)\n",
    "* `__truediv__()` : 나눗셈(`/`)   \n",
    "\n",
    "필요하다면, `isinstance()` 함수를 사용하여라. `isinstance(object, classinfo)`함수는 첫 번째 인자로 들어온 객체가 두 번째 인자로 들어온 클래스의 인스턴스가 맞으면 `True`, 아니면 `False`를 반환하는 함수다.  "
   ]
  },
  {
   "cell_type": "code",
   "execution_count": 30,
   "id": "3e2232ff-90d3-43d0-98d9-fe17d913b7bd",
   "metadata": {},
   "outputs": [
    {
     "data": {
      "text/plain": [
       "True"
      ]
     },
     "execution_count": 30,
     "metadata": {},
     "output_type": "execute_result"
    }
   ],
   "source": [
    "isinstance(2, int)"
   ]
  },
  {
   "cell_type": "code",
   "execution_count": 31,
   "id": "b1598d34-aea8-4883-9b5b-6c4cfd79640e",
   "metadata": {},
   "outputs": [
    {
     "data": {
      "text/plain": [
       "False"
      ]
     },
     "execution_count": 31,
     "metadata": {},
     "output_type": "execute_result"
    }
   ],
   "source": [
    "isinstance(2.0, str)"
   ]
  },
  {
   "cell_type": "markdown",
   "id": "3b483b2c-90c2-4d51-85dd-9a98484130ff",
   "metadata": {},
   "source": [
    "### 문제  \n",
    "`Fraction` 클래스의 인스턴스의 분모가 항상 양의 정수를 갖도록 `__init__()` 메서드를 수정하여라.    \n",
    "```python  \n",
    ">>> print(Fraction(-1, 2))  \n",
    "-1/2\n",
    ">>> print(Fraction(1, -2))  \n",
    "-1/2\n",
    "```  "
   ]
  },
  {
   "cell_type": "markdown",
   "id": "31661ec6-dd1f-4f57-8d0d-2424aaf8c8c4",
   "metadata": {},
   "source": [
    "### 문제  \n",
    "`Fraction` 클래스의 인스턴스가 크기 비교가 가능하도록 아래 메서드를 구현하여라. 그러면 `<`, `>`, `<=`, `>=` 연산 기호를 사용할 수 있다.     \n",
    "\n",
    "* `__lt__()` : 작다<font size=\"2\">less than</font>(`<`)\n",
    "* `__gt__()` : 크다<font size=\"2\">greater than</font>(`>`)\n",
    "* `__le__()` : 작거나 같다<font size=\"2\">less than or equals</font>(`<=`)\n",
    "* `__ge__()` : 크거나 같다<font size=\"2\">greater than or equals</font>(`>=`)"
   ]
  },
  {
   "cell_type": "markdown",
   "id": "a1a9e246-f9d9-4ff2-ad3d-b8641f7b163b",
   "metadata": {
    "tags": []
   },
   "source": [
    "### 문제    \n",
    "(1) 은행 계좌를 관리하는 `BankAccount` 클래스를 정의하여라. `BankAccount` 클래스의 인스턴스는 `은행명`, `계좌번호`, `잔액`, `비밀번호`를 인자로 받아 다음과 같이 생성한다.   \n",
    "\n",
    "```python\n",
    ">>> seoul = BankAccount('서울은행', '1234-4567', 50000, 'a1234')\n",
    "```\n",
    "\n",
    "(2) 위의 `seoul`를 출력하면, 다음과 같이 은행명(계좌번호) 잔액을 출력하도록 `BankAccount` 클래스를 수정하여라.   \n",
    "```python  \n",
    ">>> print(seoul)  \n",
    "'서울은행(1234-4567) 잔액 : 50000원'  \n",
    "```\n",
    "  \n",
    "(3) 비밀번호는 외부에서 직접 접근할 수 없도록 하고, 비밀번호를 변경하는 일을 하는 `set_pw()`메서드를 `BankAccount` 클래스에 구현하여라.   \n",
    "```python\n",
    ">>> seoul.set_pw('5678')\n",
    "비밀번호가 변경되었습니다.\n",
    "```\n",
    "\n",
    "(4) 잔액을 변경하는 일을 하는 `set_money()`메서드를 `BankAccount` 클래스에 구현하여라. 단, `set_money()` 메서드는 외부에서 직접 접근할 수 없도록 한다. \n",
    "\n",
    "\n",
    "(5) 입금하는 일을 하는 `deposit()`메서드를 `BankAccount` 클래스에 구현하여라. 이때 (4)에서 정의한 `set_money()` 메서드를 이용한다.   \n",
    "```python\n",
    ">>> seoul.deposit(30000)\n",
    "30000원이 입금되었습니다.  \n",
    "```\n",
    "```python\n",
    ">>> print(seoul)\n",
    "'서울은행(1234-4567) 잔액 : 80000원'  \n",
    "```\n",
    "\n",
    "(6) 송금하는 일을 하는 `send_money()`메서드를 `BankAccount` 클래스에 구현하여라.  \n",
    "```python\n",
    ">>> suwon = BankAccount('수원은행', '8912-2345', 20000, 'abcabc')\n",
    ">>> seoul.send_money('5678', suwon, 10000)  #순서대로 비번, 은행명, 금액\n",
    "수원은행에 10000원 송금했습니다.  \n",
    ">>> print(seoul)\n",
    "'서울은행(1234-4567) 잔액 : 70000원'\n",
    ">>> print(suwon)\n",
    "'수원은행(8912-2345) 잔액 : 30000원'\n",
    "```\n",
    "\n",
    "이때 비밀번호가 틀리면 송금하지 않는다. \n",
    "```python\n",
    ">>> seoul.send_money('a2580', suwon, 10000)  #순서대로 비밀번호, 은행명, 금액\n",
    "비밀번호를 잘못 입력했습니다.   \n",
    "```\n",
    "\n",
    "잔액보다 많은 금액을 송금할 수 없다. \n",
    "```python\n",
    ">>> seoul.send_money('5678', suwon, 100_000)  #순서대로 비밀번호, 은행명, 금액\n",
    "잔액을 초과하는 금액은 송금할 수 없습니다. \n",
    "```"
   ]
  },
  {
   "cell_type": "markdown",
   "id": "b09e6ae0-637e-4b0b-ad37-ef36b19bf3c4",
   "metadata": {},
   "source": [
    "### 문제 "
   ]
  },
  {
   "cell_type": "markdown",
   "id": "f04c589b-4bf8-4be8-be85-03e616f62bbb",
   "metadata": {},
   "source": [
    "두 명의 선수가 참여하는 몬스터 대전이 열린다. 그 내용은 아래와 같다.  \n",
    "\n",
    "* 선수는 경기에 참여할 몬스터 3마리를 선택한다. 각 선수가 선택한 순서대로 몬스터는 대결한다.  \n",
    "예를 들어, `player1`이 `A`, `B`, `C`를 `player2`가 `C`, `D`, `E`를 선택했다면 `A`와 `C`가 먼저 대결한다. \n",
    "\n",
    "* 첫 번째 선수의 몬스터가 먼저 공격하고 이후 번갈아가며 공격한다.  \n",
    "\n",
    "* 몬스터는 각자 가지고 있는 공격력만큼 상대 몬스터에게 데미지를 준다. 이때 상대 몬스터는 해당 데미지만큼 자신이 보유한 체력을 잃는다.  \n",
    "\n",
    "* 체력이 0이하가 된 몬스터는 대전에서 제외되고 다음 순서의 몬스터가 등장한다. 이때 다음 순서의 몬스터가 없다면 상대 선수가 승리한다.  \n",
    "\n",
    "* 단, 몬스터는 물(`water`), 불(`fire`), 바람(`wind`) 중 하나의 속성을 가지고 있으며,   \n",
    "물 몬스터가 불 몬스터를, 불 몬스터가 바람 몬스터를, 바람 몬스터가 물 몬스터를 공격할 때는 공격력이 다음과 같이 변경된다.   \n",
    "    * 물 몬스터 : 기본 공격력의 제곱  \n",
    "    * 불 몬스터 : 기본 공격력 더하기 7  \n",
    "    * 바람 몬스터 : 기본 공격력 곱하기 3  \n",
    "\n",
    "\n",
    "위 상황에 맞게 `Monster`와 `Player` 클래스를 구현하고, 코드를 작성하라.   \n",
    "\n",
    "**`Monster` 클래스**   \n",
    "* `Monster` 클래스의 인스턴스는 `name`, `monster_type`, `hp`, `damage`를 받아 다음과 같이 생성한다.    \n",
    "```python  \n",
    ">>> Monster('redDragon', 'fire', 10, 3)\n",
    "```   \n",
    "   \n"
   ]
  },
  {
   "cell_type": "markdown",
   "id": "324b4e5d-d53e-4be5-a450-a3c8b369f914",
   "metadata": {},
   "source": [
    "* 상대 몬스터의 속성을 확인해 공격력이 변경되야 하면 `True`, 아니면 `False`를 반환하는 `check_enemy()` 메서드를 정의하라.   \n",
    "* 몬스터의 속성에 따라 변경된 공격력으로 상대의 hp를 감소시키고 아래와 같은 메시지를 출력하는 `critical_attack()` 메서드를 정의하라.    \n",
    "  `몬스터 A가 몬스터 C를 강하게 공격했습니다. 몬스터 C의 HP는 2입니다.`    "
   ]
  },
  {
   "cell_type": "markdown",
   "id": "26fcb138-f1ac-495a-9dd8-2d9521a8fc04",
   "metadata": {},
   "source": [
    "* `check_enemy()`의 반환값이 `True`면 `critical_attack()`를 실행하고, `False`면 기본 공격력만큼 상대의 hp를 감소시키고 아래와 같은 메시지를 출력하는 `attack()` 메서드를 정의하라.    \n",
    "  `몬스터 A가 몬스터 C를 공격했습니다. 몬스터 C의 HP는 2입니다.`   \n"
   ]
  },
  {
   "cell_type": "markdown",
   "id": "6a3588c5-ba26-45a9-b6d4-3c10b982f1e9",
   "metadata": {},
   "source": [
    "**`Player` 클래스**  \n",
    "\n",
    "* `Player` 클래스의 인스턴스는 다음과 같이 생성한다. 이때, 몬스터를 저장할 빈리스트`monster_list`를 정의해야 한다.  \n",
    "```python\n",
    ">>> player1 = Player()\n",
    "```   "
   ]
  },
  {
   "cell_type": "markdown",
   "id": "daa0ef50-2cdc-4a0e-b903-6e7da58aad00",
   "metadata": {},
   "source": [
    "* 아래와 같이 몬스터 정보를 입력받아 `monster_list`에 추가하는 `add_monster()` 메서드를 정의하라.   \n",
    "```python\n",
    ">>> player1.add_monster('redDragon fire 10 3')\n",
    "```"
   ]
  },
  {
   "cell_type": "markdown",
   "id": "4e0173dd-e2aa-4224-b16b-e0cad7d7235a",
   "metadata": {},
   "source": [
    "* 대결할 몬스터를 선택하는 `select_monster()` 메서드를 정의하라. `monster_list`의 가장 처음에 있는 항목을 말한다.  \n",
    "* `monster_list`에서 가장 처음에 있는 항목을 삭제하는 `delete_monster()` 메서드를 정의하라.  "
   ]
  },
  {
   "cell_type": "markdown",
   "id": "a12da025-81ff-4f6e-bb16-6855e6c6cf2e",
   "metadata": {},
   "source": [
    "### 문제 \n",
    "월드컵 조별예선은 4개의 국가가 서로 3번씩 경기를 하고, 모든 경기가 끝나면 승점을 가지고 순위를 매긴다.  \n",
    "승점은 이겼을 경우 3점, 비겼을 경우 1점, 진 경우 0점을 더한다. 승점이 동일한 경우, 득점에서 실점을 뺀 득실차를 가지고 순위를 매긴다. \n",
    "그리고 득실차가 동일한 경우, 총득점인 다득점을 가지고 순위를 매긴다.  \n",
    "\n",
    "예를 들어, 다음은 2022년 카타르 월드컵 경기의 결과다.  \n",
    "\n",
    "|국가1|국가2|국가1 득점|국가2 득점|\n",
    "|:---:|:---:|:-------:|:--------:|\n",
    "|포르투갈|가나|3|2|\n",
    "|대한민국|우루과이|0|0|\n",
    "|대한민국|가나|2|3|\n",
    "|포르투갈|우루과이|2|0|\n",
    "|대한민국|포르투갈|2|1|\n",
    "|가나|우루과이|0|2|\n",
    "\n",
    "\n",
    "위 조의 순위는 다음과 같다.  \n",
    "\n",
    "|순위|국가|승점|승|무|패|득실차|총득점|\n",
    "|:--:|:--:|:--:|:--:|:--:|:--:|:--:|:--:|\n",
    "|1|포르투갈|6|2|0|1|2|6|\n",
    "|2|대한민국|4|1|1|1|0|4|\n",
    "|3|우루과이|4|1|1|1|0|2|\n",
    "|4|가나|3|1|0|2|-2|5|\n",
    "\n",
    "* 포르투갈은 승점 6점(2경기 승, 1경기 패)으로 1등이다.\n",
    "* 대한민국과 우루과이는 승점 4점(1경기 승, 1경기 무승부, 1경기 패), 득실차 0점이다.  \n",
    "  대한민국은 총득점 4점, 우루과이는 2점이다.\n",
    "* 가나는 승점 3점(1경기 승, 2경기 패)\n",
    "\n",
    "경기 결과를 관리하는 `Worldcup` 클래스를 정의하라. `Worldcup` 클래스의 인스턴스는 국가명을 인자로 받아 다음과 같이 생성한다.\n",
    "\n",
    "```python\n",
    ">>> korea = Worldcup('korea')\n",
    ">>> portugal = Worldcup('portugal')\n",
    ">>> ghana = Worldcup('ghana')\n",
    ">>> uruguay = Worldcup('uruguay')\n",
    "```\n",
    "\n",
    "\n",
    "다음과 같이 경기 결과를 입력 받는 `result()` 메서드를 정의하라. 예를 들어, 포르투갈과 가나의 경기는 3:2였다. \n",
    "\n",
    "```python\n",
    "portugal.result(ghana, 3, 2)\n",
    "```\n",
    "\n",
    "승점을 반환하는 `points()` 메서드를 정의하라. \n",
    "\n",
    "```python\n",
    ">>> print(portugal.points())\n",
    "3\n",
    ">>> print(ghana.points())\n",
    "0\n",
    "```\n",
    "\n",
    "골득실을 반환하는 `goal_difference()` 메서드를 정의하라. \n",
    "\n",
    "```python\n",
    ">>> print(portugal.goal_difference())\n",
    "1\n",
    ">>> print(ghana.goal_difference())\n",
    "-1\n",
    "```\n",
    "\n",
    "총득점을 반환하는 `goals()` 메서드를 정의하라. \n",
    "\n",
    "```python\n",
    ">>> print(portugal.goals())\n",
    "3\n",
    ">>> print(ghana.goals())\n",
    "2\n",
    "```\n",
    "\n",
    "위 클래스를 활용해 다음과 같이 등수별 국가를 출력하는 코드를 작성하라. 만약, 모든 경기의 결과를 다 입력했다면 결과는 다음과 같다. \n",
    "\n",
    "```\n",
    "1. portugal\n",
    "2. korea\n",
    "3. uruguay\n",
    "4. ghana\n",
    "```"
   ]
  },
  {
   "cell_type": "markdown",
   "id": "07be571f-7c93-43a1-b357-466b5bdf1a65",
   "metadata": {},
   "source": [
    "### 문제"
   ]
  },
  {
   "cell_type": "markdown",
   "id": "ebd9a1b6-2804-4232-81aa-8016b41fd4c2",
   "metadata": {},
   "source": [
    "이메일을 관리하는 `Email` 클래스를 정의하라.   \n",
    "\n",
    "(1) `Email` 클래스의 인스턴스는 `이메일주소`, `비밀번호`를 인자로 받아서 다음과 같이 생성한다.\n",
    "```python\n",
    ">>> seoul = Email('seoul@snu.ac.kr', 'a1234')\n",
    "```\n",
    "\n",
    "(2) 비밀번호는 외부에서 직접 접근할 수 없도록 하고, 비밀번호를 변경하는 `set_pw()` 메서드를 `Email` 클래스에 구현하여라.  \n",
    "```python\n",
    ">>> seoul.set_pw('b5678')\n",
    "```\n",
    "\n",
    "(3) 상대와 이메일 내용을 입력받아 이메일을 보내는 `send_email()` 메서드를 정의하라.  \n",
    "```python\n",
    ">>> suwon = Email('suwon@snu.ac.kr', 'a2580')\n",
    ">>> seoul.send_email(suwon, '오늘 회의 장소는...')\n",
    "```\n",
    "\n",
    "(4) 안읽은 메일의 개수를 반환하는 `get_n_email()` 메서드를 정의하라.\n",
    "```python\n",
    ">>> print(suwon.get_n_email())\n",
    "1\n",
    "```\n",
    "\n",
    "(5) 안읽은 메일의 보낸 이의 메일 주소와 내용을 보여주는 `read_email()` 메서드를 정의하라. 단, 출력하는 순서는 상관없다.\n",
    "```python\n",
    ">>> suwon.read_email()\n",
    "seoul@snu.ac.kr 오늘 회의 장소는...\n",
    "```"
   ]
  },
  {
   "cell_type": "code",
   "execution_count": null,
   "id": "50eb49c4-71cb-4554-bf0d-ee65ea3f5e1b",
   "metadata": {},
   "outputs": [],
   "source": []
  }
 ],
 "metadata": {
  "kernelspec": {
   "display_name": "Python 3 (ipykernel)",
   "language": "python",
   "name": "python3"
  },
  "language_info": {
   "codemirror_mode": {
    "name": "ipython",
    "version": 3
   },
   "file_extension": ".py",
   "mimetype": "text/x-python",
   "name": "python",
   "nbconvert_exporter": "python",
   "pygments_lexer": "ipython3",
   "version": "3.8.10"
  },
  "toc-autonumbering": true
 },
 "nbformat": 4,
 "nbformat_minor": 5
}