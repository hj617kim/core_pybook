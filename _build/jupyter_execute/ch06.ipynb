{
 "cells": [
  {
   "cell_type": "markdown",
   "id": "50934a01-f12d-456f-a294-533af3f5d706",
   "metadata": {},
   "source": [
    "# 기초 IV(함수, 모듈)"
   ]
  },
  {
   "cell_type": "markdown",
   "id": "b87dc647-2947-423c-85dd-59cd97056c88",
   "metadata": {},
   "source": [
    "## 함수"
   ]
  },
  {
   "cell_type": "markdown",
   "id": "77e0fceb-ce5e-46d1-b76b-080b14608020",
   "metadata": {},
   "source": [
    "### 함수 정의하기"
   ]
  },
  {
   "cell_type": "markdown",
   "id": "a58023c1-ce47-46cc-b5ee-8889e1aa7fd5",
   "metadata": {},
   "source": [
    "사용자는 함수를 임의로 정의하여 사용할 수 있다. 이번 장에서는 파이썬에서 함수를 정의하는 방법을 조금 더 자세히 살펴보자. 파이썬에서 함수를 정의할 때는 `def`라는 키워드를 사용하며, 아래의 형식을 따른다.   \n",
    "\n",
    "```\n",
    "def 함수이름(매개변수1, 매개변수2, ..., 매개변수n) :\n",
    "    함수본문\n",
    "```\n",
    "\n",
    "함수의 반환값은 본문에 사용된 명령문을 실행하다가 어느 순간 아래 모양의 기본 명령문을 실행하는 순간 결정된다.  \n",
    "```\n",
    "return 반환값  \n",
    "```\n",
    "위 `return` 명령문이 실행되는 순간 지정된 `반환값`이 가리키는 값이 반환되면서 함수의 실행이 멈춘다. 파이썬은 모든 함수가 하나의 반환값을 갖도록 강제한다. 예를 들어, `print()`함수처럼 반환값이 없는 것처럼 보이는 함수도 공식적으로는 아무런 의미가 없는 값을 의미하는 `None`을 반환값으로 사용한다. 즉, 아래 명령문이 항상 마지막에 실행된다.  \n",
    "```\n",
    "return None  \n",
    "```"
   ]
  },
  {
   "cell_type": "markdown",
   "id": "966f7242-76d1-4686-bf5f-5efc9beaafba",
   "metadata": {},
   "source": [
    "### 인자와 매개변수   \n",
    "\n",
    "인자<font size=\"2\">argument</font>는 함수를 호출할 때 실제로 함수에 전달되는 값이고, 매개변수<font size=\"2\">parameter</font>는 인자를 함수본문에 전달하는 역할을 수행한다. 전달방식은 각 매개변수가 지정된 인자를 가리키도록 하는 변수 할당을 통해 이루어진다. 함수호출이 다음과 같이 진행되었다고 가정하자.   \n",
    "```\n",
    "함수이름(인자1, 인자2, ..., 인자n)\n",
    "```\n",
    "\n",
    "그러면 함수본문이 실행되기 전에 다음 할당 명령문이 먼저 실행된다.  \n",
    "```\n",
    "매개변수1 = 인자1\n",
    "매개변수2 = 인자2\n",
    "...\n",
    "매개변수n = 인자n  \n",
    "```  "
   ]
  },
  {
   "cell_type": "markdown",
   "id": "5ee6e076-6644-49ff-9e1e-ac0990dcf720",
   "metadata": {
    "tags": []
   },
   "source": [
    "#### 인자  \n",
    "인자는 키워드 인자<font size=\"2\">keyword argument</font>와 위치 인자<font size=\"2\">positional argument</font>가 있다.  \n",
    "\n",
    "* 키워드 인자 : 함수를 호출할 때, 식별자<font size=\"2\">identifier</font>가 앞에 붙은 인자(예, `start = `) 또는 `**`를 앞에 붙인 딕셔너리로 전달되는 인자를 말한다. 키워드 인자는 굳이 지정하지 않으면 지정된 값을 사용한다. 예를 들어, `help()` 함수로 내장함수`sum()`의 사용 방법을 살펴보자. `sum()`은 숫자를 항목으로 갖는 이터러블을 인자로 받아, `start` 값과 이터러블의 모든 항목을 더한 값을 반환하는 함수다.   \n",
    "\n",
    "```python\n",
    ">>> print(help(sum))\n",
    "Help on built-in function sum in module builtins:\n",
    "\n",
    "sum(iterable, /, start=0)\n",
    "    Return the sum of a 'start' value (default: 0) plus an iterable of numbers\n",
    "    \n",
    "    When the iterable is empty, return the start value.\n",
    "    This function is intended specifically for use with numeric values and may\n",
    "    reject non-numeric types.\n",
    "```\n",
    "\n",
    "`start`의 기본값은 0으로, 다른 값으로 변경하고 싶다면 `start = ` 방식 또는 `**`를 앞에 붙인 딕셔너리를 사용한다.          \n",
    "\n",
    "```python\n",
    ">>> sum([1, 1, 1])\n",
    "3\n",
    "```\n",
    "\n",
    "아래 `sum()`함수 호출에서 `10`은 키워드 인자이다. \n",
    "```python \n",
    ">>> sum([1, 1, 1], start = 10)\n",
    "13\n",
    "```\n",
    "```python\n",
    ">>> sum([1, 1, 1], **{'start': 10})\n",
    "13\n",
    "```\n",
    "\n",
    "  \n",
    "* 위치 인자 : 키워드 인자가 아닌 인자를 말한다. 이터러블 앞에 `*`를 붙여 값을 전달할 수도 있다. 예를 들어, `help()` 함수로 내장함수`divmod()`의 사용 방법을 살펴보자. `divmod()`는 두 수를 인자로 받아, 두 수의 몫과 나머지를 튜플로 묶어 반환하는 함수다.    \n",
    "\n",
    "```python\n",
    ">>> help(divmod) \n",
    "Help on built-in function divmod in module builtins:\n",
    "\n",
    "divmod(x, y, /)\n",
    "    Return the tuple (x//y, x%y).  Invariant: div*y + mod == x.\n",
    "```\n",
    "\n",
    "다음과 같은 `divmod()`함수의 호출에서 `7`과 `2`는 모두 위치 인자이다.   \n",
    "```python\n",
    ">>> divmod(7, 2)\n",
    "(3, 1)\n",
    "```\n",
    "\n",
    "```python\n",
    ">>> divmod(*(7, 2))\n",
    "(3, 1)\n",
    "```\n",
    "\n",
    ":::{admonition} 주의  \n",
    ":class: caution  \n",
    "`divmod(x, y, /)`에서 `/`는 그 앞에 있는 매개변수가 위치 전용임을 나타낸다. 따라서 `divmod()`함수를 호출할 때 키워드 인자를 사용하면 오류가 발생한다. \n",
    "\n",
    "```python\n",
    ">>> divmod(x = 7, y = 2) \n",
    "TypeError                                 Traceback (most recent call last)\n",
    "/tmp/ipykernel_1321/2561811967.py in <module>\n",
    "----> 1 divmod(x = 7, y = 2)\n",
    "\n",
    "TypeError: divmod() takes no keyword arguments\n",
    "```\n",
    ":::\n",
    "\n",
    "\n",
    ":::{admonition} 참고    \n",
    ":class: info    \n",
    "`*`을 사용하면, 다음과 같이 이터러블의 각 항목을 편리하게 출력할 수 있다. \n",
    "```python\n",
    ">>> a_list = ['Hello', 'python!']\n",
    ">>> print(*a_list)\n",
    "Hello python!\n",
    "```\n",
    ":::\n",
    "\n"
   ]
  },
  {
   "cell_type": "markdown",
   "id": "287b43b9-8eb2-4315-9576-0773d4768271",
   "metadata": {},
   "source": [
    "#### 매개변수   \n",
    "\n",
    "예제와 함께 살펴보자.   \n",
    "\n",
    "````{prf:example}  \n",
    ":label: parameter-example01   \n",
    "\n",
    "두 수를 인자로 받아, 그 합을 반환하는 함수 `my_sum()`을 정의하여라.   \n",
    "```` "
   ]
  },
  {
   "cell_type": "markdown",
   "id": "ee5ccf35-f3bb-47ad-8188-f46bced4dfca",
   "metadata": {},
   "source": [
    "다음과 같이 `my_sum()`함수를 정의할 수 있다. \n",
    "```python\n",
    ">>> def my_sum(a, b) :\n",
    "        return a + b\n",
    "```\n",
    "\n",
    "위의 함수는 위치 인자를 사용해서 아래와 같이 호출할 수 있다. \n",
    "```python\n",
    ">>> print(my_sum(1, 3))\n",
    "4\n",
    "```\n",
    "\n",
    "매개변수가 위치 전용임을 나타내기 위해 `/`를 사용할 수 있다. 그러면 `/`는 그 앞에 있는 매개변수가 위치 전용임을 나타낸다. \n",
    "```python\n",
    ">>> def my_sum(a, b, /) :\n",
    "        return a + b\n",
    "```\n",
    "\n",
    "함수를 호출하는 방법은 이전과 같다. \n",
    "```python\n",
    ">>> print(my_sum(1, 3))\n",
    "4\n",
    "```"
   ]
  },
  {
   "cell_type": "markdown",
   "id": "90e5f41b-8d58-4e85-a60d-aad921b7b1c6",
   "metadata": {},
   "source": [
    "````{prf:example}\n",
    ":label: parameter-example02\n",
    "두 수를 인자로 받아, 그 합을 반환하는 함수 `my_sum_10()`을 정의하여라. 단, 하나의 수를 인자로 사용하면, 그 수에 10을 더한 값을 반환한다.    \n",
    "````"
   ]
  },
  {
   "cell_type": "markdown",
   "id": "b1a0eb5f-14c8-4474-9791-7dc2a4b3d191",
   "metadata": {},
   "source": [
    "다음과 같이 `my_sum_10()` 함수를 정의할 수 있다. \n",
    "\n",
    "```python\n",
    ">>> my_sum_10(a, b = 10) :\n",
    "        return a + b\n",
    "```\n",
    "\n",
    "두 수를 인자로 사용하면, 두 수의 합을 반환한다. \n",
    "```python\n",
    ">>> print(my_sum_10(1, 3))\n",
    "4\n",
    ">>> print(my_sum_10(1, b = 3))\n",
    "4\n",
    "```\n",
    "\n",
    "하나의 수를 인자로 사용하면, 그 수에 10을 더한 값을 반환한다. \n",
    "```python\n",
    ">>> print(my_sum_10(1))  \n",
    "11\n",
    "```\n",
    "\n",
    "첫 번째 인자는 위치 전용임을 나타내기 위해 `/`를 사용하여 함수를 정의할 수도 있다.  \n",
    "```python\n",
    ">>> my_sum_10(a, /, b = 10) :\n",
    "        return a + b\n",
    "```\n",
    "함수 호출 방법은 이전과 같다. \n",
    "```python\n",
    ">>> print(my_sum_10(1, 3))\n",
    "4\n",
    ">>> print(my_sum_10(1, b = 3))\n",
    "4\n",
    ">>> print(my_sum_10(1))\n",
    "11\n",
    "```\n",
    "\n",
    "두 번째 인자는 키워드 전용임을 나타내기 위해 `*`을 사용하여 함수를 정의할 수도 있다. 그러면 `*`는 그 뒤에 있는 매개변수가 키워드 전용임을 나타낸다.   \n",
    "```python\n",
    ">>> my_sum_10(a, /, *, b = 10) :\n",
    "        return a + b\n",
    "```\n",
    "\n",
    "함수를 호출할 때는 `*` 뒤에는 무조건 키워드 인자를 사용해야 한다.  \n",
    "```python\n",
    ">>> print(my_sum_10(1, b = 3))\n",
    "4\n",
    ">>> print(my_sum_10(1))\n",
    "11\n",
    "```\n",
    "\n",
    "위치 인자를 사용하면, 오류가 발생한다.  \n",
    "```python\n",
    ">>> print(my_sum_10(1, 3))\n",
    "TypeError                                 Traceback (most recent call last)\n",
    "/tmp/ipykernel_1321/3815314647.py in <module>\n",
    "----> 1 print(my_sum_10(1, 3))\n",
    "\n",
    "TypeError: my_sum_10() takes 1 positional argument but 2 were given\n",
    "```\n",
    "\n"
   ]
  },
  {
   "cell_type": "markdown",
   "id": "60736411-a3b0-4538-aa7d-546dbd278c03",
   "metadata": {},
   "source": [
    ":::{admonition} 주의   \n",
    ":class: caution  \n",
    "함수가 가변 객체를 변경하면 기본값이 변경될 수 있기 때문에, 키워드 매개변수의 기본값으로 가변 객체를 사용하지 않는 것이 좋다. 예를 들어, 빈 리스트를 기본값으로 갖는 `no_func()`함수를 살펴보자. 이 함수는 첫 번째 인자를 두 번째 인자의 항목으로 추가하여 반환하는 함수다.  \n",
    "\n",
    "```python\n",
    ">>> def no_func(a, b = []) :\n",
    "        b.append(a)\n",
    "        return b\n",
    "```\n",
    "\n",
    "함수를 한 번 호출하면 `[1]`를 반환하지만, 두 번째 호출에서는 기본값이 변경되어 `[1]`이 아닌 `[1, 1]`을 반환하는 겂을 볼 수 있다.  \n",
    "```python\n",
    ">>> print(no_func(1))\n",
    "[1]\n",
    "```\n",
    "\n",
    "```python\n",
    ">>> print(no_func(1))\n",
    "[1, 1]\n",
    "``` \n",
    ":::\n"
   ]
  },
  {
   "cell_type": "markdown",
   "id": "129883b5-a209-45a4-93f9-64ace7928f26",
   "metadata": {},
   "source": [
    ":::{admonition} 가변 위치<font size =\"2\">var-positional</font>  \n",
    ":class: info  \n",
    "입력 값이 여러 개이지만 몇 개가 입력될지 모를 때는 매개변수 이름 앞에 `*`를 붙이는 방식을 사용하면 된다. 그러면, 입력 값을 전부 모아서 튜플로 만들어 준다. 예를 들어, `zip(*iterables)` 함수는 여러 개의 이터러블을 인자로 받아 각 항목을 튜플로 묶은 형태로 이터레이터를 만들어 반환한다.  \n",
    ":::"
   ]
  },
  {
   "cell_type": "markdown",
   "id": "9a22220a-1a5c-41a6-97c7-cae455c58da4",
   "metadata": {},
   "source": [
    "````{prf:example}\n",
    ":label: parameter-example03  \n",
    "여러 개의 수를 인자로 받아, 그 합을 구하는 함수 `my_auto_sum()`을 정의하여라.  \n",
    "````"
   ]
  },
  {
   "cell_type": "markdown",
   "id": "cc1c97be-bc1e-473a-97b7-790b93ffc086",
   "metadata": {},
   "source": [
    "다음과 같이 `*args`를 매개변수로 사용하여 `my_auto_sum()` 함수를 정의할 수 있다. `args`는 `arguments`의 약자로, 다른 매개변수 이름으로 변경해도 된다.    \n",
    "\n",
    "```python\n",
    ">>> def my_auto_sum(*args) :\n",
    "        s = 0\n",
    "        for i in args :\n",
    "            s += i\n",
    "        return s\n",
    "```\n",
    "\n",
    "```python\n",
    ">>> print(my_auto_sum(1))\n",
    "1\n",
    ">>> print(my_auto_sum(1, 2))\n",
    "3\n",
    ">>> print(my_auto_sum(1, 2, 3))\n",
    "6\n",
    ">>> print(my_auto_sum(1, 2, 3, 4))\n",
    "10\n",
    ">>> print(my_auto_sum(1, 2, 3, 4, 5))\n",
    "15\n",
    ">>> print(my_auto_sum(*(1, 3, 5)))\n",
    "9\n",
    "```"
   ]
  },
  {
   "cell_type": "markdown",
   "id": "ae6ecae3-88ef-425c-96e9-3c0f6d1d5264",
   "metadata": {},
   "source": [
    ":::{admonition} 가변 키워드<font size =\"2\">var-keyword</font>    \n",
    ":class: info  \n",
    "\n",
    "임의의 개수의 키워드 인자들을 사용해야 할 때는 매개변수 이름 앞에 `**`를 붙이는 방식을 사용하면 된다. 그러면, 입력 값을 전부 모아서 딕셔너리로 만들어 준다. 예를 들어, `dict(**kwargs)` 함수는 여러 개의 키워드 인자들을 입력받아 딕셔너리로 만들어 반환한다. `kwargs`는 `keyword arguments`의 약자이다.   \n",
    "\n",
    "예를 들어, 가변 키워드를 리턴하는 함수 `return_kwargs()`를 정의해보자.  \n",
    "```python\n",
    ">>> def return_kwargs(**kwargs) :\n",
    "        return kwargs\n",
    "```\n",
    "\n",
    "키워드 인자로 `강현 = 3`을 사용하여 함수를 호출하면, `{'강현': 3}`이 반환된다. \n",
    "```python\n",
    ">>> print(return_kwargs(강현=3))\n",
    "{'강현': 3}\n",
    "```\n",
    "\n",
    "키워드 인자로 `강현 = 3`와 `나현=5`을 사용하여 함수를 호출하면, `{'강현': 3, '나현': 5}`이 반환된다. \n",
    "```python\n",
    ">>> print(return_kwargs(강현=3, 나현=5))\n",
    "{'강현': 3, '나현': 5}\n",
    "```\n",
    ":::"
   ]
  },
  {
   "cell_type": "markdown",
   "id": "4d3f8a16-adb4-4781-9204-aa75d256dc03",
   "metadata": {},
   "source": [
    "### 문서화 문자열  \n",
    "\n",
    "프로그래밍 코드를 저장한 파일에는 코드 외에 코드와 관련된 주석을 적절하게 포함하고 있어야 하는데, 이를 **문서화**라고 한다. 문서화가 제대로 되어있지 않으면 프로그램 개발 및 관리가 어렵기에 문서화는 코드 이상으로 중요하다. 문서화의 기본은 함수에 주석을 추가하는 것이다. 함수 정의에 사용되는 주석을 문서화 문자열<font size=\"2\">docstring</font>이라고 부른다. 큰 따옴표 세 개(`\"\"\"...\"\"\"`) 또는 작은 따옴표 세 개(`'''...'''`)로 둘러싸인 부분이 문서화를 위해 사용되며 주석으로 처리된다. 예를 들어, 두 수를 인자로 받아, 그 합을 반환하는 함수 `my_sum()`에 문서화 문자열을 추가해보자.      "
   ]
  },
  {
   "cell_type": "code",
   "execution_count": 1,
   "id": "55af0ff5-e7e7-4082-97e7-a4596092bf7c",
   "metadata": {},
   "outputs": [],
   "source": [
    "def my_sum(a, b) :\n",
    "    \"\"\"\n",
    "        두 개의 숫자를 입력받아, 그 합을 되돌려준다. \n",
    "    \"\"\"\n",
    "    return a + b"
   ]
  },
  {
   "cell_type": "markdown",
   "id": "65832339-e330-4552-a2fb-0810d0c0eadc",
   "metadata": {},
   "source": [
    "함수에 문서화 문자열을 추가하면, `help()`함수를 사용하여 해당 함수의 역할 및 사용법을 확인할 수 있다.  "
   ]
  },
  {
   "cell_type": "code",
   "execution_count": 2,
   "id": "579445fd-99f9-49bf-a5dc-d62078dd152e",
   "metadata": {},
   "outputs": [
    {
     "name": "stdout",
     "output_type": "stream",
     "text": [
      "Help on function my_sum in module __main__:\n",
      "\n",
      "my_sum(a, b)\n",
      "    두 개의 숫자를 입력받아, 그 합을 되돌려준다.\n",
      "\n"
     ]
    }
   ],
   "source": [
    "help(my_sum)"
   ]
  },
  {
   "cell_type": "markdown",
   "id": "e17d8d2d-b404-4c99-aeda-9cf63c0c162d",
   "metadata": {},
   "source": [
    "### 제1종 객체  \n",
    "프로그래밍 언어에서 **제1종 객체**<font size=\"2\">first-class object</font>는 변수 할당, 함수의 인자, 함수의 반환값 등으로 사용될 수 있는 객체<font size=\"2\">object</font>를 가리킨다. 반면에 그렇지 않은 객체를  **제2종 객체**<font size=\"2\">second-class object</font>라고 한다.   \n",
    "\n",
    "\n",
    ":::{admonition} first-class object \n",
    ":class: info    \n",
    "first-class object는 주로 '일급 객체'로 번역되지만, 그보다는 제1종 객체라 하는 것이 개념상 적절하다. first-class와 second-class는 사용법상 구분을 나타내는 반면에 일급과 이급 표현은 질적 차이를 내포하기 때문이다.  \n",
    ":::  \n",
    "\n",
    "프로그래밍 언어에 따라 제1종 객체의 기준이 다르다. 예를 들어, C언어에서는 함수가 다른 함수의 인자 또는 반환값으로 사용할 수 없기 때문에 제1종 객체가 아니다. 반면에 파이썬에서는 다룰 수 있는 모든 것이 제1종 객체이다.   \n",
    "\n"
   ]
  },
  {
   "cell_type": "markdown",
   "id": "a9231037-87ae-48df-af35-5f700039930e",
   "metadata": {},
   "source": [
    "**함수를 변수에 할당**  \n",
    "함수도 하나의 값이라 변수 할당에 사용될 수 있다. 예를 들어, `print()` 함수를 `a_func` 변수에 할당해보자. 함수를 하나의 값으로 취급할 때는 괄호를 사용하지 않는다.   "
   ]
  },
  {
   "cell_type": "code",
   "execution_count": 3,
   "id": "26f82076-c1b6-4c3a-9d5d-3945bdc3b20a",
   "metadata": {},
   "outputs": [],
   "source": [
    "a_func = print"
   ]
  },
  {
   "cell_type": "code",
   "execution_count": 4,
   "id": "a5e36ede-b224-4247-ad94-7fb0ec134e35",
   "metadata": {},
   "outputs": [
    {
     "name": "stdout",
     "output_type": "stream",
     "text": [
      "<built-in function print>\n"
     ]
    }
   ],
   "source": [
    "print(a_func)"
   ]
  },
  {
   "cell_type": "code",
   "execution_count": 5,
   "id": "1396f4fb-dfaf-459b-898c-d1d6dd0c0939",
   "metadata": {},
   "outputs": [
    {
     "name": "stdout",
     "output_type": "stream",
     "text": [
      "안녕하세요!\n"
     ]
    }
   ],
   "source": [
    "a_func('안녕하세요!')"
   ]
  },
  {
   "cell_type": "markdown",
   "id": "f768ee3e-e454-438f-9c47-b64f64e6a4af",
   "metadata": {},
   "source": [
    "괄호를 사용하면 함수 호출을 의미하기 때문에 아래 코드는 `print()` 함수가 호출된 후에 반환한 `None`이 변수에 할당된다. "
   ]
  },
  {
   "cell_type": "code",
   "execution_count": 6,
   "id": "02b3bc2f-be2b-4e68-b398-559052cef429",
   "metadata": {},
   "outputs": [
    {
     "name": "stdout",
     "output_type": "stream",
     "text": [
      "\n",
      "None\n"
     ]
    }
   ],
   "source": [
    "a_return_value = print()\n",
    "print(a_return_value)"
   ]
  },
  {
   "cell_type": "markdown",
   "id": "1a0d4e9f-dd4b-46d8-978f-d7f9c8bafbc1",
   "metadata": {},
   "source": [
    "**함수를 다른 함수의 인자로 사용**  \n",
    "함수를 다른 함수의 인자로 사용할 수 있다. 예를 들어, `map(function, iterable)` 함수는 `iterable`의 모든 항목에 `function`을 적용한 후 그 결과를 돌려주는 이터레이터를 반환한다. "
   ]
  },
  {
   "cell_type": "markdown",
   "id": "6cc23b67-2714-48ef-93df-e6523a808cb6",
   "metadata": {},
   "source": [
    "````{prf:example}\n",
    ":label: parameter-example04\n",
    "하나의 인자를 받는 함수와 그 함수의 인자로 사용될 값을 인자로 받아 둘째 인자로 들어온 값에 대해 첫째 인자 함수를 두 번 연속 적용한 값을 반환하는 함수 `do_twice(func, arg)`를 정의하여라. 함수 `f`를 인자 `x`에 두 번 연속 적용한다는 의미는 `f(f(x))`를 의미한다.    \n",
    "````"
   ]
  },
  {
   "cell_type": "markdown",
   "id": "df7b2fb3-942b-4c90-8eb4-af78da94253a",
   "metadata": {},
   "source": [
    "`do_twice()`함수는 다음과 같이 정의할 수 있다. "
   ]
  },
  {
   "cell_type": "code",
   "execution_count": 7,
   "id": "23e7bc9f-338c-4a8b-b709-557e6b0544b0",
   "metadata": {},
   "outputs": [],
   "source": [
    "def do_twice(func, arg) :\n",
    "    x = func(arg)\n",
    "    return func(x)"
   ]
  },
  {
   "cell_type": "markdown",
   "id": "c0d689db-5816-43c8-aced-d0e3f608dddb",
   "metadata": {},
   "source": [
    "그 다음 `do_twice()`의 인자로 사용할 함수를 하나 정의해보자. 아래 `three_times()`함수는 인자의 세 배를 계산하여 반환한다.  "
   ]
  },
  {
   "cell_type": "code",
   "execution_count": 8,
   "id": "9604b734-5b2e-4fa6-818c-083675d7e284",
   "metadata": {},
   "outputs": [],
   "source": [
    "def three_times(num) :\n",
    "    return num * 3"
   ]
  },
  {
   "cell_type": "markdown",
   "id": "88b28e96-c93a-487d-9134-e197664cf42c",
   "metadata": {},
   "source": [
    "`three_tiems()` 함수를 정수 `5`에 대해 두 번 연속으로 적용한 값은 45이다. 실제로 5의 세 배는 15, 15의 세 배는 45이다. 다음과 같이 확인할 수 있다.  "
   ]
  },
  {
   "cell_type": "code",
   "execution_count": 9,
   "id": "32dda955-a85b-4e89-a2f3-493619903829",
   "metadata": {},
   "outputs": [
    {
     "data": {
      "text/plain": [
       "45"
      ]
     },
     "execution_count": 9,
     "metadata": {},
     "output_type": "execute_result"
    }
   ],
   "source": [
    "three_times(three_times(5))"
   ]
  },
  {
   "cell_type": "markdown",
   "id": "01cdcd2a-b348-4f3b-bb24-376219d2e440",
   "metadata": {},
   "source": [
    "`do_twice()`함수를 사용하여 동일한 결과를 얻을 수 있다. "
   ]
  },
  {
   "cell_type": "code",
   "execution_count": 10,
   "id": "40ef05de-2fe6-49b0-8d4c-89d310f2fa43",
   "metadata": {},
   "outputs": [
    {
     "data": {
      "text/plain": [
       "45"
      ]
     },
     "execution_count": 10,
     "metadata": {},
     "output_type": "execute_result"
    }
   ],
   "source": [
    "do_twice(three_times, 5)"
   ]
  },
  {
   "cell_type": "markdown",
   "id": "409a9a50-c16b-4543-a1c6-cf622927b0d2",
   "metadata": {},
   "source": [
    "**함수가 다른 함수를 반환**  \n",
    "함수를 반환하는 함수를 정의할 수 있다. 예를 들어, 다음의 `adding_n_func(n)` 함수를 생각해보자. `adding_n_func(n)`함수를 호출하면, `n`을 더하는 함수 `my_add_n()`을 반환한다. "
   ]
  },
  {
   "cell_type": "code",
   "execution_count": 11,
   "id": "8ba957fc-4d2b-4391-89fb-767aa0a8b323",
   "metadata": {},
   "outputs": [],
   "source": [
    "def adding_n_func(n) :\n",
    "    \n",
    "    def my_add_n(m) :\n",
    "        return n + m\n",
    "    \n",
    "    return my_add_n"
   ]
  },
  {
   "cell_type": "markdown",
   "id": "69f60a56-955d-43ba-81e1-ae92e02eef8b",
   "metadata": {},
   "source": [
    "`my_add_n()` 함수는 `adding_n_func()` 함수의 본문에서 정의되는 함수이다. 따라서 `adding_n_func()` 함수 밖에서는 절대 사용될 수 없는 일종의 지역 변수이며, 이런 의미로 지역 함수<font size = \"2\">local function</font>라 불린다.  \n",
    "실제로, `my_add_n()` 함수를 사용하려면 `n`에 해당하는 값이 필요한데 그 값은 `adding_n_func(10)`등이 먼저 실행되어야 정해진다.   \n",
    "이 성질을 이용하여 입력값에 10을 더한 값을 반환하는 함수 `my_add_10()`를 다음과 같이 정의하여 활용할 수 있다.  "
   ]
  },
  {
   "cell_type": "code",
   "execution_count": 12,
   "id": "ac01a35e-0f53-4680-af2a-d83ed6575cc3",
   "metadata": {},
   "outputs": [
    {
     "data": {
      "text/plain": [
       "13"
      ]
     },
     "execution_count": 12,
     "metadata": {},
     "output_type": "execute_result"
    }
   ],
   "source": [
    "my_add_10 = adding_n_func(10)  # 10을 더하는 함수\n",
    "my_add_10(3)                   # 10 + 3"
   ]
  },
  {
   "cell_type": "markdown",
   "id": "d42f9955-b158-4cf2-8d9c-72c98d8870ee",
   "metadata": {},
   "source": [
    "### 지역 변수와 전역 변수"
   ]
  },
  {
   "cell_type": "markdown",
   "id": "588fad9b-6a52-409a-b138-1264ffb37c79",
   "metadata": {},
   "source": [
    "변수들은 어디에서 정의되었는가에 따라 지역 변수<font size=\"2\">local variable</font> 또는 전역 변수<font size=\"2\">global variable</font>라 불린다. 함수를 선언할 때 사용되는 매개변수와 함수 본문에서 선언되는 변수는 함수가 실행되는 동안에만 의미를 갖는 변수들이며, 이런 변수들을 **지역 변수**라 부른다. 반면에 함수 밖에서도 의미를 갖는 변수는 **전역 변수**이다.   \n",
    "\n",
    ":::{admonition} 유효범위<font size= \"2\">scope</font>  \n",
    ":class: info    \n",
    "변수의 수명 또는 변수가 유효한 범위를 유효범위라고 부른다. 예를 들어, 전역 변수의 유효범위는 프로그램 전체이고, 지역 변수의 유효범위는 그 변수를 선언한 함수 내부이다.      \n",
    ":::\n",
    "\n",
    "\n",
    "예를 들어, 아래의 코드에서 매개변수 `a`, `b`와 함수본문에서 선언된 `local_var`변수는 모두 지역 변수이다. 반면에 `global_var`변수는 전역 변수이다.  "
   ]
  },
  {
   "cell_type": "code",
   "execution_count": 13,
   "id": "5b4881fb-1fed-4c59-a754-4cff5532a261",
   "metadata": {},
   "outputs": [],
   "source": [
    "global_var = 3\n",
    "\n",
    "def my_add(a, b) :\n",
    "    local_var = a + b\n",
    "    return local_var"
   ]
  },
  {
   "cell_type": "markdown",
   "id": "877099bb-9963-49ad-83a4-88d146bd6906",
   "metadata": {},
   "source": [
    "지역변수들은 함수밖에서는 어떤 의미를 갖지 않는다. 예를 들어, `my_add()` 함수를 호출한 다음 `local_var` 변수 값을 출력하려고 하면, 이름이 존재하지 않음을 의미하는 `NameError`오류가 발생한다.   \n",
    "\n",
    "```python\n",
    ">>> my_add(1, 2)\n",
    "3\n",
    "```\n",
    "\n",
    "```python\n",
    ">>> print(local_var)\n",
    "NameError                                 Traceback (most recent call last)\n",
    "/tmp/ipykernel_1321/1445025415.py in <module>\n",
    "----> 1 print(local_var)\n",
    "\n",
    "NameError: name 'local_var' is not defined\n",
    "```"
   ]
  },
  {
   "cell_type": "markdown",
   "id": "e529d9bc-16b9-4dd1-b143-b96f8963d5fe",
   "metadata": {},
   "source": [
    ":::{admonition} `global` 키워드  \n",
    ":class: info  \n",
    "\n",
    "아래의 코드에서 `var` 변수는 전역 변수이고, 함수 `func_a()` 안에서 정의된 `var` 변수는 지역 변수이다. \n",
    "```python\n",
    ">>> var = 'global'  # 전역 변수 var\n",
    "```\n",
    "함수 안에서 `var`변수에 `'local'`을 할당해도 전역 변수의 값이 변경되지 않는다.  \n",
    "```python\n",
    ">>> def func_a() :\n",
    "        var = 'local'  # 지역 변수 var\n",
    "        return var\n",
    "```\n",
    "\n",
    "실제로, `var`의 값을 확인하면 `global`이다.  \n",
    "```python\n",
    ">>> print(var)\n",
    "global\n",
    "```\n",
    "\n",
    "반면, 함수를 실행하면 지역 변수`var`에 할당된 값인`local`이 반환된다. \n",
    "```python\n",
    ">>> print(func_a())\n",
    "local\n",
    "```\n",
    "\n",
    "함수 내부에서 선언된 지역 변수를 전역 변수처럼 사용하려면 `global` 키워드를 사용한다. \n",
    "```python\n",
    ">>> def func_a() :\n",
    "        global var\n",
    "        var = 'local'  \n",
    "        return var\n",
    "```\n",
    "그런 다음에 `var`의 값을 확인하면 `local`이고, `func_a()`의 반환값도 `local`이다. \n",
    "```python\n",
    ">>> print(var)\n",
    "local\n",
    "```\n",
    "```python\n",
    ">>> print(func_a())\n",
    "local\n",
    "```\n",
    "변수의 유효범위를 변경하면 의도하지 않은 일이 발생할 수도 있기 때문에 가능하면 사용하지 않는 것이 좋다. \n",
    ":::"
   ]
  },
  {
   "cell_type": "markdown",
   "id": "45bfa253-3031-454e-80e6-83e16b16e6d9",
   "metadata": {},
   "source": [
    "### 익명함수(람다함수)"
   ]
  },
  {
   "cell_type": "markdown",
   "id": "a8e2c619-437e-45e2-89d4-167b0b124bb5",
   "metadata": {},
   "source": [
    "파이썬은 익명함수 또는 lambda 함수라고 하는, 값을 반환하는 단순한 한 문장으로 이루어진 함수를 지원한다. 람다 함수를 사용하면 간결하게 코드를 작성할 수 있다. 람다 함수의 형식은 아래와 같다.  \n",
    "\n",
    "```\n",
    "lambda arguments : expression\n",
    "```  \n",
    "\n",
    "예제와 함께 살펴보자. 예를 들어, 숫자를 인자로 받아 5를 더한 값을 반환하는 함수는 아래와 같이 정의할 수 있다. "
   ]
  },
  {
   "cell_type": "code",
   "execution_count": 14,
   "id": "393524c3-7cf1-4f6a-ae7f-a86e2ff8cb1e",
   "metadata": {},
   "outputs": [],
   "source": [
    "def plus_5(n) :\n",
    "    return n + 5"
   ]
  },
  {
   "cell_type": "code",
   "execution_count": 15,
   "id": "8da63286-11ba-4f17-a4cd-701124906b64",
   "metadata": {},
   "outputs": [
    {
     "name": "stdout",
     "output_type": "stream",
     "text": [
      "15\n",
      "25\n"
     ]
    }
   ],
   "source": [
    "print(plus_5(10))\n",
    "print(plus_5(20))"
   ]
  },
  {
   "cell_type": "markdown",
   "id": "f31ea9fd-f48d-47b7-9029-c48bf3d3aebf",
   "metadata": {},
   "source": [
    "람다 함수를 사용하면, 아래와 같이 코드를 작성할 수 있다. "
   ]
  },
  {
   "cell_type": "code",
   "execution_count": 16,
   "id": "9a220247-ebe7-40b2-90d9-187dad96e290",
   "metadata": {},
   "outputs": [],
   "source": [
    "x = lambda a : a + 5"
   ]
  },
  {
   "cell_type": "code",
   "execution_count": 17,
   "id": "4acc7928-9066-43f8-bde8-a7cbf31ea254",
   "metadata": {},
   "outputs": [
    {
     "name": "stdout",
     "output_type": "stream",
     "text": [
      "15\n",
      "25\n"
     ]
    }
   ],
   "source": [
    "print(x(10))\n",
    "print(x(20))"
   ]
  },
  {
   "cell_type": "markdown",
   "id": "7fd03571-2370-4704-930a-1c62a53e5d89",
   "metadata": {},
   "source": [
    "두 숫자를 인자로 받아 그 곱을 반환하는 함수는 아래와 같이 정의할 수 있다. "
   ]
  },
  {
   "cell_type": "code",
   "execution_count": 18,
   "id": "b33e2e0b-224a-413d-b67b-12becfcd2ec2",
   "metadata": {},
   "outputs": [],
   "source": [
    "y = lambda a, b : a * b"
   ]
  },
  {
   "cell_type": "code",
   "execution_count": 19,
   "id": "6356bffd-db6a-4745-846b-10f62715366f",
   "metadata": {},
   "outputs": [
    {
     "name": "stdout",
     "output_type": "stream",
     "text": [
      "6\n",
      "20\n"
     ]
    }
   ],
   "source": [
    "print(y(2, 3))\n",
    "print(y(4, 5))"
   ]
  },
  {
   "cell_type": "markdown",
   "id": "b033017b-f761-4b97-839c-a6d2d848e480",
   "metadata": {},
   "source": [
    "람다 함수는 `map(function, iterable)`함수의 인자 등 한 번만 사용할 함수를 정의할 때 사용하면 좋다. 예를 들어, 리스트 `[1, 2, 3, 4, 5]`의 각 항목을 제곱한 다음 5를 더한 값을 항목으로 갖는 리스트 `[6, 9, 14, 21, 30]`을 만들 때, 다음과 같이 코드를 작성할 수 있다. "
   ]
  },
  {
   "cell_type": "code",
   "execution_count": 20,
   "id": "715fdd27-23d7-4607-827f-a4536f6fc350",
   "metadata": {},
   "outputs": [
    {
     "data": {
      "text/plain": [
       "[6, 9, 14, 21, 30]"
      ]
     },
     "execution_count": 20,
     "metadata": {},
     "output_type": "execute_result"
    }
   ],
   "source": [
    "list(map(lambda x : x ** 2 + 5, [1, 2, 3, 4, 5]))"
   ]
  },
  {
   "cell_type": "markdown",
   "id": "b6aed285-ae84-4d32-9b0f-cd52886082f5",
   "metadata": {},
   "source": [
    "````{prf:example}  \n",
    ":label: parameter-example05  \n",
    "시퀀스형과 항목을 인자로 받아 시퀀스에 인자로 들어온 항목이 몇 번 등장하는지를 반환하는 `my_count()` 함수를 정의하여라. 이때, 시퀀스형이 문자열이면, 항목으로 들어온 부분 문자열이 문자열에 몇 번 등장하는지를 반환한다.   \n",
    "````"
   ]
  },
  {
   "cell_type": "code",
   "execution_count": 21,
   "id": "675ff589-b2d3-45d0-8b52-b5f328d01eba",
   "metadata": {},
   "outputs": [],
   "source": [
    "def my_count(seq, item, is_str = True) :\n",
    "    cnt = 0\n",
    "    if is_str :\n",
    "        for i in range(len(seq) - len(item) + 1) :\n",
    "            if seq[i : i + len(item)] == item :\n",
    "                cnt += 1\n",
    "    else :\n",
    "        for i in seq :\n",
    "            if i == item :\n",
    "                cnt += 1\n",
    "    return cnt"
   ]
  },
  {
   "cell_type": "code",
   "execution_count": 22,
   "id": "b0ccce11-121a-4753-a868-b67d5634c6c5",
   "metadata": {},
   "outputs": [
    {
     "data": {
      "text/plain": [
       "2"
      ]
     },
     "execution_count": 22,
     "metadata": {},
     "output_type": "execute_result"
    }
   ],
   "source": [
    "my_count('Hello, World! Hello, Python!', 'lo')"
   ]
  },
  {
   "cell_type": "code",
   "execution_count": 23,
   "id": "f212237e-2964-4654-853f-3b9b85982416",
   "metadata": {},
   "outputs": [
    {
     "data": {
      "text/plain": [
       "2"
      ]
     },
     "execution_count": 23,
     "metadata": {},
     "output_type": "execute_result"
    }
   ],
   "source": [
    "my_count((1, 3, 5, 3, 5, 7), 3, is_str = False)"
   ]
  },
  {
   "cell_type": "markdown",
   "id": "35f5b8d0-8a0e-4511-b244-7c6ee25a0205",
   "metadata": {},
   "source": [
    "````{prf:example}  \n",
    ":label: parameter-example06\n",
    "여러 개의 이터러블을 인자로 받아 각 항목을 튜플로 묶은 형태로 이터레이터를 만들어 반환하는 `my_zip()` 함수를 정의하여라. \n",
    "````"
   ]
  },
  {
   "cell_type": "code",
   "execution_count": 24,
   "id": "d9efe6cd-c072-4d66-9da0-82c1c7a934c1",
   "metadata": {},
   "outputs": [],
   "source": [
    "def my_zip(*iterables) :\n",
    "    iterators = [iter(it) for it in iterables]\n",
    "    while True :\n",
    "        try : \n",
    "            result = []\n",
    "            for it in iterators :\n",
    "                result.append(next(it))\n",
    "            yield tuple(result)\n",
    "        except StopIteration:\n",
    "            return"
   ]
  },
  {
   "cell_type": "code",
   "execution_count": 25,
   "id": "9f76468d-eb30-48fc-999b-53b4ff7ead59",
   "metadata": {},
   "outputs": [],
   "source": [
    "my_iter = my_zip([1, 2, 3], (1, 2), range(5))"
   ]
  },
  {
   "cell_type": "code",
   "execution_count": 26,
   "id": "4d470bc8-6ab2-4231-b97f-5cdf170c537b",
   "metadata": {},
   "outputs": [
    {
     "data": {
      "text/plain": [
       "(1, 1, 0)"
      ]
     },
     "execution_count": 26,
     "metadata": {},
     "output_type": "execute_result"
    }
   ],
   "source": [
    "next(my_iter)"
   ]
  },
  {
   "cell_type": "code",
   "execution_count": 27,
   "id": "848b527b-8c2d-43d6-b93a-10198ed8ee92",
   "metadata": {},
   "outputs": [
    {
     "data": {
      "text/plain": [
       "(2, 2, 1)"
      ]
     },
     "execution_count": 27,
     "metadata": {},
     "output_type": "execute_result"
    }
   ],
   "source": [
    "next(my_iter)"
   ]
  },
  {
   "cell_type": "markdown",
   "id": "a6a4aa2b-ad42-43bb-b873-0eab3d9a4ed5",
   "metadata": {
    "tags": []
   },
   "source": [
    "## 모듈  \n",
    "\n",
    "모듈은 파이썬 코드를 담고 있는, 확장자가 `py`인 파일이다. 하나의 모듈에는 관련된 일을 처리할 때 사용하는 여러 프로그램 코드들이 포함되어 있다. 예를 들어, `math` 모듈은 `sin()`, `cos()`, `log()` 등 수학에서 매우 중요한 역할을 하는 함수들이 정의되어 있고, `time` 모듈에는 `sleep()` 함수처럼 시간 활용과 관련된 다양한 함수가 포함되어 있다. 그리고 `random` 모듈에는 임의의 정수를 생성하는 것과 관련된 함수 `randint()`등이 정의되어 있다. 모듈은 언제든지 불러와서<font size=\"2\">import</font> 모듈에 포함된 내용을 활용할 수 있다.    "
   ]
  },
  {
   "cell_type": "markdown",
   "id": "d1873b3b-e95b-4838-8bc1-58e266a3c846",
   "metadata": {},
   "source": [
    ":::{admonition} 파일 확장자    \n",
    ":class: info    \n",
    "파일 확장자는 파일의 형식이나 종류를 표시하기 위해 파일명 뒤에 사용하는 것이다. 예를 들어, 확장자가 `hwp`라면 한글 문서 파일인 것을 알 수 있다.  \n",
    ":::\n"
   ]
  },
  {
   "cell_type": "markdown",
   "id": "68ea2e65-d23e-4f9b-92c4-1398bce69a2c",
   "metadata": {},
   "source": [
    "### 모듈 만들기 "
   ]
  },
  {
   "cell_type": "markdown",
   "id": "f843df35-77de-4e48-bd8c-66e2c02bd407",
   "metadata": {},
   "source": [
    "먼저 모듈을 만들어보자. 아래와 같이 앞에서 만든 함수들을 담고 있는 `myfunc.py` 파일을 만든다.  \n",
    "\n",
    "```\n",
    "def my_count(seq, item, is_str = True) :\n",
    "    count = 0\n",
    "    if is_str :\n",
    "        for i in range(len(seq) - len(item) + 1) :\n",
    "            if seq[i : i + len(item)] == item :\n",
    "                count += 1\n",
    "    else :\n",
    "        for i in seq :\n",
    "            if i == item :\n",
    "                count += 1\n",
    "    return count\n",
    "    \n",
    "\n",
    "def my_zip(*iterables) :\n",
    "    iterators = [iter(it) for it in iterables]\n",
    "    while True :\n",
    "        try : \n",
    "            result = []\n",
    "            for it in iterators :\n",
    "                result.append(next(it))\n",
    "            yield tuple(result)\n",
    "        except StopIteration:\n",
    "            return\n",
    "        \n",
    "\n",
    "print(my_count('helheloh', 'lh'))\n",
    "print(my_count((1, 3, 5, 3, 5, 7), 3, is_str = False))\n",
    "\n",
    "my_iter = my_zip([1, 2, 3], (1, 2), range(5))\n",
    "print(next(my_iter))\n",
    "print(next(my_iter))\n",
    "```"
   ]
  },
  {
   "cell_type": "markdown",
   "id": "863d5fef-8013-43ff-bc86-3d1123fe2b00",
   "metadata": {},
   "source": [
    "### 모듈 사용법  \n",
    "\n",
    "특정 모듈에 포함된 코드(예를 들어, 함수 등)를 사용하려면 먼저 해당 모듈을 `import` 해야 한다. 모듈을 임포트하는 방법을 살펴보자.  "
   ]
  },
  {
   "cell_type": "markdown",
   "id": "9137bb8b-bc30-424a-9210-31249d17723f",
   "metadata": {},
   "source": [
    "**모듈 임포트 방법1**   \n",
    "```\n",
    "import 모듈이름\n",
    "``` \n",
    "예를 들어, 앞에서 만든 `myfunc.py` 모듈을 임포트하고 싶다면, 아래와 같이 코드를 작성하고 실행하면 된다.   "
   ]
  },
  {
   "cell_type": "code",
   "execution_count": 28,
   "id": "34898940-d4b6-4376-b8c4-e4b132b99e8a",
   "metadata": {},
   "outputs": [
    {
     "name": "stdout",
     "output_type": "stream",
     "text": [
      "1\n",
      "2\n",
      "(1, 1, 0)\n",
      "(2, 2, 1)\n"
     ]
    }
   ],
   "source": [
    "import myfunc"
   ]
  },
  {
   "cell_type": "markdown",
   "id": "53106440-419e-46d1-a787-dbef48b08132",
   "metadata": {},
   "source": [
    ":::{admonition} `__name__` 속성과 `__main__` 함수  \n",
    ":class: info  \n",
    "모듈을 임포트하면, 파일 전체가 실행되면서 `print()` 함수로 작성된 코드가 실행되는 것을 볼 수 있다.  \n",
    "```\n",
    "1\n",
    "2\n",
    "(1, 1, 0)\n",
    "(2, 2, 1)\n",
    "```\n",
    "\n",
    "그런데 이 코드는 파일에 있는 함수가 제대로 작동하는가를 확인하는 용도로 작성된 코드이며, 모듈을 불러올 때 굳이 실행할 필요가 없다. 이런 경우에는 모듈의 `__name__` 속성을 이용하여 아래와 같이 작성하면 모듈을 임포트할 때 굳이 실행할 필요가 없는 코드를 모듈에 포함시킬 수 있다. \n",
    "\n",
    "```\n",
    "if __name__ == '__main__' :\n",
    "    print(my_count('helheloh', 'lh'))\n",
    "    print(my_count((1, 3, 5, 3, 5, 7), 3, is_str = False))\n",
    "\n",
    "    my_iter = my_zip([1, 2, 3], (1, 2), range(5))\n",
    "    print(next(my_iter))\n",
    "    print(next(my_iter))\n",
    "```\n",
    "\n",
    "위와 같이 하면 `import myfunc`를 실행해도 `if __name__ == '__main__' :` 아래 들여쓰기된 코드는 실행되지 않는다. 반면에 `shell`에서 `python myfunc.py` 형태로 `myfunc.py` 코드를 직접 실행하면 `if __name__ == '__main__' :` 조건문의 본체가 실행된다. \n",
    "\n",
    "그 이유는 다음과 같다. 파이썬에서 함수, 클래스, 모듈 등은 `__name__`이라는 특별한 속성을 가지고 있는데, 이는 항상 자기 자신을 가리킨다.  \n",
    "\n",
    "예를 들어, 아래 함수를 살펴보자.  \n",
    "```python\n",
    ">>>def my_name() :\n",
    "       pass\n",
    "```\n",
    "\n",
    "이제 `my_name()` 함수의 `__name__` 속성을 확인해보자. 속성 확인은 자료형의 메서드를 호출하는 방식과 비슷하다. 다만, 속성은 함수가 아니라 괄호를 사용하지 않는다. \n",
    "\n",
    "```python\n",
    ">>> my_name.__name__\n",
    "'my_name'\n",
    "```\n",
    "\n",
    "모듈도 `__name__` 속성을 갖는다. `myfunc.py` 모듈의 `__name__` 속성을 확인해보자. \n",
    "\n",
    "```python\n",
    ">>> myfunc.__name__\n",
    "'myfunc'\n",
    "```\n",
    "\n",
    "이렇게 `import`로 모듈을 가져오면 `__name__` 속성에는 모듈의 이름이 저장되는데, 모듈 파일을 직접 실행했을 때는 모듈의 이름이 아니라 `__main__`이 저장된다.   \n",
    "\n",
    "`__main__` 의 이런 기능은 C, Java 등에서 의무적으로 사용되는 `main` 함수와 유사한 기능을 수행한다. `Repl.it` 사이트에서 `main.py` 가 기본적으로 실행되는 이유가 이런 전통에서 유래한다.\n",
    ":::\n"
   ]
  },
  {
   "cell_type": "markdown",
   "id": "6082463e-f7c9-47ad-be11-7271b55cde00",
   "metadata": {},
   "source": [
    "모듈에 포함된 코드를 사용할 때는 `모듈이름.코드` 형식을 사용한다. 예를 들어, `myfunc.py` 모듈에 있는 `my_zip()` 함수를 사용하고 싶다면 아래와 같이 코드를 작성하면 된다. "
   ]
  },
  {
   "cell_type": "code",
   "execution_count": 29,
   "id": "6fa51a75-f78e-4372-ae82-30bac52c9793",
   "metadata": {},
   "outputs": [
    {
     "name": "stdout",
     "output_type": "stream",
     "text": [
      "(0, 0)\n",
      "(1, 1)\n",
      "(2, 2)\n"
     ]
    }
   ],
   "source": [
    "range_iter = myfunc.my_zip(range(3), range(5))\n",
    "for _ in range_iter :\n",
    "    print(_)"
   ]
  },
  {
   "cell_type": "markdown",
   "id": "50d147f3-d222-41af-8477-1e005802de12",
   "metadata": {},
   "source": [
    "**모듈 임포트 방법2**  \n",
    "모듈의 이름이 길 경우에는 별칭을 줄 수 있다.  \n",
    "```\n",
    "import 모듈이름 as 별칭\n",
    "```  \n",
    "\n",
    "예를 들어, `myfunc.py` 모듈을 별칭`mf`를 사용하여 임포트하고 싶다면, 아래와 같이 코드를 작성하고 실행하면 된다."
   ]
  },
  {
   "cell_type": "code",
   "execution_count": 30,
   "id": "1ac0357e-1662-4a93-9a03-9e00267f298c",
   "metadata": {},
   "outputs": [],
   "source": [
    "import myfunc as mf"
   ]
  },
  {
   "cell_type": "markdown",
   "id": "d1877073-aeef-4055-a0e6-8ea7c54e3a5d",
   "metadata": {},
   "source": [
    "모듈에 포함된 코드를 사용할 때는 `별칭.코드` 형식을 사용한다. 예를 들어, `myfunc.py` 모듈에 있는 `my_count()` 함수를 사용하고 싶다면, 이번에는 아래와 같이 코드를 작성하면 된다. "
   ]
  },
  {
   "cell_type": "code",
   "execution_count": 31,
   "id": "eb0146b7-7641-42e5-96cf-968c5e238d28",
   "metadata": {},
   "outputs": [
    {
     "name": "stdout",
     "output_type": "stream",
     "text": [
      "l의 개수는 3개이다.\n"
     ]
    }
   ],
   "source": [
    "count_l = mf.my_count('Hello, world', 'l')\n",
    "print(f'l의 개수는 {count_l}개이다.')"
   ]
  },
  {
   "cell_type": "markdown",
   "id": "edab8da8-ea3b-4394-83f6-ffaecddbddd5",
   "metadata": {},
   "source": [
    "**모듈 임포트 방법3**  \n",
    "모듈에서 원하는 코드만 가져올 수 있다. 이 경우 모듈 이름을 추가로 붙일 필요가 없어진다. 이 방식은 특정 코드를 자주 활용해야 할 경우 추천한다.  \n",
    "```\n",
    "from 모듈이름 import 특정코드\n",
    "```"
   ]
  },
  {
   "cell_type": "markdown",
   "id": "912ebd26-1ce4-4f3a-85dd-03fd3fa141cb",
   "metadata": {},
   "source": [
    "예를 들어, `myfunc.py` 모듈에 있는 `my_zip()` 함수만 가져오고 싶다면, 아래와 같이 코드를 작성하면 된다. "
   ]
  },
  {
   "cell_type": "code",
   "execution_count": 32,
   "id": "33911b89-c197-4145-8cc2-869e0772a57f",
   "metadata": {},
   "outputs": [],
   "source": [
    "from myfunc import my_zip"
   ]
  },
  {
   "cell_type": "markdown",
   "id": "4ccd6efb-c94a-4764-a10c-bbf941ecd399",
   "metadata": {},
   "source": [
    "그러면 모듈 이름을 추가로 붙이지 않고 `my_zip()` 함수를 사용할 수 있다. "
   ]
  },
  {
   "cell_type": "code",
   "execution_count": 33,
   "id": "00c03f6e-b393-4991-9563-4bb9b1453fe0",
   "metadata": {},
   "outputs": [
    {
     "name": "stdout",
     "output_type": "stream",
     "text": [
      "(0, 'a')\n",
      "(1, 'b')\n",
      "(2, 'c')\n",
      "(3, 'd')\n",
      "(4, 'e')\n"
     ]
    }
   ],
   "source": [
    "my_zip_iter = my_zip(range(10), 'abcde')\n",
    "for i in my_zip_iter :\n",
    "    print(i)"
   ]
  },
  {
   "cell_type": "markdown",
   "id": "a33c417a-2398-4fb7-86cd-561836877c4c",
   "metadata": {},
   "source": [
    ":::{admonition} 주의    \n",
    ":class: caution  \n",
    "이 경우에는 모듈에 포함된 다른 코드는 사용할 수 없다.  \n",
    "```python\n",
    ">>> count_l = my_count('Hello, world', 'l')\n",
    "NameError                                 Traceback (most recent call last)\n",
    "/tmp/ipykernel_1412/1744407135.py in <module>\n",
    "----> 1 count_l = my_count('Hello, world', 'l')\n",
    "\n",
    "NameError: name 'my_count' is not defined\n",
    "```\n",
    ":::\n"
   ]
  },
  {
   "cell_type": "markdown",
   "id": "70b6993c-2a71-46d9-bdfc-e87550beb3fc",
   "metadata": {},
   "source": [
    "**모듈 임포트 방법4**  \n",
    "특정 모듈에 포함된 코드 전체를 한꺼번에 임포트할 수도 있다. 다만, 일반적으로 추천되는 방식은 아니다.  \n",
    "```\n",
    "from 모듈이름 import * \n",
    "```"
   ]
  },
  {
   "cell_type": "markdown",
   "id": "d88971b9-fea2-4e40-9c0d-278d022f3f94",
   "metadata": {},
   "source": [
    "예를 들어, `myfunc.py` 모듈 전체를 한꺼번에 임포트해보자.  "
   ]
  },
  {
   "cell_type": "code",
   "execution_count": 34,
   "id": "f9b70338-91d2-49a1-a490-c4d05a81f13a",
   "metadata": {},
   "outputs": [],
   "source": [
    "from myfunc import *"
   ]
  },
  {
   "cell_type": "markdown",
   "id": "39bfde29-cbab-453b-8715-851b2dd4bdda",
   "metadata": {},
   "source": [
    "그러면 모듈 이름을 추가로 붙이지 않고, `myfunc.py` 모듈에 있는 코드를 사용할 수 있다. "
   ]
  },
  {
   "cell_type": "code",
   "execution_count": 35,
   "id": "e213905d-0fa5-4027-a5af-191809ae3726",
   "metadata": {},
   "outputs": [
    {
     "name": "stdout",
     "output_type": "stream",
     "text": [
      "l의 개수는 3개이다.\n"
     ]
    }
   ],
   "source": [
    "count_l = my_count('Hello, world', 'l')\n",
    "print(f'l의 개수는 {count_l}개이다.')"
   ]
  },
  {
   "cell_type": "markdown",
   "id": "f04b7a5c-dcae-45be-881c-b941ef770b46",
   "metadata": {},
   "source": [
    "**모듈 내용 확인하기**  \n",
    "특정 모듈에 포함된 함수 등을 확인하기 위해 `help()`함수를 사용할 수 있다. "
   ]
  },
  {
   "cell_type": "code",
   "execution_count": 36,
   "id": "734e6a2b-d663-4193-a4cb-697c4d59b8e5",
   "metadata": {},
   "outputs": [
    {
     "name": "stdout",
     "output_type": "stream",
     "text": [
      "Help on module myfunc:\n",
      "\n",
      "NAME\n",
      "    myfunc\n",
      "\n",
      "FUNCTIONS\n",
      "    my_count(seq, item, is_str=True)\n",
      "    \n",
      "    my_zip(*iterables)\n",
      "\n",
      "DATA\n",
      "    my_iter = <generator object my_zip>\n",
      "\n",
      "FILE\n",
      "    /home/hj/pybook2/myfunc.py\n",
      "\n",
      "\n"
     ]
    }
   ],
   "source": [
    "help(myfunc)"
   ]
  },
  {
   "cell_type": "markdown",
   "id": "34e11e59-ec17-43a8-80b4-3a283d701022",
   "metadata": {},
   "source": [
    "## 연습문제"
   ]
  },
  {
   "cell_type": "markdown",
   "id": "30d0658c-0eb4-4c34-a2cd-daccc1940b0e",
   "metadata": {},
   "source": [
    "### 문제  \n",
    "진약수를 구하여 합한 값이 상대 수가 되는 두 수를 **친화수**라고 부른다. 예를 들어, 220와 284는 친화수이다.   \n",
    "* 220의 진약수 : 1, 2, 4, 5, 10, 11, 20, 22, 44, 55, 110 & 1 + 2 + 4 + 5 + 10 + 11 + 20 + 22 + 44 + 55 + 110 = 284  \n",
    "* 284의 진약수 : 1, 2, 4, 71, 142 & 1 + 2 + 4 + 71 + 142 = 220   \n",
    "두 수를 입력받아 그 수가 친화수인지 여부를 반환하는 함수`amicable_nums()`를 정의하여라.   \n",
    "\n",
    "Input :  `amicable_nums(220, 284)`      \n",
    "Output : `220과 284는 친화수입니다.`   \n",
    "\n",
    "Input :  `amicable_nums(1184, 1210)`    \n",
    "Output : `1184과 1210는 친화수입니다.`  \n",
    "\n",
    "Input :  `amicable_nums(6230, 6368)`   \n",
    "Output : `6230과 6368는 친화수가 아닙니다.`  "
   ]
  },
  {
   "cell_type": "markdown",
   "id": "842c679a-3465-4f1d-a4f9-97a489cbacfa",
   "metadata": {},
   "source": [
    "### 문제  \n",
    "`iterable`의 모든 항목에 `function`을 적용한 후 그 결과를 돌려주는 이터레이터를 반환하는 `my_map(function, iterable)` 함수를 정의하여라.  "
   ]
  },
  {
   "cell_type": "markdown",
   "id": "8ee4b278-e386-4256-af92-ec75e896acc6",
   "metadata": {},
   "source": [
    "### 문제  \n",
    "단어우월효과<font size=\"2\">word superiority effect</font>란 문장 속에 단어가 비정상적인 순서로 배열되더라도 이를 정하확게 인지할 수 있는 현상을 말한다. 문자열을 인자로 받아 각 단어의 순서를 임의로 배열한 다음 반환하는 `word_superiority_effect()`함수를 정의하여라. 단, 각 단어의 첫 문자는 그 위치 그대로 둔다. \n",
    "\n",
    "Input : \n",
    "```\n",
    "words = '문장 속에 단어가 비정상적인 순서로 배열되더라도 이를 정확하게 인지할 수 있다'\n",
    "word_superiority_effect(words) \n",
    "```\n",
    "\n",
    "아래는 하나의 예시로, 임의로 배열했을 때 아래와 같지 않을 수 있다.   \n",
    "Output : `문장 속에 단가어 비상정적인 순로서 열배되더라도 이를 정하확게 인할지 수 있다` \n",
    "\n",
    "필요하다면, `random` 모듈의 `sample()` 함수를 사용한다. `sample(x, k)` 은 시퀀스`x`의 항목에서 `k`개를 중복없이 임의로 뽑아 리스트로 반환해주는 함수다. 예를 들어, 아래와 같이 코드를 작성하면, 문자열에서 각 문자를 중복없이 임의로 선택해 리스트로 만들어준다.      "
   ]
  },
  {
   "cell_type": "code",
   "execution_count": 37,
   "id": "fa080079-ba5f-4812-b720-d86c78a21f59",
   "metadata": {},
   "outputs": [],
   "source": [
    "import random"
   ]
  },
  {
   "cell_type": "code",
   "execution_count": 38,
   "id": "27fc28e8-4020-4386-80e8-3f7b6d1a578e",
   "metadata": {},
   "outputs": [
    {
     "name": "stdout",
     "output_type": "stream",
     "text": [
      "['c', 'b', 'a']\n",
      "['a', 'b', 'c']\n"
     ]
    }
   ],
   "source": [
    "a_word = 'abc'\n",
    "print(random.sample(a_word, len(a_word)))\n",
    "print(random.sample(a_word, len(a_word)))"
   ]
  },
  {
   "cell_type": "markdown",
   "id": "9819f3a7-bcd6-4cd2-a210-e5284fc060dc",
   "metadata": {},
   "source": [
    "### 문제  \n",
    "타겟들을 인자로 받아 주어진 문장에서 가장 많이 등장하는 타켓단어가 무엇이고, 몇 번 등장하는지를 반환하는 함수 `target_words()`를 정의하여라. 문제에서 말하는 타겟단어란 타겟(예, 단어 맨 뒤에 붙는 `은`, `는`, `이`, `가`, `을`, `를` 등의 조사) 중 하나가 붙어 있는 단어를 말한다. 주어진 문장은 `파이썬은 범용 프로그래밍 언어로 간결하고 쉬운 문법을 가지고 있다`로, 변경하고 싶다면 키워드 인자(예, `words =`)를 사용한다.    \n",
    "\n",
    "Input : `target_words('은')`    \n",
    "Output : `파이썬(1)`   \n",
    "\n",
    "Output의 순서는 중요하지 않다.  \n",
    "\n",
    "Input : `target_words('은', '로')`  \n",
    "Output : `파이썬(1) 언어(1)`  \n",
    "\n",
    "Input : \n",
    "```\n",
    "words = '눈 눈이 와요 눈 눈이 와요 눈이 와요 눈이 와요 창밖에도 눈이 와요'  \n",
    "target_words('이', words = words)  \n",
    "```\n",
    "Output : `눈(5)`  \n",
    "  \n",
    "Input :  \n",
    "```\n",
    "words = '고양이는 밥을 먹고 있고, 강아지는 잠을 자고 있다'\n",
    "target_words('는', words = words)   \n",
    "```  \n",
    "Output : `고양이(1) 강아지(1)`"
   ]
  },
  {
   "cell_type": "markdown",
   "id": "b2f32071-32e2-46b1-8b6d-9c1a943e27e6",
   "metadata": {},
   "source": [
    "### 문제  \n",
    "모듈 만들기"
   ]
  }
 ],
 "metadata": {
  "kernelspec": {
   "display_name": "Python 3 (ipykernel)",
   "language": "python",
   "name": "python3"
  },
  "language_info": {
   "codemirror_mode": {
    "name": "ipython",
    "version": 3
   },
   "file_extension": ".py",
   "mimetype": "text/x-python",
   "name": "python",
   "nbconvert_exporter": "python",
   "pygments_lexer": "ipython3",
   "version": "3.8.10"
  }
 },
 "nbformat": 4,
 "nbformat_minor": 5
}