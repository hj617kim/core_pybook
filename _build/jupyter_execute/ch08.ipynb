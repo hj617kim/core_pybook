{
 "cells": [
  {
   "cell_type": "markdown",
   "id": "4ef6fbd2-368f-4b94-978a-904cf8266c86",
   "metadata": {},
   "source": [
    "# 알고리즘"
   ]
  },
  {
   "cell_type": "markdown",
   "id": "2d69c13e-df24-4ebb-9f5a-33ec79b58848",
   "metadata": {},
   "source": [
    "## 알고리즘이란"
   ]
  },
  {
   "cell_type": "markdown",
   "id": "d8c07ea6-1a3d-46c0-bfe5-98ab204f1ff5",
   "metadata": {},
   "source": [
    "알고리즘<font size=\"2\">algorithm</font>이란 어떤 문제를 해결하기 위한 방법과 절차로, 주어진 문제를 해결하는 여러 종류의 알고리즘이 존재할 수 있다. 예를 들어, '두 자연수의 최대공약수 구하기'문제를 해결하는 알고리즘으로는 소인수분해를 이용하는 방법과 유클리드 호제법을 이용하는 방법등이 있다.    "
   ]
  },
  {
   "cell_type": "markdown",
   "id": "b8428fe5-b01c-4b51-8826-acc9ce5039ec",
   "metadata": {},
   "source": [
    "````{prf:example}\n",
    ":label: algorithm-example01  \n",
    "12와 20의 최대공약수를 구하여라.   \n",
    "````"
   ]
  },
  {
   "cell_type": "markdown",
   "id": "beb69ee0-4dbb-4f4b-83cb-4ef11e3b81b8",
   "metadata": {},
   "source": [
    "**소인수분해를 이용하는 방법**  \n",
    "$12$와 $20$을 각각 소인수분해하면 $12 = 2^2 \\times 3$, $20 = 2^2 \\times 5$이다. 따라서 $12$와 $20$의 최대공약수는 $2^2 = 4$이다. "
   ]
  },
  {
   "cell_type": "code",
   "execution_count": 1,
   "id": "053c5e22-f97b-4230-9eb5-d9d4be5241a3",
   "metadata": {},
   "outputs": [],
   "source": [
    "def find_prime_factors(num):\n",
    "    i = 2\n",
    "    p_factors = []\n",
    "    while i * i <= num:\n",
    "        if num % i == 0 :\n",
    "            p_factors.append(i)\n",
    "            num //= i\n",
    "        else :\n",
    "            i += 1\n",
    "    \n",
    "    if num > 1 :\n",
    "        p_factors.append(num)\n",
    "        \n",
    "    return p_factors\n",
    "\n",
    "# find_prime_factors(12)\n",
    "# find_prime_factors(20)\n",
    "\n",
    "def gcd_prime(m, n):\n",
    "    m_p_factors = find_prime_factors(m)\n",
    "    n_p_factors = find_prime_factors(n)\n",
    "    result = 1\n",
    "    \n",
    "    for i in m_p_factors:\n",
    "        if i in n_p_factors:\n",
    "            result *= i\n",
    "            n_p_factors.remove(i)\n",
    "            \n",
    "    return result"
   ]
  },
  {
   "cell_type": "code",
   "execution_count": 2,
   "id": "235d0118-148e-4f8b-ae70-6fb4fa9d331d",
   "metadata": {},
   "outputs": [
    {
     "data": {
      "text/plain": [
       "4"
      ]
     },
     "execution_count": 2,
     "metadata": {},
     "output_type": "execute_result"
    }
   ],
   "source": [
    "gcd_prime(12, 20)"
   ]
  },
  {
   "cell_type": "markdown",
   "id": "2b2788bb-8666-45fb-a9b1-9e5f02b6082a",
   "metadata": {},
   "source": [
    "**유클리드 호제법**  \n",
    "m과 n의 최대공약수를 구할 때, \n",
    "* m을 n으로 나눌 수 있으면 n이 최대공약수이다. \n",
    "* 그렇지 않으면, n과 m % n의 최대공약수가 원하는 최대공약수이다. \n",
    "\n",
    "예를 들어, \n",
    "* 12을 20으로 나눌 수 없다.  \n",
    "* 20과 12 % 20(= 12)의 최대공약수를 구한다. \n",
    "* 20을 12로 나눌 수 없다. \n",
    "* 12과 20 % 12(= 8)의 최대공약수를 구한다. \n",
    "* 12을 8로 나눌 수 없다. \n",
    "* 8과 12 % 8(= 4)의 최대공약수를 구한다. \n",
    "* 8을 4로 나눌 수 있으므로, 4가 최대공약수이다. "
   ]
  },
  {
   "cell_type": "code",
   "execution_count": 3,
   "id": "0c617373-6f20-4bb9-aa8c-6f9446b9cff5",
   "metadata": {},
   "outputs": [],
   "source": [
    "def gcd_Euclid(m, n):\n",
    "    while m % n != 0:\n",
    "        m, n = n, m % n\n",
    "    return n"
   ]
  },
  {
   "cell_type": "code",
   "execution_count": 4,
   "id": "66072325-f503-4df1-b9c9-7c1d931980fc",
   "metadata": {},
   "outputs": [
    {
     "data": {
      "text/plain": [
       "4"
      ]
     },
     "execution_count": 4,
     "metadata": {},
     "output_type": "execute_result"
    }
   ],
   "source": [
    "gcd_Euclid(12, 20)"
   ]
  },
  {
   "cell_type": "markdown",
   "id": "d3beab6c-135a-4bbb-9480-a40520ef5303",
   "metadata": {},
   "source": [
    "## 알고리즘 표현 방법"
   ]
  },
  {
   "cell_type": "markdown",
   "id": "b46591e6-a1a5-4b9d-ba23-daf5ffff9e1a",
   "metadata": {},
   "source": [
    "알고리즘을 표현하기 위해 자연어<font size=\"2\">natural language</font>나 의사코드<font size=\"2\">pseudo-code</font>를 사용할 수 있다.  \n",
    "\n",
    "* 자연어 : 한글 또는 영어  \n",
    "    * 복잡한 알고리즘 설명과 전달이 어렵다. \n",
    "    * 실제로 구현하기 어렵다. \n",
    "    \n",
    "* 의사코드 : 실제 프로그래밍 언어와 유사한 언어로 작성된 코드\n",
    "    * 알고리즘을 표현하는 가장 간단한 방법이다. \n",
    "    * 자연어 사용의 단점을 해결한다. \n",
    "    * 직접 실행할 수 없다. \n",
    "    \n",
    "반면, 파이썬은 자연어와 유사할 정도로 간결하고 쉬운 문법을 가지고 있어 의사코드 수준으로 작성가능하며, 코드 작성 후 실행 가능하다.  "
   ]
  },
  {
   "cell_type": "markdown",
   "id": "b2d3c7bd-72fa-4ed4-86cf-9274613c8208",
   "metadata": {},
   "source": [
    "예를 들어, '자연수 n을 인자로 받아, n이 짝수면 True 아니면 False를 반환하는 함수 `is_even()`을 정의하여라'라는 문제의 알고리즘을 자연어, 의사코드, 파이썬 코드로 나타내면 다음과 같다.  \n",
    "\n",
    "[**자연어** 예시]\n",
    "```\n",
    "함수명이 is_even인 함수를 정의한다. 매개변수는 n으로 둔다. \n",
    "n을 2로 나눌 수 있는지를 확인한다. 그리고 나눌 수 있다면 True를 반환하고, 그렇지 않으면 False를 반환한다.   \n",
    "```\n",
    "  \n",
    "    \n",
    "[**의사코드** 예시]\n",
    "```\n",
    "함수 is_even(n)\n",
    "    if n를 2로 나눌 수 있다면\n",
    "        result = True\n",
    "    else\n",
    "        result = False\n",
    "    return result\n",
    "```\n",
    "  \n",
    "[**파이썬 코드** 예시]\n",
    "```\n",
    "def is_even(n) :\n",
    "    if n % 2 == 0 :\n",
    "        result = True\n",
    "    else :\n",
    "        result = False\n",
    "    return result\n",
    "```\n"
   ]
  },
  {
   "cell_type": "markdown",
   "id": "df4494c1-c09a-43d8-81b8-94170e7486e0",
   "metadata": {},
   "source": [
    "## 알고리즘 분석"
   ]
  },
  {
   "cell_type": "markdown",
   "id": "34f29205-c1da-499e-a379-14398ce32c2b",
   "metadata": {},
   "source": [
    "알고리즘 분석<font size=\"2\">analysis of algorithms</font>은 알고리즘을 실행하는 데 필요한 **컴퓨팅 자원**<font size=\"2\">computing resources</font>의 양을 측정한다. \n",
    "\n",
    "**컴퓨팅 자원**  \n",
    "컴퓨팅 자원이 의미하는 바는 크게 두 가지이다.  \n",
    "* 공간량\n",
    "    * 알고리즘이 문제를 해결하는 데 필요한 메모리, 하드 디스크 등의 공간<font size=\"2\">space</font> \n",
    "    * 알고리즘을 구현한 프로그램의 실행 중에 필요한 공간의 양  \n",
    "    * 입력값의 크기에 의존\n",
    "    \n",
    "* 실행시간\n",
    "    * 알고리즘이 문제를 해결하는 데 걸리는 시간\n",
    "    * 알고리즘을 구현한 프로그램이 특정 결과를 반환할 때까지 걸리는 시간\n",
    "    * 입력값의 크기에 의존 \n",
    "    \n",
    "여기서는 알고리즘 실행에 필요한 공간량에 대해서는 거의 다루지 않고 대신 실행시간에 대한 이야기에 집중한다.  \n",
    "\n",
    "파이썬 프로그램의 실행시간을 측정하는 가장 간단한 방법은 `time`모듈의 `time()`함수를 이용하는 것이다. `time()`함수는 실행될 때마다 과거 특정 시간부터 측정한 초 단위의 숫자를 출력한다. 따라서 실행을 시작할 때, 종료할 때 두 번 측정 결과의 차이가 실행시간이 된다. 또 다른 방법은 `timeit` 모듈의 `Timer`클래스를 활용하는 것이다. 이를 사용하면 측정해야 할 코드 앞뒤에 `time()`함수를 추가하지 않아도 된다.  \n",
    "\n",
    "* `Timer` 클래스\n",
    "    * 실행되어야 하는 명령문(`stmt`)과 실행환경(`setup`)을 지정하면서 객체 생성\n",
    "    * 예제 : 현재 코드가 작성되는 모듈(파일)의 `sum_of_n(100_000)`함수를 대상으로 할 때는 아래와 같이 코드를 작성한다.   \n",
    "    `Timer('sum_of_n(100_000)', 'from __main__ import sum_of_n')`\n",
    "\n",
    "* `timeit(number=100000000)` 메서드\n",
    "    * 지정된 명령문을 (기본값으로 지정된) 1억번을 실행하는 데 걸리는 시간 측정. 단위는 초.\n",
    "    * 여기서는 `number = 1000`을 사용하여 사용된 연산자들의 실행시간 비교\n",
    "    * 알고리즘의 실행시간은 실행 순간의 컴퓨터 상태에 영향을 받기에 여러 번 실행하여 누적시간을 측정함. 동일한 이유로 평균시간 측정은 별 의미없음."
   ]
  },
  {
   "cell_type": "markdown",
   "id": "c05482b5-faf5-4053-90c6-581f9fd1ac31",
   "metadata": {},
   "source": [
    "아래 코드는 1부터 n까지 자연수의 합을 계산하는 함수를 차례대로 더해가는 알고리즘으로 구현하여라.  "
   ]
  },
  {
   "cell_type": "code",
   "execution_count": 5,
   "id": "e5743d88-e660-415e-93f8-cb99abbb36fa",
   "metadata": {},
   "outputs": [],
   "source": [
    "from timeit import Timer"
   ]
  },
  {
   "cell_type": "code",
   "execution_count": 6,
   "id": "5a83546e-09cf-4c7c-831e-163e58c3d249",
   "metadata": {},
   "outputs": [],
   "source": [
    "def sum_of_n(n) : \n",
    "    the_sum = 0\n",
    "    for i in range(1, n + 1) :\n",
    "        the_sum += i\n",
    "    return the_sum"
   ]
  },
  {
   "cell_type": "markdown",
   "id": "09a491f6-5a38-432c-924c-499a2366beda",
   "metadata": {},
   "source": [
    "알고리즘의 실행시간은 입력값에 의존한다. 만까지의 합은 천까지의 합보다 10배정도 더 걸리고, 10만까지의 합은 만까지의 합보다 10배정도 더 걸린다. "
   ]
  },
  {
   "cell_type": "code",
   "execution_count": 7,
   "id": "af52d41e-ae36-4cfe-bd2b-9f4ab0257a11",
   "metadata": {},
   "outputs": [
    {
     "name": "stdout",
     "output_type": "stream",
     "text": [
      "0.02384349999999813\n"
     ]
    },
    {
     "name": "stdout",
     "output_type": "stream",
     "text": [
      "0.2395952000000534\n"
     ]
    },
    {
     "name": "stdout",
     "output_type": "stream",
     "text": [
      "2.6644692999999506\n"
     ]
    }
   ],
   "source": [
    "t1 = Timer('sum_of_n(1000)', 'from __main__ import sum_of_n')\n",
    "print(t1.timeit(number = 1000))\n",
    "\n",
    "t2 = Timer('sum_of_n(10_000)', 'from __main__ import sum_of_n')\n",
    "print(t2.timeit(number = 1000))\n",
    "\n",
    "t3 = Timer('sum_of_n(100_000)', 'from __main__ import sum_of_n')\n",
    "print(t3.timeit(number = 1000))"
   ]
  },
  {
   "cell_type": "code",
   "execution_count": 8,
   "id": "ab8cfd9b-d754-4aa0-8319-7885122d098e",
   "metadata": {},
   "outputs": [],
   "source": [
    "def sum_of_n_2(n) :\n",
    "    the_sum = (n * (n + 1)) / 2\n",
    "    return the_sum"
   ]
  },
  {
   "cell_type": "markdown",
   "id": "979f8b58-6133-420b-8a47-1927c7103b77",
   "metadata": {},
   "source": [
    "반면에 `sum_of_n_2()`함수의 실행시간은 입력값에 의존하지 않는 것으로 보인다. "
   ]
  },
  {
   "cell_type": "code",
   "execution_count": 9,
   "id": "30fb9613-a983-434c-b4dd-fffc0107be05",
   "metadata": {},
   "outputs": [
    {
     "name": "stdout",
     "output_type": "stream",
     "text": [
      "6.810000002133165e-05\n",
      "0.00013139999998657004\n",
      "0.0001522000000022672\n"
     ]
    }
   ],
   "source": [
    "time1 = Timer('sum_of_n_2(1000)', 'from __main__ import sum_of_n_2')\n",
    "print(time1.timeit(number = 1000))\n",
    "\n",
    "time2 = Timer('sum_of_n_2(10_000)', 'from __main__ import sum_of_n_2')\n",
    "print(time2.timeit(number = 1000))\n",
    "\n",
    "time3 = Timer('sum_of_n_2(100_000)', 'from __main__ import sum_of_n_2')\n",
    "print(time3.timeit(number = 1000))"
   ]
  },
  {
   "cell_type": "markdown",
   "id": "72a9f114-a0f6-4451-a498-17cef174346b",
   "metadata": {},
   "source": [
    "또한 계산 시간이 이전 함수보다 훨씬 빠르다. 아마도 이전 함수에서 사용된 반복 알고리즘이 보다 많은 시간을 요구하며, 반복 횟수에 따라 실행시간이 비례해서 늘어나는 것으로 보인다. 즉, 실행시간이 함수의 입력값에 선형적으로 의존한다.   \n",
    "\n",
    "그런데 한 가지 문제가 있다. 프로그램 실행시간은 실행에 사용되는 컴퓨터, 실행환경, 컴파일러, 프로그래밍 언어 등등에 의존하기 때문에 앞서 보여진 실행시간을 절대적인 기준으로 삼을 수 없다. 따라서 이런 요소들로부터 독립적인 평가 기준을 마련해야 한다.  "
   ]
  },
  {
   "cell_type": "markdown",
   "id": "107a8e62-a169-4cde-b445-ca6e790b4ecd",
   "metadata": {},
   "source": [
    "## Big-O 표기법"
   ]
  },
  {
   "cell_type": "markdown",
   "id": "c739c328-0047-470c-a02b-76af9d376852",
   "metadata": {},
   "source": [
    "### 기본 계산단위"
   ]
  },
  {
   "cell_type": "markdown",
   "id": "f6239977-f8c7-4864-b5a7-8e77bd554b90",
   "metadata": {},
   "source": [
    "사용하는 컴퓨터 또는 프로그램에 의존하지 않으면서 알고리즘의 효율성을 실행시간을 이용하여 측정하려면 특정 연산자 또는 특정 명령문 등과 같은 **기본 계산단위**<font size=\"2\">basic unit of computation</font>의 실행 횟수를 확인하면 된다. 무엇을 기본 계산단위로 지정할 것인가 하는 문제는 사용되는 알고리즘에 따라 다르며, 경우에 따라 간단하지 않을 수 있다. 예를 들어, 앞에서 살펴본 `sum_of_n()` 함수의 경우에는 '변수 할당'을 기본 계산단위로 사용할 수 있다.   \n",
    "\n",
    "```\n",
    "def sum_of_n(n) : \n",
    "    the_sum = 0                  # 한 번 할당\n",
    "    for i in range(1, n + 1) :\n",
    "        the_sum += i             # n 번 할당\n",
    "    return the_sum\n",
    "```"
   ]
  },
  {
   "cell_type": "markdown",
   "id": "c6efd008-2428-401d-8f0a-fb975248e16e",
   "metadata": {},
   "source": [
    "### 시간복잡도와 입력 크기"
   ]
  },
  {
   "cell_type": "markdown",
   "id": "8f7d99be-fe37-4645-b955-a2d6b6c6f85e",
   "metadata": {},
   "source": [
    "`sum_of_n()` 함수를 입력값 $n$과 함께 실행하면 총 $n + 1$번 할당이 이루어지며, 이를 아래와 같이 나타낸다.  \n",
    "\n",
    "$$T(n) = n + 1$$\n",
    "\n",
    "함수 $T()$은 **'크기가 $n$인 입력값에 대해 $T(n)$의 시간이 지나면 반환값을 계산하고 종료한다'** 는 의미를 갖는 **시간복잡도**<font size=\"2\">time complexity</font>함수이다. 또한 $n$은 **입력 크기**<font size=\"2\">size</font>를 나타낸다.   \n",
    "\n",
    "따라서 `sum_of_n()` 함수의 시간복잡도 $T(n) = n + 1$이 의미하는 바는 다음과 같다.   \n",
    "\n",
    "> $T(n)$은 입력 크기가 $n$인 문제를 해결하는 데에 필요한 시간이 $n + 1$이다. "
   ]
  },
  {
   "cell_type": "markdown",
   "id": "ed54fda5-370d-4588-930b-1ce91d485294",
   "metadata": {},
   "source": [
    ":::{admonition} 주의   \n",
    ":class: caution  \n",
    "입력 크기(예, $T(n)$의 $n$)와 입력 값 자체(예, `sum_of_n(n)`의 `n`)는 일반적으로 서로 다른다. 위의 예제에서는 우연히 같았을 뿐이다.  \n",
    ":::\n"
   ]
  },
  {
   "cell_type": "markdown",
   "id": "20dd26ee-80d9-4ed9-a0f2-ed92f48c3ce7",
   "metadata": {},
   "source": [
    "### 알고리즘과 시간복잡도"
   ]
  },
  {
   "cell_type": "markdown",
   "id": "9f9fe941-98d7-4096-a78e-9d13229c8ec1",
   "metadata": {},
   "source": [
    "1부터 n까지 자연수의 합을 반복문을 이용하여 구하면 입력 크기가 클 수록 실행시간도 그에 비례하여 오래 걸린다. 즉, 실행시간이 입력 크기에 의존한다. 반면에 아래에서 사용된 알고리즘은 1번 변수 할당을 사용하였다.  \n",
    "\n",
    "```\n",
    "def sum_of_n_2(n) :\n",
    "    the_sum = (n * (n + 1)) / 2   #한 번 할당\n",
    "    return the_sum\n",
    "```\n",
    "\n",
    "실제로 위 프로그램의 실행시간과 입력 크기 사이의 관계는 $T(n) = 1$이다. 이런 의미에서 **알고리즘을 구현한 프로그램의 실행시간이 입력 크기에 어떻게 의존하는가**를 살펴보는 일은 매우 중요하다. "
   ]
  },
  {
   "cell_type": "markdown",
   "id": "241b92d5-da72-46ee-a452-c5f79596a8b5",
   "metadata": {},
   "source": [
    ":::{admonition} 참고    \n",
    ":class: info    \n",
    "알고리즘의 시간복잡도는 입력 크기뿐만 아니라 알고리즘의 입력값 자체에 의존하기도 한다. 만약 시간복잡도가 입력 크기에만 의존하면, 그것을 **일정 시간복잡도**<font size=\"2\">every-case time complexity</font>라고 부른다.  \n",
    ":::\n"
   ]
  },
  {
   "cell_type": "markdown",
   "id": "27020c48-b924-4e9a-abc2-65acbda8691f",
   "metadata": {},
   "source": [
    "````{prf:example}\n",
    ":label: algorithm-example02    \n",
    "다음 `sum_list(li)` 함수의 일정 시간복잡도를 계산해보자. 이때, `li`는 길이가 n인 리스트이고, 기본 계산단위는 변수할당으로 한다.   \n",
    "```\n",
    "def sum_list(li) :   \n",
    "    ans = 0   \n",
    "    for i in li :   \n",
    "        ans = ans + i   \n",
    "    return ans   \n",
    "```\n",
    "````"
   ]
  },
  {
   "cell_type": "markdown",
   "id": "7909988d-cb6b-43aa-8ba8-9997bdce95d9",
   "metadata": {},
   "source": [
    "\n",
    "```\n",
    "def sum_list(li) :\n",
    "    ans = 0            # 1번 할당\n",
    "    for i in li :   \n",
    "        ans = ans + i  #리스트li의 길이가 n이므로, n번 할당 \n",
    "    return ans   \n",
    "```"
   ]
  },
  {
   "cell_type": "markdown",
   "id": "aec1e449-ff43-408a-994b-e3f32e6673d8",
   "metadata": {},
   "source": [
    "\n",
    "위의 주석으로 적은 것처럼, `sum_list()` 함수가 길이가 `n`인 리스트와 함께 호출되었을 때, 실행하는 변수 할당의 총 횟수 $T(n)$은 다음과 같다.  \n",
    "\n",
    "$$T(n) = n + 1$$  \n"
   ]
  },
  {
   "cell_type": "markdown",
   "id": "b6c5f6ae-25c3-4df5-b02c-5aaae4abf137",
   "metadata": {},
   "source": [
    "#### Big-O 표기법 "
   ]
  },
  {
   "cell_type": "markdown",
   "id": "966b7c18-b06c-46b0-a1dc-6b33cc51f6c2",
   "metadata": {},
   "source": [
    "입력 크기에 의존하는 실행시간 함수 $T(n)$의 정의에 사용되는 수식을 분석할 때, 수식에 사용되는 모든 항을 다룰 필요가 없다. 예를 들어, $T(n) = n + 1$에서 $n$이 커질 수록 1은 별로 중요하지 않다. 즉, $n$이 충분히 클 때, $T(n) \\approx n$이 성립한다. 이를 **Big-O 표기법**으로 나타내면 다음과 같다.   \n",
    "\n",
    "$$T(n) \\in O(n)$$"
   ]
  },
  {
   "cell_type": "markdown",
   "id": "cde3a848-4668-4a79-bc5e-e04816eb96c2",
   "metadata": {},
   "source": [
    "실행시간 함수 $T(n)$을 Big-O 표기법으로 나타내려면 앞서 설명한 것처럼 실행시간 계산에 있어서 입력 크기 $n$이 매우 커질 때 가장 중요한 역할을 수행하는 항<font size=\"2\">term</font>을 찾아야 한다. 예를 들어, 그 항이 $f(n)$이라면 아래처럼 표기할 수 있다.  \n",
    "\n",
    "$$T(n) \\in O(f(n))$$  \n",
    "\n",
    "이때 상수 배수는 무시된다. "
   ]
  },
  {
   "cell_type": "markdown",
   "id": "2991fe7b-8648-40f2-8e2b-8d1b9fcecca6",
   "metadata": {},
   "source": [
    "````{prf:example}\n",
    ":label: algorithm-example03    \n",
    "\n",
    "다음과 같은 시간복잡도 함수가 있다. 이를 Big-O 표기법으로 나타내어라. \n",
    "$T(n) = 3n^2 + 2n + 4$ \n",
    "\n",
    "````"
   ]
  },
  {
   "cell_type": "markdown",
   "id": "6e3f0cc2-fefb-4e25-aa93-c2ad684d74ce",
   "metadata": {},
   "source": [
    "$3n^2 + 2n + 4$에서 $n$이 커질 때 $3n^2$이 주도적 역할을 수행한다. 여기서 상수 배수를 무시하면 $T(n) \\in O(n^2)$이다. "
   ]
  },
  {
   "cell_type": "markdown",
   "id": "74a1a2dd-edc7-4777-b5f1-ecccf0a7ce63",
   "metadata": {},
   "source": [
    "````{prf:example}\n",
    ":label: algorithm-example04    \n",
    "\n",
    "다음과 같은 시간복잡도 함수가 있다. 이를 Big-O 표기법으로 나타내어라. \n",
    "$T(n) = \\frac{1}{1000} n log n + 3n + 205$ \n",
    "\n",
    "````"
   ]
  },
  {
   "cell_type": "markdown",
   "id": "df800c21-9b3d-4e78-8ea5-04e488fe9322",
   "metadata": {},
   "source": [
    "$\\frac{1}{1000} n \\log n + 3n + 205$에서 $n$이 커질 때 $\\frac{1}{1000} n \\log n$이 주도적 역할을 수행한다. 여기서 상수 배수를 무시하면 $T(n) \\in O(n \\log n)$이다. "
   ]
  },
  {
   "cell_type": "markdown",
   "id": "eb157ba1-88a5-43bd-852b-e63320adae5d",
   "metadata": {},
   "source": [
    "````{prf:example}\n",
    ":label: algorithm-example05    \n",
    "\n",
    "다음과 같은 시간복잡도 함수가 있다. 이를 Big-O 표기법으로 나타내어라. \n",
    "$T(n) = c$, $c$는 상수 \n",
    "\n",
    "````"
   ]
  },
  {
   "cell_type": "markdown",
   "id": "07b66652-31a8-47ed-81f2-e299529825e4",
   "metadata": {},
   "source": [
    "시간복잡도가 입력 크기에 전혀 의존하지 않을 때 시간복잡도는 1이라고 말한다. 시간복잡도를 따질 때 상수 배는 무시되기 때문이다. 따라서 $T(n) \\in O(1)$이다. "
   ]
  },
  {
   "cell_type": "markdown",
   "id": "28589971-9696-45ce-858f-d9769ed91d53",
   "metadata": {},
   "source": [
    "#### 주요 시간복잡도  \n",
    "\n",
    "알고리즘 분석에 많이 사용되는 시간복잡도는 아래와 같다. 아래 표에서 위쪽에 있을 수록 더 빠르다. \n",
    "\n",
    "|Big-O 표기법| 의미|\n",
    "|-----------|-----|\n",
    "|O($1$)|상수 시간|\n",
    "|O($\\log n$)|로그 시간|\n",
    "|O($n$)|선형 시간|\n",
    "|O($n \\log n$)|로그선형 시간|\n",
    "|O($n^2$)|2차 시간|\n",
    "|O($n^3$)|3차 시간|\n",
    "|O($2^n$)|지수 시간|\n",
    "|O($n!$)|계승 시간|"
   ]
  }
 ],
 "metadata": {
  "kernelspec": {
   "display_name": "Python 3 (ipykernel)",
   "language": "python",
   "name": "python3"
  },
  "language_info": {
   "codemirror_mode": {
    "name": "ipython",
    "version": 3
   },
   "file_extension": ".py",
   "mimetype": "text/x-python",
   "name": "python",
   "nbconvert_exporter": "python",
   "pygments_lexer": "ipython3",
   "version": "3.8.10"
  }
 },
 "nbformat": 4,
 "nbformat_minor": 5
}