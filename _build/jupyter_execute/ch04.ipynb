{
 "cells": [
  {
   "cell_type": "markdown",
   "id": "13ed346f-8b34-4336-8c5a-cb93717aa308",
   "metadata": {},
   "source": [
    "# 기초 II(모음 자료형)"
   ]
  },
  {
   "cell_type": "markdown",
   "id": "99066b3d-280c-430c-bdfd-6567b546d656",
   "metadata": {},
   "source": [
    "## 모음 자료형"
   ]
  },
  {
   "cell_type": "markdown",
   "id": "dd597377-dc39-482b-8e86-1b52897c5212",
   "metadata": {},
   "source": [
    "이번 장에서는 여러 개의 값을 묶어 하나의 값으로 다루는 기본 모음 자료형<font size = \"2\">Collection Data Types</font>에 대해서 살펴보자.  \n",
    "\n",
    "* 시퀀스형 <font size = \"2\">Sequence Tpyes</font>\n",
    "    * 불변 시퀀스 <font size = \"2\">Immutable Sequences</font>\n",
    "        * 문자열 <font size = \"2\">`str`</font>\n",
    "        * 튜플 <font size = \"2\">`tuple`</font> \n",
    "    * 가변 시퀀스 <font size = \"2\">Mutable Sequence</font>\n",
    "        * 리스트 <font size = \"2\">`list`</font>\n",
    "* 집합형 <font size = \"2\">Set Types</font>\n",
    "    * 집합 <font size = \"2\">`set`</font>  \n",
    "  \n",
    "* 매핑형 <font size = \"2\">Mapping Types</font>\n",
    "    * 사전 <font size = \"2\">`dict`</font>"
   ]
  },
  {
   "cell_type": "markdown",
   "id": "e4793c46-cf15-452f-83bd-abb5c011689f",
   "metadata": {},
   "source": [
    ":::{admonition} 불변자료형과 가변자료형  \n",
    ":class: info    \n",
    "한 번 정해지면 절대 변경이 불가능한 자료형을 불변<font size = \"2\">immutable</font> 자료형, 변경이 가능한 자료형을 가변<font size = \"2\">mutable</font> 자료형이라 부른다.   \n",
    "\n",
    "|자료형|불변/가변|\n",
    "|:----------:|:----------:|\n",
    "|정수 `int`|불변|\n",
    "|부동소수점 `float`|불변|\n",
    "|불리언 `bool`|불변|\n",
    "|문자열 `str`|불변|\n",
    "|리스트 `list`|가변|\n",
    "|튜플 `tuple`|불변|\n",
    "|집합 `set`|가변|\n",
    "|사전 `dict`|가변|  \n",
    "\n",
    ":::"
   ]
  },
  {
   "cell_type": "markdown",
   "id": "05e99b46-ec6f-40e9-9f8c-46358f1cba93",
   "metadata": {},
   "source": [
    "### 시퀀스형"
   ]
  },
  {
   "cell_type": "markdown",
   "id": "6409eda7-6a8c-4581-99f6-b5e040f6da1f",
   "metadata": {},
   "source": [
    "시퀀스형 <font size = \"2\">Sequence Types 또는 순차 자료형</font>은 값들 사이에 순서를 가지고 있고, 항목의 중복 사용을 허용하는 모음 자료형이다. 예를 들어, 문자열 `str`, 리스트 `list`, 튜플 `tuple` 등이 시퀀스형이다.  "
   ]
  },
  {
   "cell_type": "markdown",
   "id": "a4422a33-c82a-4d09-abb5-baac208658f0",
   "metadata": {
    "tags": []
   },
   "source": [
    "#### 문자열 `str`"
   ]
  },
  {
   "cell_type": "markdown",
   "id": "202ee73b-a6e6-403f-b0bb-cc4cac43ca92",
   "metadata": {},
   "source": [
    "문자들을 나열한 값들을 일컫는 자료형으로 작은 따옴표(`'`) 또는 큰 따옴표(`\"`)를 사용한다. "
   ]
  },
  {
   "cell_type": "code",
   "execution_count": 1,
   "id": "289676ae-c620-4bd0-b10c-76e45a90dc1c",
   "metadata": {},
   "outputs": [
    {
     "data": {
      "text/plain": [
       "'Hello, Python!'"
      ]
     },
     "execution_count": 1,
     "metadata": {},
     "output_type": "execute_result"
    }
   ],
   "source": [
    "'Hello, Python!'"
   ]
  },
  {
   "cell_type": "code",
   "execution_count": 2,
   "id": "5858a441-eda8-4fe0-abe2-209f1e8e170f",
   "metadata": {},
   "outputs": [
    {
     "data": {
      "text/plain": [
       "'Hello, Python!'"
      ]
     },
     "execution_count": 2,
     "metadata": {},
     "output_type": "execute_result"
    }
   ],
   "source": [
    "\"Hello, Python!\""
   ]
  },
  {
   "cell_type": "markdown",
   "id": "882d59f2-875b-4a76-ad9c-0abdc52f7b8f",
   "metadata": {},
   "source": [
    "##### **빈 문자열**\n",
    "빈 문자열<font size = \"2\">empty string</font>은 아무것도 포함하지 않는 문자열을 의미한다. 빈 문자열을 만드는 방법은 아래와 같다. "
   ]
  },
  {
   "cell_type": "code",
   "execution_count": 3,
   "id": "0acb0fe7-59be-4b56-8e60-03c0071ba7eb",
   "metadata": {},
   "outputs": [
    {
     "data": {
      "text/plain": [
       "''"
      ]
     },
     "execution_count": 3,
     "metadata": {},
     "output_type": "execute_result"
    }
   ],
   "source": [
    "empty_str = '' # 또는 \"\"\n",
    "empty_str = str()\n",
    "empty_str"
   ]
  },
  {
   "cell_type": "markdown",
   "id": "316f5e40-f456-4bca-951f-f0d02ab153cd",
   "metadata": {},
   "source": [
    ":::{admonition} `''`과 `' '`의 차이  \n",
    ":class: info  \n",
    "`''`은 빈문자열로 어떠한 문자도 포함하고 있지 않다. 반면 `' '`은 눈에 보이지는 않지만 공백 문자 하나를 포함하는 문자열이다.\n",
    ":::"
   ]
  },
  {
   "cell_type": "markdown",
   "id": "6e8d53d3-81eb-446d-b4d6-1f7c82484699",
   "metadata": {},
   "source": [
    "##### **부분 문자열 여부 연산자** \n",
    "* `in` : 연산자 왼쪽에 있는 문자열이 오른쪽에 있는 문자열의 부분 문자열로 등장하는지 여부를 알려주는 논리 연산자\n",
    "* `not in` : 연산자 왼쪽에 있는 문자열이 오른쪽에 있는 문자열의 부분 문자열로 등장하지 않는지 여부를 알려주는 논리 연산자"
   ]
  },
  {
   "cell_type": "code",
   "execution_count": 4,
   "id": "089fbce8-65ff-4ea0-8ad3-a671758de90d",
   "metadata": {},
   "outputs": [
    {
     "data": {
      "text/plain": [
       "True"
      ]
     },
     "execution_count": 4,
     "metadata": {},
     "output_type": "execute_result"
    }
   ],
   "source": [
    "'app' in 'apple'"
   ]
  },
  {
   "cell_type": "code",
   "execution_count": 5,
   "id": "837c97f7-8f37-4813-9057-f5d21e6af336",
   "metadata": {},
   "outputs": [
    {
     "data": {
      "text/plain": [
       "False"
      ]
     },
     "execution_count": 5,
     "metadata": {},
     "output_type": "execute_result"
    }
   ],
   "source": [
    "'h' in 'banana' "
   ]
  },
  {
   "cell_type": "code",
   "execution_count": 6,
   "id": "47af3f0c-9ba7-426b-b313-5a9ae5582ae6",
   "metadata": {},
   "outputs": [
    {
     "data": {
      "text/plain": [
       "True"
      ]
     },
     "execution_count": 6,
     "metadata": {},
     "output_type": "execute_result"
    }
   ],
   "source": [
    "'a' not in 'coconut'"
   ]
  },
  {
   "cell_type": "markdown",
   "id": "afc68940-a4e2-42f5-92ea-a0adf8b2dc8e",
   "metadata": {},
   "source": [
    "##### `len()` 함수\n",
    "`len()`함수 : 문자열의 길이 확인"
   ]
  },
  {
   "cell_type": "code",
   "execution_count": 7,
   "id": "356e853e-8468-4f8d-8a85-139433dab0f1",
   "metadata": {},
   "outputs": [
    {
     "data": {
      "text/plain": [
       "5"
      ]
     },
     "execution_count": 7,
     "metadata": {},
     "output_type": "execute_result"
    }
   ],
   "source": [
    "len('apple')"
   ]
  },
  {
   "cell_type": "code",
   "execution_count": 8,
   "id": "bfd270c5-95ca-4ecb-8454-ec35c55fc52f",
   "metadata": {},
   "outputs": [
    {
     "data": {
      "text/plain": [
       "13"
      ]
     },
     "execution_count": 8,
     "metadata": {},
     "output_type": "execute_result"
    }
   ],
   "source": [
    "len('hello, world!')"
   ]
  },
  {
   "cell_type": "markdown",
   "id": "1dbd634c-9a36-4186-a281-07b7f6c3f9c2",
   "metadata": {},
   "source": [
    "##### 최대, 최소 함수  \n",
    "* `max()` 함수 : 최댓값 확인"
   ]
  },
  {
   "cell_type": "markdown",
   "id": "b10d95a6-5862-499e-a826-5bc553b06119",
   "metadata": {},
   "source": [
    ":::{admonition} 참고    \n",
    ":class: info   \n",
    "문자열은 사전식의 순서를 사용하며, 공백문자가 가장 작고, 영어 알파벳의 경우 대문자가 소문자보다 작다고 판단한다.\n",
    ":::"
   ]
  },
  {
   "cell_type": "code",
   "execution_count": 9,
   "id": "41ed947e-88a0-4501-aaa1-eb48b02a7424",
   "metadata": {},
   "outputs": [
    {
     "data": {
      "text/plain": [
       "'p'"
      ]
     },
     "execution_count": 9,
     "metadata": {},
     "output_type": "execute_result"
    }
   ],
   "source": [
    "max('apple')"
   ]
  },
  {
   "cell_type": "code",
   "execution_count": 10,
   "id": "97fb15b9-10eb-405c-8041-dda52235efd4",
   "metadata": {},
   "outputs": [
    {
     "data": {
      "text/plain": [
       "'r'"
      ]
     },
     "execution_count": 10,
     "metadata": {},
     "output_type": "execute_result"
    }
   ],
   "source": [
    "max('Hello, World!')"
   ]
  },
  {
   "cell_type": "markdown",
   "id": "e6a6a90f-ee95-40c0-ac28-946cc649b70a",
   "metadata": {},
   "source": [
    "* `min()` 함수 : 최솟값 확인"
   ]
  },
  {
   "cell_type": "code",
   "execution_count": 11,
   "id": "91c5d1f1-cadb-468b-9d3b-aa540e355e5d",
   "metadata": {},
   "outputs": [
    {
     "data": {
      "text/plain": [
       "'a'"
      ]
     },
     "execution_count": 11,
     "metadata": {},
     "output_type": "execute_result"
    }
   ],
   "source": [
    "min('banana')"
   ]
  },
  {
   "cell_type": "code",
   "execution_count": 12,
   "id": "2c73b8cb-7489-4295-a6ef-6a689d2a6420",
   "metadata": {},
   "outputs": [
    {
     "data": {
      "text/plain": [
       "' '"
      ]
     },
     "execution_count": 12,
     "metadata": {},
     "output_type": "execute_result"
    }
   ],
   "source": [
    "min('Hello, World!')"
   ]
  },
  {
   "cell_type": "markdown",
   "id": "a85e268b-49a7-4d42-9738-96c6d5e004fa",
   "metadata": {},
   "source": [
    "##### **인덱싱** "
   ]
  },
  {
   "cell_type": "markdown",
   "id": "9c38cc2c-8ab3-4a97-a414-e63a1ada4305",
   "metadata": {},
   "source": [
    "문자열에 사용되는 모든 문자는 인덱스<font size = \"2\">index</font>라는 고유한 번호를 갖는다. \n",
    "\n",
    "* 인덱스는 0부터 시작하며, 오른쪽으로 한 문자씩 이동할 때마다 증가한다.  \n",
    "\n",
    "문자열의 특정 문자를 가져오고 싶을 때는 인덱싱<font size = \"2\">Indexing</font>을 사용한다. 인덱싱은 다음과 같이 실행한다. \n",
    "\n",
    "```python\n",
    "문자열변수명[인덱스]\n",
    "```\n",
    "\n",
    "* 특정 인덱스 값의 문자 정보를 확인할 때는 대괄호(`[]`)를 사용한다. "
   ]
  },
  {
   "cell_type": "code",
   "execution_count": 13,
   "id": "e256b856-af80-42d6-a0ce-2d9d787a7e05",
   "metadata": {},
   "outputs": [
    {
     "name": "stdout",
     "output_type": "stream",
     "text": [
      "r\n",
      "b\n"
     ]
    }
   ],
   "source": [
    "colors = 'red, blue, yellow'\n",
    "print(colors[0]) #0번 인덱스 값\n",
    "print(colors[5]) #3번 인덱스 값"
   ]
  },
  {
   "cell_type": "markdown",
   "id": "7559128f-c98c-4939-b02f-d1e8a2d0a2c7",
   "metadata": {},
   "source": [
    ":::{admonition} 주의  \n",
    ":class: caution  \n",
    "\n",
    "문자열의 길이와 같거나 큰 인덱스를 사용하면 오류가 발생한다. \n",
    "```python\n",
    ">>> len(colors)\n",
    "17\n",
    ">>> colors[50]\n",
    "IndexError                                Traceback (most recent call last)\n",
    "/tmp/ipykernel_1817/3232567937.py in <module>\n",
    "----> 1 colors[50]\n",
    "\n",
    "IndexError: string index out of range\n",
    "```\n",
    ":::"
   ]
  },
  {
   "cell_type": "markdown",
   "id": "931036c1-1df6-406c-990d-7c23627730a2",
   "metadata": {},
   "source": [
    "* 인덱스 값으로 음의 정수를 사용할 수 있다. 파이썬에서는 -1을 마지막 문자의 인덱스로 사용하고, 왼쪽으로 한 문자씩 이동할 때마다 감소한다.  "
   ]
  },
  {
   "cell_type": "code",
   "execution_count": 14,
   "id": "7ac4b3da-194f-4540-9ed2-1ecd0b20bb4c",
   "metadata": {},
   "outputs": [
    {
     "data": {
      "text/plain": [
       "'w'"
      ]
     },
     "execution_count": 14,
     "metadata": {},
     "output_type": "execute_result"
    }
   ],
   "source": [
    "colors[-1]"
   ]
  },
  {
   "cell_type": "code",
   "execution_count": 15,
   "id": "279d307c-5d35-4ac2-ab78-374351634612",
   "metadata": {},
   "outputs": [
    {
     "data": {
      "text/plain": [
       "'o'"
      ]
     },
     "execution_count": 15,
     "metadata": {},
     "output_type": "execute_result"
    }
   ],
   "source": [
    "colors[-2]"
   ]
  },
  {
   "cell_type": "markdown",
   "id": "6ff7500f-0825-4ea7-8096-8c0072e7235e",
   "metadata": {
    "tags": []
   },
   "source": [
    "##### 슬라이싱 \n",
    "문자열의 하나의 문자가 아닌 특정 구간 및 부분을 가져올 때는 슬라이싱<font size = \"2\">Slicing</font>을 사용한다.   \n",
    "슬라이싱은 다음과 같이 실행한다.  \n",
    "* 시작인덱스 : 해당 인덱스부터 문자를 추출한다.   \n",
    "* 끝인덱스 : 해당 인덱스 전까지의 문자를 추출한다.   \n",
    "* 계단<font size = \"2\"></font> : 시작인덱스부터 몇 계단씩 건너뛰며 문자를 추출할지 결정한다. 예를 들어, 계단값이 2라면 하나 건너 추출한다.   \n",
    "\n",
    "```python\n",
    "문자열변수명[시작인덱스 : 끝인덱스 : 계단(step)]\n",
    "```  \n",
    "    "
   ]
  },
  {
   "cell_type": "code",
   "execution_count": 16,
   "id": "a8a02eab-a16d-4b62-a7f9-fd6675368f55",
   "metadata": {},
   "outputs": [],
   "source": [
    "colors = 'red, blue, yellow'"
   ]
  },
  {
   "cell_type": "markdown",
   "id": "23912c81-c71d-47c3-9aa2-573e8867f26f",
   "metadata": {},
   "source": [
    "`colors`에서 `red`를 추출하고 싶다면 다음과 같이 하면 된다. "
   ]
  },
  {
   "cell_type": "code",
   "execution_count": 17,
   "id": "38735b19-f6ae-4375-aa9c-8d5583ee6e6c",
   "metadata": {},
   "outputs": [
    {
     "data": {
      "text/plain": [
       "'red'"
      ]
     },
     "execution_count": 17,
     "metadata": {},
     "output_type": "execute_result"
    }
   ],
   "source": [
    "colors[0 : 3 : 1]"
   ]
  },
  {
   "cell_type": "markdown",
   "id": "e9235d41-72ce-469f-b71f-5f2ee9f12b93",
   "metadata": {},
   "source": [
    "`colors`에서 `b`부터 끝까지 하나씩 건너서 추출하려면 다음과 같이 하면 된다. "
   ]
  },
  {
   "cell_type": "code",
   "execution_count": 18,
   "id": "b9016767-c4b3-4f19-aa57-37f3baf0167e",
   "metadata": {},
   "outputs": [
    {
     "data": {
      "text/plain": [
       "'bu,ylo'"
      ]
     },
     "execution_count": 18,
     "metadata": {},
     "output_type": "execute_result"
    }
   ],
   "source": [
    "colors[5 : len(colors) : 2]"
   ]
  },
  {
   "cell_type": "markdown",
   "id": "d2500f09-12fe-407c-b396-09c94da53578",
   "metadata": {},
   "source": [
    "양의 정수와 음의 정수를 섞어서 인덱스로 사용할 수 있다."
   ]
  },
  {
   "cell_type": "code",
   "execution_count": 19,
   "id": "b0d3b26d-5f98-49e6-ae6f-f32d2b42875b",
   "metadata": {},
   "outputs": [
    {
     "data": {
      "text/plain": [
       "'bu,ylo'"
      ]
     },
     "execution_count": 19,
     "metadata": {},
     "output_type": "execute_result"
    }
   ],
   "source": [
    "colors[5 : -1 : 2]"
   ]
  },
  {
   "cell_type": "markdown",
   "id": "b7f8c0ba-3e3b-45c2-ad2c-9f911cb6aa8d",
   "metadata": {},
   "source": [
    "* 시작인덱스, 끝인덱스, 계단 각각의 인자는 경우에 따라 생략될 수도 있다. 그럴 때는 각각의 위치에 기본값<font size = \"2\">default</font>이 들어 있는 것으로 처리되며, 기본값은 다음과 같다.  \n",
    "    * `시작인덱스`의 기본값 : `0`  \n",
    "    * `끝인덱스`의 기본값 : 문자열의 길이  \n",
    "    * `계단`의 기본값 : `1`"
   ]
  },
  {
   "cell_type": "code",
   "execution_count": 20,
   "id": "c26ea62e-c1d2-46fa-b4c3-09cdf756b032",
   "metadata": {},
   "outputs": [
    {
     "data": {
      "text/plain": [
       "'red'"
      ]
     },
     "execution_count": 20,
     "metadata": {},
     "output_type": "execute_result"
    }
   ],
   "source": [
    "colors[ : 3 : ]"
   ]
  },
  {
   "cell_type": "code",
   "execution_count": 21,
   "id": "0ab0f20a-f247-4baf-8d55-d9bdf4024594",
   "metadata": {},
   "outputs": [
    {
     "data": {
      "text/plain": [
       "'red'"
      ]
     },
     "execution_count": 21,
     "metadata": {},
     "output_type": "execute_result"
    }
   ],
   "source": [
    "colors[ : 3] #계단을 생략할 떄는 콜론(:)도 함께 생략가능"
   ]
  },
  {
   "cell_type": "code",
   "execution_count": 22,
   "id": "80f73adf-2d2c-4d05-8c73-ec6a482c7335",
   "metadata": {},
   "outputs": [
    {
     "data": {
      "text/plain": [
       "'bu,ylo'"
      ]
     },
     "execution_count": 22,
     "metadata": {},
     "output_type": "execute_result"
    }
   ],
   "source": [
    "colors[5 : : 2]"
   ]
  },
  {
   "cell_type": "markdown",
   "id": "21eb4d4e-9c84-430a-87c9-b5694b60f2f8",
   "metadata": {},
   "source": [
    ":::{admonition} 참고  \n",
    ":class: info   \n",
    "슬라이싱은 기본적으로 작은 인덱스에서 큰 인덱스 방향으로 확인한다. 역순으로 추출하고자 한다면 계단<font size = \"2\">step</font>에 음의 정수를 사용하면 된다.   \n",
    "\n",
    "단, 계단이 `-1`일 때 시작인덱스와 끝인덱스를 생략하면 각각 `0`과 문자열의 길이가 들어 있는 것으로 처리되지 않고, 문자열을 역순으로 가져온다.  \n",
    "```python \n",
    ">>> colors[ : : -1]\n",
    "'wolley ,eulb ,der'\n",
    "```\n",
    ":::"
   ]
  },
  {
   "cell_type": "markdown",
   "id": "d12183aa-af4a-4207-9c4f-49b2419f75cc",
   "metadata": {},
   "source": [
    "##### 문자열 메서드 \n",
    "\n",
    "문자열 자료형에만 사용하는 함수들이 있다. 이와같이 특정 자료형에만 사용하는 함수들을 메서드<font size = \"2\">method</font>라 부른다.   \n",
    "\n",
    "메서드는 일반적인 함수들과는 달리, 특정 자료형의 값을 먼저 언급하고 바로 이어서 점(`.`)을 찍은 다음 호출한다.\n",
    "\n",
    "```python\n",
    "문자열변수명.메서드\n",
    "```"
   ]
  },
  {
   "cell_type": "markdown",
   "id": "f55db1e7-89f1-478d-bb9f-cc3e1d9ef4b0",
   "metadata": {},
   "source": [
    "문자열 자료형이 제공하는 주요 메서드는 아래 표와 같다. "
   ]
  },
  {
   "cell_type": "code",
   "execution_count": 23,
   "id": "2e6ed5aa-f433-4868-8ccc-df68ad2d4121",
   "metadata": {},
   "outputs": [
    {
     "data": {
      "text/plain": [
       "' My life is so cool, my life is so cool '"
      ]
     },
     "execution_count": 23,
     "metadata": {},
     "output_type": "execute_result"
    }
   ],
   "source": [
    "words = ' My life is so cool, my life is so cool '\n",
    "words"
   ]
  },
  {
   "cell_type": "markdown",
   "id": "79185a79-a39c-4306-9be3-ab280dc40e13",
   "metadata": {},
   "source": [
    "|메서드|설명|예시|실행결과|\n",
    "|:----------:|:----------:|:----------:|:----------:|\n",
    "|`str.count()`|지정된 문자열이 등장한 횟수 반환|`words.count('so')`|`2`|\n",
    "|`str.find()`|지정된 문자열이 처음 등장한 위치 반환. 지정된 문자열이 없다면 -1반환|`words.find('life')`|`4`|\n",
    "|`str.index()`|지정된 문자열이 처음 등장한 위치 반환. 지정된 문자열이 없다면 오류발생|`words.index('My')`|`1`|\n",
    "|`str.lower()`|문자열에 사용된 문자를 모두 소문자로 변환하여 반환|`words.lower()`|`' my life is so cool, my life is so cool '`|\n",
    "|`str.upper()`|문자열에 사용된 문자를 모두 대문자로 변환하여 반환|`words.upper()`|`' MY LIFE IS SO COOL, MY LIFE IS SO COOL '`|\n",
    "|`str.replace()`|하나의 문자열을 다른 문자열로 대체하여 반환|`words.replace('so ', '')`|`' My life is cool, my life is cool '`|\n",
    "|`str.lstrip()`|문자열 왼쪽에 지정된 문자열을 삭제하여 반환. 지정된 문자열이 없는 경우 왼쪽 공백들을 삭제하여 반환|`words.lstrip()`|`'My life is so cool, my life is so cool '`|\n",
    "|`str.rstrip()`|문자열 오른쪽에 지정된 문자열을 삭제하여 반환. 지정된 문자열이 없는 경우 오른쪽 공백들을 삭제하여 반환|`words.rstrip()`|`' My life is so cool, my life is so cool'`|\n",
    "|`str.strip()`|문자열 양쪽에 지정된 문자열을 삭제하여 반환. 지정된 문자열이 없는 경우 양쪽 공백들을 삭제하여 반환|`words.strip()`|`'My life is so cool, my life is so cool'`|\n",
    "|`str.split()`|지정된 문자열을 기준으로 쪼개진 문자열들의 리스트 반환. 지정된 문자열이 없는 경우 공백을 기준으로 쪼개진 문자열의 리스트 반환|`words.split()`|`['My', 'life', 'is', 'so', 'cool,', 'my', 'life', 'is', 'so', 'cool']`|\n",
    "|`str.join()`|지정된 문자열의 각각 문자 사이에 문자를 삽입하여 반환|`'-'.join('Hello')`|`'H-e-l-l-o'`|\n",
    "|`str.format()`|문자열 포매팅|`'My {} is so cool'.format('life')`|`'My life is so cool'`|"
   ]
  },
  {
   "cell_type": "markdown",
   "id": "6c5cce51-c29c-4e86-a8a5-ee0991f56750",
   "metadata": {},
   "source": [
    "#### 리스트 `list`"
   ]
  },
  {
   "cell_type": "markdown",
   "id": "096200ca-cea4-49d3-af8e-154aed4af5aa",
   "metadata": {},
   "source": [
    "리스트는 파이썬에서 사용할 수 있는 임의의 값들을 모아서 하나의 값으로 취급하는 자료형으로, 리스트의 형식은 다음과 같다. "
   ]
  },
  {
   "cell_type": "markdown",
   "id": "7ad6f80f-9dd0-4464-afd8-3cf090c7a5fe",
   "metadata": {},
   "source": [
    "`[항목1, 항목2, 항목3, ..., 항목n]`"
   ]
  },
  {
   "cell_type": "markdown",
   "id": "25fd9e5c-2e1e-4456-b156-95851adf30a2",
   "metadata": {},
   "source": [
    "대괄호(`[]`)를 사용하고, 각 항목은 콤마(`,`)로 구분한다. "
   ]
  },
  {
   "cell_type": "code",
   "execution_count": 24,
   "id": "67c56924-64ab-4ae6-bdb3-14b79bc698e0",
   "metadata": {},
   "outputs": [
    {
     "data": {
      "text/plain": [
       "[1, 2, 3, 4, 5]"
      ]
     },
     "execution_count": 24,
     "metadata": {},
     "output_type": "execute_result"
    }
   ],
   "source": [
    "[1, 2, 3, 4, 5]"
   ]
  },
  {
   "cell_type": "code",
   "execution_count": 25,
   "id": "7e221cc8-4207-49f9-b4da-ddea3c1a420e",
   "metadata": {},
   "outputs": [
    {
     "data": {
      "text/plain": [
       "['a', 'b', 'c']"
      ]
     },
     "execution_count": 25,
     "metadata": {},
     "output_type": "execute_result"
    }
   ],
   "source": [
    "['a', 'b', 'c']"
   ]
  },
  {
   "cell_type": "markdown",
   "id": "9c94ddba-5205-48f0-9e9e-dc5462b4fb97",
   "metadata": {},
   "source": [
    "리스트는 아래와 같은 방식으로 타입 힌트를 추가한다.  \n",
    "기본 자료형의 정의는 타이핑<font size = \"2\">typing</font> 모듈에 포함되어 있다. "
   ]
  },
  {
   "cell_type": "code",
   "execution_count": 26,
   "id": "f89d5374-bba2-4862-8dc4-f54b80ad58e3",
   "metadata": {},
   "outputs": [],
   "source": [
    "from typing import List\n",
    "a_list : List[int] = [5, 10, 15, 20]"
   ]
  },
  {
   "cell_type": "markdown",
   "id": "5d28ecca-f3a0-434e-8dd1-fe80856e821f",
   "metadata": {},
   "source": [
    "리스트는 아래와 같이 서로 다른 자료형의 항목들을 포함할 수 있지만 항목들이 모두 같은 자료형인 경우를 많이 사용한다. "
   ]
  },
  {
   "cell_type": "code",
   "execution_count": 27,
   "id": "8f1b2cf7-6e9a-4b6f-a2ed-ef5a79a4ea1d",
   "metadata": {},
   "outputs": [
    {
     "data": {
      "text/plain": [
       "[1, 2.3, 'abc', True, [1, 2], ('a', 'b')]"
      ]
     },
     "execution_count": 27,
     "metadata": {},
     "output_type": "execute_result"
    }
   ],
   "source": [
    "mixed_list = [1, 2.3, 'abc', True, [1, 2], ('a', 'b')]\n",
    "mixed_list"
   ]
  },
  {
   "cell_type": "markdown",
   "id": "7223c640-7890-4d53-ac32-16dfafcccfc9",
   "metadata": {},
   "source": [
    ":::{admonition} 참고   \n",
    ":class: info  \n",
    "\n",
    "리스트에 포함된 항목들 사이의 순서는 중요하다. 리스트 항목의 순서 또는 개수가 다르면 서로 다른 리스트로 처리된다.  \n",
    "\n",
    "```python \n",
    ">>> [1, 2] == [2, 1]\n",
    "False\n",
    ">>> [1] == [1, 1]\n",
    "False\n",
    "``` \n",
    ":::"
   ]
  },
  {
   "cell_type": "markdown",
   "id": "fb4310c9-35c0-4c8d-bf94-0a49a7b03830",
   "metadata": {},
   "source": [
    "##### 빈 리스트\n",
    "빈 리스트<font size = \"2\">empty list</font>는 아무것도 포함하지 않는 리스트를 의미한다. 빈 리스트를 만드는 방법은 아래와 같다. "
   ]
  },
  {
   "cell_type": "code",
   "execution_count": 28,
   "id": "dc38ee09-f283-4b41-9cb4-53f73051de57",
   "metadata": {},
   "outputs": [
    {
     "data": {
      "text/plain": [
       "[]"
      ]
     },
     "execution_count": 28,
     "metadata": {},
     "output_type": "execute_result"
    }
   ],
   "source": [
    "empty_list = []\n",
    "empty_list = list()\n",
    "empty_list"
   ]
  },
  {
   "cell_type": "markdown",
   "id": "358ec1c4-a6bc-4098-8080-b5bc17559253",
   "metadata": {},
   "source": [
    ":::{admonition} 주의  \n",
    ":class: caution  \n",
    "아래 `a_singleton`은 빈 리스트가 아니라 빈 리스트를 포함하는 리스트이다. \n",
    "\n",
    "```python\n",
    ">>> a_singleton = [[]]\n",
    ">>> print(a_singleton)\n",
    "[[]]\n",
    "```\n",
    ":::"
   ]
  },
  {
   "cell_type": "markdown",
   "id": "43058f96-649d-474e-824c-018a3a08a367",
   "metadata": {},
   "source": [
    ":::{admonition} 참고   \n",
    ":class: info  \n",
    "\n",
    "변수 `a`와 `b`에 각각 빈 리스트를 할당하면, 두 개는 서로 다르고 독립적이다.  \n",
    "반면 `c = a`라고 하면, `a`와 `c`는 동일하다. 예를 들어, `a`에 정수 `1`를 추가하면\n",
    "`c`에도 `1`이 추가된다. \n",
    "\n",
    "```python\n",
    ">>> a = []\n",
    ">>> b = []\n",
    ">>> c = a\n",
    ">>> a.append(1)\n",
    ">>> print(a)\n",
    "[1]\n",
    ">>> print(b)\n",
    "[]\n",
    ">>> print(c)\n",
    "[1]\n",
    "```\n",
    "\n",
    "<div align=\"center\">\n",
    "    <img src=\"https://raw.githubusercontent.com/hj617kim/core_pybook/master/images/ch04/list01.png\" style=\"width:400px;\">\n",
    "    <img src=\"https://raw.githubusercontent.com/hj617kim/core_pybook/master/images/ch04/list02.png\" style=\"width:400px;\">\n",
    "</div>\n",
    "\n",
    "아래와 같이 `a = c = []`라고 코드를 작성해도, `a`와 `c`는 동일하다. \n",
    "```python \n",
    ">>> a = c = []\n",
    ">>> print( a is c)\n",
    "True\n",
    "```\n",
    "\n",
    ":::"
   ]
  },
  {
   "cell_type": "markdown",
   "id": "c5984f75-6dbb-411d-90b8-56e5bb23b279",
   "metadata": {},
   "source": [
    "##### 항목 포함 여부 연산자 \n",
    "* `in` :  연산자 왼쪽에 있는 값이 오른쪽에 있는 리스트의 항목으로 등장하는지 여부를 알려주는 논리 연산자\n",
    "* `not in` : 연산자 왼쪽에 있는 값이 오른쪽에 있는 리스트의 항목으로 등장하지 않는지 여부를 알려주는 논리 연산자"
   ]
  },
  {
   "cell_type": "code",
   "execution_count": 29,
   "id": "1deda97c-fb46-46d7-aba3-8d2ef4366928",
   "metadata": {},
   "outputs": [
    {
     "data": {
      "text/plain": [
       "True"
      ]
     },
     "execution_count": 29,
     "metadata": {},
     "output_type": "execute_result"
    }
   ],
   "source": [
    "3 in [1, 2, 3, 4, 5]"
   ]
  },
  {
   "cell_type": "code",
   "execution_count": 30,
   "id": "342e2994-0594-49e3-8bcf-b6367c8acb09",
   "metadata": {},
   "outputs": [
    {
     "data": {
      "text/plain": [
       "False"
      ]
     },
     "execution_count": 30,
     "metadata": {},
     "output_type": "execute_result"
    }
   ],
   "source": [
    "'a' in [1, 2, 3, 4, 5]"
   ]
  },
  {
   "cell_type": "code",
   "execution_count": 31,
   "id": "93633e8d-fce5-4c41-a3eb-d7076a5e3565",
   "metadata": {},
   "outputs": [
    {
     "data": {
      "text/plain": [
       "True"
      ]
     },
     "execution_count": 31,
     "metadata": {},
     "output_type": "execute_result"
    }
   ],
   "source": [
    "'a' not in [1, 2, 3, 4, 5]"
   ]
  },
  {
   "cell_type": "markdown",
   "id": "3b3e6040-6600-42f4-830c-21cb27d5d2e2",
   "metadata": {
    "tags": []
   },
   "source": [
    "##### 리스트 연산  \n",
    "리스트는 사칙연산 중 덧셈과 곱셈 연산자를 사용할 수 있다. "
   ]
  },
  {
   "cell_type": "code",
   "execution_count": 32,
   "id": "8bb8e1a2-5f00-404c-923d-9d1bb5c51494",
   "metadata": {},
   "outputs": [
    {
     "data": {
      "text/plain": [
       "['a', 'b', 'b', 'c', 'd']"
      ]
     },
     "execution_count": 32,
     "metadata": {},
     "output_type": "execute_result"
    }
   ],
   "source": [
    "['a', 'b'] + ['b', 'c', 'd']"
   ]
  },
  {
   "cell_type": "code",
   "execution_count": 33,
   "id": "6e9bce64-bc93-40d8-8332-466cd7c40029",
   "metadata": {},
   "outputs": [
    {
     "data": {
      "text/plain": [
       "['a', 'b', 'a', 'b']"
      ]
     },
     "execution_count": 33,
     "metadata": {},
     "output_type": "execute_result"
    }
   ],
   "source": [
    "['a', 'b'] * 2"
   ]
  },
  {
   "cell_type": "markdown",
   "id": "ccfc9e11-018f-49d5-8971-ed9e888f7857",
   "metadata": {},
   "source": [
    "##### `len()`함수   \n",
    "`len()`함수 : 리스트의 길이 확인"
   ]
  },
  {
   "cell_type": "code",
   "execution_count": 34,
   "id": "32109fa0-6d57-4cc6-849e-8b29bcc9879a",
   "metadata": {},
   "outputs": [
    {
     "name": "stdout",
     "output_type": "stream",
     "text": [
      "4\n"
     ]
    }
   ],
   "source": [
    "a_list = [3, 15, 9, 12]\n",
    "print(len(a_list))"
   ]
  },
  {
   "cell_type": "markdown",
   "id": "5f239334-9c1c-4e79-8b3f-68b9a8e6498b",
   "metadata": {},
   "source": [
    "##### 최대, 최소 함수\n",
    "\n",
    "* `max()` 함수 : 최댓값 확인"
   ]
  },
  {
   "cell_type": "code",
   "execution_count": 35,
   "id": "fca42487-2264-44a9-95e3-b367ec7770d3",
   "metadata": {},
   "outputs": [
    {
     "data": {
      "text/plain": [
       "15"
      ]
     },
     "execution_count": 35,
     "metadata": {},
     "output_type": "execute_result"
    }
   ],
   "source": [
    "a_list = [3, 15, 9, 12]\n",
    "max(a_list)"
   ]
  },
  {
   "cell_type": "markdown",
   "id": "251e4efe-ac89-49ed-a2d6-529ff01b6dc8",
   "metadata": {},
   "source": [
    "* `min()` 함수 : 최솟값 확인"
   ]
  },
  {
   "cell_type": "code",
   "execution_count": 36,
   "id": "d18ce7af-dc09-4e82-830a-8bdacf22eafe",
   "metadata": {},
   "outputs": [
    {
     "data": {
      "text/plain": [
       "3"
      ]
     },
     "execution_count": 36,
     "metadata": {},
     "output_type": "execute_result"
    }
   ],
   "source": [
    "a_list = [3, 15, 9, 12]\n",
    "min(a_list)"
   ]
  },
  {
   "cell_type": "markdown",
   "id": "fcf82ff3-bf87-4f8d-81f9-76c6aea2fe57",
   "metadata": {},
   "source": [
    "##### 인덱싱과 슬라이싱 \n",
    "\n",
    "리스트도 문자열처럼 인덱싱<font size = \"2\">Indexing</font>과 슬라이싱이 가능하다. "
   ]
  },
  {
   "cell_type": "code",
   "execution_count": 37,
   "id": "8b4effdf-8818-424a-82f6-22c0f11ac538",
   "metadata": {},
   "outputs": [
    {
     "name": "stdout",
     "output_type": "stream",
     "text": [
      "3\n",
      "10\n",
      "[9, 7]\n"
     ]
    }
   ],
   "source": [
    "a_list = [3, 15, 9, 12, 7, 14, 10]\n",
    "print(a_list[0])\n",
    "print(a_list[-1])\n",
    "print(a_list[2:6:2])"
   ]
  },
  {
   "cell_type": "markdown",
   "id": "417dd776-6ad4-434a-9c7e-a8da7deaa533",
   "metadata": {},
   "source": [
    "리스트는 가변 자료형이라 값을 수정할 수 있다. 인덱싱과 슬라이싱을 사용하여 수정해보자.  "
   ]
  },
  {
   "cell_type": "code",
   "execution_count": 38,
   "id": "69e1483f-8bec-4518-a9bf-44c303d4008b",
   "metadata": {},
   "outputs": [],
   "source": [
    "a_list = [3, 15, 9, 12, 7, 14, 10]"
   ]
  },
  {
   "cell_type": "markdown",
   "id": "085ea9f9-29f5-487b-9998-68c54a230e6b",
   "metadata": {},
   "source": [
    "예를 들어, 인덱싱을 사용하여 `a_list[3]`을 `12`에서 `100`으로 변경할 수 있다. "
   ]
  },
  {
   "cell_type": "code",
   "execution_count": 39,
   "id": "12e0d701-06c7-4d78-9804-f0a4ff82a3db",
   "metadata": {},
   "outputs": [
    {
     "name": "stdout",
     "output_type": "stream",
     "text": [
      "[3, 15, 9, 12, 7, 14, 10]\n",
      "[3, 15, 9, 100, 7, 14, 10]\n"
     ]
    }
   ],
   "source": [
    "print(a_list)\n",
    "a_list[3] = 100\n",
    "print(a_list)"
   ]
  },
  {
   "cell_type": "markdown",
   "id": "5ea4d883-34c2-4263-a8fe-fa4ae0dff50d",
   "metadata": {},
   "source": [
    "이번에는 슬라이싱을 사용하여 2번 인덱스 값부터 5번 인덱스 값 전까지를 1과 11로 변경해보자. "
   ]
  },
  {
   "cell_type": "code",
   "execution_count": 40,
   "id": "3838eead-09d1-48bf-af64-b50951b7f8d9",
   "metadata": {},
   "outputs": [
    {
     "name": "stdout",
     "output_type": "stream",
     "text": [
      "[3, 15, 9, 100, 7, 14, 10]\n",
      "[3, 15, 1, 11, 14, 10]\n"
     ]
    }
   ],
   "source": [
    "print(a_list)\n",
    "a_list[2 : 5] = [1, 11]\n",
    "print(a_list)"
   ]
  },
  {
   "cell_type": "markdown",
   "id": "d02128b3-881b-4468-8654-619429c26006",
   "metadata": {},
   "source": [
    "`del` 명령어를 사용하여 리스트의 일부 또는 전체를 삭제할 수 있다. "
   ]
  },
  {
   "cell_type": "code",
   "execution_count": 41,
   "id": "c9100bcb-50e9-462c-8b4e-e5389a8a79fa",
   "metadata": {},
   "outputs": [
    {
     "name": "stdout",
     "output_type": "stream",
     "text": [
      "[3, 15, 1, 11, 14, 10]\n",
      "[15, 1, 11, 14, 10]\n"
     ]
    }
   ],
   "source": [
    "print(a_list)\n",
    "del a_list[0]\n",
    "print(a_list)"
   ]
  },
  {
   "cell_type": "markdown",
   "id": "28f74acc-90d9-4a18-ba8a-8ff81bca2465",
   "metadata": {},
   "source": [
    ":::{admonition} 주의  \n",
    ":class: caution  \n",
    "`del`은 매우 주의해서 사용해야 한다. 잘못하면 데이터 자체를 메모리에서 삭제시킬 수도 있다. \n",
    ":::"
   ]
  },
  {
   "cell_type": "markdown",
   "id": "0cc51e66-c90e-47f9-8d43-ccf49fa95e3e",
   "metadata": {},
   "source": [
    ":::{admonition} 주의  \n",
    ":class: caution  \n",
    "문자열은 불변 자료형이라 인덱싱과 슬라이싱을 사용하여 값을 변경할 수 없다.  \n",
    "```python\n",
    ">>> a_word = 'hello'\n",
    ">>> a_word[0] = 'H'\n",
    "TypeError                                 Traceback (most recent call last)\n",
    "/tmp/ipykernel_1817/217255829.py in <module>\n",
    "      1 a_word = 'hello'\n",
    "----> 2 a_word[0] = 'H'\n",
    "\n",
    "TypeError: 'str' object does not support item assignment\n",
    "```\n",
    ":::"
   ]
  },
  {
   "cell_type": "markdown",
   "id": "fc727cbd-911f-48ab-90d0-71f56bd4d122",
   "metadata": {},
   "source": [
    "##### 리스트 메서드 \n",
    "리스트 자료형이 제공하는 주요 메서드는 아래와 같다."
   ]
  },
  {
   "cell_type": "markdown",
   "id": "85600008-c8b2-44d3-9ed9-166cbb45062a",
   "metadata": {},
   "source": [
    "|메서드|설명|\n",
    "|:----------:|:----------:|\n",
    "|`list.append()`|리스트 끝에 항목 추가. 반환값은 `None`|\n",
    "|`list.extend()`|리스트를 연결하여 확장. 반환값은 `None`|\n",
    "|`list.insert()`|지정된 인덱스에 항목 추가. 반환값은 `None`|\n",
    "|`list.pop()`|지정된 인덱스의 항목 삭제 후 삭제된 값 반환. 지정된 인덱스가 없다면 마지막 항목 삭제 후 삭제된 값 반환|\n",
    "|`list.remove()`|지정된 항목이 처음으로 사용된 위치에서 삭제. 반환값은 `None`|\n",
    "|`list.sort()`|리스트의 항목을 크기 순으로 정렬. 반환값은 `None`|\n",
    "|`list.reverse()`|리스트의 항목들 순서 뒤집기. 반환값은 `None`|\n",
    "|`list.index()`|지정된 항목이 처음 위치한 인덱스 반환|\n",
    "|`list.count()`|지정된 항목이 등장한 횟수 반환|\n",
    "\n"
   ]
  },
  {
   "cell_type": "code",
   "execution_count": 42,
   "id": "e2602f21-ecc5-4bc1-835f-b017b54be96c",
   "metadata": {},
   "outputs": [],
   "source": [
    "food = ['banana', 'apple', 'coconut', 'apple']"
   ]
  },
  {
   "cell_type": "markdown",
   "id": "02675f0d-305a-4264-9daa-00d7df37dd23",
   "metadata": {},
   "source": [
    "* `append()`  : 리스트 끝에 항목 추가. 반환값은 `None`   \n",
    "\n",
    "예를 들어, `append()`메서드를 사용하여 리스트 `food` 끝에 `'durian'`을 추가해보자. `append()`메서드의 반환값은 `None`이다. "
   ]
  },
  {
   "cell_type": "code",
   "execution_count": 43,
   "id": "c96a80aa-b5ed-43ff-9c3a-d9134c1470d9",
   "metadata": {},
   "outputs": [
    {
     "name": "stdout",
     "output_type": "stream",
     "text": [
      "None\n"
     ]
    }
   ],
   "source": [
    "print(food.append('durian'))"
   ]
  },
  {
   "cell_type": "code",
   "execution_count": 44,
   "id": "c5b6c325-23ed-4bcd-9b8b-b33b0560e71b",
   "metadata": {},
   "outputs": [
    {
     "name": "stdout",
     "output_type": "stream",
     "text": [
      "['banana', 'apple', 'coconut', 'apple', 'durian']\n"
     ]
    }
   ],
   "source": [
    "print(food)"
   ]
  },
  {
   "cell_type": "markdown",
   "id": "1d579de0-7078-467c-8be3-d1ab0d4a6c1b",
   "metadata": {},
   "source": [
    "리스트 끝에 `eggplant`와 `fig`를 아래와 같이 추가해보자. "
   ]
  },
  {
   "cell_type": "code",
   "execution_count": 45,
   "id": "892c31ae-54e7-4bbf-899e-e71ad55877a0",
   "metadata": {},
   "outputs": [
    {
     "data": {
      "text/plain": [
       "['banana', 'apple', 'coconut', 'apple', 'durian', ['eggplant', 'fig']]"
      ]
     },
     "execution_count": 45,
     "metadata": {},
     "output_type": "execute_result"
    }
   ],
   "source": [
    "food.append(['eggplant', 'fig'])\n",
    "food"
   ]
  },
  {
   "cell_type": "markdown",
   "id": "f52aa9d8-d244-4066-9709-0c23d32432e6",
   "metadata": {},
   "source": [
    "그러면 `food` 리스트 끝에 두 개의 항목이 추가되는 것이 아니라 `['eggplant', 'fig']`리스트가 추가된 것을 볼 수 있다.  \n",
    "지금은 `del`을 사용하여 추가된 마지막 항목을 삭제한다. "
   ]
  },
  {
   "cell_type": "code",
   "execution_count": 46,
   "id": "e9539079-8431-42d3-a9ad-80a634c65a96",
   "metadata": {},
   "outputs": [],
   "source": [
    "del food[-1]"
   ]
  },
  {
   "cell_type": "markdown",
   "id": "cbf050ee-2182-438c-a9c0-af3137d84842",
   "metadata": {},
   "source": [
    "두 개의 항목을 리스트에 추가하고자 한다면 `append()` 메서드를 두 번 적용하거나 `extend()` 메서드를 사용하면 된다.  "
   ]
  },
  {
   "cell_type": "markdown",
   "id": "f3d5d996-a473-4d86-b668-777d603e0284",
   "metadata": {},
   "source": [
    "* `extend()` : 리스트를 연결하여 확장. 반환값은 `None`"
   ]
  },
  {
   "cell_type": "code",
   "execution_count": 47,
   "id": "345cb73b-bb27-4f32-a238-3cc82dd3b771",
   "metadata": {},
   "outputs": [
    {
     "data": {
      "text/plain": [
       "['banana', 'apple', 'coconut', 'apple', 'durian', 'eggplant', 'fig']"
      ]
     },
     "execution_count": 47,
     "metadata": {},
     "output_type": "execute_result"
    }
   ],
   "source": [
    "food.extend(['eggplant', 'fig'])\n",
    "food"
   ]
  },
  {
   "cell_type": "markdown",
   "id": "92d3cbee-0c01-4176-b4b8-016cfe21139b",
   "metadata": {},
   "source": [
    ":::{admonition} 참고   \n",
    ":class: info   \n",
    "두 개의 리스트를 덧셈 기호를 이용하여 확장할 수도 있지만, 원래의 리스트를 변경하는 것이 아니라 새로운 리스트를 생성한다.\n",
    ":::"
   ]
  },
  {
   "cell_type": "markdown",
   "id": "cf412870-6c2a-4829-bd0d-5d421cce5e60",
   "metadata": {},
   "source": [
    "* `insert()` : 지정된 인덱스에 항목 추가. 반환값은 `None`"
   ]
  },
  {
   "cell_type": "code",
   "execution_count": 48,
   "id": "3f84c768-2bea-46e2-9bb9-ead6e9faf362",
   "metadata": {},
   "outputs": [
    {
     "data": {
      "text/plain": [
       "['banana',\n",
       " 'blueberry',\n",
       " 'apple',\n",
       " 'coconut',\n",
       " 'apple',\n",
       " 'durian',\n",
       " 'eggplant',\n",
       " 'fig']"
      ]
     },
     "execution_count": 48,
     "metadata": {},
     "output_type": "execute_result"
    }
   ],
   "source": [
    "food.insert(1, 'blueberry')\n",
    "food"
   ]
  },
  {
   "cell_type": "markdown",
   "id": "fe649079-71ea-4b80-8c72-0cd3561d0b16",
   "metadata": {},
   "source": [
    "* `pop()` : 지정된 인덱스의 항목 삭제 후 삭제된 값 반환. 지정된 인덱스가 없다면 마지막 항목 삭제 후 삭제된 값 반환."
   ]
  },
  {
   "cell_type": "code",
   "execution_count": 49,
   "id": "f5419317-e790-4fa2-a091-da64eaf5b0d7",
   "metadata": {},
   "outputs": [
    {
     "data": {
      "text/plain": [
       "'fig'"
      ]
     },
     "execution_count": 49,
     "metadata": {},
     "output_type": "execute_result"
    }
   ],
   "source": [
    "food.pop()"
   ]
  },
  {
   "cell_type": "code",
   "execution_count": 50,
   "id": "f2a9a0a7-bcab-42d9-a371-0aeba82911f3",
   "metadata": {},
   "outputs": [
    {
     "data": {
      "text/plain": [
       "['banana', 'blueberry', 'apple', 'coconut', 'apple', 'durian', 'eggplant']"
      ]
     },
     "execution_count": 50,
     "metadata": {},
     "output_type": "execute_result"
    }
   ],
   "source": [
    "food"
   ]
  },
  {
   "cell_type": "code",
   "execution_count": 51,
   "id": "3ad5d44e-9b3d-4347-b1a9-e92e562984e4",
   "metadata": {},
   "outputs": [
    {
     "data": {
      "text/plain": [
       "'banana'"
      ]
     },
     "execution_count": 51,
     "metadata": {},
     "output_type": "execute_result"
    }
   ],
   "source": [
    "food.pop(0)"
   ]
  },
  {
   "cell_type": "code",
   "execution_count": 52,
   "id": "24f96301-da8e-489d-8522-b8ddb4ed1ede",
   "metadata": {},
   "outputs": [
    {
     "data": {
      "text/plain": [
       "['blueberry', 'apple', 'coconut', 'apple', 'durian', 'eggplant']"
      ]
     },
     "execution_count": 52,
     "metadata": {},
     "output_type": "execute_result"
    }
   ],
   "source": [
    "food"
   ]
  },
  {
   "cell_type": "markdown",
   "id": "e3722388-e3c2-4702-af2c-772ec90228b7",
   "metadata": {},
   "source": [
    "* `remove()` : 지정된 항목이 처음으로 사용된 위치에서 삭제. 반환값은 `None`"
   ]
  },
  {
   "cell_type": "code",
   "execution_count": 53,
   "id": "e0b40320-65d7-4fb3-adea-9a62bd7450f0",
   "metadata": {},
   "outputs": [
    {
     "data": {
      "text/plain": [
       "['blueberry', 'coconut', 'apple', 'durian', 'eggplant']"
      ]
     },
     "execution_count": 53,
     "metadata": {},
     "output_type": "execute_result"
    }
   ],
   "source": [
    "food.remove('apple')\n",
    "food"
   ]
  },
  {
   "cell_type": "markdown",
   "id": "672b9a26-8867-47e7-ad50-a300d3497c87",
   "metadata": {},
   "source": [
    "* `sort()` : 리스트의 항목을 크기 순으로 정렬. 반환값은 None  \n",
    "    * 숫자의 경우, 크기 순서대로\n",
    "    * 문자의 경우, 사전식으로"
   ]
  },
  {
   "cell_type": "code",
   "execution_count": 54,
   "id": "646f6256-1645-4d38-9420-5e383be63feb",
   "metadata": {},
   "outputs": [],
   "source": [
    "food.sort()"
   ]
  },
  {
   "cell_type": "code",
   "execution_count": 55,
   "id": "6c5514df-2e38-44c0-a695-e0d930242525",
   "metadata": {},
   "outputs": [
    {
     "data": {
      "text/plain": [
       "['apple', 'blueberry', 'coconut', 'durian', 'eggplant']"
      ]
     },
     "execution_count": 55,
     "metadata": {},
     "output_type": "execute_result"
    }
   ],
   "source": [
    "food"
   ]
  },
  {
   "cell_type": "markdown",
   "id": "05a6ffe0-e1b5-4867-84c4-36f2babfce0e",
   "metadata": {},
   "source": [
    "* `reverse()` : 리스트의 항목들 순서 뒤집기. 반환값은 None"
   ]
  },
  {
   "cell_type": "code",
   "execution_count": 56,
   "id": "89e8ff24-c305-483c-9572-7bbf80f5af5b",
   "metadata": {},
   "outputs": [],
   "source": [
    "food.reverse()"
   ]
  },
  {
   "cell_type": "code",
   "execution_count": 57,
   "id": "1fd8e551-2121-4d37-a2e9-86e142cde430",
   "metadata": {},
   "outputs": [
    {
     "data": {
      "text/plain": [
       "['eggplant', 'durian', 'coconut', 'blueberry', 'apple']"
      ]
     },
     "execution_count": 57,
     "metadata": {},
     "output_type": "execute_result"
    }
   ],
   "source": [
    "food"
   ]
  },
  {
   "cell_type": "markdown",
   "id": "8d9a241a-fd6a-4d03-a3a8-1b0c2555de8a",
   "metadata": {},
   "source": [
    "* `index()` : 지정된 항목이 처음 위치한 인덱스 반환."
   ]
  },
  {
   "cell_type": "code",
   "execution_count": 58,
   "id": "e1d3174a-de75-4af1-b3d3-057a43a4bf46",
   "metadata": {},
   "outputs": [
    {
     "data": {
      "text/plain": [
       "2"
      ]
     },
     "execution_count": 58,
     "metadata": {},
     "output_type": "execute_result"
    }
   ],
   "source": [
    "food.index('coconut')"
   ]
  },
  {
   "cell_type": "markdown",
   "id": "5a3597de-4ae3-4279-a122-df755161cb82",
   "metadata": {},
   "source": [
    "* `count()` : 지정된 항목이 등장한 횟수 반환"
   ]
  },
  {
   "cell_type": "code",
   "execution_count": 59,
   "id": "7510fe9b-99d1-451e-bd2b-ea7d01d2c94a",
   "metadata": {},
   "outputs": [
    {
     "data": {
      "text/plain": [
       "1"
      ]
     },
     "execution_count": 59,
     "metadata": {},
     "output_type": "execute_result"
    }
   ],
   "source": [
    "food.count('apple')"
   ]
  },
  {
   "cell_type": "markdown",
   "id": "6aff5820-dd1b-41ab-8ca1-24f8559efcf8",
   "metadata": {},
   "source": [
    "#### 튜플 `tuple`"
   ]
  },
  {
   "cell_type": "markdown",
   "id": "b08c7bcc-d0e5-4cd6-86fa-9ad9788affd7",
   "metadata": {},
   "source": [
    "튜플은 리스트와 거의 비슷하지만, 수정 불가능<font size = \"2\">immutable</font>하다는 점이 다르다. 튜플의 형식은 아래와 같다. "
   ]
  },
  {
   "cell_type": "markdown",
   "id": "58688b06-8c5a-4f8d-af6b-eb375509af60",
   "metadata": {},
   "source": [
    "`(항목1, 항목2, 항목3, ..., 항목n)`"
   ]
  },
  {
   "cell_type": "markdown",
   "id": "87f247bd-59b8-490e-833a-445328f11af6",
   "metadata": {},
   "source": [
    "소괄호(`()`)를 사용하고, 각 항목은 콤마(`,`)로 구분한다. "
   ]
  },
  {
   "cell_type": "code",
   "execution_count": 60,
   "id": "e8a85626-a3ce-411d-a92f-51edc46947fc",
   "metadata": {},
   "outputs": [
    {
     "data": {
      "text/plain": [
       "(1, 2, 3, 4, 5)"
      ]
     },
     "execution_count": 60,
     "metadata": {},
     "output_type": "execute_result"
    }
   ],
   "source": [
    "(1, 2, 3, 4, 5)"
   ]
  },
  {
   "cell_type": "code",
   "execution_count": 61,
   "id": "d948b423-6eac-4054-8bc8-c9f59c25e48c",
   "metadata": {},
   "outputs": [
    {
     "data": {
      "text/plain": [
       "('a', 'b', 'c', 'd')"
      ]
     },
     "execution_count": 61,
     "metadata": {},
     "output_type": "execute_result"
    }
   ],
   "source": [
    "('a','b', 'c', 'd')"
   ]
  },
  {
   "cell_type": "markdown",
   "id": "7504a49d-9bbf-408e-941a-fa201f5744f7",
   "metadata": {},
   "source": [
    ":::{admonition} 주의     \n",
    ":class: caution  \n",
    "\n",
    "항목이 하나인 튜플을 만들 때는 항목 뒤에 콤마(`,`)를 꼭 붙여줘야 한다. \n",
    "\n",
    "```python\n",
    ">>> tup1 = (3)\n",
    ">>> print(type(tup1))\n",
    "<class 'int'>\n",
    ">>> tup2 = (3, )\n",
    ">>> print(type(tup2))\n",
    "<class 'tuple'>\n",
    "```\n",
    ":::"
   ]
  },
  {
   "cell_type": "markdown",
   "id": "d3b7c90e-1d99-4f0c-9f36-0dafb13775da",
   "metadata": {},
   "source": [
    "튜플은 아래와 같은 방식으로 타입 힌트를 추가한다.  "
   ]
  },
  {
   "cell_type": "code",
   "execution_count": 62,
   "id": "e532ccdd-25c7-4576-a0a6-c993ee279842",
   "metadata": {},
   "outputs": [
    {
     "data": {
      "text/plain": [
       "(2022, 12345, '강현')"
      ]
     },
     "execution_count": 62,
     "metadata": {},
     "output_type": "execute_result"
    }
   ],
   "source": [
    "from typing import Tuple \n",
    "a_tuple : Tuple[int, int, str] = (2022, 12345, '강현')\n",
    "a_tuple"
   ]
  },
  {
   "cell_type": "markdown",
   "id": "82faff66-f146-48ed-940e-5a6450498ce5",
   "metadata": {},
   "source": [
    "튜플은 아래와 같이 서로 다른 자료형의 항목들을 포함할 수 있지만, 일반적으로 항목들이 모두 같은 자료형인 경우를 많이 사용한다. "
   ]
  },
  {
   "cell_type": "code",
   "execution_count": 63,
   "id": "0279923b-5861-40c8-a1d6-3de16feb2b0e",
   "metadata": {},
   "outputs": [
    {
     "data": {
      "text/plain": [
       "(1, 2.3, 'abc', False, ['ab', 'c'], (2, 4))"
      ]
     },
     "execution_count": 63,
     "metadata": {},
     "output_type": "execute_result"
    }
   ],
   "source": [
    "mixed_tuple = (1, 2.3, 'abc', False, ['ab', 'c'], (2, 4))\n",
    "mixed_tuple"
   ]
  },
  {
   "cell_type": "markdown",
   "id": "356e5b41-d849-4734-bf6a-082c231b2849",
   "metadata": {},
   "source": [
    "##### 빈 튜플\n",
    "빈 튜플<font size = \"2\">empty tuple</font>은 아무것도 포함하지 않는 튜플을 의미한다. 빈 튜플를 만드는 방법은 아래와 같다. "
   ]
  },
  {
   "cell_type": "code",
   "execution_count": 64,
   "id": "e5954c47-09a3-4edd-90cc-501c825510ed",
   "metadata": {},
   "outputs": [
    {
     "data": {
      "text/plain": [
       "()"
      ]
     },
     "execution_count": 64,
     "metadata": {},
     "output_type": "execute_result"
    }
   ],
   "source": [
    "empty_tuple = ()\n",
    "empty_tuple = tuple()\n",
    "empty_tuple"
   ]
  },
  {
   "cell_type": "markdown",
   "id": "4b3812b3-9b56-4635-b695-d4a65c41b74a",
   "metadata": {},
   "source": [
    "##### 항목 포함 여부 연산자 \n",
    "* `in` :  연산자 왼쪽에 있는 값이 오른쪽에 있는 튜플의 항목으로 등장하는지 여부를 알려주는 논리 연산자\n",
    "* `not in` : 연산자 왼쪽에 있는 값이 오른쪽에 있는 튜플의 항목으로 등장하지 않는지 여부를 알려주는 논리 연산자"
   ]
  },
  {
   "cell_type": "code",
   "execution_count": 65,
   "id": "b34d0a47-eab7-4414-a6b8-491fa8248ad3",
   "metadata": {},
   "outputs": [
    {
     "data": {
      "text/plain": [
       "False"
      ]
     },
     "execution_count": 65,
     "metadata": {},
     "output_type": "execute_result"
    }
   ],
   "source": [
    "'1' in ('a', 'bc', 'd', 'e')"
   ]
  },
  {
   "cell_type": "code",
   "execution_count": 66,
   "id": "3b57264e-5662-421c-a762-2e0c451f3ca6",
   "metadata": {},
   "outputs": [
    {
     "data": {
      "text/plain": [
       "True"
      ]
     },
     "execution_count": 66,
     "metadata": {},
     "output_type": "execute_result"
    }
   ],
   "source": [
    "'d' in ('a', 'bc', 'd', 'e')"
   ]
  },
  {
   "cell_type": "code",
   "execution_count": 67,
   "id": "b976cc80-1313-4ad5-861a-1278f54bc546",
   "metadata": {},
   "outputs": [
    {
     "data": {
      "text/plain": [
       "True"
      ]
     },
     "execution_count": 67,
     "metadata": {},
     "output_type": "execute_result"
    }
   ],
   "source": [
    "'f' not in ('a', 'bc', 'd', 'e')"
   ]
  },
  {
   "cell_type": "markdown",
   "id": "91de2f74-5173-436c-b546-6f4c7931687e",
   "metadata": {
    "tags": []
   },
   "source": [
    "##### 튜플 연산  \n",
    "튜플은 사칙연산 중 덧셈과 곱셈 연산자를 사용할 수 있다. "
   ]
  },
  {
   "cell_type": "code",
   "execution_count": 68,
   "id": "24f059fa-f66f-456f-b1cd-4b9560b51075",
   "metadata": {},
   "outputs": [
    {
     "data": {
      "text/plain": [
       "('a', 'b', 'b', 'c', 'd')"
      ]
     },
     "execution_count": 68,
     "metadata": {},
     "output_type": "execute_result"
    }
   ],
   "source": [
    "('a', 'b') + ('b', 'c', 'd')"
   ]
  },
  {
   "cell_type": "code",
   "execution_count": 69,
   "id": "6d2b2308-2a81-466c-99b9-80761b88c645",
   "metadata": {},
   "outputs": [
    {
     "data": {
      "text/plain": [
       "('a', 'b', 'a', 'b')"
      ]
     },
     "execution_count": 69,
     "metadata": {},
     "output_type": "execute_result"
    }
   ],
   "source": [
    "('a', 'b') * 2"
   ]
  },
  {
   "cell_type": "markdown",
   "id": "6b21d96c-0469-4c3d-b394-12b1912c3d55",
   "metadata": {},
   "source": [
    "##### `len()`함수  \n",
    "len()함수 : 튜플의 길이 확인"
   ]
  },
  {
   "cell_type": "code",
   "execution_count": 70,
   "id": "70ef4d93-5e90-4908-bfba-5192d669c11c",
   "metadata": {},
   "outputs": [
    {
     "data": {
      "text/plain": [
       "4"
      ]
     },
     "execution_count": 70,
     "metadata": {},
     "output_type": "execute_result"
    }
   ],
   "source": [
    "len(('a', 'b', 'c', 'd'))"
   ]
  },
  {
   "cell_type": "markdown",
   "id": "c17977ea-debe-410a-872d-52ee7d27cb4c",
   "metadata": {},
   "source": [
    "##### 최대, 최소 함수\n",
    "\n",
    "* `max()` 함수 : 최댓값 확인"
   ]
  },
  {
   "cell_type": "code",
   "execution_count": 71,
   "id": "202b46d8-acf5-44c3-8c64-32d1a4b22078",
   "metadata": {},
   "outputs": [
    {
     "data": {
      "text/plain": [
       "20"
      ]
     },
     "execution_count": 71,
     "metadata": {},
     "output_type": "execute_result"
    }
   ],
   "source": [
    "max((2, 9, 11, 20, 3))"
   ]
  },
  {
   "cell_type": "markdown",
   "id": "3e321a51-e253-44cf-97fa-4882460f695b",
   "metadata": {},
   "source": [
    "* `min()` 함수 : 최솟값 확인"
   ]
  },
  {
   "cell_type": "code",
   "execution_count": 72,
   "id": "d7eabe08-0266-4134-98c7-88aab3b9e207",
   "metadata": {},
   "outputs": [
    {
     "data": {
      "text/plain": [
       "2"
      ]
     },
     "execution_count": 72,
     "metadata": {},
     "output_type": "execute_result"
    }
   ],
   "source": [
    "min((2, 9, 11, 20, 3))"
   ]
  },
  {
   "cell_type": "markdown",
   "id": "8b02686a-3f8e-4b2d-9302-fe83a915cdaf",
   "metadata": {},
   "source": [
    "##### 인덱싱과 슬라이싱"
   ]
  },
  {
   "cell_type": "markdown",
   "id": "e9e6eb74-3b33-4f6e-a2e3-ba6a99f0f74d",
   "metadata": {},
   "source": [
    "튜플도 문자열과 리스트처럼 인덱싱과 슬라이싱이 가능하다. "
   ]
  },
  {
   "cell_type": "code",
   "execution_count": 73,
   "id": "c074b2de-e3b7-4438-95e4-d6b164d558f2",
   "metadata": {},
   "outputs": [
    {
     "name": "stdout",
     "output_type": "stream",
     "text": [
      "3\n",
      "10\n",
      "(9, 7)\n"
     ]
    }
   ],
   "source": [
    "a_tuple = (3, 15, 9, 12, 7, 14, 10)\n",
    "print(a_tuple[0])\n",
    "print(a_tuple[-1])\n",
    "print(a_tuple[2:6:2])"
   ]
  },
  {
   "cell_type": "markdown",
   "id": "b7ef959d-41a1-418f-b6fa-9704ec36723a",
   "metadata": {},
   "source": [
    ":::{admonition} 주의   \n",
    ":class: caution  \n",
    "튜플은 불변 자료형이라 값을 수정할 수 없다. 예를 들어, 아래와 같이 인덱싱을 사용하여 튜플의 항목을 변경하려고 하면 오류가 발생한다.   \n",
    "\n",
    "```python\n",
    ">>> a_tuple = (3, 15, 9, 12, 7, 14, 10)\n",
    ">>> a_tuple[0] = 100\n",
    "TypeError                                 Traceback (most recent call last)\n",
    "/tmp/ipykernel_1817/347940049.py in <module>\n",
    "      1 a_tuple = (3, 15, 9, 12, 7, 14, 10)\n",
    "----> 2 a_tuple[0] = 100\n",
    "\n",
    "TypeError: 'tuple' object does not support item assignment\n",
    "```\n",
    ":::"
   ]
  },
  {
   "cell_type": "markdown",
   "id": "a2afcb06-2d96-4368-b6e9-0c1522a8978d",
   "metadata": {},
   "source": [
    ":::{admonition} 참고   \n",
    ":class: info  \n",
    "\n",
    "튜플이 변경 불가능한 자료형이라고 해서 튜플의 모든 항목이 모두 변경 불가능해야 하는 것은 아니다. 예를 들어, `tup`의 첫번째 항목은 `[1, 2]`이고, 리스트는 변경가능한 자료형이다. 따라서 아래와 같이 첫번째 항목 자체는 변경이 가능하다. \n",
    "```python\n",
    ">>> tup = ([1, 2], 10, 100)\n",
    ">>> tup[0].append(3)\n",
    ">>> print(tup)\n",
    "([1, 2, 3], 10, 100)\n",
    "```\n",
    "\n",
    "이러한 성질이 가능한 이유는 아래와 같다.  \n",
    "`tup`은 `([1, 2], 10, 100)`을 참조한다. 그리고 첫번째 항목인 `[1, 2]` 또한 참조 형태로 다른 메모리에 저장된다. 즉, `tup`의 첫번째 항목은 `[1, 2]`가 저장된 위치의 주소이다. 그런데 `[1, 2]`가 변경되어도 주소 자체는 변하지 않는다. 따라서 `tup` 입장에서는 변한 것이 하나도 없다. \n",
    "\n",
    "<div align=\"center\">\n",
    "    <img src=\"https://raw.githubusercontent.com/hj617kim/core_pybook/master/images/ch04/tuple01.png\" style=\"width:400px;\">\n",
    "    <img src=\"https://raw.githubusercontent.com/hj617kim/core_pybook/master/images/ch04/tuple02.png\" style=\"width:400px;\">\n",
    "</div>\n",
    "\n",
    "\n",
    ":::"
   ]
  },
  {
   "cell_type": "markdown",
   "id": "1e638ebd-6708-4f2a-b704-dfc04fae59f7",
   "metadata": {},
   "source": [
    "##### 튜플 메서드"
   ]
  },
  {
   "cell_type": "markdown",
   "id": "3cfcfbf4-b37f-4fd9-ab7e-e959fb4181f2",
   "metadata": {},
   "source": [
    "튜플은 불변 자료형이라 메서드가 별로 없다. 많이 사용되는 두 개의 메소드를 살펴보자.   \n",
    "\n",
    "|메서드|설명|\n",
    "|:----------:|:----------:|\n",
    "|`tuple.count()`|지정된 항목이 등장한 횟수 반환|\n",
    "|`tuple.index()`|지정된 항목이 처음 위치한 인덱스 반환|"
   ]
  },
  {
   "cell_type": "code",
   "execution_count": 74,
   "id": "d72d55de-9061-49a5-8f78-27521b764fd2",
   "metadata": {},
   "outputs": [
    {
     "name": "stdout",
     "output_type": "stream",
     "text": [
      "2\n",
      "5\n"
     ]
    }
   ],
   "source": [
    "num_tuple = (1, 2, 3, 1, 3, 5, 5, 10, 15)\n",
    "print(num_tuple.count(1))\n",
    "print(num_tuple.index(5))"
   ]
  },
  {
   "cell_type": "markdown",
   "id": "79e1b167-1137-4955-9acc-5cabbe8e03f0",
   "metadata": {},
   "source": [
    "#### `zip()` 함수 "
   ]
  },
  {
   "cell_type": "markdown",
   "id": "6c84e187-c794-4e11-a0a7-72ddd9d894ab",
   "metadata": {},
   "source": [
    "시퀀스(예, 문자열, 리스트, 튜플) 여러 개의 항목을 순서대로 짝지어 튜플의 리스트 형식의 객체를 생성한다. 자료형이 달라도 된다. 단, `zip()` 함수의 반환값은 구체적으로 명시되지 않는다. "
   ]
  },
  {
   "cell_type": "code",
   "execution_count": 75,
   "id": "5ac7dcf4-ca1d-4c17-976b-f6c938dae73d",
   "metadata": {},
   "outputs": [
    {
     "data": {
      "text/plain": [
       "<zip at 0x7f937c2e4fc0>"
      ]
     },
     "execution_count": 75,
     "metadata": {},
     "output_type": "execute_result"
    }
   ],
   "source": [
    "zip(\"abc\", [1, 2, 3])"
   ]
  },
  {
   "cell_type": "markdown",
   "id": "78adb683-0f5a-4116-87a9-b6014a24654d",
   "metadata": {},
   "source": [
    "`list()`함수를 이용하여 리스트로 변환하면, 쉽게 내용을 확인할 수 있다. "
   ]
  },
  {
   "cell_type": "code",
   "execution_count": 76,
   "id": "a8eabe99-ff16-4d0e-947c-2d23398ef5f3",
   "metadata": {},
   "outputs": [
    {
     "data": {
      "text/plain": [
       "[('a', 1), ('b', 2), ('c', 3)]"
      ]
     },
     "execution_count": 76,
     "metadata": {},
     "output_type": "execute_result"
    }
   ],
   "source": [
    "list(zip(\"abc\", [1, 2, 3]))"
   ]
  },
  {
   "cell_type": "markdown",
   "id": "2ec499ff-f79e-4af5-b3de-387268e2d875",
   "metadata": {},
   "source": [
    "여러 개를 짝짓는 것도 가능하며, 각 자료형의 길이가 다르면 짧은 길이에 맞춰서 짝을 짓는다. "
   ]
  },
  {
   "cell_type": "code",
   "execution_count": 77,
   "id": "6855127c-7c0d-4bc3-bbaf-0f999cbb2b3f",
   "metadata": {},
   "outputs": [
    {
     "data": {
      "text/plain": [
       "[('a', 1, 5), ('b', 2, 10), ('c', 3, 15)]"
      ]
     },
     "execution_count": 77,
     "metadata": {},
     "output_type": "execute_result"
    }
   ],
   "source": [
    "list(zip(\"abcdefgh\",(1, 2, 3, 4, 5), [5, 10, 15]))"
   ]
  },
  {
   "cell_type": "markdown",
   "id": "7cfc75d9-28e6-4144-b016-917493c3e6f3",
   "metadata": {},
   "source": [
    "#### 해체 방법"
   ]
  },
  {
   "cell_type": "markdown",
   "id": "e84950c6-7f54-488d-9e93-7022f2e93d0c",
   "metadata": {},
   "source": [
    "시퀀스 항목 각각을 변수에 지정하고자 할 때는 해체하는 방법을 사용한다. 단, 사용되는 변수의 수는 항목의 수와 일치해야 한다.   \n",
    "예를 들어, 세 개의 항목을 갖는 시퀀스를 해체하려면 세 개의 변수가 필요하다. "
   ]
  },
  {
   "cell_type": "code",
   "execution_count": 78,
   "id": "888148ab-d316-4609-bc3f-75f5f6077d37",
   "metadata": {},
   "outputs": [
    {
     "name": "stdout",
     "output_type": "stream",
     "text": [
      "1\n",
      "<class 'str'>\n",
      "2\n",
      "3\n",
      "4\n",
      "5\n",
      "6\n",
      "7\n"
     ]
    }
   ],
   "source": [
    "a, b = \"12\"\n",
    "c, d, e = [3, 4, 5]\n",
    "f, g = (6, 7)\n",
    "print(a) \n",
    "print(type(a)) # 타입은 문자열이다.\n",
    "print(b) #타입 - str\n",
    "print(c) #타입 - int\n",
    "print(d) #타입 - int\n",
    "print(e) #타입 - int\n",
    "print(f) #타입 - int\n",
    "print(g) #타입 - int"
   ]
  },
  {
   "cell_type": "markdown",
   "id": "1e5b9033-2dc2-40ef-96fa-4859255b1b68",
   "metadata": {},
   "source": [
    "굳이 이름을 주지 않아도 되는 항목이 있다면 변수 대신에 밑줄<font size = \"2\">underscore</font>(`_`) 기호를 사용한다.   \n",
    "예를 들어, 변수 `d`가 필요없다면 아래와 같이 해체할 수 있다. "
   ]
  },
  {
   "cell_type": "code",
   "execution_count": 79,
   "id": "ae39b7fa-8d56-4965-bdca-500408d176e7",
   "metadata": {},
   "outputs": [
    {
     "name": "stdout",
     "output_type": "stream",
     "text": [
      "8\n"
     ]
    }
   ],
   "source": [
    "c, _, e = [3, 4, 5]\n",
    "print(c + e)"
   ]
  },
  {
   "cell_type": "markdown",
   "id": "ce7adde4-768b-41bb-8b1c-12bcbeaf9d2c",
   "metadata": {},
   "source": [
    ":::{admonition} 주의   \n",
    ":class: caution  \n",
    "시퀀스 항목 각각을 변수에 지정하고자 할 때는 사용되는 변수의 수와 항목의 수는 일치해야 한다.\n",
    "\n",
    "```python\n",
    ">>> c, e = [3, 4, 5]\n",
    "ValueError                                Traceback (most recent call last)\n",
    "/tmp/ipykernel_1817/4065688922.py in <module>\n",
    "----> 1 c, e = [3, 4, 5]\n",
    "      2 print(c + e)\n",
    "\n",
    "ValueError: too many values to unpack (expected 2)\n",
    "```\n",
    ":::"
   ]
  },
  {
   "cell_type": "markdown",
   "id": "b4091c36-e758-4827-92a9-6f764693183b",
   "metadata": {},
   "source": [
    "반면에 앞에 몇 개만 변수에 할당하고 나머지는 하나의 리스트로 묶을 수도 있다. 이를 위해 별표 기호<font size = \"2\">asterisk</font>(`*`)를 하나의 변수명과 함께 사용한다. "
   ]
  },
  {
   "cell_type": "code",
   "execution_count": 80,
   "id": "74d0ad07-39ad-442f-b7ee-4bc5daa8936d",
   "metadata": {},
   "outputs": [
    {
     "name": "stdout",
     "output_type": "stream",
     "text": [
      "1\n",
      "2\n",
      "[3, 4, 5]\n"
     ]
    }
   ],
   "source": [
    "values = (1, 2, 3, 4, 5)\n",
    "a, b, *rest = values\n",
    "print(a)\n",
    "print(b)\n",
    "print(rest)"
   ]
  },
  {
   "cell_type": "markdown",
   "id": "70afca62-7220-464c-895f-ad22150178f0",
   "metadata": {},
   "source": [
    "나머지 항목들을 무시하고 싶다면, 별표와 밑줄을 함께 사용한다. "
   ]
  },
  {
   "cell_type": "code",
   "execution_count": 81,
   "id": "793f7bb4-5fe9-473b-af1d-18043630ce51",
   "metadata": {},
   "outputs": [
    {
     "name": "stdout",
     "output_type": "stream",
     "text": [
      "1\n",
      "2\n"
     ]
    }
   ],
   "source": [
    "a, b, *_ = values\n",
    "print(a)\n",
    "print(b)"
   ]
  },
  {
   "cell_type": "markdown",
   "id": "a9807985-39de-4412-a45e-61b9280041ec",
   "metadata": {},
   "source": [
    "### 집합형"
   ]
  },
  {
   "cell_type": "markdown",
   "id": "6dbee952-5a30-4f46-a730-26fa9cad2e11",
   "metadata": {},
   "source": [
    "#### 집합"
   ]
  },
  {
   "cell_type": "markdown",
   "id": "c4c57e50-6fcd-4e6e-8dc5-36c15b7460ea",
   "metadata": {},
   "source": [
    "집합<font size = \"2\">set</font>형은 수학에서 다루는 집합과 비슷한 자료형으로 형식은 아래와 같다.  "
   ]
  },
  {
   "cell_type": "markdown",
   "id": "56aaca48-4c4e-48c5-b4ce-46a26a98940c",
   "metadata": {},
   "source": [
    "`{항목1, 항목2, 항목3, ..., 항목n}`"
   ]
  },
  {
   "cell_type": "markdown",
   "id": "f9022ab3-a639-4539-ab7b-ea16c8fafbe8",
   "metadata": {},
   "source": [
    "중괄호(`{}`)를 사용하고, 각 항목은 콤마(`,`)로 구분한다."
   ]
  },
  {
   "cell_type": "markdown",
   "id": "006ef755-f15a-4090-a5fc-86a6e9076fe4",
   "metadata": {},
   "source": [
    "집합은 항목의 중복을 허용하지 않고, 항목들 사이의 순서는 무시된다. "
   ]
  },
  {
   "cell_type": "code",
   "execution_count": 82,
   "id": "1d3e0ee5-9ea7-455f-9cc7-f2242f3b79a5",
   "metadata": {},
   "outputs": [
    {
     "data": {
      "text/plain": [
       "{4, 9.2, True, 'apple'}"
      ]
     },
     "execution_count": 82,
     "metadata": {},
     "output_type": "execute_result"
    }
   ],
   "source": [
    "a_set = {4, 9.2, \"apple\", True, 4}\n",
    "a_set"
   ]
  },
  {
   "cell_type": "markdown",
   "id": "2c8d7337-fe24-4253-b28d-a57c164cd19b",
   "metadata": {},
   "source": [
    ":::{admonition} 참고  \n",
    ":class: info  \n",
    "집합의 원소는 모두 해시 가능이어야 한다. 즉, 리스트는 집합의 원소가 될 수 없다. \n",
    "```python\n",
    ">>> {[1, 3], 4}\n",
    "TypeError                                 Traceback (most recent call last)\n",
    "/tmp/ipykernel_1817/2739416386.py in <module>\n",
    "----> 1 {[1, 3], 4}\n",
    "\n",
    "TypeError: unhashable type: 'list'\n",
    "```\n",
    ":::"
   ]
  },
  {
   "cell_type": "markdown",
   "id": "00e56a0c-2a68-4c47-bf63-64d192ce04a6",
   "metadata": {},
   "source": [
    ":::{admonition} 해시 가능 <font size = \"2\">hashable</font>  \n",
    ":class: info  \n",
    "\n",
    "어떤 객체가 변하지 않는 해시값을 갖고, 다른 객체와 비교될 수 있으면 해시 가능이라고 한다.  \n",
    "파이썬의 모든 불변 내장 객체들은 해시 가능하다. 반면 리스트나 딕셔너리와 같은 가변 객체들은 해시 불가능이다.  \n",
    "집합의 원소나 딕셔너리의 키는 해시 가능한 것만 사용할 수 있다. \n",
    "\n",
    "\n",
    "`hash()` 함수를 사용하여 해시 가능 여부를 확인할 수 있다.   \n",
    "`hash()` 함수는 해시 가능일 때는 특정 정수를 반환하고, 불가능일 때는 오류가 발생한다.  \n",
    "```python\n",
    ">>> hash(1)\n",
    "1\n",
    ">>> hash([1, 2])\n",
    "TypeError                                 Traceback (most recent call last)\n",
    "/tmp/ipykernel_1817/3864786969.py in <module>\n",
    "----> 1 hash([1, 2])\n",
    "\n",
    "TypeError: unhashable type: 'list'\n",
    "```\n",
    "\n",
    ":::"
   ]
  },
  {
   "cell_type": "markdown",
   "id": "30d3d726-f2dd-4e9f-9a6f-aac395fb810f",
   "metadata": {},
   "source": [
    ":::{admonition} 주의  \n",
    ":class: caution  \n",
    "집합은 순서가 없는 자료형이라 인덱싱이나 슬라이싱을 지원하지 않는다.   \n",
    "```python\n",
    ">>> a_set[0]\n",
    "TypeError                                 Traceback (most recent call last)\n",
    "/tmp/ipykernel_1817/3483571857.py in <module>\n",
    "----> 1 a_set[0]\n",
    "\n",
    "TypeError: 'set' object is not subscriptable\n",
    "```\n",
    ":::"
   ]
  },
  {
   "cell_type": "markdown",
   "id": "085773fc-32c4-4c20-93e8-86a40410c886",
   "metadata": {},
   "source": [
    "집합은 아래와 같은 방식으로 타입 힌트를 추가한다.  "
   ]
  },
  {
   "cell_type": "code",
   "execution_count": 83,
   "id": "292a4181-5d53-4ea9-9c70-d75233c5b6d5",
   "metadata": {},
   "outputs": [
    {
     "data": {
      "text/plain": [
       "{1, 5, 7, 9}"
      ]
     },
     "execution_count": 83,
     "metadata": {},
     "output_type": "execute_result"
    }
   ],
   "source": [
    "from typing import Set \n",
    "a_set : Set[int] = {1, 5, 9, 7}\n",
    "a_set"
   ]
  },
  {
   "cell_type": "markdown",
   "id": "95b07054-ea60-497e-8a96-eb925b1b59a2",
   "metadata": {},
   "source": [
    "##### 빈 집합"
   ]
  },
  {
   "cell_type": "markdown",
   "id": "b63f1809-87e5-4676-8957-c96e9b6926a1",
   "metadata": {},
   "source": [
    "빈 집합<font size = \"2\">empty set</font>은 아무것도 포함하지 않는 집합을 의미한다. 빈 집합를 만드는 방법은 아래와 같다. "
   ]
  },
  {
   "cell_type": "code",
   "execution_count": 84,
   "id": "6a93e932-1f05-4d84-b461-b689187fafb0",
   "metadata": {},
   "outputs": [
    {
     "data": {
      "text/plain": [
       "set()"
      ]
     },
     "execution_count": 84,
     "metadata": {},
     "output_type": "execute_result"
    }
   ],
   "source": [
    "empty_set = set()\n",
    "empty_set"
   ]
  },
  {
   "cell_type": "markdown",
   "id": "c7a538a6-1d42-4f89-96d0-8c231a2e3bca",
   "metadata": {},
   "source": [
    ":::{admonition} 주의  \n",
    ":class: caution  \n",
    "\n",
    "빈 집합을 만들 때는 `set()`을 사용해야 한다. `{}`은 빈 딕셔너리이다. \n",
    "```python\n",
    ">>> a = {}\n",
    ">>> type(a)\n",
    "dict\n",
    "```\n",
    ":::"
   ]
  },
  {
   "cell_type": "markdown",
   "id": "6d420a55-c41c-4a58-94cd-472bf0537065",
   "metadata": {},
   "source": [
    "##### 항목 포함 여부 연산자 \n",
    "* `in` :  연산자 왼쪽에 있는 값이 오른쪽에 있는 집합의 항목으로 등장하는지 여부를 알려주는 논리 연산자\n",
    "* `not in` : 연산자 왼쪽에 있는 값이 오른쪽에 있는 집합의 항목으로 등장하지 않는지 여부를 알려주는 논리 연산자"
   ]
  },
  {
   "cell_type": "code",
   "execution_count": 85,
   "id": "17cb28cc-42d0-4546-a4c0-3c43b1308f71",
   "metadata": {},
   "outputs": [
    {
     "data": {
      "text/plain": [
       "True"
      ]
     },
     "execution_count": 85,
     "metadata": {},
     "output_type": "execute_result"
    }
   ],
   "source": [
    "1 in {1, 2, 3, 9, 4}"
   ]
  },
  {
   "cell_type": "code",
   "execution_count": 86,
   "id": "7f0fccfb-fcc8-4dfe-91f4-765c8ae27916",
   "metadata": {},
   "outputs": [
    {
     "data": {
      "text/plain": [
       "True"
      ]
     },
     "execution_count": 86,
     "metadata": {},
     "output_type": "execute_result"
    }
   ],
   "source": [
    "'a' not in {1, 'b', True, 9}"
   ]
  },
  {
   "cell_type": "markdown",
   "id": "d00d1a9b-fe0e-4a5c-bad5-8ecde3a45158",
   "metadata": {},
   "source": [
    "##### 집합 연산"
   ]
  },
  {
   "cell_type": "markdown",
   "id": "eabd5f4a-5307-46b1-996e-c75ea1ac3ec5",
   "metadata": {},
   "source": [
    "집합에서 사용할 수 있는 연산자는 아래와 같다. "
   ]
  },
  {
   "cell_type": "markdown",
   "id": "7d36f79b-7ac5-4dee-9b3d-b4cdfff555a8",
   "metadata": {},
   "source": [
    "|연산자|설명|예시|실행결과|\n",
    "|:----------:|:----------:|:----------:|:----------:|\n",
    "|`\\|`|합집합|`{1, 2} \\| {2, 4}`|`{1, 2, 4}`|\n",
    "|`&`|교집합|`{1, 2} & {2, 4}`|`{2}`|\n",
    "|`-`|차집합|`{1, 2} - {2, 4}`|`{1}`|\n",
    "|`<=`|부분집합 여부|`{1, 2} <= {2, 4}`|`False`|"
   ]
  },
  {
   "cell_type": "code",
   "execution_count": 87,
   "id": "71b59f4a-d2c7-4b93-9a71-0244f5557b6e",
   "metadata": {},
   "outputs": [
    {
     "data": {
      "text/plain": [
       "{1, 2, 3, 4, 5, 6}"
      ]
     },
     "execution_count": 87,
     "metadata": {},
     "output_type": "execute_result"
    }
   ],
   "source": [
    "{1, 2, 3, 4, 5} | {2, 4, 6}"
   ]
  },
  {
   "cell_type": "code",
   "execution_count": 88,
   "id": "963d1528-1106-4913-b099-6b0509a228ca",
   "metadata": {},
   "outputs": [
    {
     "data": {
      "text/plain": [
       "{2, 4}"
      ]
     },
     "execution_count": 88,
     "metadata": {},
     "output_type": "execute_result"
    }
   ],
   "source": [
    "{1, 2, 3, 4, 5} & {2, 4, 6}"
   ]
  },
  {
   "cell_type": "code",
   "execution_count": 89,
   "id": "3c484ccc-3cc5-4561-8ded-1a6cc87eb16d",
   "metadata": {},
   "outputs": [
    {
     "data": {
      "text/plain": [
       "{1, 3, 5}"
      ]
     },
     "execution_count": 89,
     "metadata": {},
     "output_type": "execute_result"
    }
   ],
   "source": [
    "{1, 2, 3, 4, 5} - {2, 4, 6}"
   ]
  },
  {
   "cell_type": "code",
   "execution_count": 90,
   "id": "14687b30-1dc3-4180-a849-65a1b7b93dfd",
   "metadata": {},
   "outputs": [
    {
     "data": {
      "text/plain": [
       "False"
      ]
     },
     "execution_count": 90,
     "metadata": {},
     "output_type": "execute_result"
    }
   ],
   "source": [
    "{1, 2, 3, 4, 5} <= {2, 4, 6}"
   ]
  },
  {
   "cell_type": "code",
   "execution_count": 91,
   "id": "e3c458ac-9d73-4ed5-a73b-b6afb8a80600",
   "metadata": {},
   "outputs": [
    {
     "data": {
      "text/plain": [
       "True"
      ]
     },
     "execution_count": 91,
     "metadata": {},
     "output_type": "execute_result"
    }
   ],
   "source": [
    "{1, 2} <= {1, 2, 3, 4, 5}"
   ]
  },
  {
   "cell_type": "markdown",
   "id": "eb48ea80-f564-4303-842a-f8ef9969255a",
   "metadata": {},
   "source": [
    ":::{admonition} 주의  \n",
    ":class: caution  \n",
    "\n",
    "집합은 덧셈과 곱셈 연산자를 사용할 수 없다. \n",
    "\n",
    "```python \n",
    ">>> {1, 2} + {3, 4, 5}\n",
    "TypeError                                 Traceback (most recent call last)\n",
    "/tmp/ipykernel_1817/437379440.py in <module>\n",
    "----> 1 {1, 2} + {3, 4, 5}\n",
    "\n",
    "TypeError: unsupported operand type(s) for +: 'set' and 'set'\n",
    "\n",
    ">>> {1, 2} * 2\n",
    "TypeError                                 Traceback (most recent call last)\n",
    "/tmp/ipykernel_1817/650599529.py in <module>\n",
    "----> 1 {1, 2} * 2\n",
    "\n",
    "TypeError: unsupported operand type(s) for *: 'set' and 'int'\n",
    "```\n",
    ":::"
   ]
  },
  {
   "cell_type": "markdown",
   "id": "29936d2e-678d-4d4f-a828-5cfc9fe379ed",
   "metadata": {},
   "source": [
    "##### `len()` 함수  \n",
    "len()함수 : 집합의 길이 확인"
   ]
  },
  {
   "cell_type": "code",
   "execution_count": 92,
   "id": "648183b2-c5da-4dab-b9e8-f410394c561b",
   "metadata": {},
   "outputs": [
    {
     "data": {
      "text/plain": [
       "5"
      ]
     },
     "execution_count": 92,
     "metadata": {},
     "output_type": "execute_result"
    }
   ],
   "source": [
    "len({1, 3, 5, 7, 9})"
   ]
  },
  {
   "cell_type": "markdown",
   "id": "4e671429-e7c0-454f-bab5-b9aa0721fc75",
   "metadata": {},
   "source": [
    "##### 최대, 최소 함수\n",
    "\n",
    "* `max()` 함수 : 최댓값 확인"
   ]
  },
  {
   "cell_type": "code",
   "execution_count": 93,
   "id": "2c0e1082-887b-454e-87aa-9f99ffbde7aa",
   "metadata": {},
   "outputs": [
    {
     "data": {
      "text/plain": [
       "9"
      ]
     },
     "execution_count": 93,
     "metadata": {},
     "output_type": "execute_result"
    }
   ],
   "source": [
    "max({1, 3, 5, 7, 9})"
   ]
  },
  {
   "cell_type": "markdown",
   "id": "ee829f0b-aec8-4485-8a81-867af36efe2a",
   "metadata": {},
   "source": [
    "* `min()` 함수 : 최솟값 확인"
   ]
  },
  {
   "cell_type": "code",
   "execution_count": 94,
   "id": "27f73d2f-dd8c-44b8-91f5-7d98fd4cec7e",
   "metadata": {},
   "outputs": [
    {
     "data": {
      "text/plain": [
       "1"
      ]
     },
     "execution_count": 94,
     "metadata": {},
     "output_type": "execute_result"
    }
   ],
   "source": [
    "min({1, 3, 5, 7, 9})"
   ]
  },
  {
   "cell_type": "markdown",
   "id": "77c077ac-a751-4279-b24a-12c22b397c6c",
   "metadata": {},
   "source": [
    "##### 집합 메서드  \n",
    "집합 자료형이 제공하는 주요 메서드는 아래와 같다."
   ]
  },
  {
   "cell_type": "markdown",
   "id": "f1cf58a3-c068-42f4-81c6-9d716eb5f8c7",
   "metadata": {},
   "source": [
    "|메서드|설명|예시|실행결과|\n",
    "|:----------:|:----------:|:----------:|:----------:|\n",
    "|`set.union()`|합집합 반환|`{1, 2}.union({3, 4})`|`{1, 2, 3, 4}`|\n",
    "|`set.intersection()`|교집합 반환|`{1, 2, 3}.intersection({3, 4})`|`{3}`|\n",
    "|`set.difference()`|차집합 반환|`{1, 2, 3}.difference({3, 4})`|`{1, 2}`|\n",
    "|`set.issubset()`|부분 집합 여부를 판단하여 반환|`{1, 2, 3}.issubset({3, 4})`|`False`|\n",
    "|`set.add()`|항목추가. 반환값은 `None`|||\n",
    "|`set.remove()`|특정 항목 삭제. 반환값은 `None`|||\n",
    "|`set.pop()`|임의의 항목 삭제. 반환값은 삭제하는 항목. 빈 집합에 사용하면 오류 발생|||\n",
    "|`set.clear()`|모든 항목을 삭제. 반환값은 `None`|||\n",
    "|`set.update()`|여러 개의 항목 한번에 추가. 반환값은 `None`|||"
   ]
  },
  {
   "cell_type": "code",
   "execution_count": 95,
   "id": "a75aa97f-b179-46f8-a972-b3e491e0cb0c",
   "metadata": {},
   "outputs": [
    {
     "name": "stdout",
     "output_type": "stream",
     "text": [
      "{8, 1, 2, 3}\n"
     ]
    }
   ],
   "source": [
    "a_set = {1, 2, 3}\n",
    "a_set.add(8)\n",
    "print(a_set)"
   ]
  },
  {
   "cell_type": "code",
   "execution_count": 96,
   "id": "8122cbd0-02f3-4d76-bfed-3649c27b7086",
   "metadata": {},
   "outputs": [
    {
     "name": "stdout",
     "output_type": "stream",
     "text": [
      "{8, 2, 3}\n"
     ]
    }
   ],
   "source": [
    "a_set.remove(1)\n",
    "print(a_set)"
   ]
  },
  {
   "cell_type": "code",
   "execution_count": 97,
   "id": "11f53844-f993-43df-b324-64eabaf6de43",
   "metadata": {},
   "outputs": [
    {
     "name": "stdout",
     "output_type": "stream",
     "text": [
      "8\n",
      "{2, 3}\n"
     ]
    }
   ],
   "source": [
    "print(a_set.pop())\n",
    "print(a_set)"
   ]
  },
  {
   "cell_type": "code",
   "execution_count": 98,
   "id": "6c07bae2-2976-4874-8bba-8d2d1a954000",
   "metadata": {},
   "outputs": [
    {
     "name": "stdout",
     "output_type": "stream",
     "text": [
      "set()\n"
     ]
    }
   ],
   "source": [
    "a_set.clear()\n",
    "print(a_set)"
   ]
  },
  {
   "cell_type": "code",
   "execution_count": 99,
   "id": "31eb9b14-2517-44ea-bc3a-e8d39f16b525",
   "metadata": {},
   "outputs": [
    {
     "name": "stdout",
     "output_type": "stream",
     "text": [
      "{10, 5, 15}\n"
     ]
    }
   ],
   "source": [
    "a_set.update({5, 10, 15})\n",
    "print(a_set)"
   ]
  },
  {
   "cell_type": "markdown",
   "id": "153c5022-24b7-427f-b9ab-a67a39deb55e",
   "metadata": {},
   "source": [
    "### 매핑형"
   ]
  },
  {
   "cell_type": "markdown",
   "id": "0880afbe-0cc8-4e50-90f4-151cbadf4f15",
   "metadata": {
    "tags": []
   },
   "source": [
    "#### 사전  \n",
    "사전형 또는 딕셔너리<font size = \"2\">dictionary</font> 자료형은 키<font size = \"2\">keys</font>와 값<font size = \"2\">values</font>으로 이루어진 항목<font size = \"2\">items</font>들의 집합으로, 사전에서 단어의 뜻을 확인하는 방식과 유사하게 활용할 수 있는 자료구조를 가지고 있다. 예를 들어, 영어 사전에서 `world`란 단어의 뜻을 물으면 `세계`라는 뜻을 알려주는 데, 이때 `world`는 키<font size = \"2\">key</font>에 해당하고, `세계`는 값<font size = \"2\">value</font>에 해당한다.   \n",
    "\n",
    "딕셔너리의 형식은 아래와 같다.   \n",
    "\n",
    "`{key1 : value1, key2 : value2, key3 : value3, ...}`  \n",
    "\n",
    "`key : value` 형태로 이루어진 여러 개의 항목들이 중괄호(`{}`)로 묶여있고, 각 항목들은 콤마(`,`)로 구분한다.  \n",
    "\n",
    "예를 들어, key가 `'Hello'`, `'World'`이고, 각각의 key에 대응하는 value가 `'안녕'`, `'세계'`인 딕셔너리 `dic`를 만드는 코드를 아래와 같다. "
   ]
  },
  {
   "cell_type": "code",
   "execution_count": 100,
   "id": "1a9cff6b-63b6-4296-941d-d2a66325c23b",
   "metadata": {},
   "outputs": [
    {
     "data": {
      "text/plain": [
       "{'Hello': '안녕', 'World': '세계'}"
      ]
     },
     "execution_count": 100,
     "metadata": {},
     "output_type": "execute_result"
    }
   ],
   "source": [
    "dic = {'Hello' : '안녕', 'World' : '세계'}\n",
    "dic"
   ]
  },
  {
   "cell_type": "markdown",
   "id": "6f006ace-bcce-4d2a-a306-f49ac6ecd8ca",
   "metadata": {},
   "source": [
    ":::{admonition} 참고  \n",
    ":class: info  \n",
    "해시 가능한 것만 딕셔너리의 키로 사용될 수 있다. 예를 들어, 정수, 부동소수점, 문자열, 튜플 등이다.  \n",
    " \n",
    "```python\n",
    ">>> dic = {1 : 5, 2.5 : [3, 4], 'a' : (2, 7, 4), (1, 2) : 'd'}\n",
    ">>> print(dic)\n",
    "{1: 5, 2.5: [3, 4], 'a': (2, 7, 4), (1, 2): 'd'}\n",
    "```\n",
    "\n",
    "단, 키로 사용되는 튜플의 항목에 리스트 등 변경 가능한 값이 사용되지 않아야 한다. \n",
    "```python\n",
    ">>> {([1, 2], 3): 1}\n",
    "TypeError                                 Traceback (most recent call last)\n",
    "/tmp/ipykernel_1817/230770617.py in <module>\n",
    "----> 1 {([1, 2], 3): 1}\n",
    "\n",
    "TypeError: unhashable type: 'list'\n",
    "```\n",
    ":::"
   ]
  },
  {
   "cell_type": "markdown",
   "id": "8c382412-e830-48ee-ab83-e883d7b448ec",
   "metadata": {},
   "source": [
    "사전은 아래와 같은 형식으로 타입 힌트를 추가한다. "
   ]
  },
  {
   "cell_type": "code",
   "execution_count": 101,
   "id": "1cf3686e-c3cf-4c9d-90c9-028f793ad674",
   "metadata": {},
   "outputs": [],
   "source": [
    "from typing import Dict\n",
    "a_dict : Dict[str, str] = {\"name\": \"강현\", \"age\": \"3\"}"
   ]
  },
  {
   "cell_type": "markdown",
   "id": "fbc7ef2b-bbb9-44ff-9078-740d1c17fdbd",
   "metadata": {},
   "source": [
    "##### 빈 사전"
   ]
  },
  {
   "cell_type": "markdown",
   "id": "2e8e8b8b-c4ce-4c3a-9939-d47d8422b920",
   "metadata": {},
   "source": [
    "빈 사전 또는 빈 딕셔너리<font size = \"2\">empty dictionary</font>는 아무것도 포함하지 않는 사전을 의미한다. 빈 사전를 만드는 방법은 아래와 같다. "
   ]
  },
  {
   "cell_type": "code",
   "execution_count": 102,
   "id": "08d97d1a-9b6a-4187-a55d-c0840b138703",
   "metadata": {},
   "outputs": [
    {
     "data": {
      "text/plain": [
       "{}"
      ]
     },
     "execution_count": 102,
     "metadata": {},
     "output_type": "execute_result"
    }
   ],
   "source": [
    "empty_dict = {}\n",
    "empty_dict = dict()\n",
    "empty_dict"
   ]
  },
  {
   "cell_type": "markdown",
   "id": "59f8d6f2-2be8-462d-bd2d-80544238c8de",
   "metadata": {},
   "source": [
    "##### 항목 포함 여부 연산자 \n",
    "* `in` :  연산자 왼쪽에 있는 값이 오른쪽에 있는 사전의 키로 등장하는지 여부를 알려주는 논리 연산자\n",
    "* `not in` : 연산자 왼쪽에 있는 값이 오른쪽에 있는 사전의 키로 등장하지 않는지 여부를 알려주는 논리 연산자"
   ]
  },
  {
   "cell_type": "code",
   "execution_count": 103,
   "id": "daaf2553-7e40-4d01-9325-547d32d353cf",
   "metadata": {},
   "outputs": [
    {
     "data": {
      "text/plain": [
       "False"
      ]
     },
     "execution_count": 103,
     "metadata": {},
     "output_type": "execute_result"
    }
   ],
   "source": [
    "'city' in {\"name\": \"강현\", \"age\": \"3\"} "
   ]
  },
  {
   "cell_type": "code",
   "execution_count": 104,
   "id": "1779d3ca-01f1-4b94-b549-272b5e68808a",
   "metadata": {},
   "outputs": [
    {
     "data": {
      "text/plain": [
       "True"
      ]
     },
     "execution_count": 104,
     "metadata": {},
     "output_type": "execute_result"
    }
   ],
   "source": [
    "'city' not in {\"name\": \"강현\", \"age\": \"3\"} "
   ]
  },
  {
   "cell_type": "markdown",
   "id": "0dd586a5-3b50-487e-bcdd-ddbd1b3dfa72",
   "metadata": {},
   "source": [
    "##### `len()` 함수 \n",
    "len()함수 : 사전에서 항목의 길이 확인"
   ]
  },
  {
   "cell_type": "code",
   "execution_count": 105,
   "id": "d524c2e4-2f6d-477f-ae94-f503a9d4066e",
   "metadata": {},
   "outputs": [
    {
     "data": {
      "text/plain": [
       "2"
      ]
     },
     "execution_count": 105,
     "metadata": {},
     "output_type": "execute_result"
    }
   ],
   "source": [
    "len({\"name\": \"강현\", \"age\": \"3\"}) "
   ]
  },
  {
   "cell_type": "markdown",
   "id": "26a2e542-6bbc-40f7-8a93-491f7209131b",
   "metadata": {},
   "source": [
    "##### 최대, 최소 함수\n",
    "\n",
    "* `max()` 함수 : 사전의 키의 최댓값 확인"
   ]
  },
  {
   "cell_type": "code",
   "execution_count": 106,
   "id": "59a9ebfd-a3d4-484d-af81-240f17016f46",
   "metadata": {},
   "outputs": [
    {
     "data": {
      "text/plain": [
       "3"
      ]
     },
     "execution_count": 106,
     "metadata": {},
     "output_type": "execute_result"
    }
   ],
   "source": [
    "max({1 : 'one', 2 : 'two', 3 : 'three'})"
   ]
  },
  {
   "cell_type": "markdown",
   "id": "ef6374f8-1fed-4ce2-b2c1-39fc0a8cb731",
   "metadata": {},
   "source": [
    "* `min()` 함수 : 사전의 키의 최솟값 확인"
   ]
  },
  {
   "cell_type": "code",
   "execution_count": 107,
   "id": "77a66921-c177-4c97-8c8f-a5c96d97f7ed",
   "metadata": {},
   "outputs": [
    {
     "data": {
      "text/plain": [
       "1"
      ]
     },
     "execution_count": 107,
     "metadata": {},
     "output_type": "execute_result"
    }
   ],
   "source": [
    "min({1 : 'one', 2 : 'two', 3 : 'three'})"
   ]
  },
  {
   "cell_type": "markdown",
   "id": "e170b2bf-fda4-48c1-ad26-e05a252f7670",
   "metadata": {},
   "source": [
    "##### 인덱싱  \n",
    "딕셔너리에서 항목의 순서는 중요하지 않다. 그보다 어떤 키<font size = \"2\">key</font>가 사용되었는지가 중요하다.  \n",
    "딕셔너리에서 인덱싱은 키를 이용한다. 예를 들어, 아래 딕셔너리 `dic`에서 `'Hello'`에 대응하는 값을 확인하고자 하면  \n",
    "다음과 같이 대괄호를 사용하는 인덱싱을 이용한다. "
   ]
  },
  {
   "cell_type": "code",
   "execution_count": 108,
   "id": "d8a14725-7fcb-4c66-878c-b5984d4fd7de",
   "metadata": {},
   "outputs": [
    {
     "data": {
      "text/plain": [
       "'안녕'"
      ]
     },
     "execution_count": 108,
     "metadata": {},
     "output_type": "execute_result"
    }
   ],
   "source": [
    "dic = {'Hello' : '안녕', 'World' : '세계'}\n",
    "dic['Hello']"
   ]
  },
  {
   "cell_type": "markdown",
   "id": "0b9250f9-9288-49e2-a4e7-29f845900e10",
   "metadata": {},
   "source": [
    ":::{admonition} 주의  \n",
    ":class: caution  \n",
    "\n",
    "존재하지 않는 키로 값을 추출하려고 하면, 오류가 발생한다. \n",
    "```python\n",
    ">>> dic = {'Hello' : '안녕', 'World' : '세계'}\n",
    ">>> dic['Python']\n",
    "KeyError                                  Traceback (most recent call last)\n",
    "/tmp/ipykernel_1817/1517958361.py in <module>\n",
    "----> 1 dic['Python']\n",
    "\n",
    "KeyError: 'Python'\n",
    "```\n",
    ":::"
   ]
  },
  {
   "cell_type": "markdown",
   "id": "618f137d-a6b9-41b1-b93c-2bcd87a1803b",
   "metadata": {},
   "source": [
    "##### 항목의 추가와 삭제  \n",
    "* 아래와 같은 형식으로 사전에 항목을 추가한다.  \n",
    "`사전변수명[key] = value`   \n",
    "\n",
    "예를 들어, `dic`에 key와 value가 각각 `Python`과 `파이썬`인 항목을 추가하는 코드는 아래와 같다.   "
   ]
  },
  {
   "cell_type": "code",
   "execution_count": 109,
   "id": "4bf19159-ab0d-41a0-b83c-58e90ae4d730",
   "metadata": {},
   "outputs": [
    {
     "name": "stdout",
     "output_type": "stream",
     "text": [
      "{'Hello': '안녕', 'World': '세계'}\n",
      "{'Hello': '안녕', 'World': '세계', 'Python': '파이썬'}\n"
     ]
    }
   ],
   "source": [
    "dic = {'Hello' : '안녕', 'World' : '세계'}\n",
    "print(dic)\n",
    "dic['Python'] = '파이썬'\n",
    "print(dic)"
   ]
  },
  {
   "cell_type": "markdown",
   "id": "c27958e3-c3e5-4249-b3ce-e9b3fdc18538",
   "metadata": {},
   "source": [
    ":::{admonition} 주의  \n",
    ":class: caution  \n",
    "이미 사용하고 있는 키를 가진 항목을 추가하려고 하면, 그 키로 저장된 이전 값은 사라진다.  \n",
    "```python\n",
    ">>> dic = {'Hello' : '안녕', 'World' : '세계'}\n",
    ">>> print(dic)\n",
    "{'Hello': '안녕', 'World': '세계'}\n",
    ">>> dic['World'] = '세상'\n",
    ">>> print(dic)\n",
    "{'Hello': '안녕', 'World': '세상'}\n",
    "```\n",
    ":::"
   ]
  },
  {
   "cell_type": "markdown",
   "id": "47294da8-1afd-4ee1-8342-ed9a1be819f0",
   "metadata": {},
   "source": [
    "* 사전의 항목은 `del` 명령어를 사용하여 삭제할 수 있다. "
   ]
  },
  {
   "cell_type": "code",
   "execution_count": 110,
   "id": "2151b31d-e90b-4512-b116-90ad57c39630",
   "metadata": {},
   "outputs": [
    {
     "name": "stdout",
     "output_type": "stream",
     "text": [
      "{'Hello': '안녕', 'World': '세계'}\n",
      "{'Hello': '안녕'}\n"
     ]
    }
   ],
   "source": [
    "dic = {'Hello' : '안녕', 'World' : '세계'}\n",
    "print(dic)\n",
    "del dic['World']\n",
    "print(dic)"
   ]
  },
  {
   "cell_type": "markdown",
   "id": "5280e1d5-9c12-4a87-81d3-33e4d8c6585c",
   "metadata": {},
   "source": [
    "##### 사전 메서드  \n",
    "사전 자료형이 제공하는 주요 메서드는 아래와 같다."
   ]
  },
  {
   "cell_type": "code",
   "execution_count": 111,
   "id": "dca3b348-a88a-49cd-b2cd-a4c208202dc6",
   "metadata": {},
   "outputs": [],
   "source": [
    "dic = {'Hello' : '안녕', 'World' : '세계'}"
   ]
  },
  {
   "cell_type": "markdown",
   "id": "bc1f4cb5-b141-45b9-8532-e4fd5b4dcdd9",
   "metadata": {},
   "source": [
    "|메서드|설명|예시|실행결과|\n",
    "|:----------:|:----------:|:----------:|:----------:|\n",
    "|`dict.keys()`|사전에 사용된 key들을 모두 모아서 리스트와 비슷한 자료형을 만들어서 반환|`dic.keys()`|`dict_keys(['Hello', 'World'])`|\n",
    "|`dict.values()`|사전에 사용된 value들을 모두 모아서 리스트와 비슷한 자료형을 만들어서 반환|`dic.values()`|`dict_values(['안녕', '세계'])`|\n",
    "|`dict.items()`|사전에 사용된 item들을 모두 모아서 리스트와 비슷한 자료형으로 만들어서 반환|`dic.items()`|`dict_items([('Hello', '안녕'), ('World', '세계')])`|\n",
    "|`dict.get()`|key에 대응되는 value를 반환. 존재하지 않는 key를 사용하면 `None`을 반환|`dic.get('Hello')`|`'안녕'`|\n",
    "|`dict.update()`|다른 사전과 합함. 반환값은 `None`|`dic.update({'Python' : '파이썬', 'Programming' : '프로그래밍'})`|`None`|\n",
    "|`dict.pop()`|key에 해당하는 항목을 삭제. 반환값은 key에 대응하는 value. key가 존재하지 않으면 오류 발생.|`dic.pop('Python')`|`'파이썬'`|\n",
    "|`dict.clear()`|사전 안의 모든 항목들을 삭제. 반환값은 `None`|`dic.clear()`|`None`|"
   ]
  },
  {
   "cell_type": "code",
   "execution_count": 112,
   "id": "c1268cd5-b9f9-4b36-93bd-a15ca1f41906",
   "metadata": {},
   "outputs": [
    {
     "name": "stdout",
     "output_type": "stream",
     "text": [
      "{'Hello': '안녕', 'World': '세계'}\n",
      "None\n",
      "{'Hello': '안녕', 'World': '세계', 'Python': '파이썬', 'Programming': '프로그래밍'}\n"
     ]
    }
   ],
   "source": [
    "dic = {'Hello' : '안녕', 'World' : '세계'}\n",
    "print(dic)\n",
    "print(dic.update({'Python' : '파이썬', 'Programming' : '프로그래밍'}))\n",
    "print(dic)"
   ]
  },
  {
   "cell_type": "code",
   "execution_count": 113,
   "id": "64c6dbd9-c7f3-4d32-959e-b255d2872a7b",
   "metadata": {},
   "outputs": [
    {
     "name": "stdout",
     "output_type": "stream",
     "text": [
      "{'Hello': '안녕', 'World': '세계', 'Python': '파이썬', 'Programming': '프로그래밍'}\n",
      "파이썬\n",
      "{'Hello': '안녕', 'World': '세계', 'Programming': '프로그래밍'}\n"
     ]
    }
   ],
   "source": [
    "print(dic)\n",
    "print(dic.pop('Python'))\n",
    "print(dic)"
   ]
  },
  {
   "cell_type": "code",
   "execution_count": 114,
   "id": "3f59b7f1-2288-41ac-8d7f-2da2d986264c",
   "metadata": {},
   "outputs": [
    {
     "name": "stdout",
     "output_type": "stream",
     "text": [
      "{'Hello': '안녕', 'World': '세계', 'Programming': '프로그래밍'}\n",
      "None\n",
      "{}\n"
     ]
    }
   ],
   "source": [
    "print(dic)\n",
    "print(dic.clear())\n",
    "print(dic)"
   ]
  },
  {
   "cell_type": "markdown",
   "id": "319de1c9-4138-4724-93d2-314961929185",
   "metadata": {},
   "source": [
    "### 형변환함수"
   ]
  },
  {
   "cell_type": "markdown",
   "id": "c4b09723-6104-4109-bb66-6eb41b1cca9d",
   "metadata": {},
   "source": [
    "#### `list()` 함수"
   ]
  },
  {
   "cell_type": "markdown",
   "id": "02f9cb30-2240-441a-9ce8-c63862a632ba",
   "metadata": {},
   "source": [
    "`list()` : 리스트형으로 변환."
   ]
  },
  {
   "cell_type": "code",
   "execution_count": 115,
   "id": "ab903b39-5f15-4675-bc4b-dca1ddbe3433",
   "metadata": {},
   "outputs": [
    {
     "data": {
      "text/plain": [
       "['a', 'b', 'c']"
      ]
     },
     "execution_count": 115,
     "metadata": {},
     "output_type": "execute_result"
    }
   ],
   "source": [
    "list('abc')  #문자열의 각 문자를 항목으로 갖는 리스트 반환"
   ]
  },
  {
   "cell_type": "code",
   "execution_count": 116,
   "id": "8f212274-ca48-4ed1-98bc-8134d50e1fdd",
   "metadata": {},
   "outputs": [
    {
     "data": {
      "text/plain": [
       "[1, 2, 3]"
      ]
     },
     "execution_count": 116,
     "metadata": {},
     "output_type": "execute_result"
    }
   ],
   "source": [
    "list((1, 2, 3))"
   ]
  },
  {
   "cell_type": "code",
   "execution_count": 117,
   "id": "841be636-0d7a-4ff7-882d-6c3cf7e5c068",
   "metadata": {},
   "outputs": [
    {
     "data": {
      "text/plain": [
       "[1, 2, 5]"
      ]
     },
     "execution_count": 117,
     "metadata": {},
     "output_type": "execute_result"
    }
   ],
   "source": [
    "list({1, 2, 5})"
   ]
  },
  {
   "cell_type": "code",
   "execution_count": 118,
   "id": "375cb576-1017-42ac-a1db-4dfb887088e7",
   "metadata": {},
   "outputs": [
    {
     "name": "stdout",
     "output_type": "stream",
     "text": [
      "['Hello', 'World']\n",
      "['Hello', 'World']\n",
      "['안녕', '세계']\n",
      "[('Hello', '안녕'), ('World', '세계')]\n"
     ]
    }
   ],
   "source": [
    "dic = {'Hello' : '안녕', 'World' : '세계'}\n",
    "print(list(dic))\n",
    "print(list(dic.keys()))\n",
    "print(list(dic.values()))\n",
    "print(list(dic.items()))"
   ]
  },
  {
   "cell_type": "markdown",
   "id": "44f98162-6279-4b8b-a0aa-114d29526871",
   "metadata": {},
   "source": [
    "#### `tuple()` 함수"
   ]
  },
  {
   "cell_type": "markdown",
   "id": "2bbad64a-4f66-4cdb-9109-3f2a7e7e4df9",
   "metadata": {},
   "source": [
    "`tuple()` : 튜플형으로 변환."
   ]
  },
  {
   "cell_type": "code",
   "execution_count": 119,
   "id": "446ce8ca-63e0-45ae-af89-60ca347bca90",
   "metadata": {},
   "outputs": [
    {
     "data": {
      "text/plain": [
       "('a', 'b', 'c')"
      ]
     },
     "execution_count": 119,
     "metadata": {},
     "output_type": "execute_result"
    }
   ],
   "source": [
    "tuple('abc')"
   ]
  },
  {
   "cell_type": "code",
   "execution_count": 120,
   "id": "628b9998-dcb9-4754-bc17-8ee168ec8193",
   "metadata": {},
   "outputs": [
    {
     "data": {
      "text/plain": [
       "(1, 2, 3)"
      ]
     },
     "execution_count": 120,
     "metadata": {},
     "output_type": "execute_result"
    }
   ],
   "source": [
    "tuple([1, 2, 3])"
   ]
  },
  {
   "cell_type": "code",
   "execution_count": 121,
   "id": "04c5e64b-e018-4b2a-b5e0-03a76294437a",
   "metadata": {},
   "outputs": [
    {
     "data": {
      "text/plain": [
       "(1, 2, 5)"
      ]
     },
     "execution_count": 121,
     "metadata": {},
     "output_type": "execute_result"
    }
   ],
   "source": [
    "tuple({1, 2, 5})"
   ]
  },
  {
   "cell_type": "code",
   "execution_count": 122,
   "id": "9e0f83a1-3fa0-445d-a09d-c858ebeac782",
   "metadata": {},
   "outputs": [
    {
     "name": "stdout",
     "output_type": "stream",
     "text": [
      "('Hello', 'World')\n",
      "('Hello', 'World')\n",
      "('안녕', '세계')\n",
      "(('Hello', '안녕'), ('World', '세계'))\n"
     ]
    }
   ],
   "source": [
    "dic = {'Hello' : '안녕', 'World' : '세계'}\n",
    "print(tuple(dic))\n",
    "print(tuple(dic.keys()))\n",
    "print(tuple(dic.values()))\n",
    "print(tuple(dic.items()))"
   ]
  },
  {
   "cell_type": "markdown",
   "id": "1641da91-649c-49f3-b652-1055e59bc440",
   "metadata": {},
   "source": [
    "#### `set()` 함수"
   ]
  },
  {
   "cell_type": "markdown",
   "id": "c4c46095-5a61-4c07-b96d-1b35c7930f89",
   "metadata": {},
   "source": [
    "`set()` : 집합형으로 변환."
   ]
  },
  {
   "cell_type": "code",
   "execution_count": 123,
   "id": "3fbe1fa9-ec0d-421a-80aa-af40af935397",
   "metadata": {},
   "outputs": [
    {
     "data": {
      "text/plain": [
       "{'a', 'b', 'c'}"
      ]
     },
     "execution_count": 123,
     "metadata": {},
     "output_type": "execute_result"
    }
   ],
   "source": [
    "set('abc')"
   ]
  },
  {
   "cell_type": "code",
   "execution_count": 124,
   "id": "53fd9901-484d-4a91-8882-7b0c8c06697e",
   "metadata": {},
   "outputs": [
    {
     "data": {
      "text/plain": [
       "{1, 2, 5}"
      ]
     },
     "execution_count": 124,
     "metadata": {},
     "output_type": "execute_result"
    }
   ],
   "source": [
    "set([1, 1, 2, 5])"
   ]
  },
  {
   "cell_type": "code",
   "execution_count": 125,
   "id": "fd916e01-1ce2-4705-97d6-9621b5ac7dab",
   "metadata": {},
   "outputs": [
    {
     "data": {
      "text/plain": [
       "{1, 3, 9}"
      ]
     },
     "execution_count": 125,
     "metadata": {},
     "output_type": "execute_result"
    }
   ],
   "source": [
    "set((1, 3, 3, 9, 1))"
   ]
  },
  {
   "cell_type": "code",
   "execution_count": 126,
   "id": "09ccf640-cb04-4de4-a903-aac7abddad8d",
   "metadata": {},
   "outputs": [
    {
     "name": "stdout",
     "output_type": "stream",
     "text": [
      "{'World', 'Hello', 'Hi'}\n",
      "{'World', 'Hello', 'Hi'}\n",
      "{'세계', '안녕'}\n",
      "{('Hello', '안녕'), ('World', '세계'), ('Hi', '안녕')}\n"
     ]
    }
   ],
   "source": [
    "dic = {'Hello' : '안녕', 'World' : '세계', 'Hi' : '안녕'}\n",
    "print(set(dic))\n",
    "print(set(dic.keys()))\n",
    "print(set(dic.values()))\n",
    "print(set(dic.items()))"
   ]
  },
  {
   "cell_type": "markdown",
   "id": "d78bc2b3-00b0-4f26-a9b5-6e1c4f20560d",
   "metadata": {},
   "source": [
    "#### `dict()` 함수"
   ]
  },
  {
   "cell_type": "markdown",
   "id": "c66da86a-a6f1-4a55-a50b-f650816ad5ff",
   "metadata": {},
   "source": [
    "`dict()` : 사전형으로 변환.  \n",
    "\n",
    "사전의 각 항목은 키와 값으로 이루어졌기 때문에 적절하게 짝지어진 데이터를 사용해야 사전을 만들 수 있다."
   ]
  },
  {
   "cell_type": "code",
   "execution_count": 127,
   "id": "c3c288b6-042a-4140-b9f1-eb301bcc247a",
   "metadata": {},
   "outputs": [
    {
     "data": {
      "text/plain": [
       "{'Hello': '안녕', 'World': '세계', 'Programming': '프로그래밍'}"
      ]
     },
     "execution_count": 127,
     "metadata": {},
     "output_type": "execute_result"
    }
   ],
   "source": [
    "data = [('Hello', '안녕'), ('World', '세계'), ('Programming', '프로그래밍')]\n",
    "dict(data)"
   ]
  },
  {
   "cell_type": "code",
   "execution_count": 128,
   "id": "dc22c48d-575f-45c6-b8c7-42c4332176e8",
   "metadata": {},
   "outputs": [
    {
     "data": {
      "text/plain": [
       "{'a': 1, 'b': 2, 'c': 3, 'd': 4, 'e': 5}"
      ]
     },
     "execution_count": 128,
     "metadata": {},
     "output_type": "execute_result"
    }
   ],
   "source": [
    "data = zip('abcde', [1, 2, 3, 4, 5])\n",
    "dict(data)"
   ]
  },
  {
   "cell_type": "code",
   "execution_count": 129,
   "id": "0b7de40e-3b95-424e-a0db-8596cb567ece",
   "metadata": {},
   "outputs": [
    {
     "data": {
      "text/plain": [
       "{'Hello': '안녕', 'World': '세계', 'Programming': '프로그래밍'}"
      ]
     },
     "execution_count": 129,
     "metadata": {},
     "output_type": "execute_result"
    }
   ],
   "source": [
    "dict(Hello = '안녕', World = '세계', Programming = '프로그래밍')"
   ]
  },
  {
   "cell_type": "markdown",
   "id": "cab31a57-ed44-4b0f-9f34-2239177b48aa",
   "metadata": {},
   "source": [
    "### 조건제시법"
   ]
  },
  {
   "cell_type": "markdown",
   "id": "3019197a-0694-4a74-8037-29ad43f29531",
   "metadata": {},
   "source": [
    "리스트, 집합, 사전은 조건제시법<font size = \"2\">comprehension</font>을 이용하여 정의할 수 있다."
   ]
  },
  {
   "cell_type": "markdown",
   "id": "840a733d-3076-40f5-b2f4-be02a15dd942",
   "metadata": {},
   "source": [
    "#### 리스트 조건제시법"
   ]
  },
  {
   "cell_type": "markdown",
   "id": "5fb2bf35-4e0c-4e63-9797-4e5dd1f6c5ad",
   "metadata": {},
   "source": [
    "리스트 조건제시법은 수학에서 집합을 정의할 때 사용하는 조건제시법과 매우 유사한다.   \n",
    "\n",
    "* 0과 10사이에 있는 홀수들의 제곱을 원소로 갖는 집합을 조건제시법으로 표현한다.  \n",
    "{ x^2 | 0 <= x <= 10, 단 x는 홀수 }\n",
    "\n",
    "* 집합 기호를 리스트 기호로 대체한다.   \n",
    "[ x^2 | 0 <= x <= 10, 단 x는 홀수 ]  \n",
    "\n",
    "* 집합의 짝대기(|) 기호는 `for`로 대체한다.   \n",
    "[ x^2 for 0 <= x <= 10, 단 x는 홀수 ]  \n",
    "\n",
    "* 짝대기 기호 왼편에 위치한 x^2를 파이썬 수식으로 변경한다. 즉, x ** 2로 변경한다.   \n",
    "[ x ** 2 for 0 <= x <= 10, 단 x는 홀수 ]  \n",
    "\n",
    "* 짝대기 기호 오른편에 위치하고, 변수 x가 어느 범위에서 움직이는지를 설명하는 부등식인 0 <= x <= 10 부분을 파이썬 수식으로 변경한다. 주로, 기존에 정의된 리스트를 사용하거나 `range()` 함수를 사용하여 범위를 x in ... 형식으로 지정한다.   \n",
    "[ x ** 2 for x in range(11), 단 x는 홀수 ]  "
   ]
  },
  {
   "cell_type": "markdown",
   "id": "2018b30f-7a1d-494d-a825-05c9bbff9dce",
   "metadata": {},
   "source": [
    ":::{admonition} `range()` 함수  \n",
    ":class: info  \n",
    "`range()` 함수는 규칙성을 가진 정수들의 모음<font size = \"2\">collection</font>을 반환한다. 반환된 값은 range객체이며, 리스트와 유사하게 작동한다.  \n",
    "\n",
    "`range()` 함수는 인자를 최대 세 개까지 받을 수 있다. 각 인자들의 역할은 슬라이싱에 사용되는 세 개의 인자들의 역할과 동일하다. \n",
    "* `range([start, ] stop [, step])`\n",
    "* `start`의 경우 주어지지 않으면 `0`을 기본값으로 갖는다.\n",
    "* `step`의 경우 주어지지 않으면 `1`을 기본값으로 갖는다.\n",
    "\n",
    "예를 들어, 0부터 10까지의 정수들로 이루어진 `range`객체는 다음과 같이 생성한다.  \n",
    "리스트로 형변환하면 `range(11)` 안에 포함된 항목을 확인할 수 있다. \n",
    "```python\n",
    ">>> print(range(11))\n",
    "range(0, 11)\n",
    ">>> print(list(range(11)))\n",
    "[0, 1, 2, 3, 4, 5, 6, 7, 8, 9, 10]\n",
    "```\n",
    "range형은 불변 시퀀스이다. \n",
    ":::\n"
   ]
  },
  {
   "cell_type": "markdown",
   "id": "6a7d4ee6-4b60-4374-992b-25606e6171fb",
   "metadata": {},
   "source": [
    "* 마지막으로 변수 `x`에 대한 제한조건인 `단 x는 홀수` 부분을 파이썬의 `if` 문장으로 변경한다. 예를 들어, `x는 홀수`는 파이썬의 `x % 2 == 1`로 나타낼 수 있다.  \n",
    "`[x**2 for x in range(11) if x % 2 == 1]`"
   ]
  },
  {
   "cell_type": "code",
   "execution_count": 130,
   "id": "fb434b08-e2b9-4e7d-87ec-3fb3398d2d13",
   "metadata": {},
   "outputs": [
    {
     "data": {
      "text/plain": [
       "[1, 9, 25, 49, 81]"
      ]
     },
     "execution_count": 130,
     "metadata": {},
     "output_type": "execute_result"
    }
   ],
   "source": [
    "a_list = [x**2 for x in range(11) if x % 2 == 1]\n",
    "a_list"
   ]
  },
  {
   "cell_type": "markdown",
   "id": "02553397-1d6d-4054-b83b-bac7c3767eaf",
   "metadata": {},
   "source": [
    ":::{admonition} 참고   \n",
    ":class: info  \n",
    "\n",
    "위의 조건제시법은 다음 장에서 소개하는 `for` 반복문을 활용한 코드와 동일하다.\n",
    "\n",
    "```python\n",
    ">>> a_list = []\n",
    ">>> for x in range(0, 10) :\n",
    "        if x % 2 == 1 :\n",
    "            a_list.append(x ** 2)\n",
    ">>> print(a_list)\n",
    "[1, 9, 25, 49, 81]\n",
    "```\n",
    ":::\n"
   ]
  },
  {
   "cell_type": "markdown",
   "id": "71c1590e-7127-46df-a882-518a56f33b91",
   "metadata": {},
   "source": [
    ":::{admonition} 참고  \n",
    ":class: info  \n",
    "아래와 같이 리스트를 초기화할 때, 리스트 조건제시법을 사용하면 좋다. \n",
    "```python\n",
    ">>> a = [[0] * 5 for x in range(5)]\n",
    ">>> print(a)\n",
    "[[0, 0, 0, 0, 0],\n",
    " [0, 0, 0, 0, 0],\n",
    " [0, 0, 0, 0, 0],\n",
    " [0, 0, 0, 0, 0],\n",
    " [0, 0, 0, 0, 0]]\n",
    "```\n",
    "\n",
    "리스트 `a`는 리스트`b`와 동일하지 않다. \n",
    "```python\n",
    ">>> b = [[0] * 5] * 5\n",
    ">>> print(b)\n",
    "[[0, 0, 0, 0, 0],\n",
    " [0, 0, 0, 0, 0],\n",
    " [0, 0, 0, 0, 0],\n",
    " [0, 0, 0, 0, 0],\n",
    " [0, 0, 0, 0, 0]]\n",
    "```\n",
    "\n",
    "아래 그림처럼 리스트 `a`의 각 항목은 서로 다른 리스트를 참조한다. 반면 리스트 `b`의 각 항목은 하나의 리스트를 참조한다. \n",
    "<div align=\"center\">\n",
    "    <img src=\"https://raw.githubusercontent.com/hj617kim/core_pybook/master/images/ch04/list_comp01.png\" style=\"width:400px;\">\n",
    "</div>\n",
    "\n",
    "이러한 성질로 아래와 같은 일이 발생한다. 예를 들어, `a[2][3] = 1` 코드를 사용하여 리스트 `a`의 3행 4열의 값을 1로 변경하고자 하면, 해당 값이 1로 변경된 것을 볼 수 있다. 반면 `b[2][3] = 1` 코드를 사용한 다음, `b`를 확인해보면 4열의 값이 모두 1로 변경된 것을 볼 수 있다. 즉, 리스트 `b`는 원하는 대로 동작하지 않는다. \n",
    "\n",
    "```python\n",
    ">>> a = [[0] * 5 for x in range(5)]\n",
    ">>> a[2][3] = 1\n",
    "[[0, 0, 0, 0, 0],\n",
    " [0, 0, 0, 0, 0],\n",
    " [0, 0, 0, 1, 0],\n",
    " [0, 0, 0, 0, 0],\n",
    " [0, 0, 0, 0, 0]]\n",
    ">>> b[2][3] = 1\n",
    ">>> print(b)\n",
    "[[0, 0, 0, 1, 0],\n",
    " [0, 0, 0, 1, 0],\n",
    " [0, 0, 0, 1, 0],\n",
    " [0, 0, 0, 1, 0],\n",
    " [0, 0, 0, 1, 0]]\n",
    "```\n",
    ":::\n"
   ]
  },
  {
   "cell_type": "markdown",
   "id": "880a161f-515c-4b2d-ad8d-975266cce11c",
   "metadata": {},
   "source": [
    "````{prf:example}\n",
    ":label: list_comprehension-example\n",
    "다음 각 단계를 구현해 나가면서 도서관 좌석 등록 프로그램을 만들어보자.     \n",
    "\n",
    "1단계) `input()` 함수로 도서관 좌석의 행과 열의 입력 받는다.     \n",
    "2단계) 도서관의 좌석은 직사각형 모양이라고 가정하고, 각 좌석의 초기값은 0으로 둔다.  \n",
    "예를 들어, 2행 3열 모양의 도서관 좌석은 아래와 같이 초기화한다.  \n",
    "\n",
    "```python\n",
    "[[0, 0, 0], \n",
    " [0, 0, 0]]\n",
    "``` \n",
    "\n",
    "3단계) `input()`함수로 사용할 좌석의 위치를 입력 받아 좌석의 값을 1로 변경한다.  \n",
    "예를 들어, 사용자가 `2 1`을 입력하면 아래와 같이 2행 1열의 좌석의 값을 1로 변경한다.   \n",
    "\n",
    "```python\n",
    "[[0, 0, 0], \n",
    " [1, 0, 0]]\n",
    "``` \n",
    "````"
   ]
  },
  {
   "cell_type": "markdown",
   "id": "319e4287-e198-479d-b530-77fb1d892d3f",
   "metadata": {},
   "source": [
    "#### 집합 조건제시법  \n",
    "조건제시법을 이용하여 집합을 생성하는 과정은 리스트 조건제시법과 비슷하다. "
   ]
  },
  {
   "cell_type": "code",
   "execution_count": 131,
   "id": "12f307a0-b968-495e-82a3-c5326db66b1e",
   "metadata": {},
   "outputs": [
    {
     "name": "stdout",
     "output_type": "stream",
     "text": [
      "['Python', 'is', 'a', 'general', 'purpose', 'language']\n",
      "[6, 2, 1, 7, 7, 8]\n",
      "{1, 2, 6, 7, 8}\n"
     ]
    }
   ],
   "source": [
    "words = 'Python is a general purpose language'.split()\n",
    "print(words)\n",
    "words_len = [len(x) for x in words] # 리스트 조건제시법\n",
    "print(words_len)\n",
    "unique_len = {len(x) for x in words} # 집합 조건제시법\n",
    "print(unique_len)"
   ]
  },
  {
   "cell_type": "markdown",
   "id": "39caa271-f70b-47d9-9745-7376b9f5afd5",
   "metadata": {},
   "source": [
    "#### 사전 조건제시법   \n",
    "조건제시법을 이용하여 사전을 생성하는 과정도 유사하다. "
   ]
  },
  {
   "cell_type": "code",
   "execution_count": 132,
   "id": "2e84f3b0-e452-4426-8bbf-fc74b3d52f96",
   "metadata": {},
   "outputs": [
    {
     "name": "stdout",
     "output_type": "stream",
     "text": [
      "['Python', 'is', 'a', 'general', 'purpose', 'language']\n",
      "{'Python': 6, 'is': 2, 'a': 1, 'general': 7, 'purpose': 7, 'language': 8}\n"
     ]
    }
   ],
   "source": [
    "words = 'Python is a general purpose language'.split()\n",
    "print(words)\n",
    "len_dict = {k : len(k) for k in words}\n",
    "print(len_dict)"
   ]
  },
  {
   "cell_type": "markdown",
   "id": "af79ef73-80e6-45dc-a6f1-8635a0bd9660",
   "metadata": {},
   "source": [
    "## 연습문제"
   ]
  },
  {
   "cell_type": "markdown",
   "id": "f995b405-201a-4dcf-b476-08d173d95997",
   "metadata": {},
   "source": [
    "### 문제   \n",
    "다음과 같은 리스트`num_list`가 있다.  \n",
    "`num_list = [[1, 2, 3, [4, 5]], [6, 7, 8], 9]`  \n",
    "\n",
    "1. `9`를 츨력하는 코드를 작성하여라.   \n",
    "2. `7`를 출력하는 코드를 작성하여라.   \n",
    "3. `[3, [4, 5]]`를 출력하는 코드를 작성하여라.  \n"
   ]
  },
  {
   "cell_type": "markdown",
   "id": "13f441a2-89a2-43e4-aa98-e615583eec32",
   "metadata": {},
   "source": [
    "### 문제  \n",
    "세 집합 A, B, C가 있을 때, A ∩ B ∩ C와 (A ∪ B ∪ C) - A를 구해보자. 각 집합의 항목은 1에서 100 사이의 정수 1 ~ 30개로 이루어진다. A ∩ B ∩ C와 (A ∪ B ∪ C) - A은 공백으로 구분하여 아래와 같이 출력한다.  \n",
    "\n",
    "Input : `A = {2, 4, 5}`, `B = {1, 2, 2, 1, 10, 4}`, `C = {3, 3, 3, 4}`   \n",
    "Output : `{4} {1, 3, 10}`"
   ]
  },
  {
   "cell_type": "markdown",
   "id": "37b5d544-60ce-490b-a7dc-485ac8c951fe",
   "metadata": {
    "tags": []
   },
   "source": [
    "### 문제  \n",
    "이름과 핸드폰 번호를 `input()`함수로 입력받아, 아래와 같은 형식으로 출력하는 코드를 작성하여라. 이때, 사용자의 이름은 두 글자에서 네 글자까지를 입력하며, \n",
    "핸드폰 번호는 아래의 형식으로 입력한다고 가정한다. \n",
    "\n",
    "Input : `name = '김강현'`, `num = '010-1234-5678'`   \n",
    "Output : `김*현(5678)님 등록되었습니다.`   \n",
    "\n",
    "Input : `name = '강현'`, `num = '01012345678'`   \n",
    "Output : `강*(5678)님 등록되었습니다.` \n",
    "\n",
    "Input : `name = '김강현이'`, `num = '010.1234.5678'`   \n",
    "Output : `김*현이(5678)님 등록되었습니다.`    \n",
    "\n",
    "Input : `name = '김강현'`, `num = '02-123-5678'`   \n",
    "Output : `김*현이(5678)님 등록되었습니다.`    \n"
   ]
  },
  {
   "cell_type": "markdown",
   "id": "3a24437a-d4f1-4271-93a9-8011a76eb25f",
   "metadata": {},
   "source": [
    "### 문제   \n",
    "어느 교육의 참가자 명단과 수료자 명단이 리스트로 주어졌을 때, 수료하지 못한 사람들의 명단을 리스트로 출력하는 코드를 작성하여라. 단, 참여자 중 동명이인은 없고, 순서는 중요하지 않다. \n",
    "\n",
    "Input : `participant = ['Apeach', 'Ryan', 'Muzi', 'Choonsik', 'Neo', 'Tube']`, `completion = ['Ryan', 'Muzi', 'Neo', 'Choonsik']`   \n",
    "Output : `['Apeach', 'Tube']`"
   ]
  },
  {
   "cell_type": "markdown",
   "id": "b2a0051d-a594-4747-b3a7-27b07811bc61",
   "metadata": {},
   "source": [
    "### 문제  \n",
    "어느 반 학생들의 이름이 리스트로 주어졌을 때, 번호와 이름을 키<font size = \"2\">key</font>와 값<font size = \"2\">value</font>으로 갖는 딕셔너리를 출력하는 코드를 작성하여라. 단, 번호는 이름의 오름차순으로 부여되고, 동명이인은 없다고 가정한다.  \n",
    " \n",
    "Input : `['Apeach', 'Ryan', 'Muzi', 'Choonsik', 'Neo', 'Tube']`     \n",
    "Output : `{'1': 'Apeach', '2': 'Choonsik', '3': 'Muzi', '4': 'Neo', '5': 'Ryan', '6': 'Tube'}`   \n",
    "\n",
    "리스트를 오름차순으로 정렬할 때, `sorted()` 함수를 사용한다. `sorted()` 함수는 항목을 오름차순으로 정렬하여 리스트로 반환한다.  \n",
    "```python \n",
    ">>> print(sorted(['a', 'c', 'b']))\n",
    "['a', 'b', 'c']\n",
    "```\n",
    " \n",
    "  \n",
    "사용자에게 번호를 입력받아, 그 번호에 해당하는 학생의 이름을 아래의 형식으로 출력하는 코드를 작성하여라.  \n",
    "Input : `3번`  \n",
    "Output : `3번은 Muzi입니다.`  "
   ]
  },
  {
   "cell_type": "markdown",
   "id": "08949ebb-dc7d-4668-9c44-036e5e32b836",
   "metadata": {},
   "source": [
    "### 문제   \n",
    "어느 평가위원회는 평가 점수 중 최고점과 최저점을 제외한 점수들의 평균을 최종 평가 점수로 부여하려고 한다. 선수 A의 점수가 리스트로 주어졌을 때, 선수 A의 최종 평가 점수를 출력하는 코드를 작성하여라. 리스트의 항목은 1에서 100 사이의 정수 7개로 이루어진다.  \n",
    "\n",
    "Input : `[85, 96, 78, 88, 81, 92, 73]`   \n",
    "Output : `선수 A의 점수는 84.8입니다.`    \n",
    "\n",
    "리스트 각 항목의 합은 `sum()` 함수를 사용하여 구할 수 있다.   \n",
    "```python  \n",
    ">>> sum([1, 2, 3])  \n",
    "6\n",
    "```"
   ]
  },
  {
   "cell_type": "markdown",
   "id": "2f7b83b9-0b94-4849-997c-ecc9265f2484",
   "metadata": {},
   "source": [
    "### 문제   \n",
    "두 문자열의 문자를 번갈아가며 결합해 하나의 문자열로 만들려고 한다.    \n",
    "예를 들어, `dog`와 `cat`이 주어지면, `dcoagt` 또는 `cdaotg`으로 결합한다.  \n",
    "두 문자열의 길이가 다르면, 가능한 데까지만 문자를 번갈아가며 결합하고 나머지는 그대로 적어준다.    \n",
    "예를 들어, `math`와 `computing`이 주어지면, `mcaotmhputing` 또는 `cmoamtphuting`로 결합한다.   \n",
    "단, 주어진 문자열들은 공백이 없다고 가정한다.  \n",
    "  \n",
    "두 문자열 `str1`과 `str2`을 위의 방식으로 결합했을 때, `str3`가 나오면 `True`, 아니면 `False`를 출력하는 코드를 작성하자.  \n",
    "\n",
    "Input : `str1 = 'dog'`, `str2 = 'cat'`, `str3 = 'dcoagt'`     \n",
    "Output : `True`  \n",
    "\n",
    "Input : `str1 = 'dog'`, `str2 = 'cat'`, `str3 = 'cdaotg'`    \n",
    "Output : `True`  \n",
    "\n",
    "Input : `str1 = 'dog'`, `str2 = 'cat'`, `str3 = 'docagt'`       \n",
    "Output : `False`     \n",
    "\n",
    "Input : `str1 = 'math'`, `str2 = 'computing'`, `str3 = 'cmoamtphuting'`    \n",
    "Output : `True`   \n",
    "\n",
    "Input : `str1 = 'math'`, `str2 = 'computing'`, `str3 = 'computmiantgh'`      \n",
    "Output : `False`    "
   ]
  },
  {
   "cell_type": "markdown",
   "id": "fab56813-5660-4cca-bb00-682640693cc4",
   "metadata": {},
   "source": [
    "### 문제  \n",
    "주어진 정수를 오름차순으로 정렬하여, 리스트 형태로 출력하는 코드를 작성하여라.    \n",
    "Input : `32145`    \n",
    "Output : `['1', '2', '3', '4', '5']`"
   ]
  },
  {
   "cell_type": "markdown",
   "id": "f96d296a-c14c-4745-a18a-b272db9bae27",
   "metadata": {
    "tags": []
   },
   "source": [
    "### 문제  \n",
    "\n",
    "다음과 같은 방법으로 (세 자리 수) × (세 자리 수) 를 계산할 수 있다.   \n",
    "\n",
    "<div align=\"left\">\n",
    "    <img src=\"https://raw.githubusercontent.com/hj617kim/core_pybook/master/images/ch04/pro01.png\" style=\"width:250px;\">\n",
    "</div>  \n",
    "\n",
    "두 세 자리 수가 주어질 때, ①, ②, ③, ④에 들어갈 값을 구하는 코드를 작성하여라.  \n",
    "(이번 장에서 배운 내용을 활용해 코드를 작성해보자.)\n",
    "\n",
    "입력 예시) \n",
    "```\n",
    "265\n",
    "112\n",
    "``` \n",
    "\n",
    "출력 예시)\n",
    "```\n",
    "530\n",
    "265\n",
    "265\n",
    "29680\n",
    "```"
   ]
  },
  {
   "cell_type": "markdown",
   "id": "97dd61af-b501-4e39-82d1-da085fec5b95",
   "metadata": {
    "jp-MarkdownHeadingCollapsed": true,
    "tags": []
   },
   "source": [
    "### 문제  \n",
    "아래 딕셔너리 `participants`은 모임일과 그날 참석한 사람들의 이름을 저장하고 있다. 그런데 3월7일 모임에 강현이가 참석하였는데, 이 정보가 누락되었다.  \n",
    "\n",
    "1) 3월7일 참석자 명단 마지막에 '강현'을 추가한 다음, 아래와 같은 형식으로 출력하는 코드를 작성하여라.   \n",
    "Input : `participants = {'1월3일' : ['현성', '문정', '현무', '강현'], '2월10일' : ['문정', '강현', '정훈'], '3월7일' : ['현성', '연아', '현무', '지아']}`    \n",
    "Output : `3월7일 모임에는 ['현성', '연아', '현무', '지아', '강현'], 총 5명이 참석했습니다.`  \n",
    "\n",
    "2) 사용자에게 이름을 입력받아 1월3일 모임에 참석했으면 `True`, 아니면 `False`를 출력하는 코드를 작성하여라.   \n",
    "Input : `name = '현성'`   \n",
    "Output : `True`"
   ]
  },
  {
   "cell_type": "markdown",
   "id": "48883b7d-862f-4ac3-8262-0501ad9225fc",
   "metadata": {},
   "source": [
    "### 문제  \n",
    "정수 `a`와 자연수 `n`을 입력받아, `n`개의 항목을 갖는 리스트를 출력하는 코드를 작성하여라.  \n",
    "단, 리스트의 항목은 `a`부터 시작하고, 그 다음 항목은 이전 항목보다 `a`만큼 크다.        \n",
    "Input : `a = 3`, `n = 4`  \n",
    "Output : `[3, 6, 9, 12]`  "
   ]
  },
  {
   "cell_type": "markdown",
   "id": "0125b896-70a2-4fbe-b069-72d044e8549c",
   "metadata": {},
   "source": [
    "### 문제   \n",
    "사용자에게 가장 저렴한 메뉴와 가장 비싼 메뉴를 추천하는 프로그램을 만들어보자.  \n",
    "입력으로 메뉴와 가격이 두 줄로 들어오는데, 각 줄의 항목은 공백으로 구분된다.  \n",
    "Input :   \n",
    "```  \n",
    "ham bread chicken egg  \n",
    "1200 5000 17000 500  \n",
    "```  \n",
    "Output :   \n",
    "```\n",
    "Cheapest food : egg  \n",
    "Most expensive food : chicken  \n",
    "```\n"
   ]
  },
  {
   "cell_type": "markdown",
   "id": "8d82cebc-a3aa-4e44-87b3-4cbccdafd2da",
   "metadata": {},
   "source": [
    "### 문제   \n",
    "정수 리스트가 주어졌을 때, 최댓값과 최솟값을 제외한 리스트를 출력하는 코드를 작성하여라. 최댓값과 최솟값이 여러 개라도 하나만 삭제한다.  \n",
    "\n",
    "예를 들어, 아래 리스트에서 최댓값은 96, 최솟값은 73이므로, 이 두 값을 제외한 `[85, 78, 88, 81, 92]`을 출력한다.   \n",
    "Input : `[85, 96, 78, 88, 81, 92, 73]`    \n",
    "Output : `[85, 78, 88, 81, 92]`     \n",
    " \n",
    "최솟값이 여러 개 있다면 가장 앞에 등장하는 최솟값 하나만 삭제하면 된다.   \n",
    "Input : `[85, 96, 78, 88, 81, 92, 73, 73]`   \n",
    "Output : `[85, 78, 88, 81, 92, 73]`     "
   ]
  },
  {
   "cell_type": "markdown",
   "id": "e50b52f0-845f-4675-8392-a948663e71d7",
   "metadata": {},
   "source": [
    "### 문제     \n",
    "학생의 이름과 점수를 연결하여 저장하는 프로그램을 만들어보자.  \n",
    "입력으로 학생의 이름과 점수가 두 줄로 들어오는데, 각 줄의 항목은 공백으로 구분된다.   \n",
    "Input:  \n",
    "```\n",
    "강현 나현 다현 라현 \n",
    "95 92 96 88 \n",
    "```  \n",
    "\n",
    "아래와 같이 학생의 이름과 점수를 튜플로 묶어 리스트로 출력하는 코드를 작성하여라.   \n",
    "\n",
    "Out:  \n",
    "```\n",
    "[('강현', '95'), ('나현', '92'), ('다현', '96'), ('라현', '88')]\n",
    "```  "
   ]
  },
  {
   "cell_type": "markdown",
   "id": "7f315b35-53a7-4512-becf-b8ba493fb104",
   "metadata": {},
   "source": [
    "### 문제    \n",
    "최고 점수와 최저 점수를 받은 학생 이름을 출력하는 프로그램을 만들어보자.   \n",
    "입력으로 학생의 이름과 점수가 두 줄로 들어오는데, 각 줄의 항목은 공백으로 구분된다.  \n",
    "\n",
    "Input:  \n",
    "```\n",
    "강현 나현 다현 라현 \n",
    "95 92 96 88 \n",
    "```    \n",
    "\n",
    "Output:  \n",
    "```\n",
    "최고 : 다현  \n",
    "최저 : 라현  \n",
    "```  "
   ]
  },
  {
   "cell_type": "markdown",
   "id": "cd37a9dc-3836-4e0f-be98-91fadea43146",
   "metadata": {},
   "source": [
    "### 문제   \n",
    "100m 수영 경기에 참여한 선수들의 기록(초 단위)이 선수 번호 순으로 리스트에 정리돼 있다.  \n",
    "아래처럼 1, 2, 3등의 번호와 기록을 출력하는 코드를 작성하라. \n",
    "\n",
    "예를 들어, 아래 리스트에서 1번 기록은 64초, 2번 기록은 62초이며, 8번 기록은 100초이다.  \n",
    "이중 4번 기록이 54초로 가장 빠르다.  \n",
    "\n",
    "Input: `num_list = [64, 62, 55, 54, 60, 58, 72, 100]`  \n",
    "Output:     \n",
    "```  \n",
    "1등 4번 54초    \n",
    "2등 3번 55초  \n",
    "3등 6번 58초  \n",
    "```  "
   ]
  },
  {
   "cell_type": "markdown",
   "id": "a54dd475-4dfb-4add-a24b-057de0a48834",
   "metadata": {},
   "source": [
    "### 문제  \n",
    "(1) 문자열이 주어졌을 때, 홀수번째 문자만 추출해 출력하는 코드를 작성하라.   \n",
    "\n",
    "Input: `words = 'abcdefg'`  \n",
    "Output: `aceg`  \n",
    "\n",
    "(2) 문자열이 주어졌을 때, 짝수번째 문자만 추출해 출력하는 코드를 작성하라.  \n",
    "\n",
    "Input: `words = 'abcdefg'`  \n",
    "Output: `bdf`   "
   ]
  },
  {
   "cell_type": "markdown",
   "id": "002fb2f7-2553-45fe-bd34-90b2cb8bd947",
   "metadata": {},
   "source": [
    "### 문제  \n",
    "투표 결과를 담은 리스트 `results`가 주어졌을 때 각 후보자의 이름과 득표수를 튜플로 묶은 리스트를 출력하는 코드를 리스트 조건제시법을 사용해 작성하라.  \n",
    "단, 출력하는 리스트의 항목의 순서는 중요하지 않다.   \n",
    "Input:  \n",
    "```\n",
    "results = ['나연', '나연', '가연', '다연', '마연', '나연', '가연', '나연', '다연', '다연']\n",
    "```  \n",
    "\n",
    "Output:  \n",
    "```\n",
    "[('마연', 1), ('나연', 4), ('다연', 3), ('가연', 2)]  \n",
    "```"
   ]
  },
  {
   "cell_type": "markdown",
   "id": "dd49c3a2-e1b3-4dd9-958d-06ba02e62a32",
   "metadata": {},
   "source": [
    "### 문제  \n",
    "어떤 문장의 각 문자를 일정한 거리만큼 밀어서 다른 문자로 변경하는 암호화 방법을 시저 암호라 한다.  \n",
    "예를 들어, `CAT`을 1글자씩 밀어내 암호화하면 `DBU`이다. 암호화할 영문장과 밀어내는 글자 수가 주어졌을 때, 암호화된 문장을 출력하여라. 단, 암호화할 영문장에는 공백이 없으며, 밀어내는 글자 수는 0보다 크고 26보다 작다고 가정한다.  \n",
    "\n",
    "Input:  \n",
    "```\n",
    "words = 'CAT'\n",
    "num = 1\n",
    "```\n",
    "\n",
    "Output:\n",
    "```\n",
    "'DBU'\n",
    "```"
   ]
  },
  {
   "cell_type": "markdown",
   "id": "35f9015e-16ed-4cdf-8c6a-715934bfa070",
   "metadata": {},
   "source": [
    "필요하다면 `string` 모듈의 ascii_uppercase를 이용하라."
   ]
  },
  {
   "cell_type": "code",
   "execution_count": 133,
   "id": "a41fa1e6-e97e-44d5-aad1-f7b7308110be",
   "metadata": {},
   "outputs": [
    {
     "name": "stdout",
     "output_type": "stream",
     "text": [
      "ABCDEFGHIJKLMNOPQRSTUVWXYZ\n"
     ]
    }
   ],
   "source": [
    "import string\n",
    "print(string.ascii_uppercase)"
   ]
  },
  {
   "cell_type": "markdown",
   "id": "e064714b-2dc0-4337-be4a-91b123a8a39c",
   "metadata": {},
   "source": [
    "### 문제  \n",
    "연도별 띠는 다음과 같다. \n",
    "\n",
    "|연도| 띠|\n",
    "|:---:|:---:|\n",
    "|2020|쥐|\n",
    "|2021|소|\n",
    "|2022|호랑이|\n",
    "|2023|토끼|\n",
    "|2024|용|\n",
    "|2025|뱀|\n",
    "|2026|말|\n",
    "|2027|양|\n",
    "|2028|원숭이|\n",
    "|2029|닭|\n",
    "|2030|개|\n",
    "|2031|돼지|\n",
    "\n",
    "`input()` 함수로 연도를 입력 받아 그 연도의 띠를 출력하는 코드를 작성하라. \n",
    "\n",
    "예를 들어, `2022`년은 `호랑이`, `2000`은 `용`, `2032`는 `쥐`다. "
   ]
  },
  {
   "cell_type": "markdown",
   "id": "efb86f89-47dd-40d2-b604-72245b3ffe4d",
   "metadata": {
    "tags": []
   },
   "source": [
    "### 문제 \n",
    "\n",
    "체스판의 각 칸은 아래와 같이 흰색(`W`)과 검은색(`B`)으로 되어 있다. 다음 물음에 답하여라. \n",
    "\n",
    "<div align=\"center\">\n",
    "    <img src=\"https://raw.githubusercontent.com/hj617kim/core_pybook/master/images/ch04/chess_img.png\" style=\"width:400px;\">\n",
    "</div>\n",
    "\n",
    "1. `input()` 함수로 체스판의 크기를 입력 받아 체스판의 각 칸의 색을 리스트로 출력하는 코드를 작성하라.   \n",
    "변수 `color`에 문자열 `'WB'`를 할당한 다음, 이를 이용하여라.  \n",
    "예를 들어, `2`를 입력하면 아래와 같은 중첩된 리스트를 출력하면 된다.  \n",
    "\n",
    "```\n",
    "[['W', 'B'], \n",
    "['B', 'W']]\n",
    "```\n",
    "\n",
    "2. `input()` 함수로 체스판의 위치를 입력 받아 그 위치의 체스판 색을 출력하는 코드를 작성하라.  \n",
    "예를 들어, 2×2크기의 체스판에서 (1, 1) 위치의 색은 흰색(`W`)이다.\n",
    "\n",
    "Input:\n",
    "```\n",
    "1 1\n",
    "```\n",
    "\n",
    "Output:\n",
    "```\n",
    "W\n",
    "```"
   ]
  },
  {
   "cell_type": "code",
   "execution_count": null,
   "id": "36a0ccee-d602-4733-b7f3-03e6ba3fde86",
   "metadata": {},
   "outputs": [],
   "source": []
  }
 ],
 "metadata": {
  "kernelspec": {
   "display_name": "Python 3 (ipykernel)",
   "language": "python",
   "name": "python3"
  },
  "language_info": {
   "codemirror_mode": {
    "name": "ipython",
    "version": 3
   },
   "file_extension": ".py",
   "mimetype": "text/x-python",
   "name": "python",
   "nbconvert_exporter": "python",
   "pygments_lexer": "ipython3",
   "version": "3.8.10"
  },
  "toc-autonumbering": true
 },
 "nbformat": 4,
 "nbformat_minor": 5
}