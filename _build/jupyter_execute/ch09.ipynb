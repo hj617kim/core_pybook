{
 "cells": [
  {
   "cell_type": "markdown",
   "id": "2f2334b8-1baa-47de-b1c0-167a03fc535c",
   "metadata": {},
   "source": [
    "# 기초 추상 자료형"
   ]
  },
  {
   "cell_type": "markdown",
   "id": "c5308ab0-784e-4fd4-87e4-d8dd61e007e3",
   "metadata": {},
   "source": [
    "## 스택  \n",
    "\n",
    "스택<font size=\"2\">stack</font>은 여러 개의 값을 가지며 값들 사이의 순서가 중요한 선형 자료형이다. 항목의 추가 및 삭제는 보통 **탑**<font size=\"2\">top</font>이라 불리는 한쪽 끝에서만 허용된다. 반면에 다른 한 쪽 끝은 **베이스**<font size=\"2\">base</font>라 한다.  \n",
    "스택은 아래 그림처럼 데이터를 들어온 순으로 쌓아 올린 형상을 생각하면 된다.    \n",
    "\n",
    "<div align=\"center\">\n",
    "    <img src=\"https://raw.githubusercontent.com/hj617kim/core_pybook/master/images/ch09/stack01.png\" style=\"width:400px;\">\n",
    "</div>\n",
    "\n",
    "아래 그림처럼 스택은 들어온 순서의 역순으로 삭제되는 선입후출<font size=\"2\">Last In First Out</font>로 처리된다.  \n",
    "\n",
    "* 베이스 : 가장 먼저 추가된 항목\n",
    "* 탑 : 가장 나중에 추가된 항목이며 가장 먼저 삭제될 대상\n",
    "\n",
    "<div align=\"center\">\n",
    "    <img src=\"https://raw.githubusercontent.com/hj617kim/core_pybook/master/images/ch09/stack02.png\" style=\"width:400px;\">\n",
    "</div>\n",
    "\n",
    "**활용 예제** : 인터넷 브라우저의 '뒤로가기(Back)' 버튼  \n",
    "웹페이지가 변경될 때마다 순서를 기억해 둔 다음에 '뒤로가기' 버튼을 누르면 역순으로 이전 웹페이지를 보여준다.  \n",
    "\n",
    "**활용 예제** : 응용 프로그램의 되돌리기<font size=\"2\">undo</font> 기능  \n",
    "변경될 때마다 순서를 기억해 둔 다음에 되돌리기 버튼 또는 ctrl + z를 누르면 마지막에 실행된 것부터 실행을 취소한다.  "
   ]
  },
  {
   "cell_type": "markdown",
   "id": "8278e468-b6b4-4650-9c96-47cdcf11f59d",
   "metadata": {},
   "source": [
    "## `Stack` 추상 자료형  \n",
    "스택 추상 자료형을 구체적인 파이썬 자료구조<font size=\"2\">data structure</font>로 구현하려면 갖추어야 하는 기본 기능은 다음과 같다.  \n",
    "* `Stack()` : 비어 있는 스택 생성. 생성자의 역할.  \n",
    "* `push(item)` : 새로운 항목을 탑<font size=\"2\">top</font>으로 추가. \n",
    "* `pop()` : 탑 항목 삭제. 삭제된 항목 반환.\n",
    "* `peek()` : 탑 항목 반환. 하지만 삭제하지는 않음. \n",
    "* `is_empty()` : 스택이 비었는지 여부 판단. 불리언 값 반환.\n",
    "* `size()` : 항목 개수 반환.   \n",
    "\n",
    "아래 표는 스택 생성과 함께 다양한 스택 관련 연산의 작동법을 소개한다. 파이썬은 스택 추상 자료형을 별도로 제공하지는 않지만, 리스트`list`가 스택의 모든 연산을 지원한다.   \n",
    "\n",
    "|스택연산|스택항목|반환값|\n",
    "|:----------|:-------------|:---------:|\n",
    "|`s = Stack()`| `[]`||\n",
    "|`s.is_empty()`|`[]`|`True`|\n",
    "|`s.push(2)`|`[2]`||\n",
    "|`s.push('Hello')`|`[2, 'Hello']`||\n",
    "|`s.peek()`|`[2, 'Hello']`|`'Hello'`|\n",
    "|`s.push(3.2)`|`[2, 'Hello', 3.2]`||\n",
    "|`s.size()`|`[2, 'Hello', 3.2]`|`3`|\n",
    "|`s.is_empty()`|`[2, 'Hello', 3.2]`|`False`|\n",
    "|`s.push(True)`|`[2, 'Hello', 3.2, True]`||\n",
    "|`s.pop()`|`[2, 'Hello', 3.2]`|`True`|\n",
    "|`s.pop()`|`[2, 'Hello']`|`3.2`|\n",
    "|`s.size()`|`[2, 'Hello']`|`2`|\n",
    "\n"
   ]
  },
  {
   "cell_type": "markdown",
   "id": "442ab32f-3d4d-44d5-8af7-08c357643c7a",
   "metadata": {},
   "source": [
    "## 스택 자료구조 구현  \n",
    "스택 자료구조를 `Stack` 클래스로 구현하기 위해 리스트를 항목들의 저장 장치로 활용하며, 앞서 소개한 기능들은 모두 메서드로 정의한다. 스택의 탑 역할은 리스트의 오른쪽 끝(마지막 항목)이 수행하도록 한다. 그러면 리스트의 `pop()`과 `append()`를 잘 활용할 수 있다.  "
   ]
  },
  {
   "cell_type": "code",
   "execution_count": 1,
   "id": "8a08c363-08a4-4b08-b020-24b9b7282f85",
   "metadata": {},
   "outputs": [],
   "source": [
    "class Stack:\n",
    "    \"\"\"리스트를 활용한 스택 구현\"\"\"\n",
    "\n",
    "    def __init__(self):\n",
    "        \"\"\"새로운 스택 생성\"\"\"\n",
    "        self._items = []\n",
    "\n",
    "    def __str__(self):\n",
    "        \"\"\"스택 표기법: <[1, 2, 3]> 등등\"\"\"\n",
    "        return f\"<{self._items}>\"\n",
    "        \n",
    "    def is_empty(self):\n",
    "        \"\"\"비었는지 여부 확인\"\"\"\n",
    "        return not bool(self._items)\n",
    "\n",
    "    def push(self, item):\n",
    "        \"\"\"새 항목 추가\"\"\"\n",
    "        self._items.append(item)\n",
    "\n",
    "    def pop(self):\n",
    "        \"\"\"항목 제거\"\"\"\n",
    "        return self._items.pop()\n",
    "\n",
    "    def peek(self):\n",
    "        \"\"\"탑 항목 반환\"\"\"\n",
    "        return self._items[-1]\n",
    "\n",
    "    def size(self):\n",
    "        \"\"\"항목 개수 반환\"\"\"\n",
    "        return len(self._items)"
   ]
  },
  {
   "cell_type": "markdown",
   "id": "dc362929-dd05-48c1-ada6-2079fef99dd8",
   "metadata": {},
   "source": [
    ":::{admonition} 참고    \n",
    ":class: info  \n",
    "리스트의 첫 번째 항목을 스택의 탑으로 하려면 `pop(0)`와 `insert(0, item)`을 사용하면 된다.  \n",
    ":::\n"
   ]
  },
  {
   "cell_type": "markdown",
   "id": "db17da43-d4c3-43e7-8945-aeffe14350f8",
   "metadata": {},
   "source": [
    "위 표를 코드로 구현하면 다음과 같다. "
   ]
  },
  {
   "cell_type": "code",
   "execution_count": 2,
   "id": "38851121-3272-4105-a864-0fac55ed49a9",
   "metadata": {},
   "outputs": [
    {
     "name": "stdout",
     "output_type": "stream",
     "text": [
      "<[]>\n",
      "True\n"
     ]
    }
   ],
   "source": [
    "s = Stack()\n",
    "print(s)\n",
    "print(s.is_empty())"
   ]
  },
  {
   "cell_type": "code",
   "execution_count": 3,
   "id": "cb71bbc2-2af8-42bf-bfde-495a3256905f",
   "metadata": {},
   "outputs": [
    {
     "name": "stdout",
     "output_type": "stream",
     "text": [
      "<[2, 'Hello']>\n",
      "Hello\n"
     ]
    }
   ],
   "source": [
    "s.push(2)\n",
    "s.push('Hello')\n",
    "\n",
    "print(s)\n",
    "print(s.peek())"
   ]
  },
  {
   "cell_type": "code",
   "execution_count": 4,
   "id": "d2b5b9bd-6b8b-4d57-b721-fdffce08c11d",
   "metadata": {},
   "outputs": [
    {
     "name": "stdout",
     "output_type": "stream",
     "text": [
      "<[2, 'Hello', 3.2]>\n",
      "3\n",
      "False\n"
     ]
    }
   ],
   "source": [
    "s.push(3.2)\n",
    "print(s)\n",
    "print(s.size())\n",
    "print(s.is_empty())"
   ]
  },
  {
   "cell_type": "code",
   "execution_count": 5,
   "id": "d181824e-5407-4b62-bd67-ff743166f112",
   "metadata": {},
   "outputs": [
    {
     "name": "stdout",
     "output_type": "stream",
     "text": [
      "<[2, 'Hello', 3.2, True]>\n",
      "True\n"
     ]
    }
   ],
   "source": [
    "s.push(True)\n",
    "print(s)\n",
    "print(s.pop())"
   ]
  },
  {
   "cell_type": "code",
   "execution_count": 6,
   "id": "b0608c04-ad42-49c8-a757-efd059f181c8",
   "metadata": {},
   "outputs": [
    {
     "name": "stdout",
     "output_type": "stream",
     "text": [
      "<[2, 'Hello', 3.2]>\n",
      "3.2\n",
      "2\n"
     ]
    }
   ],
   "source": [
    "print(s)\n",
    "print(s.pop())\n",
    "print(s.size())"
   ]
  },
  {
   "cell_type": "markdown",
   "id": "09ec097d-1440-4c24-8bf0-d0c90f870618",
   "metadata": {},
   "source": [
    "````{prf:example}\n",
    ":label: stack-example01  \n",
    "함수나 연산 실행에 사용되는 괄호는 짝이 맞아야 한다. 즉, 여는 괄호와 닫는 괄호의 짝이 맞아야 한다. 파이썬의 경우 괄호가 맞지 않으면 구문 오류`SyntaxError`가 발생한다.   \n",
    "\n",
    "스택을 이용하여 괄호로 이루어진 문자열이 짝이 맞는 괄호들로 이루어졌는지 여부를 판단하는 함수`par_checker()` 를 구현하여라.   \n",
    "````"
   ]
  },
  {
   "cell_type": "markdown",
   "id": "6fb45364-700e-4bf0-9a0a-a7e877350d50",
   "metadata": {},
   "source": [
    "```python\n",
    ">>> print(par_checker(\"((()))\"))\n",
    "True\n",
    ">>> print(par_checker(\"()()()\"))\n",
    "True\n",
    ">>> print(par_checker(\"((())\"))\n",
    "False\n",
    ">>> print(par_checker(\")(\"))\n",
    "False\n",
    "```"
   ]
  },
  {
   "cell_type": "markdown",
   "id": "482a7652-27d6-42a1-a71c-384663bf9b9f",
   "metadata": {},
   "source": [
    "스택 활용법은 다음과 같다. 괄호로 이루어진 문자열이 주어졌을 때, 왼편부터 시작하여 여는 괄호와 닫는 괄호를 만날 때마다 아래 작업을 반복한다.  \n",
    "* 여는 괄호(`(`) : 스택에 추가  \n",
    "* 닫는 괄호(`)`) : 스택의 탑 항목 삭제   \n",
    "\n",
    "위 작업을 반복하다 보면 아래 세 가지 경우가 발생한다.  \n",
    "* 문자열을 다 확인하기 전에 스택이 비워지는 경우 - 닫는 괄호가 더 많기 때문.    \n",
    "* 끝까지 다 확인했을 때 스택이 비워지지 않은 경우 - 여는 괄호가 더 많기 때문.  \n",
    "* 위 두 경우가 아니면 모든 괄호의 짝은 맞음."
   ]
  },
  {
   "cell_type": "code",
   "execution_count": 7,
   "id": "0d2dd586-2199-451e-8bed-7dc857572039",
   "metadata": {},
   "outputs": [],
   "source": [
    "def par_checker(par_string) :\n",
    "    \n",
    "    s = Stack()\n",
    "    \n",
    "    for p in par_string :\n",
    "        if p == \"(\" :\n",
    "            s.push(p)\n",
    "        elif s.is_empty() :\n",
    "            return False\n",
    "        else :\n",
    "            s.pop()\n",
    "            \n",
    "    return s.is_empty()"
   ]
  },
  {
   "cell_type": "code",
   "execution_count": 8,
   "id": "27699159-d884-4602-8baf-8e88dfd61e19",
   "metadata": {},
   "outputs": [
    {
     "name": "stdout",
     "output_type": "stream",
     "text": [
      "True\n",
      "True\n",
      "False\n",
      "False\n"
     ]
    }
   ],
   "source": [
    "print(par_checker(\"((()))\"))\n",
    "print(par_checker(\"()()()\"))\n",
    "print(par_checker(\"((())\"))\n",
    "print(par_checker(\")(\"))"
   ]
  },
  {
   "cell_type": "markdown",
   "id": "4bf743f0-83ef-4ef7-8ecf-918448c72c71",
   "metadata": {},
   "source": [
    "## 연습문제"
   ]
  },
  {
   "cell_type": "markdown",
   "id": "966d09ee-0d32-4ac6-8517-557e763864e0",
   "metadata": {},
   "source": [
    "### 문제  \n",
    "함수나 연산 실행에 사용되는 괄호는 짝이 맞아야 한다. 즉, 여는 괄호와 닫는 괄호의 짝이 맞아야 한다. 파이썬의 경우 괄호가 맞지 않으면 구문 오류`SyntaxError`가 발생한다. 아래 괄호로 이루어진 문자열이 짝이 맞는 괄호들로 이루어졌는지 여부를 판단하는 함수`balance_checker()`를 구현하여라.  \n",
    "* `(`, `)` : 소괄호\n",
    "* `{`, `}` : 중괄호\n",
    "* `[`, `]` : 대괄호\n",
    "\n",
    "```python\n",
    ">>> print(balance_checker('{{([][])}()}'))\n",
    "True\n",
    "```\n",
    "\n",
    "```python\n",
    ">>> print(balance_checker('[[{{(())}}]]'))\n",
    "True\n",
    "```\n",
    "\n",
    "```python\n",
    ">>> print(balance_checker('[][][](){}'))\n",
    "True\n",
    "```\n",
    "\n",
    "```python\n",
    ">>> print(balance_checker('([))'))\n",
    "False\n",
    "```\n",
    "\n",
    "```python\n",
    ">>> print(balance_checker('[{()]'))\n",
    "False\n",
    "```"
   ]
  },
  {
   "cell_type": "markdown",
   "id": "155d6037-a5ca-4dfa-b5e2-f33386fccc15",
   "metadata": {},
   "source": [
    "### 문제  \n"
   ]
  },
  {
   "cell_type": "markdown",
   "id": "7f3ee407-9458-4117-b959-46b02d4148d5",
   "metadata": {},
   "source": [
    "십진법은 우리가 일반적으로 사용하는 기수법<font size=\"2\">numeral system</font>으로, 0,1,2,3,4,5,6,7,8,9라는 10개의 숫자를 가지고 수를 표현하며, 수의 자리가 하나씩 올라감에 따라 자릿값이 10배씩 커진다. 반면에 이진법은 0과 1, 두 개의 숫자를 가지고 수를 표현하며, 수의 자리가 하나씩 올라감에 따라 자릿값이 2배씩 커진다. 예를 들어, 십진법 정수 $125_{10}$를 이진법으로 표기하면 $1111101_{2}$이 된다. \n",
    "\n",
    "$$123_{10} = 1 \\times 10^2 + 2 \\times 10^1 + 3 \\times 10^0 $$\n",
    "$$1111101_{2} = 1 \\times 2^6 + 1 \\times 2^5 + 1 \\times 2^4 + 1 \\times 2^3 + 1 \\times 2^2 + 0 \\times 2^1 + 1 \\times 2^0$$  "
   ]
  },
  {
   "cell_type": "markdown",
   "id": "11e4a2ad-4dde-4f2f-a200-0353ec421174",
   "metadata": {},
   "source": [
    "십진법으로 표기된 정수를 이진법으로 변환하는 함수`base_converter()` 함수를 정의하여라.   \n",
    "\n",
    "```python\n",
    ">>> print(base_converter(123))\n",
    "1111101\n",
    "```\n",
    "\n",
    "```python\n",
    ">>> print(base_converter(7))\n",
    "111\n",
    "```\n",
    "\n",
    "```python\n",
    ">>> print(base_converter(11))\n",
    "1011\n",
    "```"
   ]
  },
  {
   "cell_type": "markdown",
   "id": "77a61750-6ae8-49af-9095-c9148409d6b0",
   "metadata": {},
   "source": [
    "```{admonition} 도움말    \n",
    ":class: dropdown\n",
    "십진법으로 표기된 정수의 이진법 표기를 찾는 알고리즘은 아래와 같다.  \n",
    "* 2로 나눈 후 나머지를 스택에 추가한다.  \n",
    "* 2로 나눈 몫을 대상으로 위 과정을 반복한다. \n",
    "* 스택에 쌓인 값들을 거꾸로 읽는다. 즉, `pop()`을 연속적으로 활용한다.  \n",
    "```"
   ]
  },
  {
   "cell_type": "markdown",
   "id": "0c3147e3-28f0-4881-b0c0-7e9b35b5ac54",
   "metadata": {},
   "source": [
    "### 문제  \n",
    "회의 시간을 정하기 위해 팀원들에게 회의하기 어려운 시간을 구간으로 조사하였다. 그리고 겹치는 구간을 합해 회의 불가능한 시간을 정리하려고 한다. 이때, 13시부터 15시까지 회의가 어렵다면, 이를 `[13, 15]`로 표현한다.  \n",
    "\n",
    "예를 들어, 아래와 같다면, 회의 불가능한 시간은 9시부터 10시(`[9, 10]`), 12시부터 15시(`[12, 15]`)이다.   \n",
    "* A는 13시부터 15시까지 회의 불가능 - `[13, 15]`  \n",
    "* B는 9시부터 10시, 12시부터 14시 회의 불가능 - `[9, 10]`, `[12, 14]`  \n",
    "\n",
    "시간은 0~24사이(끝 값 포함)의 정수로 입력된다고 가정한다.  \n",
    "\n",
    "여러 개의 길이가 2인 리스트를 인자로 받아, 각 구간을 합하여 겹치지 않는 구간을 만든 다음 반환하는 `merge_intervals()` 함수를 정의하여라.     \n",
    "\n",
    "```python\n",
    ">>> print(merge_intervals([13, 15], [9, 10], [12, 14]))\n",
    "[[9, 10], [12, 15]]\n",
    "```\n",
    "\n",
    "```python\n",
    ">>> print(merge_intervals([10, 16], [9, 12]))\n",
    "[[9, 16]]\n",
    "```"
   ]
  },
  {
   "cell_type": "markdown",
   "id": "7fd1b2a2-5435-44cc-b27a-543af362b01f",
   "metadata": {},
   "source": [
    "```{admonition} 도움말    \n",
    ":class: dropdown\n",
    "* 시작 시간을 기준으로 오름차순으로 정렬한다.   \n",
    "* 스택을 만든다.    \n",
    "* 각 구간에 대해 스택이 비어있거나 스택의 탑에 있는 구간의 끝 시간이 그 구간의 시작 시간보다 작으면(즉, 두 구간이 겹치지 않는 경우), 그 구간을 스택에 넣는다.  \n",
    "* 위에서 구간이 겹친다면, 스택의 탑에 있는 구간의 끝 시간을 업데이트하여 두 구간을 병합한다.  \n",
    "* 스택에 있는 겹치지 않는 모든 구간을 반환한다.   \n",
    "```"
   ]
  },
  {
   "cell_type": "markdown",
   "id": "756e8b71-49cb-47d1-8d1a-d65137307cf0",
   "metadata": {},
   "source": [
    "### 문제"
   ]
  },
  {
   "cell_type": "markdown",
   "id": "59eeb13c-900d-454a-9f9c-4676d0546627",
   "metadata": {},
   "source": [
    "매일의 주식 종가가 기록된 리스트를 입력받아서, 주식가격이 오르기 위해서는 며칠을 기다려야 하는지를 반환하는 함수 `closing_price()`를 정의하여라.   \n",
    "\n",
    "예를 들어, 첫째 날의 종가는 100원이고 1일만 지나면 종가가 오른다. 둘째 날의 종가는 101원이고 4일이 지나야 종가가 오른다.   \n",
    "```python \n",
    ">>>print(closing_price([100, 101, 95, 92, 90, 120]))\n",
    "[1, 4, 3, 2, 1, 0]\n",
    "```"
   ]
  },
  {
   "cell_type": "markdown",
   "id": "1daaa609-4e57-49e9-a81d-dccfb25fa316",
   "metadata": {},
   "source": [
    "### 문제"
   ]
  },
  {
   "cell_type": "markdown",
   "id": "21711d71-8a7e-48d5-acb2-06e03463cf05",
   "metadata": {},
   "source": [
    "문자 없애기 게임을 만들어보자. 게임은 다음과 같이 진행된다.     \n",
    "\n",
    "* 컴퓨터는 `abcd` 중 중복을 허용하여 랜덤하게 3개의 문자를 말한다.  \n",
    "* 사용자는 `abcd` 중 중복을 허용하여 3개의 문자를 입력한다.  \n",
    "* 컴퓨터와 사용자가 입력한 문자열은 순서대로 이어 붙여진다. 그리고 같은 문자가 3번이상 반복되면 그 문자는 사라진다.  \n",
    "\n",
    "위 과정을 반복하여, 사용자는 모든 문자를 없애야 한다.   \n",
    "\n",
    "예를 들어, 게임 진행 과정은 아래와 같다. `coputer`가 랜덤하게 3개의 문자를 말하면, `user`가 3개의 문자를 입력한다.  \n",
    "```\n",
    "computer : bdc\n",
    "user : ccd\n",
    "```\n",
    "두 문자열을 이어 붙이면 `bdcccd` 이고 `c`가 3번 반복되어 `bdd`가 남는다. 그 다음은 `computer` 차례다. \n",
    "\n",
    "```\n",
    "computer : cac\n",
    "```\n",
    "문자열을 이어 붙이면 현재 문자열은 `bddcac`이다. 그 다음은 `user` 입력할 차례다. \n",
    "\n",
    "```\n",
    "user : cca\n",
    "```\n",
    "문자열을 이어 붙이면 `bddcaccca` 이고 `c`가 3번 반복되어 `bddcaa`가 남는다. 그 다음 `computer` 차례다. \n",
    "\n",
    "```\n",
    "computer : acc\n",
    "```\n",
    "그러면 `bddcaaacc`가 된다. `a`가 3번 반복되어 `bddccc`가 된다. 그런데 이때도 `c`가 3번 반복되어 사라진다. 그래서 `bdd`가 남는다.  \n",
    "\n",
    "이제 `user`가 `dbb`를 입력하면, 모든 문자가 사라지고 게임이 끝난다.   \n",
    "\n",
    "\n",
    "필요하면, `random` 모듈의 `choices()` 함수를 사용한다. `choices(population, k = 1)`는 `population`에서 중복을 허용하면서 선택한 `k` 크기의 요소를 가진 리스트를 반환한다.  \n",
    "\n",
    "게임을 구현할 때는 사용자에게 문자를 입력 받기 전 현재 남아 있는 문자를 보여줘야 한다.   "
   ]
  },
  {
   "cell_type": "code",
   "execution_count": 9,
   "id": "3fbcf4a5-9c92-448a-995f-2265d22cba77",
   "metadata": {},
   "outputs": [
    {
     "name": "stdout",
     "output_type": "stream",
     "text": [
      "['c', 'c', 'c']\n",
      "['c', 'b', 'a']\n",
      "['c', 'a', 'b']\n"
     ]
    }
   ],
   "source": [
    "import random\n",
    "\n",
    "print(random.choices('abc', k = 3))\n",
    "print(random.choices('abc', k = 3))\n",
    "print(random.choices('abc', k = 3))"
   ]
  }
 ],
 "metadata": {
  "kernelspec": {
   "display_name": "Python 3 (ipykernel)",
   "language": "python",
   "name": "python3"
  },
  "language_info": {
   "codemirror_mode": {
    "name": "ipython",
    "version": 3
   },
   "file_extension": ".py",
   "mimetype": "text/x-python",
   "name": "python",
   "nbconvert_exporter": "python",
   "pygments_lexer": "ipython3",
   "version": "3.8.10"
  },
  "toc-autonumbering": true
 },
 "nbformat": 4,
 "nbformat_minor": 5
}