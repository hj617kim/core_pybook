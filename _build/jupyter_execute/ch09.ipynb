{
 "cells": [
  {
   "cell_type": "markdown",
   "id": "2f2334b8-1baa-47de-b1c0-167a03fc535c",
   "metadata": {},
   "source": [
    "# 기초 추상 자료형"
   ]
  },
  {
   "cell_type": "markdown",
   "id": "c5308ab0-784e-4fd4-87e4-d8dd61e007e3",
   "metadata": {},
   "source": [
    "## 스택  \n",
    "\n",
    "스택<font size=\"2\">stack</font>은 여러 개의 값을 가지며 값들 사이의 순서가 중요한 선형 자료형이다. 항목의 추가 및 삭제는 보통 **탑**<font size=\"2\">top</font>이라 불리는 한쪽 끝에서만 허용된다. 반면에 다른 한 쪽 끝은 **베이스**<font size=\"2\">base</font>라 한다.  \n",
    "스택은 아래 그림처럼 데이터를 들어온 순으로 쌓아 올린 형상을 생각하면 된다.    \n",
    "\n",
    "<div align=\"center\">\n",
    "    <img src=\"https://raw.githubusercontent.com/hj617kim/core_pybook/master/images/ch09/stack01.png\" style=\"width:220px;\">\n",
    "</div>\n",
    "\n",
    "아래 그림처럼 스택은 들어온 순서의 역순으로 삭제되는 선입후출<font size=\"2\">Last In First Out, LIFO</font>로 처리된다.  \n",
    "\n",
    "* 베이스 : 가장 먼저 추가된 항목\n",
    "* 탑 : 가장 나중에 추가된 항목이며 가장 먼저 삭제될 대상\n",
    "\n",
    "<div align=\"center\">\n",
    "    <img src=\"https://raw.githubusercontent.com/hj617kim/core_pybook/master/images/ch09/stack02.png\" style=\"width:250px;\">\n",
    "</div>\n",
    "\n",
    "**활용 예제** : 인터넷 브라우저의 '뒤로가기(Back)' 버튼  \n",
    "웹페이지가 변경될 때마다 순서를 기억해 둔 다음에 '뒤로가기' 버튼을 누르면 역순으로 이전 웹페이지를 보여준다.  \n",
    "\n",
    "**활용 예제** : 응용 프로그램의 되돌리기<font size=\"2\">undo</font> 기능  \n",
    "변경될 때마다 순서를 기억해 둔 다음에 되돌리기 버튼 또는 ctrl + z를 누르면 마지막에 실행된 것부터 실행을 취소한다.  "
   ]
  },
  {
   "cell_type": "markdown",
   "id": "8278e468-b6b4-4650-9c96-47cdcf11f59d",
   "metadata": {},
   "source": [
    "### `Stack` 추상 자료형  \n",
    "스택 추상 자료형을 구체적인 파이썬 자료구조<font size=\"2\">data structure</font>로 구현하려면 갖추어야 하는 기본 기능은 다음과 같다.  \n",
    "* `Stack()` : 비어 있는 스택 생성. 생성자의 역할.  \n",
    "* `push(item)` : 새로운 항목을 탑<font size=\"2\">top</font>으로 추가. \n",
    "* `pop()` : 탑 항목 삭제. 삭제된 항목 반환.\n",
    "* `peek()` : 탑 항목 반환. 하지만 삭제하지는 않음. \n",
    "* `is_empty()` : 스택이 비었는지 여부 판단. 불리언 값 반환.\n",
    "* `size()` : 항목 개수 반환.   \n",
    "\n",
    "아래 표는 스택 생성과 함께 다양한 스택 관련 연산의 작동법을 소개한다. 파이썬은 스택 추상 자료형을 별도로 제공하지는 않지만, 리스트`list`가 스택의 모든 연산을 지원한다.   \n",
    "\n",
    "|스택 연산|스택 항목|반환값|\n",
    "|:----------|:-------------|:---------:|\n",
    "|`s = Stack()`| `[]`||\n",
    "|`s.is_empty()`|`[]`|`True`|\n",
    "|`s.push(2)`|`[2]`||\n",
    "|`s.push('Hello')`|`[2, 'Hello']`||\n",
    "|`s.peek()`|`[2, 'Hello']`|`'Hello'`|\n",
    "|`s.push(3.2)`|`[2, 'Hello', 3.2]`||\n",
    "|`s.size()`|`[2, 'Hello', 3.2]`|`3`|\n",
    "|`s.is_empty()`|`[2, 'Hello', 3.2]`|`False`|\n",
    "|`s.push(True)`|`[2, 'Hello', 3.2, True]`||\n",
    "|`s.pop()`|`[2, 'Hello', 3.2]`|`True`|\n",
    "|`s.pop()`|`[2, 'Hello']`|`3.2`|\n",
    "|`s.size()`|`[2, 'Hello']`|`2`|\n",
    "\n"
   ]
  },
  {
   "cell_type": "markdown",
   "id": "442ab32f-3d4d-44d5-8af7-08c357643c7a",
   "metadata": {},
   "source": [
    "### 스택 자료구조 구현  \n",
    "스택 자료구조를 `Stack` 클래스로 구현하기 위해 리스트를 항목들의 저장 장치로 활용하며, 앞서 소개한 기능들은 모두 메서드로 정의한다. 스택의 탑 역할은 리스트의 오른쪽 끝(마지막 항목)이 수행하도록 한다. 그러면 리스트의 `pop()`과 `append()`를 잘 활용할 수 있다.  "
   ]
  },
  {
   "cell_type": "code",
   "execution_count": 1,
   "id": "8a08c363-08a4-4b08-b020-24b9b7282f85",
   "metadata": {},
   "outputs": [],
   "source": [
    "class Stack:\n",
    "    \"\"\"리스트를 활용한 스택 구현\"\"\"\n",
    "\n",
    "    def __init__(self):\n",
    "        \"\"\"새로운 스택 생성\"\"\"\n",
    "        self._items = []\n",
    "\n",
    "    def __str__(self):\n",
    "        \"\"\"스택 표기법: <[1, 2, 3]> 등등\"\"\"\n",
    "        return f\"<{self._items}>\"\n",
    "        \n",
    "    def is_empty(self):\n",
    "        \"\"\"비었는지 여부 확인\"\"\"\n",
    "        return not bool(self._items)\n",
    "\n",
    "    def push(self, item):\n",
    "        \"\"\"새 항목 추가\"\"\"\n",
    "        self._items.append(item)\n",
    "\n",
    "    def pop(self):\n",
    "        \"\"\"항목 제거\"\"\"\n",
    "        return self._items.pop()\n",
    "\n",
    "    def peek(self):\n",
    "        \"\"\"탑 항목 반환\"\"\"\n",
    "        return self._items[-1]\n",
    "\n",
    "    def size(self):\n",
    "        \"\"\"항목 개수 반환\"\"\"\n",
    "        return len(self._items)"
   ]
  },
  {
   "cell_type": "markdown",
   "id": "dc362929-dd05-48c1-ada6-2079fef99dd8",
   "metadata": {},
   "source": [
    ":::{admonition} 참고    \n",
    ":class: info  \n",
    "리스트의 첫 번째 항목을 스택의 탑으로 하려면 `pop(0)`와 `insert(0, item)`을 사용하면 된다.  \n",
    ":::\n"
   ]
  },
  {
   "cell_type": "markdown",
   "id": "db17da43-d4c3-43e7-8945-aeffe14350f8",
   "metadata": {},
   "source": [
    "위 표를 코드로 구현하면 다음과 같다. "
   ]
  },
  {
   "cell_type": "code",
   "execution_count": 2,
   "id": "38851121-3272-4105-a864-0fac55ed49a9",
   "metadata": {},
   "outputs": [
    {
     "name": "stdout",
     "output_type": "stream",
     "text": [
      "<[]>\n",
      "True\n"
     ]
    }
   ],
   "source": [
    "s = Stack()\n",
    "print(s)\n",
    "print(s.is_empty())"
   ]
  },
  {
   "cell_type": "code",
   "execution_count": 3,
   "id": "cb71bbc2-2af8-42bf-bfde-495a3256905f",
   "metadata": {},
   "outputs": [
    {
     "name": "stdout",
     "output_type": "stream",
     "text": [
      "<[2, 'Hello']>\n",
      "Hello\n"
     ]
    }
   ],
   "source": [
    "s.push(2)\n",
    "s.push('Hello')\n",
    "\n",
    "print(s)\n",
    "print(s.peek())"
   ]
  },
  {
   "cell_type": "code",
   "execution_count": 4,
   "id": "d2b5b9bd-6b8b-4d57-b721-fdffce08c11d",
   "metadata": {},
   "outputs": [
    {
     "name": "stdout",
     "output_type": "stream",
     "text": [
      "<[2, 'Hello', 3.2]>\n",
      "3\n",
      "False\n"
     ]
    }
   ],
   "source": [
    "s.push(3.2)\n",
    "print(s)\n",
    "print(s.size())\n",
    "print(s.is_empty())"
   ]
  },
  {
   "cell_type": "code",
   "execution_count": 5,
   "id": "d181824e-5407-4b62-bd67-ff743166f112",
   "metadata": {},
   "outputs": [
    {
     "name": "stdout",
     "output_type": "stream",
     "text": [
      "<[2, 'Hello', 3.2, True]>\n",
      "True\n"
     ]
    }
   ],
   "source": [
    "s.push(True)\n",
    "print(s)\n",
    "print(s.pop())"
   ]
  },
  {
   "cell_type": "code",
   "execution_count": 6,
   "id": "b0608c04-ad42-49c8-a757-efd059f181c8",
   "metadata": {},
   "outputs": [
    {
     "name": "stdout",
     "output_type": "stream",
     "text": [
      "<[2, 'Hello', 3.2]>\n",
      "3.2\n",
      "2\n"
     ]
    }
   ],
   "source": [
    "print(s)\n",
    "print(s.pop())\n",
    "print(s.size())"
   ]
  },
  {
   "cell_type": "markdown",
   "id": "09ec097d-1440-4c24-8bf0-d0c90f870618",
   "metadata": {},
   "source": [
    "````{prf:example}\n",
    ":label: stack-example01  \n",
    "함수나 연산 실행에 사용되는 괄호는 짝이 맞아야 한다. 즉, 여는 괄호와 닫는 괄호의 짝이 맞아야 한다. 파이썬의 경우 괄호가 맞지 않으면 구문 오류`SyntaxError`가 발생한다.   \n",
    "\n",
    "스택을 이용하여 괄호로 이루어진 문자열이 짝이 맞는 괄호들로 이루어졌는지 여부를 판단하는 함수`par_checker()` 를 구현하여라.   \n",
    "````"
   ]
  },
  {
   "cell_type": "markdown",
   "id": "6fb45364-700e-4bf0-9a0a-a7e877350d50",
   "metadata": {},
   "source": [
    "```python\n",
    ">>> print(par_checker(\"((()))\"))\n",
    "True\n",
    ">>> print(par_checker(\"()()()\"))\n",
    "True\n",
    ">>> print(par_checker(\"((())\"))\n",
    "False\n",
    ">>> print(par_checker(\")(\"))\n",
    "False\n",
    "```"
   ]
  },
  {
   "cell_type": "markdown",
   "id": "482a7652-27d6-42a1-a71c-384663bf9b9f",
   "metadata": {},
   "source": [
    "스택 활용법은 다음과 같다. 괄호로 이루어진 문자열이 주어졌을 때, 왼편부터 시작하여 여는 괄호와 닫는 괄호를 만날 때마다 아래 작업을 반복한다.  \n",
    "* 여는 괄호(`(`) : 스택에 추가  \n",
    "* 닫는 괄호(`)`) : 스택의 탑 항목 삭제   \n",
    "\n",
    "위 작업을 반복하다 보면 아래 세 가지 경우가 발생한다.  \n",
    "* 문자열을 다 확인하기 전에 스택이 비워지는 경우 - 닫는 괄호가 더 많기 때문.    \n",
    "* 끝까지 다 확인했을 때 스택이 비워지지 않은 경우 - 여는 괄호가 더 많기 때문.  \n",
    "* 위 두 경우가 아니면 모든 괄호의 짝은 맞음."
   ]
  },
  {
   "cell_type": "code",
   "execution_count": 7,
   "id": "0d2dd586-2199-451e-8bed-7dc857572039",
   "metadata": {},
   "outputs": [],
   "source": [
    "def par_checker(par_string) :\n",
    "    \n",
    "    s = Stack()\n",
    "    \n",
    "    for p in par_string :\n",
    "        if p == \"(\" :\n",
    "            s.push(p)\n",
    "        elif s.is_empty() :\n",
    "            return False\n",
    "        else :\n",
    "            s.pop()\n",
    "            \n",
    "    return s.is_empty()"
   ]
  },
  {
   "cell_type": "code",
   "execution_count": 8,
   "id": "27699159-d884-4602-8baf-8e88dfd61e19",
   "metadata": {},
   "outputs": [
    {
     "name": "stdout",
     "output_type": "stream",
     "text": [
      "True\n",
      "True\n",
      "False\n",
      "False\n"
     ]
    }
   ],
   "source": [
    "print(par_checker(\"((()))\"))\n",
    "print(par_checker(\"()()()\"))\n",
    "print(par_checker(\"((())\"))\n",
    "print(par_checker(\")(\"))"
   ]
  },
  {
   "cell_type": "markdown",
   "id": "87c117de-1797-427e-9497-9f32b2e4d915",
   "metadata": {},
   "source": [
    "## 큐"
   ]
  },
  {
   "cell_type": "markdown",
   "id": "af2b4085-38c9-4cec-ace6-c569fa76fd85",
   "metadata": {},
   "source": [
    "큐<font size=\"2\">queue</font>는 스택과 마찬가지로, 선형 자료형이다. 항목의 추가는 보통 **꼬리**<font size=\"2\">rear, tail</font>라 불리는 한 쪽 끝에서만 허용되고, 항목의 삭제는 **머리**<font size=\"2\">front, head</font>라고 불리는 다른 한 쪽 끝에서 이루어진다. 큐는 아래 그림처럼 입력된 순서대로 하나씩 삭제되는 형상을 생각하면 된다. \n",
    "\n",
    "<div align=\"center\">\n",
    "    <img src=\"https://raw.githubusercontent.com/hj617kim/core_pybook/master/images/ch09/queue01.png\" style=\"width:500px;\">\n",
    "</div>\n",
    "\n",
    "위의 그림처럼 큐는 먼저 들어온 항목이 먼저 나간다는 선입선출<font size=\"2\">First In First Out, FIFO</font>원리를 따르며, 항목들의 추가와 삭제는 입력 순서에 따라 한쪽 방향으로 이동하는 방식이 철저하게 지켜진다.    \n",
    "\n",
    "**활용 예제** : 은행 창구 번호표 배분 장치  \n",
    "은행 창구에서 번호표를 배분하는 장치는 방문 순서대로 호출된다.  \n",
    "\n",
    "**활용 예제** : 프린터  \n",
    "프린터는 프린팅 과제가 생성된 순서대로 출력된다.  "
   ]
  },
  {
   "cell_type": "markdown",
   "id": "51a17c58-8937-45ca-a964-4222bfd8fc78",
   "metadata": {},
   "source": [
    "### `Queue` 추상 자료형  \n",
    "큐 추상 자료형을 구체적인 파이썬 자료구조<font size=\"2\">data structure</font>로 구현하려면 갖추어야 하는 기본 기능은 다음과 같다.  \n",
    "\n",
    "* `Queue()` : 비어 있는 큐 생성. 생성자의 역할. \n",
    "* `enqueue(item)` : 새로운 항목을 꼬리<font size=\"2\">rear, tail</font>에 추가. 반환값 없음.  \n",
    "* `dequeue()` : 머리 항목 삭제. 삭제된 항목 반환. \n",
    "* `is_empty()` : 큐가 비어있는지 여부 판단. 불리언 값 반환.\n",
    "* `size()` : 항목 개수 반환.  \n",
    "\n",
    "아래 표는 큐 생성과 함께 다양한 큐 관련 연산의 작동법을 소개한다. 파이썬의 리스트`list`는 큐의 모든 연산을 지원한다. 항목들의 저장을 위해 리스트를 사용하며, 큐의 머리 역할은 리스트의 오른쪽 끝(마지막 항목)이, 꼬리 역할은 왼쪽 끝(첫 번째 항목)이 수행한다.      \n",
    "\n",
    "\n",
    "|큐 연산|큐 항목|반환값|\n",
    "|:----------|:-------------|:---------:|\n",
    "|`q = Queue()`| `[]`||\n",
    "|`q.is_empty()`| `[]`|`True`|\n",
    "|`q.enqueue(2)`| `[2]`||\n",
    "|`q.enqueue('Hello')`| `['Hello', 2]`||\n",
    "|`q.enqueue(3.2)`| `[3.2, 'Hello', 2]`||\n",
    "|`q.size()`| `[3.2, 'Hello', 2]`|`3`|\n",
    "|`q.is_empty()`| `[3.2, 'Hello', 2]`|`False`|\n",
    "|`q.enqueue(True)`| `[True, 3.2, 'Hello', 2]`||\n",
    "|`q.dequeue()`| `[True, 3.2, 'Hello']`|`2`|\n",
    "|`q.dequeue()`| `[True, 3.2]`|`'Hello'`|\n",
    "|`q.size()`| `[True, 3.2]`|`2`|"
   ]
  },
  {
   "cell_type": "markdown",
   "id": "73428bb9-f1e3-47ab-89fb-fe4cefacab3c",
   "metadata": {},
   "source": [
    "### 큐 자료구조 구현  \n",
    "리스트를 활용할 때 중요한 것은 머리와 꼬리를 어디로 설정하는가이다. 앞서 본 것처럼 꼬리는 리스트의 왼쪽편 끝, 머리는 리스트의 오른쪽편 끝으로 정한다. "
   ]
  },
  {
   "cell_type": "code",
   "execution_count": 9,
   "id": "cb364c11-97dd-4452-a68f-5b176025ef1a",
   "metadata": {},
   "outputs": [],
   "source": [
    "class Queue:\n",
    "    \"\"\"리스트를 활용한 큐 구현\"\"\"\n",
    "\n",
    "    def __init__(self):\n",
    "        \"\"\"새로운 큐 생성\"\"\"\n",
    "        self._items = []\n",
    "    \n",
    "    def __str__(self):\n",
    "        \"\"\"큐 표기법: <<[1, 2, 3]>> 등등\"\"\"\n",
    "        return f\"<<{self._items}>>\"\n",
    "    \n",
    "    def is_empty(self):\n",
    "        \"\"\"비었는지 여부 확인\"\"\"\n",
    "        return not bool(self._items)\n",
    "\n",
    "    def enqueue(self, item):\n",
    "        \"\"\"꼬리에 항목 추가\"\"\"\n",
    "        self._items.insert(0, item)\n",
    "\n",
    "    def dequeue(self):\n",
    "        \"\"\"머리 항목 삭제\"\"\"\n",
    "        return self._items.pop()\n",
    "\n",
    "    def size(self):\n",
    "        \"\"\"항목 개수 확인\"\"\"\n",
    "        return len(self._items)"
   ]
  },
  {
   "cell_type": "code",
   "execution_count": 10,
   "id": "2cac2b33-d7e4-4506-8cd6-2f130d6ebace",
   "metadata": {},
   "outputs": [
    {
     "name": "stdout",
     "output_type": "stream",
     "text": [
      "True\n",
      "<<[3.2, 'Hello', 2]>>\n"
     ]
    }
   ],
   "source": [
    "q = Queue()\n",
    "\n",
    "print(q.is_empty())\n",
    "q.enqueue(2)\n",
    "q.enqueue(\"Hello\")\n",
    "q.enqueue(3.2)\n",
    "print(q)"
   ]
  },
  {
   "cell_type": "code",
   "execution_count": 11,
   "id": "cc3a6d12-c01f-4403-9392-405e65ff1dcb",
   "metadata": {},
   "outputs": [
    {
     "name": "stdout",
     "output_type": "stream",
     "text": [
      "3\n",
      "False\n"
     ]
    }
   ],
   "source": [
    "print(q.size())\n",
    "print(q.is_empty())\n",
    "q.enqueue(True)"
   ]
  },
  {
   "cell_type": "code",
   "execution_count": 12,
   "id": "3aa7ec1f-3ae5-45b7-b1e6-5f5e9aded8f7",
   "metadata": {},
   "outputs": [
    {
     "name": "stdout",
     "output_type": "stream",
     "text": [
      "<<[True, 3.2]>>\n",
      "2\n"
     ]
    }
   ],
   "source": [
    "q.dequeue()\n",
    "q.dequeue()\n",
    "print(q)\n",
    "print(q.size())"
   ]
  },
  {
   "cell_type": "markdown",
   "id": "4e46e16d-11e8-40bf-a914-caa4c52a8807",
   "metadata": {},
   "source": [
    "````{prf:example} 요세푸스 문제<font size=\"2\">Josephus problem</font> 또는 요세푸스 순열<font size=\"2\">Josephus permutation</font>  \n",
    ":label: queue-example01  \n",
    "n명이 동그랗게 둘러앉아 임의의 한 사람부터 순서를 세어 k번째 사람을 제외하는 게임을 아무도 남지 않을 때까지 계속한다. 자연수 n과 k를 입력받아 제외되는 사람의 순서를 반환하는 `josephus_permutation()` 함수를 정의하여라. 단, k < n라고 가정한다.   \n",
    "\n",
    "예를 들어, 7명의 사람이 있고, 3번째 사람을 제외할 때는 3 -> 6 -> 2 -> 7 -> 5 -> 1 -> 4 순서로 제외한다.     \n",
    "````"
   ]
  },
  {
   "cell_type": "markdown",
   "id": "c8d905da-0e90-4f07-ba2f-e96be6b6db74",
   "metadata": {},
   "source": [
    "```python\n",
    ">>> print(josephus_permutation(7, 3))\n",
    "[3, 6, 2, 7, 5, 1, 4]\n",
    "```"
   ]
  },
  {
   "cell_type": "markdown",
   "id": "8aea4cda-1ceb-4126-90c4-a22b83ac151f",
   "metadata": {},
   "source": [
    "큐 활용법은 다음과 같다. \n",
    "\n",
    "1. 사람들의 번호를 큐에 추가한다. 큐의 머리에는 1이 있고, 꼬리에는 n이 있다. \n",
    "2. 큐의 머리에 있는 항목을 삭제 후 바로 꼬리에 추가한다. \n",
    "3. 2의 과정을 k - 1번 반복한다. 그리고 k번째에는 머리에 있는 항목을 삭제한 후 꼬리에 추가하지 않고, 다른 공간에 저장한다.   \n",
    "4. 2와 3의 과정을 큐에 아무 것도 없을 때까지 반복한다. "
   ]
  },
  {
   "cell_type": "code",
   "execution_count": 13,
   "id": "01952b50-6860-4895-be35-e8a6834f8bd2",
   "metadata": {},
   "outputs": [],
   "source": [
    "def josephus_permutation(n, k) : \n",
    "    \n",
    "    q = Queue()\n",
    "    results = []\n",
    "    \n",
    "    for i in range(1, n + 1) :\n",
    "        q.enqueue(i)\n",
    "        \n",
    "    while q.size() > 1 :\n",
    "        for i in range(k - 1) :\n",
    "            q.enqueue(q.dequeue())\n",
    "        results.append(q.dequeue())\n",
    "    \n",
    "    results.append(q.dequeue())\n",
    "        \n",
    "    return results"
   ]
  },
  {
   "cell_type": "code",
   "execution_count": 14,
   "id": "9dabd196-3449-48d4-a108-d07eea73185c",
   "metadata": {},
   "outputs": [
    {
     "name": "stdout",
     "output_type": "stream",
     "text": [
      "[3, 6, 2, 7, 5, 1, 4]\n"
     ]
    }
   ],
   "source": [
    "print(josephus_permutation(7, 3))"
   ]
  },
  {
   "cell_type": "markdown",
   "id": "dd232f65-5d0c-4d0b-a65c-2c0ce93e1bb9",
   "metadata": {},
   "source": [
    "## 덱"
   ]
  },
  {
   "cell_type": "markdown",
   "id": "c67c5483-a52b-4b50-a2c9-014c05522b4a",
   "metadata": {},
   "source": [
    "덱<font size=\"2\">double-ended queue, deque</font>은 선형 자료형으로, 큐와는 달리 항목의 추가와 삭제가 머리와 꼬리 양쪽 끝 모두에서 처리된다. 이런 의미에서 덱은 스택과 큐의 기능을 함께 제공하며 어떻게 사용할 것인가는 사용자에 의해 결정된다.  \n",
    "\n",
    "<div align=\"center\">\n",
    "    <img src=\"https://raw.githubusercontent.com/hj617kim/core_pybook/master/images/ch09/deque01.png\" style=\"width:500px;\">\n",
    "</div>\n",
    "\n",
    "**활용 예제** : 편집기의 'undo'와 'redo'  \n",
    "문서 작성 중에 'undo' 버튼을 누르면 마지막에 추가된 항목(머리 항목)이 삭제되는 동시에 꼬리 항목으로 추가된다. 이후 'redo' 버튼이 눌리면 꼬리 항목이 삭제되어 다시 머리 항목으로 추가된다. 웹브라우저의 'back'과 'forward' 버튼도 이와 유사하게 작동한다.  "
   ]
  },
  {
   "cell_type": "markdown",
   "id": "e7810ca2-d6d8-45bd-915c-fa5995b8f825",
   "metadata": {},
   "source": [
    ":::{admonition} 참고    \n",
    ":class: info  \n",
    "파이썬에서 덱은 collections 라이브러리의 `deque` 클래스를 이용해 사용할 수 있다. 덱은 스택과 큐를 일반화한 것으로, 이를 이용하여 스택과 큐를 구현할 수 있다.  \n",
    "```python\n",
    ">>> from collections import deque\n",
    ">>> print(help(deque))\n",
    "```\n",
    ":::\n"
   ]
  },
  {
   "cell_type": "markdown",
   "id": "c267675d-0405-4f63-8930-0384752cc57e",
   "metadata": {},
   "source": [
    "### `Deque` 추상 자료형  \n",
    "덱 추상 자료형을 구체적인 파이썬 자료구조<font size=\"2\">data structure</font>로 구현하려면 갖추어야 하는 기본 기능은 다음과 같다.  \n",
    "\n",
    "* `Deque()` : 비어 있는 덱 생성. 생성자의 역할. \n",
    "* `add_front(item)` : 머리에 새로운 항목 추가. 반환값 없음. \n",
    "* `add_rear(item)` : 꼬리에 새로운 항목 추가. 반환값 없음. \n",
    "* `remove_front()` : 머리 항목 삭제. 삭제된 항목 반환. \n",
    "* `remove_rear()` : 꼬리 항목 삭제. 삭제된 항목 반환.\n",
    "* `is_empty()` : 덱이 비었는지 여부 판단. 불리언 값 반환.\n",
    "* `size()` : 항목 개수 반환.  \n",
    "\n",
    "아래 표는 덱 생성과 함께 다양한 덱 관련 연산의 작동법을 소개한다. 항목들의 저장을 위해 리스트를 사용하며 머리는 리스트의 오른쪽 끝, 꼬리는 왼쪽 끝을 사용한다.  \n",
    "\n",
    "|덱 연산|덱 항목|반환값|\n",
    "|:----------|:-------------|:---------:|\n",
    "|`d = Deque()`| `[]`||\n",
    "|`d.is_empty()`| `[]`|`True`|\n",
    "|`d.add_rear(2)`| `[2]`||\n",
    "|`d.add_rear('Hello')`| `['Hello', 2]`||\n",
    "|`d.add_front(3.2)`| `['Hello', 2, 3.2]`||\n",
    "|`d.add_front(True)`| `['Hello', 2, 3.2, True]`||\n",
    "|`d.size()`| `['Hello', 2, 3.2, True]`|4|\n",
    "|`d.is_empty()`| `['Hello', 2, 3.2, True]`|`False`|\n",
    "|`d.add_rear(5)`| `[5, 'Hello', 2, 3.2, True]`||\n",
    "|`d.remove_rear()`| `['Hello', 2, 3.2, True]`|`5`|\n",
    "|`d.remove_front()`| `['Hello', 2, 3.2]`|`True`|"
   ]
  },
  {
   "cell_type": "markdown",
   "id": "a6663a0d-348c-4349-bde2-e0463aceff97",
   "metadata": {},
   "source": [
    "### 덱 자료구조 구현   \n",
    "\n",
    "리스트를 활용할 때 중요한 것은 머리와 꼬리를 어디로 설정하는가이다. 큐의 경우처럼 꼬리는 리스트의 시작, 머리는 리스트의 오른편 끝으로 정하며 이에 따라 항목 추가와 삭제 함수를 적절하게 구현한다.  \n",
    "\n",
    "* 머리 \n",
    "    * 항목 추가 : 리스트의 `append(item)` 활용\n",
    "    * 항목 삭제 : 리스트의 `pop()` 활용\n",
    "\n",
    "* 꼬리\n",
    "    * 항목 추가 : 리스트의 `insert(0, item)` 활용\n",
    "    * 항목 삭제 : 리스트의 `pop(0)` 활용"
   ]
  },
  {
   "cell_type": "code",
   "execution_count": 15,
   "id": "a444fb3d-8531-47e4-b9cc-0e93336a069e",
   "metadata": {},
   "outputs": [],
   "source": [
    "class Deque:\n",
    "    \"\"\"리스트를 활용한 덱 구현\"\"\"\n",
    "\n",
    "    def __init__(self):\n",
    "        \"\"\"새로운 덱 생성\"\"\"\n",
    "        self._items = []\n",
    "    \n",
    "    def __str__(self):\n",
    "        \"\"\"덱 표기법: <~[1, 2, 3]~> 등등\"\"\"\n",
    "        return f\"<~{self._items}~>\"\n",
    "    \n",
    "    def is_empty(self):\n",
    "        \"\"\"비었는지 여부 확인\"\"\"\n",
    "        return not bool(self._items)\n",
    "\n",
    "    def add_front(self, item):\n",
    "        \"\"\"머리에 항목 추가\"\"\"\n",
    "        self._items.append(item)\n",
    "\n",
    "    def add_rear(self, item):\n",
    "        \"\"\"꼬리에 항목 추가\"\"\"\n",
    "        self._items.insert(0, item)\n",
    "\n",
    "    def remove_front(self):\n",
    "        \"\"\"머리 항목 삭제\"\"\"\n",
    "        return self._items.pop()\n",
    "\n",
    "    def remove_rear(self):\n",
    "        \"\"\"꼬리 항목 삭제\"\"\"\n",
    "        return self._items.pop(0)\n",
    "\n",
    "    def size(self):\n",
    "        \"\"\"항목 개수 확인\"\"\"\n",
    "        return len(self._items)"
   ]
  },
  {
   "cell_type": "code",
   "execution_count": 16,
   "id": "6cb5968b-7661-432c-8d21-937ac5c2519e",
   "metadata": {},
   "outputs": [
    {
     "name": "stdout",
     "output_type": "stream",
     "text": [
      "True\n",
      "<~['Hello', 2, 3.2, True]~>\n"
     ]
    }
   ],
   "source": [
    "d = Deque()\n",
    "print(d.is_empty())\n",
    "d.add_rear(2)\n",
    "d.add_rear('Hello')\n",
    "d.add_front(3.2)\n",
    "d.add_front(True)\n",
    "print(d)"
   ]
  },
  {
   "cell_type": "code",
   "execution_count": 17,
   "id": "95caf8ea-11cb-4c12-b02e-1c9bbd3285e0",
   "metadata": {},
   "outputs": [
    {
     "name": "stdout",
     "output_type": "stream",
     "text": [
      "4\n",
      "False\n",
      "5\n",
      "True\n",
      "<~['Hello', 2, 3.2]~>\n"
     ]
    }
   ],
   "source": [
    "print(d.size())\n",
    "print(d.is_empty())\n",
    "d.add_rear(5)\n",
    "print(d.remove_rear())\n",
    "print(d.remove_front())\n",
    "print(d)"
   ]
  },
  {
   "cell_type": "markdown",
   "id": "3ce2d8de-888a-4fa0-ad75-3f7d80e76243",
   "metadata": {},
   "source": [
    "````{prf:example} \n",
    ":label: deque-example01  \n",
    "'racecar', '토마토', 'stats'와 같이 앞뒤를 뒤집어도 똑같은 문자열을 회문<font size = \"2\">palindrome</font>이라고 한다. 덱을 활용하여 문자열이 주어질 때, 그 문자열이 회문이면 `Success`를, 아니면 `Fail`를 반환하는 `palindrome_checker()` 함수를 정의하여라.   \n",
    "````"
   ]
  },
  {
   "cell_type": "markdown",
   "id": "675b47eb-604c-4494-bfc9-3da037aebf73",
   "metadata": {},
   "source": [
    "```python\n",
    ">>> print(palindrome_checker('racecar'))\n",
    "True\n",
    ">>> print(palindrome_checker('tomato'))\n",
    "False\n",
    "```"
   ]
  },
  {
   "cell_type": "markdown",
   "id": "302c8dbd-3ecb-47b2-95b4-f4edf5cae540",
   "metadata": {},
   "source": [
    "덱 활용법은 다음과 같다.  \n",
    "\n",
    "* 주어진 문자열을 덱에 추가한다.  \n",
    "* 머리와 꼬리의 항목을 하나씩 꺼내 값을 비교하여, 다른 것이 있으면 `False`를 반환하고, 아니면 `True`를 반환한다. "
   ]
  },
  {
   "cell_type": "code",
   "execution_count": 18,
   "id": "6f139992-39f0-4e6f-84f1-a7a6aa2c5b03",
   "metadata": {},
   "outputs": [],
   "source": [
    "def palindrome_checker(a_string) :\n",
    "    \n",
    "    d = Deque()\n",
    "    \n",
    "    for ch in a_string :\n",
    "        d.add_rear(ch)\n",
    "        \n",
    "    while d.size() > 1 :\n",
    "        first = d.remove_front()\n",
    "        last = d.remove_rear()\n",
    "        if first != last :\n",
    "            return False\n",
    "        \n",
    "    return True"
   ]
  },
  {
   "cell_type": "code",
   "execution_count": 19,
   "id": "b0f5ca77-1b27-469b-b76b-7b4c0c60044f",
   "metadata": {},
   "outputs": [
    {
     "name": "stdout",
     "output_type": "stream",
     "text": [
      "True\n"
     ]
    }
   ],
   "source": [
    "print(palindrome_checker('racecar'))"
   ]
  },
  {
   "cell_type": "code",
   "execution_count": 20,
   "id": "fbb87b8e-607d-4ce2-88b5-3d35ede6653c",
   "metadata": {},
   "outputs": [
    {
     "name": "stdout",
     "output_type": "stream",
     "text": [
      "False\n"
     ]
    }
   ],
   "source": [
    "print(palindrome_checker('tomato'))"
   ]
  },
  {
   "cell_type": "markdown",
   "id": "4bf743f0-83ef-4ef7-8ecf-918448c72c71",
   "metadata": {},
   "source": [
    "## 연습문제"
   ]
  },
  {
   "cell_type": "markdown",
   "id": "966d09ee-0d32-4ac6-8517-557e763864e0",
   "metadata": {},
   "source": [
    "### 문제  \n",
    "함수나 연산 실행에 사용되는 괄호는 짝이 맞아야 한다. 즉, 여는 괄호와 닫는 괄호의 짝이 맞아야 한다. 파이썬의 경우 괄호가 맞지 않으면 구문 오류`SyntaxError`가 발생한다. 아래 괄호로 이루어진 문자열이 짝이 맞는 괄호들로 이루어졌는지 여부를 판단하는 함수`balance_checker()`를 구현하여라.  \n",
    "* `(`, `)` : 소괄호\n",
    "* `{`, `}` : 중괄호\n",
    "* `[`, `]` : 대괄호\n",
    "\n",
    "```python\n",
    ">>> print(balance_checker('{{([][])}()}'))\n",
    "True\n",
    "```\n",
    "\n",
    "```python\n",
    ">>> print(balance_checker('[[{{(())}}]]'))\n",
    "True\n",
    "```\n",
    "\n",
    "```python\n",
    ">>> print(balance_checker('[][][](){}'))\n",
    "True\n",
    "```\n",
    "\n",
    "```python\n",
    ">>> print(balance_checker('([))'))\n",
    "False\n",
    "```\n",
    "\n",
    "```python\n",
    ">>> print(balance_checker('[{()]'))\n",
    "False\n",
    "```"
   ]
  },
  {
   "cell_type": "markdown",
   "id": "155d6037-a5ca-4dfa-b5e2-f33386fccc15",
   "metadata": {},
   "source": [
    "### 문제  \n"
   ]
  },
  {
   "cell_type": "markdown",
   "id": "7f3ee407-9458-4117-b959-46b02d4148d5",
   "metadata": {},
   "source": [
    "십진법은 우리가 일반적으로 사용하는 기수법<font size=\"2\">numeral system</font>으로, 0,1,2,3,4,5,6,7,8,9라는 10개의 숫자를 가지고 수를 표현하며, 수의 자리가 하나씩 올라감에 따라 자릿값이 10배씩 커진다. 반면에 이진법은 0과 1, 두 개의 숫자를 가지고 수를 표현하며, 수의 자리가 하나씩 올라감에 따라 자릿값이 2배씩 커진다. 예를 들어, 십진법 정수 $125_{10}$를 이진법으로 표기하면 $1111101_{2}$이 된다. \n",
    "\n",
    "$$125_{10} = 1 \\times 10^2 + 2 \\times 10^1 + 5 \\times 10^0 $$\n",
    "$$1111101_{2} = 1 \\times 2^6 + 1 \\times 2^5 + 1 \\times 2^4 + 1 \\times 2^3 + 1 \\times 2^2 + 0 \\times 2^1 + 1 \\times 2^0$$  "
   ]
  },
  {
   "cell_type": "markdown",
   "id": "11e4a2ad-4dde-4f2f-a200-0353ec421174",
   "metadata": {},
   "source": [
    "십진법으로 표기된 정수를 이진법으로 변환하는 함수`base_converter()` 함수를 정의하여라.   \n",
    "\n",
    "```python\n",
    ">>> print(base_converter(125))\n",
    "1111101\n",
    "```\n",
    "\n",
    "```python\n",
    ">>> print(base_converter(7))\n",
    "111\n",
    "```\n",
    "\n",
    "```python\n",
    ">>> print(base_converter(11))\n",
    "1011\n",
    "```"
   ]
  },
  {
   "cell_type": "markdown",
   "id": "77a61750-6ae8-49af-9095-c9148409d6b0",
   "metadata": {},
   "source": [
    "```{admonition} 도움말    \n",
    ":class: dropdown\n",
    "십진법으로 표기된 정수의 이진법 표기를 찾는 알고리즘은 아래와 같다.  \n",
    "* 2로 나눈 후 나머지를 스택에 추가한다.  \n",
    "* 2로 나눈 몫을 대상으로 위 과정을 반복한다. \n",
    "* 스택에 쌓인 값들을 거꾸로 읽는다. 즉, `pop()`을 연속적으로 활용한다.  \n",
    "```"
   ]
  },
  {
   "cell_type": "markdown",
   "id": "0c3147e3-28f0-4881-b0c0-7e9b35b5ac54",
   "metadata": {},
   "source": [
    "### 문제  \n",
    "회의 시간을 정하기 위해 팀원들에게 회의하기 어려운 시간을 구간으로 조사하였다. 그리고 겹치는 구간을 합해 회의 불가능한 시간을 정리하려고 한다. 이때, 13시부터 15시까지 회의가 어렵다면, 이를 `[13, 15]`로 표현한다.  \n",
    "\n",
    "예를 들어, 아래와 같다면, 회의 불가능한 시간은 9시부터 10시(`[9, 10]`), 12시부터 15시(`[12, 15]`)이다.   \n",
    "* A는 13시부터 15시까지 회의 불가능 - `[13, 15]`  \n",
    "* B는 9시부터 10시, 12시부터 14시 회의 불가능 - `[9, 10]`, `[12, 14]`  \n",
    "\n",
    "시간은 0~24사이(끝 값 포함)의 정수로 입력된다고 가정한다.  \n",
    "\n",
    "여러 개의 길이가 2인 리스트를 인자로 받아, 각 구간을 합하여 겹치지 않는 구간을 만든 다음 반환하는 `merge_intervals()` 함수를 정의하여라.     \n",
    "\n",
    "```python\n",
    ">>> print(merge_intervals([13, 15], [9, 10], [12, 14]))\n",
    "[[9, 10], [12, 15]]\n",
    "```\n",
    "\n",
    "```python\n",
    ">>> print(merge_intervals([10, 16], [9, 12]))\n",
    "[[9, 16]]\n",
    "```"
   ]
  },
  {
   "cell_type": "markdown",
   "id": "7fd1b2a2-5435-44cc-b27a-543af362b01f",
   "metadata": {},
   "source": [
    "```{admonition} 도움말    \n",
    ":class: dropdown\n",
    "* 시작 시간을 기준으로 오름차순으로 정렬한다.   \n",
    "* 스택을 만든다.    \n",
    "* 각 구간에 대해 스택이 비어있거나 스택의 탑에 있는 구간의 끝 시간이 그 구간의 시작 시간보다 작으면(즉, 두 구간이 겹치지 않는 경우), 그 구간을 스택에 넣는다.  \n",
    "* 위에서 구간이 겹친다면, 스택의 탑에 있는 구간의 끝 시간을 업데이트하여 두 구간을 병합한다.  \n",
    "* 스택에 있는 겹치지 않는 모든 구간을 반환한다.   \n",
    "```"
   ]
  },
  {
   "cell_type": "markdown",
   "id": "756e8b71-49cb-47d1-8d1a-d65137307cf0",
   "metadata": {},
   "source": [
    "### 문제"
   ]
  },
  {
   "cell_type": "markdown",
   "id": "59eeb13c-900d-454a-9f9c-4676d0546627",
   "metadata": {},
   "source": [
    "매일의 주식 종가가 기록된 리스트를 입력받아서, 주식가격이 오르기 위해서는 며칠을 기다려야 하는지를 반환하는 함수 `closing_price()`를 정의하여라.   \n",
    "\n",
    "예를 들어, 첫째 날의 종가는 100원이고 1일만 지나면 종가가 오른다. 둘째 날의 종가는 101원이고 4일이 지나야 종가가 오른다.   \n",
    "```python \n",
    ">>>print(closing_price([100, 101, 95, 92, 90, 120]))\n",
    "[1, 4, 3, 2, 1, 0]\n",
    "```"
   ]
  },
  {
   "cell_type": "markdown",
   "id": "f41bc150-407b-4d28-a1e3-5b1060617c8f",
   "metadata": {},
   "source": [
    "```{admonition} 도움말    \n",
    ":class: dropdown  \n",
    "스택에 유용한 항목의 인덱스를 저장하는 방식으로 문제를 해결할 수 있다. 위의 예제의 경우, 아래와 같은 방식으로 해결할 수 있다.    \n",
    "1. 스택을 만든다(s : `[]`).  \n",
    "2. `closing_price()` 함수가 반환할 리스트를 정의한다. 이때, 리스트의 길이는 주식 종가가 기록된 리스트와 같고, 항목은 모두 `0`으로 한다.   \n",
    "3. 반복문을 사용하여, 인자로 들어온 리스트의 각 항목에 접근한다.   \n",
    "4. 현재 스택이 비어 있으므로, `100`의 인덱스 `0`을 스택에 추가한다(s : `[0]`).  \n",
    "5. `101`은 `100`보다 크므로, 스택의 탑에 있는 값 `0`을 꺼낸 다음 `반환할 리스트[0] = 1(101의 인덱스) - 0`을 한다. 그리고 `101`의 인덱스 `1`를 스택에 추가한다(s : `[1]`).    \n",
    "6. `95`는 `101`보다 작으므로, 스택에 추가한다(s : `[1, 2]`).  \n",
    "7. `92`는 `95`보다 작고, 101보다 작으므로, 스택에 추가한다(s : `[1, 2, 3]`).  \n",
    "8. `90`는 `91`와 `95`보다 작고, 101보다도 작으므로, 스택에 추가한다(s : `[1, 2, 3, 4]`).  \n",
    "9. `120`은 `90`보다 크다. 스택의 탑에 있는 값 `4`를 꺼낸 다음 `반환할 리스트[4] = 5(120의 인덱스) - 4`를 한다. 그다음 스택의 탑에 있는 값 `3`을 꺼낸 다음 `반환할 리스트[3] = 5(120의 인덱스) - 3`을 한다. 다시, 그다음 스택의 탑에 있는 값 `2`을 꺼낸 다음 `반환할 리스트[2] = 5(120의 인덱스) - 2`를 한다. 스택에 아무 것도 없을 때까지 위 과정을 반복하고, 마지막에 리스트를 반환하면 된다.  \n",
    "```"
   ]
  },
  {
   "cell_type": "markdown",
   "id": "1daaa609-4e57-49e9-a81d-dccfb25fa316",
   "metadata": {},
   "source": [
    "### 문제"
   ]
  },
  {
   "cell_type": "markdown",
   "id": "21711d71-8a7e-48d5-acb2-06e03463cf05",
   "metadata": {},
   "source": [
    "문자 없애기 게임을 만들어보자. 게임은 다음과 같이 진행된다.     \n",
    "\n",
    "* 컴퓨터는 `abcd` 중 중복을 허용하여 랜덤하게 3개의 문자를 말한다.  \n",
    "* 사용자는 `abcd` 중 중복을 허용하여 3개의 문자를 입력한다.  \n",
    "* 컴퓨터와 사용자가 입력한 문자열은 순서대로 이어 붙여진다. 그리고 같은 문자가 3번 반복되면 그 문자는 사라진다.  \n",
    "\n",
    "위 과정을 반복하여, 사용자는 모든 문자를 없애야 한다.   \n",
    "\n",
    "예를 들어, 게임 진행 과정은 아래와 같다. `coputer`가 랜덤하게 3개의 문자를 말하면, `user`가 3개의 문자를 입력한다.  \n",
    "```\n",
    "computer : bdc\n",
    "user : ccd\n",
    "```\n",
    "두 문자열을 이어 붙이면 `bdcccd` 이고 `c`가 3번 반복되어 `bdd`가 남는다. 그 다음은 `computer` 차례다. \n",
    "\n",
    "```\n",
    "computer : cac\n",
    "```\n",
    "문자열을 이어 붙이면 현재 문자열은 `bddcac`이다. 그 다음은 `user` 입력할 차례다. \n",
    "\n",
    "```\n",
    "user : cca\n",
    "```\n",
    "문자열을 이어 붙이면 `bddcaccca` 이고 `c`가 3번 반복되어 `bddcaa`가 남는다. 그 다음 `computer` 차례다. \n",
    "\n",
    "```\n",
    "computer : acc\n",
    "```\n",
    "그러면 `bddcaaacc`가 된다. `a`가 3번 반복되어 `bddccc`가 된다. 그런데 이때도 `c`가 3번 반복되어 사라진다. 그래서 `bdd`가 남는다.  \n",
    "\n",
    "이제 `user`가 `dbb`를 입력하면, 모든 문자가 사라지고 게임이 끝난다.   \n",
    "\n",
    "\n",
    "필요하면, `random` 모듈의 `choices()` 함수를 사용한다. `choices(population, k = 1)`는 `population`에서 중복을 허용하면서 선택한 `k` 크기의 요소를 가진 리스트를 반환한다.  \n",
    "\n",
    "게임을 구현할 때는 사용자에게 문자를 입력 받기 전 현재 남아 있는 문자를 보여줘야 한다.   "
   ]
  },
  {
   "cell_type": "code",
   "execution_count": 21,
   "id": "3fbcf4a5-9c92-448a-995f-2265d22cba77",
   "metadata": {},
   "outputs": [
    {
     "name": "stdout",
     "output_type": "stream",
     "text": [
      "['a', 'a', 'a']\n",
      "['a', 'c', 'b']\n",
      "['a', 'a', 'a']\n"
     ]
    }
   ],
   "source": [
    "import random\n",
    "\n",
    "print(random.choices('abc', k = 3))\n",
    "print(random.choices('abc', k = 3))\n",
    "print(random.choices('abc', k = 3))"
   ]
  },
  {
   "cell_type": "markdown",
   "id": "be7005c7-33a6-455d-af81-7690cc981796",
   "metadata": {},
   "source": [
    "### 문제 "
   ]
  },
  {
   "cell_type": "markdown",
   "id": "3242f52b-4836-45e1-8b1d-987b25845b3c",
   "metadata": {},
   "source": [
    "자연수 n를 입력받아, 1에서 n까지의 정수를 이진법으로 표기한 값들의 리스트를 반환하는 함수`generate_binary_number()`를 정의하여라.  \n",
    "\n",
    "```python\n",
    ">>> print(generate_binary_number(2))\n",
    "[1, 10]\n",
    ">>> print(generate_binary_number(7))\n",
    "[1, 10, 11, 100, 101, 110, 111]\n",
    "```"
   ]
  },
  {
   "cell_type": "markdown",
   "id": "c9f63941-aa88-4450-983b-678e46f07ced",
   "metadata": {},
   "source": [
    "```{admonition} 도움말    \n",
    ":class: dropdown  \n",
    "큐에 이진수를 추가하는 방식으로 문제를 해결할 수 있다.   \n",
    "1. 큐를 만든다.  \n",
    "2. 큐에 '1'를 추가한다.  \n",
    "3. 큐의 머리에 있는 값(`s1`)을 꺼내 반환할 리스트에 담는다. 그리고 `s1`에 `'0'`과 `'1'`를 더하는 방식으로 다음 이진수를 만들어 큐에 추가한다. \n",
    "4. 3의 과정을 원하는 만큼 반복한다. \n",
    "```"
   ]
  },
  {
   "cell_type": "markdown",
   "id": "33735ed3-0bbf-47b3-ad53-ccb9199f8c0b",
   "metadata": {},
   "source": [
    "### 문제"
   ]
  },
  {
   "cell_type": "markdown",
   "id": "12a91921-d8bc-4477-9581-ffeb76687cc7",
   "metadata": {},
   "source": [
    "정수를 항목으로 갖는 리스트와 자연수 k가 주어지면, 길이가 k인 각각의 연속된 부분 리스트의 최댓값들을 담은 리스트를 반환하는 `sliding_window()` 함수를 정의하여라.\n",
    "\n",
    "예를 들어, 주어진 리스트가 `[1, -1, 3, 4, 2, -3]`이고 k가 3이라면, 길이가 3인 각각의 연속된 부분 리스트의 최댓값은 아래와 같다. \n",
    "\n",
    "* `1, -1, 3`의 최댓값 : `3`\n",
    "* `-1, 3, 4`의 최댓값 : `4`\n",
    "* `3, 4, 2`의 최댓값 : `4`\n",
    "* `4, 2, -3`의 최댓값 : `4`  \n",
    "\n",
    "```python \n",
    ">>> print(sliding_window([1, -1, 3, 4, 2, -3], 3))  \n",
    "[3, 4, 4, 4]\n",
    "```"
   ]
  },
  {
   "cell_type": "markdown",
   "id": "595d3f4c-f2a7-4772-ba84-7ef949e10b6f",
   "metadata": {},
   "source": [
    "```{admonition} 도움말    \n",
    ":class: dropdown  \n",
    "파이썬의 슬라이싱과 `max()`를 사용하면, 쉽게 해결된다. 반면, 리스트의 유용한 인덱스를 덱(또는 큐)에 저장하는 방식으로 문제를 해결할 수 있다. 이때는 덱의 머리와 꼬리 항목을 확인할 수 있는 `peek_front()`와 `peek_rear()`를 추가하는 것이 좋다. 덱에 최댓값을 저장해두고, 한 칸씩 이동하면서 최댓값인지 아닌지를 확인하면 된다.      \n",
    "```"
   ]
  },
  {
   "cell_type": "markdown",
   "id": "1321d91f-cbec-4a7d-b96a-beb2b367f1d9",
   "metadata": {},
   "source": [
    "### 문제 \n",
    "정수를 항목으로 갖는 리스트와 자연수 k가 주어지면, 길이가 k인 부분 리스트의 모든 최댓값과 최솟값의 합을 반환하는 `sum_of_k_sub()` 함수를 정의하여라. \n",
    "\n",
    "예를 들어, 주어진 리스트가 `[1, -1, 3, 4, 2, -3]`이고 k가 3이라면, 길이가 3인 각각의 연속된 부분 리스트의 최댓값과 최솟값은 아래와 같다. \n",
    "\n",
    "* `1, -1, 3`의 최댓값 : `3`, 최솟값 : `-1`\n",
    "* `-1, 3, 4`의 최댓값 : `4`, 최솟값 : `-1`\n",
    "* `3, 4, 2`의 최댓값 : `4`, 최솟값 : `2`\n",
    "* `4, 2, -3`의 최댓값 : `4`, 최솟값 : `-3`\n",
    "\n",
    "모든 최댓값과 최솟값을 더하면, 12이다. \n",
    "\n",
    "```python \n",
    ">>> print(sum_of_k_sub([1, -1, 3, 4, 2, -3], 3))  \n",
    "12\n",
    "```"
   ]
  },
  {
   "cell_type": "markdown",
   "id": "ebe1e1d0-6735-4df7-bae7-21d374041f0c",
   "metadata": {},
   "source": [
    "```{admonition} 도움말    \n",
    ":class: dropdown  \n",
    "이전 문제와 비슷하다. 다만, 덱을 사용할 때는 최솟값을 저장할 덱이 하나 더 필요하다.  \n",
    "```"
   ]
  },
  {
   "cell_type": "markdown",
   "id": "6482858d-9b8a-4fa4-b2fe-d55096e395d4",
   "metadata": {},
   "source": [
    "### 문제     \n",
    "n명이 동그랗게 둘러앉아 임의의 한 사람부터 순서를 세어 k번째 사람을 제외하는 게임을 아무도 남지 않을 때까지 계속한다. 단, t명이 제외될 때마다 사람을 세는 방향을 변경한다. 자연수 n, k, t를 입력받아 제외되는 사람의 순서를 반환하는 `josephus_permutation()` 함수를 정의하여라. 단, t, k < n라고 가정한다.   \n",
    "\n",
    "예를 들어, n = 7, k = 3, t = 2라면 3 -> 6 -> 2 -> 5 -> 4 -> 7 -> 1 순서로 제외한다.     \n",
    "\n",
    "```python\n",
    ">>> print(josephus_permutation(7, 3, 2))\n",
    "[3, 6, 2, 5, 4, 7, 1]\n",
    "```"
   ]
  },
  {
   "cell_type": "markdown",
   "id": "769866d2-6735-4f7a-87c0-e0bbbc260b60",
   "metadata": {},
   "source": [
    "```{admonition} 도움말    \n",
    ":class: dropdown  \n",
    "예를 들어, `t`가 2라면, 2사람을 제외하고 사람을 세는 방향을 변경해야 한다. 제외되는 사람을 각각 0, 1, 2, 3, 4, 5, 6이라고 해보자. 그러면 아래와 같은 방식으로 제외한다.  \n",
    "* 0, 1 - 시계 방향\n",
    "* 2, 3 - 반시계 방향\n",
    "* 4, 5 - 시계 방향\n",
    "* 6 - 반시계 방향\n",
    "\n",
    "이때, 0, 1, 4, 5는 2로 나눴을 때의 몫이 각각 0, 0, 2, 2이다. 그리고 2, 3, 6은 2로 나눴을 때의 몫이 1, 1, 3이다.   \n",
    "즉, `i`는 0부터 시작하여 사람을 제외할 떄마다 1씩 증가하게 두고, `i // t`의 값이 짝수냐 홀수냐에 따라 방향을 변경하면 된다.  \n",
    "\n",
    "```"
   ]
  },
  {
   "cell_type": "markdown",
   "id": "5fee3df5-c22c-4b1d-b7bf-668756397a78",
   "metadata": {},
   "source": [
    "### 문제 "
   ]
  },
  {
   "cell_type": "markdown",
   "id": "bd436627-89f2-4a6f-bfeb-be0117db27c2",
   "metadata": {},
   "source": [
    "여러 명이 함께 사용하는 실험실 공용 프린터 한 대가 무작위적으로 입력되는 프린팅 작업을 수행할 때 벌어지는 일을 모의실험해보자. 모의실험의 목적은 사용자가 프린팅 명령을 내리고 과제가 출력되기 시작할 때까지 평균적으로 걸리는 시간을 계산하는 일이다.   \n",
    "\n",
    "**필요한 객체**  \n",
    "다음 세 개의 객체를 사용한다.  \n",
    "* 프린트 객체 : `Printer` 클래스의 인스턴스. 프린터의 기본 기능 제공\n",
    "    * 프린팅 과제 내용 : 분당 출력 페이지 수\n",
    "    * 프린터 상태 : busy 또는 대기 \n",
    "    * 프린팅 과제 수행 \n",
    "    * 프린팅 과제별 수행 시간 측정\n",
    "* 프린팅 과제 객체 : `Task` 클래스의 인스턴스. 실행할 프린팅 과제 정보 저장\n",
    "    * 출력 대상 페이지 수\n",
    "    * 과제 생성 시간\n",
    "    * 출력 대기 시간 : 생성부터 프린터 출력 시작까지 대기시간\n",
    "* 프린팅 큐 객체 : `Queue` 클래스의 인스턴스 \n",
    "    * 프린팅 과제 대기 목록 \n",
    "\n",
    "**모의실험에 대한 추가 전제 사항**\n",
    "* 사람들이 무작위적으로 시간당 20건의 프린팅 과제 출력 실행\n",
    "* 하나의 프린팅 과제는 최대 20쪽까지 출력   "
   ]
  },
  {
   "cell_type": "markdown",
   "id": "bace959b-a1f3-461f-b5d4-4c7a9391a28a",
   "metadata": {},
   "source": [
    ":::{admonition} 180분의 1의 확률 \n",
    ":class: info  \n",
    "위 모의실험의 전제조건은 확률적으로 180초에 한 번 프린팅 과제가 생성된다는 것을 의미한다. 매 초마다 1/180 확률로 프린팅 과제가 생성되는 것과 생성된 과제가 1에서 20쪽 사이의 임의의 쪽 수를 출력해야 하는 것을 구현하는 데에는 지정된 구간에서 임의의 정수 하나를 선택하는 `random`모듈의 `randrange()` 함수를 이용한다. 예를 들어, 1에서 180까지의 정수 중에 무작위로 5개의 값을 생성하려면 다음과 같이 실행한다.  \n",
    "```python\n",
    ">>> import random\n",
    ">>> for _ in range(5):\n",
    "        print(random.randrange(1,181))\n",
    "```\n",
    "이 함수를 매초 실행하여 생성된 값이 180인 경우에만 프린팅 과제를 생성하도록 하면 초당 180분의 1로 어떤 사건이 발생하는 것을 모의실험할 수 있다. 초당 180분의 1의 확률로 프린팅 과제를 생성할지 여부를 판단하려면 아래 함수를 초당 한 번 실행하면 된다.\n",
    "```python\n",
    ">>> def new_print_task():\n",
    "        num = random.randrange(1, 181)\n",
    "\n",
    "        return num == 180\n",
    "```\n",
    "위 함수는 1에서 180 사이에서 임의로 선택된 값이 180인 경우 `True`를 반환한다. \n",
    ":::\n"
   ]
  },
  {
   "cell_type": "markdown",
   "id": "ca6cb642-ba4a-4c39-8439-e1812d96912e",
   "metadata": {},
   "source": [
    "**모의실험 단계**  \n",
    "모의실험은 아래 단계들로 이루어진다.\n",
    "\n",
    "1. 프린팅 큐 생성: 비어있는 상태.\n",
    "2. 모든 프린팅 과제의 대기시간을 담아둘 빈 리스트 생성. 과제별 평균 대기시간 측정 용도.\n",
    "3. 매 초당 아래 과제 수행\n",
    "    * 초당 180분의 1의 확률로 프린팅 과제 생성\n",
    "        * 생성된 시간 저장. 나중에 프린터가 실행될 때의 시간을 확인하여 대기시간을 측정할 수 있도록 함.\n",
    "        * 프린팅 과제 생성 후 바로 프린팅 큐에 추가\n",
    "    * 프린터가 대기 상태이고 프린팅 큐에 과제가 남아 있으면 아래 과제 수행\n",
    "        * 프린팅 큐의 헤드를 삭제하고 수행할 과제로 지정\n",
    "        * 해당 과제의 대기 시간 계산(현재 시간과 과제 생성시간의 차이) 후에 모든 과제의 대시기간 리스트에 추가\n",
    "        * 과제 출력 페이지 확인 후 출력에 필요한 시간 계산. 해당 시간 동안 프린터 상태가 busy로 표시되어 다음 프린팅 과제가 기다리게 됨.\n",
    "        * 해당 프린팅 과제가 완수되면 대기 상태로 전환\n",
    "4. 모든 프린팅 과제 수행 후 과제별 평균 대기시간 계산"
   ]
  },
  {
   "cell_type": "markdown",
   "id": "2ce036cf-c4a1-4548-84b6-a6e9e96c3620",
   "metadata": {},
   "source": [
    "1단계) `Printer`클래스를 구현하여라. `Printer` 클래스가 가져야 하는 속성과 메서드는 다음과 같다.  \n",
    "* 분당 출력 페이지 수  : `self.page_rate`\n",
    "* 수행 대상 프린팅 과제 : `self.current_task`\n",
    "* 수행 대상 프린팅 과제 수행 시간 : `self.time_remaining`\n",
    "* 수행 중인 프린팅 과제 남은 수행 시간동안 busy 상태 유지 : `tick()` 메서드\n",
    "* 프린터 상태 : `busy()` 메서드\n",
    "* 다음 프린팅 과제 불러오기 : `start_next()` 메서드"
   ]
  },
  {
   "cell_type": "markdown",
   "id": "e86b6d8d-585c-460a-9613-aa574ca8a5ef",
   "metadata": {},
   "source": [
    "2단계) `Task` 클래스를 구현하여라. `Task` 클래스가 가져야 하는 속성과 메서드는 다음과 같다.  \n",
    "* 프린팅 과제 생성 시간 : `self.timestamp`\n",
    "* 프린팅 대상 페이지 수 : 1 ~ 20 사이의 무작위 수 `self.pages`\n",
    "* 프린팅 과제 생성 시간 확인 : `get_stamp()` 메서드\n",
    "* 프린팅 대상 페이지 수 확인 : `get_pages()` 메서드\n",
    "* 과제 생성 후 프린팅 시작까지 대기 시간 : `wait_time()` 메서드"
   ]
  },
  {
   "cell_type": "markdown",
   "id": "5190930f-44b0-4fec-ab9e-7e6432344d0a",
   "metadata": {},
   "source": [
    "3단계) 모의실험 구현  \n",
    "지정된 시간동안 프린팅 작업을 수행할 때 프린팅 과제당 평균 대기 시간을 계산하는 `simulation(num_second, pages_per_minutes)` 함수를 정의하여라.  \n",
    "\n",
    "* `num_second` : 프린터 작동 시간\n",
    "* `pages_per_minutes` : 분당 출력 페이지 수\n",
    "\n",
    "**주의사항** : 여기서는 `for` 반복문이 초당 1회 실행된다고 가정한다. 따라서 아래 함수들은 초당 1회 실행되는 것을 잘 구현한다.  \n",
    "* `new_print_task()`\n",
    "* `tick()`\n",
    "\n",
    "아래 코드는 분당 5장을 출력하는 프린터를 1시간동안 돌리는 모의실험을 100번 실행할 때의 결과를 보여준다. \n",
    "\n",
    "```python\n",
    ">>> import numpy as np\n",
    ">>> average_wait_list = []\n",
    ">>> for i in range(100):\n",
    "        average_wait_list.append(simulation(3600, 5))\n",
    ">>> print(f\"평균 대기시간: {np.mean(average_wait_list):6.2f} 초\")\n",
    "```"
   ]
  },
  {
   "cell_type": "markdown",
   "id": "9c65e524-fd29-4b00-bb36-f9ca96a4c2bd",
   "metadata": {},
   "source": [
    "### 문제 "
   ]
  },
  {
   "cell_type": "markdown",
   "id": "d6353abf-0901-4f61-836f-17c64472f7af",
   "metadata": {},
   "source": [
    "어느 카페의 바리스타 한명이 무작위적으로 입력되는 주문 작업을 수행할 때 벌어지는 일을 모의실험하여라. 모의실험의 목적은 손님이 주문을 하고 주문한 음료를 받을 때까지 평균적으로 걸리는 시간을 계산하는 일이다.  "
   ]
  }
 ],
 "metadata": {
  "kernelspec": {
   "display_name": "Python 3 (ipykernel)",
   "language": "python",
   "name": "python3"
  },
  "language_info": {
   "codemirror_mode": {
    "name": "ipython",
    "version": 3
   },
   "file_extension": ".py",
   "mimetype": "text/x-python",
   "name": "python",
   "nbconvert_exporter": "python",
   "pygments_lexer": "ipython3",
   "version": "3.8.10"
  },
  "toc-autonumbering": true
 },
 "nbformat": 4,
 "nbformat_minor": 5
}