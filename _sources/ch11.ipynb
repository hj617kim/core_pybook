{
 "cells": [
  {
   "cell_type": "markdown",
   "id": "b4c37114-db5c-4d17-b536-ed59154f1a18",
   "metadata": {},
   "source": [
    "# 잔돈 지불 문제"
   ]
  },
  {
   "cell_type": "markdown",
   "id": "fa68483c-951c-4873-a547-95edf4d54572",
   "metadata": {},
   "source": [
    "10원, 50원, 100원, 500원 짜리 동전만을 이용하여 잔돈을 지불하고자 한다. 이때 630원을 지불하기 위해 필요한 최소한의 동전 개수는 얼마인가?"
   ]
  },
  {
   "cell_type": "markdown",
   "id": "7b133c17-4524-4965-9cc8-d404076d4457",
   "metadata": {},
   "source": [
    "## 탐욕 기법  \n",
    "\n",
    "탐욕 기법<font size=\"2\">greedy method</font>은 매 선택 순간에 정해진 기준에 따라 **가장 좋은 것**을 선택하는 기법이다. 잔돈 지불 문제의 경우, 가능한한 가장 큰 단위의 동전을 먼저 사용하는 것을 의미한다. 따라서 630원을 잔돈으로 지불하려면 5개의 동전이 필요하다.   \n",
    "\n",
    "* 500원 동전 : 1개\n",
    "* 100원 동전 : 1개\n",
    "* 10원짜리 동전 : 3개"
   ]
  },
  {
   "cell_type": "code",
   "execution_count": 4,
   "id": "53e75909-ecb0-4f7d-b8b4-d5e7d1b0b1f7",
   "metadata": {},
   "outputs": [],
   "source": [
    "def make_change_greedy(coin_list, change) :\n",
    "    cnt = 0\n",
    "    coin_list = sorted(coin_list, reverse = True)\n",
    "    for coin in coin_list :\n",
    "        cnt += change // coin\n",
    "        change %= coin\n",
    "    return cnt"
   ]
  },
  {
   "cell_type": "code",
   "execution_count": 5,
   "id": "5c090ebd-8727-40f2-b8fa-f191cf114b9e",
   "metadata": {},
   "outputs": [
    {
     "name": "stdout",
     "output_type": "stream",
     "text": [
      "5\n"
     ]
    }
   ],
   "source": [
    "print(make_change_greedy([10, 50, 100, 500], 630))"
   ]
  },
  {
   "cell_type": "markdown",
   "id": "26c3ce39-b1f8-4f54-b0fd-1c555aea3eb7",
   "metadata": {},
   "source": [
    "그런데, 탐욕 알고리즘은 항상 최선의 해답을 제공하지는 않는다. 그 이유는 만약 210원짜리 동전이 추가로 주어진다면, 필요한 동전의 최소 개수는 2개지만, 탐욕 기법은 이전과 동일하게 5개의 동전을 사용하는 해법을 제시하기 때문이다.  "
   ]
  },
  {
   "cell_type": "code",
   "execution_count": 7,
   "id": "70f49494-8a1d-4761-ac2f-48ca359a42e4",
   "metadata": {},
   "outputs": [
    {
     "name": "stdout",
     "output_type": "stream",
     "text": [
      "5\n"
     ]
    }
   ],
   "source": [
    "print(make_change_greedy([10, 50, 100, 210, 500], 630))"
   ]
  },
  {
   "cell_type": "markdown",
   "id": "6d21b813-8089-444f-94af-1613ce8dc522",
   "metadata": {},
   "source": [
    "## 완전 탐색 기법\n",
    "완전 탐색 또는 부르트 포스<font size=\"2\">brute force</font>기법은 가능한 모든 경우를 고려하는 기법을 말한다. 잔돈 지불 문제의 경우, 지불할 수 있는 최소한의 동전 개수를 아래와 같이 재귀로 계산할 수 있다. 즉, 지정된 액수의 잔돈 지불에 필요한 최소한의 동전 개수는 지불액에서 500원, 100원, 50원, 10원을 뺀 각각의 값을 지불하는 데에 필요한 최소한의 동전 개수로 계산한다. 예를 들어, 120원의 경우, 100원, 50원, 10원을 뺀 각각의 값을 지불하는 데에 필요한 최소한의 동전 개수를 계산한다. 그림으로 나타내면, 아래와 같다. \n",
    "\n",
    "<div align=\"center\"><img src=\"https://raw.githubusercontent.com/hj617kim/core_pybook/master/images/ch11/bruteforce_01.png\" style=\"width:500px;\"></div>\n",
    "\n",
    "\n",
    "`make_change_brute_force()`함수 선언에 사용된 변수들의 역할은 다음과 같다.  \n",
    "\n",
    "* `coin_list` : 사용 가능한 동전들의 리스트\n",
    "* `change` : 잔돈 지불액\n",
    "* `min_cnt` : 잔돈 지불에 필요한 최소 동전 개수"
   ]
  },
  {
   "cell_type": "code",
   "execution_count": 63,
   "id": "a12a1806-0957-491a-912f-ec6fa4ef48d6",
   "metadata": {},
   "outputs": [],
   "source": [
    "def make_change_brute_force(coin_list, change) :\n",
    "    min_cnt = change // 10\n",
    "    \n",
    "    if change in coin_list :\n",
    "        return 1\n",
    "    else : \n",
    "        for coin in [c for c in coin_list if c <= change] :\n",
    "            cnt = 1 + make_change_brute_force(coin_list, change - coin)\n",
    "            if cnt < min_cnt :\n",
    "                min_cnt = cnt\n",
    "                \n",
    "    return min_cnt"
   ]
  },
  {
   "cell_type": "code",
   "execution_count": 64,
   "id": "790e7659-093b-4945-8714-42bd418e2c40",
   "metadata": {},
   "outputs": [
    {
     "name": "stdout",
     "output_type": "stream",
     "text": [
      "5\n"
     ]
    }
   ],
   "source": [
    "print(make_change_brute_force([10, 50, 100, 500], 630))"
   ]
  },
  {
   "cell_type": "code",
   "execution_count": 65,
   "id": "0fedff1f-690a-4a61-8b1d-c1b0e3871f6f",
   "metadata": {},
   "outputs": [
    {
     "name": "stdout",
     "output_type": "stream",
     "text": [
      "3\n"
     ]
    }
   ],
   "source": [
    "print(make_change_brute_force([10, 50, 100, 210, 500], 630))"
   ]
  },
  {
   "cell_type": "markdown",
   "id": "a53b2bd6-c934-46d7-b2fa-6892c16f5c12",
   "metadata": {},
   "source": [
    "완전 탐색 알고리즘을 사용하면 해답을 찾을 수 있지만, 보통 실행에 많은 시간이 걸린다. 그래서 좀 더 최적화된 방법을 고민해봐야 한다. "
   ]
  },
  {
   "cell_type": "markdown",
   "id": "13aa770c-bdde-456c-9152-c349a5940032",
   "metadata": {},
   "source": [
    "## 메모이제이션 기법 \n",
    "동일 인자에 대한 반복 호출 문제는 메모이제이션 기법으로 간단하게 해결된다. 여기서는 한 번 호출되어 반환된 값을 기억하기 위해 **디폴트딕트**<font size=\"2\">defaultdict</font> 객체를 활용해보자. 디폴트딕트 객체는 사전과 거의 동일한 모음 자료형이지만, 사전 객체와는 달리 특정 키의 포함 여부를 미리 확인할 필요가 없다. \n",
    "\n",
    "```python \n",
    ">>> aDict = {}\n",
    ">>> print(aDict[10])\n",
    "KeyError                                  Traceback (most recent call last)\n",
    "/tmp/ipykernel_209/1710605932.py in <module>\n",
    "      1 aDict = {}\n",
    "----> 2 print(aDict[10])\n",
    "\n",
    "KeyError: 10\n",
    "```\n",
    "\n",
    "디폴트딕트 객체를 생성할 때는 값들의 자료형을 명시하며, `int`의 경우 모든 키의 값이 0으로 초기화된다. "
   ]
  },
  {
   "cell_type": "code",
   "execution_count": 18,
   "id": "8a64c73c-7900-45ac-919f-854a179fb3f8",
   "metadata": {},
   "outputs": [
    {
     "name": "stdout",
     "output_type": "stream",
     "text": [
      "0\n"
     ]
    }
   ],
   "source": [
    "from collections import defaultdict\n",
    "\n",
    "aDict = defaultdict(int)\n",
    "print(aDict[10])"
   ]
  },
  {
   "cell_type": "markdown",
   "id": "39181e06-c3b9-40eb-8cf8-d6f12c3ba039",
   "metadata": {},
   "source": [
    "아래 `make_change_brute_force2()` 함수는 재귀 호출이 발생할 때마다 그 결과를 디폴트딕트에 기억해두고, 필요한 경우 재활용한다. "
   ]
  },
  {
   "cell_type": "code",
   "execution_count": 60,
   "id": "53eaa497-230a-4ec3-bac5-11d36ec03d90",
   "metadata": {},
   "outputs": [],
   "source": [
    "from collections import defaultdict\n",
    "\n",
    "def make_change_brute_force2(coin_list, change, known_results=defaultdict(int)) :\n",
    "    min_cnt = change // 10\n",
    "    if change in coin_list :\n",
    "        known_results[change] = 1\n",
    "        return 1\n",
    "    elif known_results[change] > 0 :\n",
    "        return known_results[change]\n",
    "    else : \n",
    "        for coin in [c for c in coin_list if c <= change] :\n",
    "            cnt = 1 + make_change_brute_force2(coin_list, change - coin, known_results)\n",
    "            if cnt < min_cnt :\n",
    "                min_cnt = cnt\n",
    "            known_results[change] = min_cnt\n",
    "    return min_cnt"
   ]
  },
  {
   "cell_type": "code",
   "execution_count": 61,
   "id": "612679fe-6252-4943-8bcb-64244912dab1",
   "metadata": {},
   "outputs": [
    {
     "name": "stdout",
     "output_type": "stream",
     "text": [
      "5\n"
     ]
    }
   ],
   "source": [
    "print(make_change_brute_force2([10, 50, 100, 500], 630, known_results=defaultdict(int)))"
   ]
  },
  {
   "cell_type": "code",
   "execution_count": 62,
   "id": "0e9dcacc-c5c5-4698-9f95-244eeb589405",
   "metadata": {},
   "outputs": [
    {
     "name": "stdout",
     "output_type": "stream",
     "text": [
      "3\n"
     ]
    }
   ],
   "source": [
    "print(make_change_brute_force2([10, 50, 100, 210, 500], 630, known_results=defaultdict(int)))"
   ]
  },
  {
   "cell_type": "markdown",
   "id": "eb5e5d74-32f2-48b6-9e28-b07730dedf16",
   "metadata": {},
   "source": [
    ":::{admonition} 주의   \n",
    ":class: caution  \n",
    "`make_change_brute_force2()`함수를 실행할 때, 키워드 인자`known_results=defaultdict(int)`도 지정해야 한다. 그렇지 않으면, 동전의 종류가 달라졌을 때 제대로 동작하지 않는다. 예를 들어, 키워드 인자`known_results=defaultdict(int)`를 지정하지 않고, `make_change_brute_force2([10, 50, 100, 500], 630)`를 실행하면 `known_results`의 기본값인 디폴트딕트에는 키 630에 대응하는 값으로 5가 저장된다. 이 상태에서 동전의 종류가 달라진 `make_change_brute_force2([10, 50, 100, 210, 500], 630)`를 실행하면, `210`원짜리 동전을 고려하지 않고 디폴트딕트에 지정된 키 630에 대응하는 값인 5를 반환한다. \n",
    "\n",
    "```python\n",
    ">>> print(make_change_brute_force2([10, 50, 100, 500], 630))\n",
    "5\n",
    ">>> print(make_change_brute_force2([10, 50, 100, 210, 500], 630))\n",
    "5\n",
    "```\n",
    ":::\n"
   ]
  },
  {
   "cell_type": "markdown",
   "id": "c224c375-af53-4c22-8eaf-9a3724eb1911",
   "metadata": {},
   "source": [
    "## 동적계획법  \n",
    "동적계획법<font size=\"2\">Dynamic Programming, DP</font>은 **최적화 문제**<font size=\"2\">optimization problem</font> 해결에 사용되는 기법 중의 하나로, 큰 문제를 구성하는 작은 문제를 해결한 다음 결과를 저장하고, 그 저장된 결과를 활용하여 큰 문제를 해결하는 방법을 말한다.    "
   ]
  },
  {
   "cell_type": "markdown",
   "id": "da716d5b-60b2-4912-b630-f3553c6eecc2",
   "metadata": {},
   "source": [
    ":::{admonition} 최적화 문제  \n",
    ":class: info  \n",
    "최적화 문제는 하나 이상의 해답 중에서 최적의 해답을 찾는 문제이다. 최적의 기준은 문제에 따라 다르며, 보통 특정 기준에 맞는 최댓값 또는 최솟값을 사용한다. \n",
    ":::\n"
   ]
  },
  {
   "cell_type": "markdown",
   "id": "b5b436fc-d664-4247-95e0-eaf708f16fb4",
   "metadata": {},
   "source": [
    "예를 들어, 잔돈 630원을 지불해야 하는 경우 10원부터 출발해서 630원까지 각각의 경우에 필요한 최소 동전 수를 계산한다. 앞에서 살펴본 메모이제이션 기법을 거꾸로 적용하는 것과 유사하지만, 여기서는 10원, 20원, 30원 등부터 630원까지 **모든 경우**에 대해 차례대로 필요한 최소 동전 수를 저장하고 필요한 경우 재활용한다.   \n",
    "\n",
    "아래 그림은 10원부터 110원까지 잔돈 지불에 필요한 최소 동전 수를 저장하는 과정을 보여준다. 예를 들어, 110원을 지불하고자 하는 경우 아래 세 경우를 확인한 다음에 최솟값을 선택한다.  \n",
    "\n",
    "<div align=\"center\"><img src=\"https://raw.githubusercontent.com/hj617kim/core_pybook/master/images/ch11/df_01.png\" style=\"width:700px;\"></div>\n",
    "\n",
    "\n",
    "* 10원 동전을 사용하는 경우 : 100원 지불 방식에 1을 더한 값\n",
    "* 50원 동전을 사용하는 경우 : 60원 지불 방식에 1을 더한 값\n",
    "* 100원 동전을 사용하는 경우 : 10원 지불 방식에 1을 더한 값"
   ]
  },
  {
   "cell_type": "markdown",
   "id": "511f3367-98aa-4fc4-87de-b0d9bea71ab5",
   "metadata": {},
   "source": [
    "동적계획법을 이용하여 잔돈 지불 문제를 해결하는 알고리즘은 다음과 같다. "
   ]
  },
  {
   "cell_type": "code",
   "execution_count": 66,
   "id": "caa5f547-1477-40a3-b9d7-f0713b4994f7",
   "metadata": {},
   "outputs": [],
   "source": [
    "from collections import defaultdict\n",
    "\n",
    "def make_change_dp(coin_list, change) :\n",
    "    min_cnt = defaultdict(int)\n",
    "    \n",
    "    # 10원부터 차례대로 최소 동전 수 계산\n",
    "    for changeToMake in range(10, change + 10, 10) :\n",
    "        cnt = changeToMake // 10\n",
    "        for coin in [c for c in coin_list if c <= changeToMake] :\n",
    "            if min_cnt[changeToMake - coin] + 1 < cnt :\n",
    "                cnt = min_cnt[changeToMake - coin] + 1\n",
    "        min_cnt[changeToMake] = cnt\n",
    "    \n",
    "    return min_cnt[change]"
   ]
  },
  {
   "cell_type": "code",
   "execution_count": 67,
   "id": "87cf26a4-b8f9-4252-83bc-5887524b14b4",
   "metadata": {},
   "outputs": [
    {
     "name": "stdout",
     "output_type": "stream",
     "text": [
      "5\n"
     ]
    }
   ],
   "source": [
    "print(make_change_dp([10, 50, 100, 500], 630))"
   ]
  },
  {
   "cell_type": "code",
   "execution_count": 68,
   "id": "4f4b4257-2c6e-4a9d-9d0c-73bf2e09766d",
   "metadata": {},
   "outputs": [
    {
     "name": "stdout",
     "output_type": "stream",
     "text": [
      "3\n"
     ]
    }
   ],
   "source": [
    "print(make_change_dp([10, 50, 100, 210, 500], 630))"
   ]
  },
  {
   "cell_type": "markdown",
   "id": "99170ef7-e244-42cc-9e83-f8fd0e118d6a",
   "metadata": {},
   "source": [
    "위 알고리즘은 해답을 찾는 데 걸리는 시간이 빠른 편이다. 하지만 지금은 지불에 필요한 최소 동전 수만 계산할 뿐 실제로 어떻게 지불해야 하는가는 알려주지 않는다. 이 문제를 해결하려면 디폴트딕트를 업데이트하면서 동시에 마지막으로 사용된 동전이 무엇이었는지를 기억하면 된다.   "
   ]
  },
  {
   "cell_type": "code",
   "execution_count": 69,
   "id": "4162cfc1-c898-4b22-a2fd-2b0959822fef",
   "metadata": {},
   "outputs": [],
   "source": [
    "from collections import defaultdict\n",
    "\n",
    "def make_change_dp2(coin_list, change) :\n",
    "    min_cnt = defaultdict(int)\n",
    "    coins_used = defaultdict(int) \n",
    "    \n",
    "    # 10원부터 차례대로 최소 동전 수 계산\n",
    "    for changeToMake in range(10, change + 10, 10) :\n",
    "        cnt = changeToMake // 10\n",
    "        new_coin = 10\n",
    "        for coin in [c for c in coin_list if c <= changeToMake] :\n",
    "            if min_cnt[changeToMake - coin] + 1 < cnt :\n",
    "                cnt = min_cnt[changeToMake - coin] + 1\n",
    "                new_coin = coin\n",
    "        min_cnt[changeToMake] = cnt\n",
    "        coins_used[changeToMake] = new_coin\n",
    "    \n",
    "    return min_cnt[change], coins_used\n",
    "\n",
    "\n",
    "def print_coins(coins_used, change) :\n",
    "    coin = change\n",
    "    while coin > 0 :\n",
    "        this_coin = coins_used[coin]\n",
    "        print(this_coin, end = ' ')\n",
    "        coin = coin - this_coin"
   ]
  },
  {
   "cell_type": "code",
   "execution_count": 73,
   "id": "e7cefbf1-cdee-4af4-a136-0402654a6056",
   "metadata": {},
   "outputs": [
    {
     "name": "stdout",
     "output_type": "stream",
     "text": [
      "잔돈 630 원을 지불하기 위해 다음 5 개의 동전 필요: 10 10 10 100 500 "
     ]
    }
   ],
   "source": [
    "amount = 630\n",
    "coin_list = [10, 50, 100, 500]\n",
    "\n",
    "num_coins, coins_used = make_change_dp2(coin_list, amount)\n",
    "print(f\"잔돈 {amount} 원을 지불하기 위해 다음 {num_coins} 개의 동전 필요:\", end=\" \")\n",
    "print_coins(coins_used, amount)"
   ]
  },
  {
   "cell_type": "markdown",
   "id": "2751dfc5-30b8-4f03-b50a-1937ecaccb88",
   "metadata": {},
   "source": [
    "210원 동전이 추가되면, 210원 동전 3개가 필요함을 확인해준다. "
   ]
  },
  {
   "cell_type": "code",
   "execution_count": 74,
   "id": "e982a117-36fa-4709-8213-54096347b706",
   "metadata": {},
   "outputs": [
    {
     "name": "stdout",
     "output_type": "stream",
     "text": [
      "잔돈 630 원을 지불하기 위해 다음 3 개의 동전 필요: 210 210 210 "
     ]
    }
   ],
   "source": [
    "amount = 630\n",
    "coin_list = [10, 50, 100, 210, 500]\n",
    "\n",
    "num_coins, coins_used = make_change_dp2(coin_list, amount)\n",
    "print(f\"잔돈 {amount} 원을 지불하기 위해 다음 {num_coins} 개의 동전 필요:\", end=\" \")\n",
    "print_coins(coins_used, amount)"
   ]
  },
  {
   "cell_type": "markdown",
   "id": "82d79755-303e-4468-8fcc-53b9a714bc55",
   "metadata": {},
   "source": [
    "## 연습 문제"
   ]
  },
  {
   "cell_type": "markdown",
   "id": "0e97d173-6906-4534-aec2-8a8805ac4905",
   "metadata": {},
   "source": [
    "### 문제"
   ]
  },
  {
   "cell_type": "markdown",
   "id": "eac18d19-f390-41cb-a50c-45a9d05a7013",
   "metadata": {},
   "source": [
    "$w$kg까지 넣을 수 있는 가방을 들고 쥬얼리샵에 침입하였다고 가정한다. 훔칠 수 있는 `n`개의 보석이 주어졌고, 각 보석은 서로 다른 무게를 갖는다고 가정한다. 가방에 넣은 보석의 값어치가 최대가 되도록 할 때, 가방에 넣은 가격을 반환하는 함수`bag1(stuff, w)`를 정의하여라.  \n",
    "\n",
    "예를 들어, 5개의 보석이 있고, 각각의 가격과 무게가 아래 표와 같다면, `stuff = [[2, 3], [3, 4], [4, 8], [5, 8], [9, 10]]`이다.  \n",
    "\n",
    "|보석류|무게|가격|\n",
    "|:------:|:----:|:----:|\n",
    "|1|2|3|\n",
    "|2|3|4|\n",
    "|3|4|8|\n",
    "|4|5|8|\n",
    "|5|9|10|\n",
    "\n",
    "참고로, 보석은 쪼갤 수 없다. "
   ]
  },
  {
   "cell_type": "markdown",
   "id": "4a94c0e2-e401-4f66-9e15-230413087a84",
   "metadata": {},
   "source": [
    "```python\n",
    ">>> stuff = [[2, 3], [3, 4], [4, 8], [5, 8], [9, 10]]\n",
    ">>> bag1(stuff, 20)\n",
    "29\n",
    "```"
   ]
  },
  {
   "cell_type": "markdown",
   "id": "ac26cf94-80ec-4570-84e1-be09859bbc4c",
   "metadata": {
    "tags": []
   },
   "source": [
    "### 문제"
   ]
  },
  {
   "cell_type": "markdown",
   "id": "5c054e79-8e86-4f46-a7aa-45e886f4f8b0",
   "metadata": {},
   "source": [
    "$w$kg까지 넣을 수 있는 가방을 들고 쥬얼리샵에 침입하였다고 가정한다. 훔칠 수 있는 `n`개의 보석가루가 주어졌고, 각 보석 가루는 서로 다른 무게를 갖는다고 가정한다. 가방에 넣은 보석 가루의 값어치가 최대가 되도록 할 때, 가방에 넣은 가격을 반환하는 함수`bag2(stuff, w)`를 정의하여라.  \n",
    "\n",
    "예를 들어, 5개의 보석이 있고, 각각의 가격과 무게가 아래 표와 같다면, `stuff = [[2, 3], [3, 4], [4, 8], [5, 8], [9, 10]]`이다.  \n",
    "\n",
    "|보석류|무게|가격|\n",
    "|:------:|:----:|:----:|\n",
    "|1|2|3|\n",
    "|2|3|4|\n",
    "|3|4|8|\n",
    "|4|5|8|\n",
    "|5|9|10|\n",
    "\n",
    "참고로, 보석 가루는 원하는 만큼 담아 갈 수 있다. "
   ]
  },
  {
   "cell_type": "markdown",
   "id": "f0d22fb1-4f3a-44fc-bfff-2cb203e62df9",
   "metadata": {},
   "source": [
    "```python\n",
    ">>> stuff = [[2, 3], [3, 4], [4, 8], [5, 8], [9, 10]]\n",
    ">>> bag2(stuff, 20)\n",
    "29.67\n",
    "```"
   ]
  },
  {
   "cell_type": "markdown",
   "id": "47de6cf8-2ce6-44db-af55-c7e6a54a7ca4",
   "metadata": {},
   "source": [
    "### 문제"
   ]
  },
  {
   "cell_type": "markdown",
   "id": "9e6e0f9a-5615-4547-b3df-095f7a88cbad",
   "metadata": {},
   "source": [
    "**파스칼의 삼각형**<font size=\"2\">Pascal's triangle</font>은 이전 행의 두 원소를 더해 새로운 원소를 추가하는 과정을 반복해서 생성하는 삼각형이다.   \n",
    "\n",
    "<div align=\"center\"><img src=\"https://raw.githubusercontent.com/hj617kim/core_pybook/master/images/ch11/pascal_01.png\" style=\"width:400px;\"></div>\n",
    "\n",
    "파스칼 삼각형의 n행, k번째 값은 **이항계수**<font size=\"2\">binomial coefficient</font>와 동일하다.    \n",
    "\n",
    "$${}_n C_{k} = \\begin{pmatrix} n \\\\ k  \\end{pmatrix} = \\frac{n!}{k!(n-k)!}$$    \n",
    "\n",
    "이항계수의 의미는 아래 등식에서 유래한다.  \n",
    "\n",
    "$$(a + b)^n = a^n + \\begin{pmatrix} n \\\\ 1  \\end{pmatrix}a^{n-1}b + \\begin{pmatrix} n \\\\ 2  \\end{pmatrix} a^{n-2}b\n",
    "^2+ \\cdots + \\begin{pmatrix} n \\\\ n - 1  \\end{pmatrix} ab^{n-1} + b^n  = \\sum_{k=0}^n  \\begin{pmatrix} n \\\\ k  \\end{pmatrix} a^{n-k}b^k$$"
   ]
  },
  {
   "cell_type": "markdown",
   "id": "adb32173-3db5-42c4-a724-ea188bd81e1a",
   "metadata": {},
   "source": [
    "또, 이항계수는 다음이 성립한다.   \n",
    "\n",
    "$$\\begin{pmatrix} n \\\\ k  \\end{pmatrix} = \\begin{cases} \\begin{pmatrix} n - 1 \\\\ k -1  \\end{pmatrix} + \\begin{pmatrix} n - 1 \\\\ k  \\end{pmatrix} & \\text{,} 0 < k < n   \\\\   1 & \\text{,} k \\in \\{0, n\\} \\end{cases}$$"
   ]
  },
  {
   "cell_type": "markdown",
   "id": "a91b3db8-1fda-4637-b70d-92d55f3a29b1",
   "metadata": {},
   "source": [
    "이러한 이항계수는 서로 다른 $n$개의 구슬에서 임의로 서로 다른 $k$개의 구술을 선택하는 방법을 의미하기도 한다. "
   ]
  },
  {
   "cell_type": "markdown",
   "id": "90497898-ad11-4ade-a171-f1f3354aca75",
   "metadata": {},
   "source": [
    "* **재귀를 활용**하여, 파스칼의 삼각형의 $n$행, $k$번째 값, 즉 이항계수 $\\begin{pmatrix} n \\\\ k  \\end{pmatrix}$를 반환하는 `bin_recursion(n, k)`함수를 정의하여라. "
   ]
  },
  {
   "cell_type": "markdown",
   "id": "0f95939b-e4c8-4768-87cb-a789fcaf0c1f",
   "metadata": {},
   "source": [
    "* **동적계획법을 활용**하여, 파스칼의 삼각형의 $n$행, $k$번째 값, 즉 이항계수 $\\begin{pmatrix} n \\\\ k  \\end{pmatrix}$를 반환하는 `bin_df(n, k)`함수를 구현해보자."
   ]
  }
 ],
 "metadata": {
  "kernelspec": {
   "display_name": "Python 3 (ipykernel)",
   "language": "python",
   "name": "python3"
  },
  "language_info": {
   "codemirror_mode": {
    "name": "ipython",
    "version": 3
   },
   "file_extension": ".py",
   "mimetype": "text/x-python",
   "name": "python",
   "nbconvert_exporter": "python",
   "pygments_lexer": "ipython3",
   "version": "3.8.10"
  }
 },
 "nbformat": 4,
 "nbformat_minor": 5
}
